{
 "cells": [
  {
   "cell_type": "markdown",
   "metadata": {},
   "source": [
    "# Quick Start Tutorial: Feature Management"
   ]
  },
  {
   "attachments": {},
   "cell_type": "markdown",
   "metadata": {},
   "source": [
    "## Learning Objectives\n",
    "\n",
    "In this tutorial you will learn:\n",
    "1. How to view the lineage of a feature\n",
    "2. How to manage the readiness of a feature\n",
    "3. How to be informed of the readiness of a feature list\n",
    "4. How to manage the status of a feature list\n",
    "5. How FeatureByte deployment guardrails work\n",
    "6. How to check the feature job status\n",
    "7. How to manage versioning\n",
    "8. How to disable deployment"
   ]
  },
  {
   "attachments": {},
   "cell_type": "markdown",
   "metadata": {},
   "source": [
    "## Set up the prerequisites\n",
    "\n",
    "Learning Objectives\n",
    "\n",
    "In this section you will:\n",
    "* start your local featurebyte server\n",
    "* import libraries\n",
    "* learn about catalogs\n",
    "* activate a pre-built catalog"
   ]
  },
  {
   "cell_type": "code",
   "execution_count": 1,
   "metadata": {
    "tags": []
   },
   "outputs": [
    {
     "name": "stderr",
     "output_type": "stream",
     "text": [
      "2023-03-27 19:52:04.005 | INFO     | featurebyte.docker.manager:start_playground:305 | Starting featurebyte service | {}\n"
     ]
    },
    {
     "name": "stdout",
     "output_type": "stream",
     "text": [
      "FeatureByte version 0.1.4\n"
     ]
    },
    {
     "name": "stderr",
     "output_type": "stream",
     "text": [
      "2023-03-27 19:52:12.166 | INFO     | featurebyte.docker.manager:start_playground:307 | Starting local spark service | {}\n",
      "2023-03-27 19:52:19.375 | INFO     | featurebyte.docker.manager:start_playground:310 | Starting documentation service | {}\n",
      "2023-03-27 19:52:26.369 | INFO     | featurebyte.docker.manager:start_playground:314 | Creating local spark feature store | {}\n",
      "2023-03-27 19:52:26.902 | INFO     | featurebyte.docker.manager:start_playground:336 | Dataset grocery already exists, skipping import | {}\n",
      "2023-03-27 19:52:26.902 | INFO     | featurebyte.docker.manager:start_playground:336 | Dataset healthcare already exists, skipping import | {}\n",
      "2023-03-27 19:52:26.902 | INFO     | featurebyte.docker.manager:start_playground:336 | Dataset creditcard already exists, skipping import | {}\n"
     ]
    }
   ],
   "source": [
    "# library imports\n",
    "import pandas as pd\n",
    "import numpy as np\n",
    "import random\n",
    "\n",
    "# load the featurebyte SDK\n",
    "import featurebyte as fb\n",
    "\n",
    "print(\"FeatureByte version \" + fb.version)\n",
    "\n",
    "# start the local server, then wait for it to be healthy before proceeding\n",
    "fb.playground()"
   ]
  },
  {
   "cell_type": "markdown",
   "metadata": {},
   "source": [
    "### Create a pre-built catalog for this tutorial, with the data, metadata, and features already set up\n",
    "\n",
    "Note that creating a pre-built catalog is not a step you will do in real-life. This is a function specific to this quick-start tutorial to quickly skip over many of the preparatory steps and get you to a point where you can materialize features.\n",
    "\n",
    "In a real-life project you would do data modeling, declaring the tables, entities, and the associated metadata. This would not be a frequent task, but forms the basis for best-practice feature engineering."
   ]
  },
  {
   "cell_type": "code",
   "execution_count": 2,
   "metadata": {
    "tags": []
   },
   "outputs": [
    {
     "name": "stdout",
     "output_type": "stream",
     "text": [
      "Cleaning up any existing tutorial catalogs\n",
      "Building a quick start catalog for feature management named [quick start feature management 20230327:1952]\n",
      "Creating new catalog\n",
      "Catalog created\n",
      "Registering the source tables\n",
      "Registering the entities\n",
      "Tagging the entities to columns in the data tables\n",
      "Populating the feature store with example features\n",
      "Saving Feature(s) |████████████████████████████████████████| 5/5 [100%] in 0.0s (115.28/s)                              \n",
      "Loading Feature(s) |████████████████████████████████████████| 5/5 [100%] in 1.0s (5.02/s)                               \n",
      "Saving Feature(s) |████████████████████████████████████████| 4/4 [100%] in 0.0s (117.81/s)                              \n",
      "Loading Feature(s) |████████████████████████████████████████| 4/4 [100%] in 0.7s (5.81/s)                               \n",
      "Saving Feature(s) |████████████████████████████████████████| 3/3 [100%] in 1.2s (2.42/s)                                \n",
      "Loading Feature(s) |████████████████████████████████████████| 3/3 [100%] in 0.6s (4.94/s)                               \n",
      "Setting feature readiness\n",
      "Setting feature list status\n",
      "Deploying feature list\n",
      "Loading Feature(s) |████████████████████████████████████████| 4/4 [100%] in 0.7s (5.73/s)                               \n",
      "Done! |████████████████████████████████████████| 100% in 1:00.8 (1.65%/s)                                               \n"
     ]
    }
   ],
   "source": [
    "# get the functions to create a pre-built catalog\n",
    "from prebuilt_catalogs import *\n",
    "\n",
    "# create a new catalog for this tutorial\n",
    "catalog_name = create_tutorial_catalog(PrebuiltCatalog.QuickStartFeatureManagement)"
   ]
  },
  {
   "cell_type": "markdown",
   "metadata": {},
   "source": [
    "### Example: Activate an existing catalog"
   ]
  },
  {
   "cell_type": "code",
   "execution_count": 3,
   "metadata": {
    "tags": []
   },
   "outputs": [],
   "source": [
    "# you can activate an existing catalog\n",
    "catalog = fb.Catalog.activate(catalog_name)"
   ]
  },
  {
   "attachments": {},
   "cell_type": "markdown",
   "metadata": {},
   "source": [
    "## Manage Feature Readiness\n",
    "\n",
    "Learning Objectives\n",
    "\n",
    "In this section you will learn:\n",
    "* how to change the readiness of a feature\n",
    "* the meaning of each readiness value"
   ]
  },
  {
   "cell_type": "markdown",
   "metadata": {},
   "source": [
    "### Feature readiness\n",
    "\n",
    "A feature's readiness indicate a feature's suitability for use in feature lists.\n",
    "\n",
    "DEPRECATED: Indicates that the feature version is not recommended for either training or online serving.<br>\n",
    "QUARANTINE: Indicates that the feature version has recently had some issues and should be used with caution. It is currently under review.<br>\n",
    "DRAFT: The feature is being prototyped and is not yet ready for production.<br>\n",
    "PRODUCTION_READY: Indicates that the feature version is ready to be used in production.<br>"
   ]
  },
  {
   "cell_type": "code",
   "execution_count": 4,
   "metadata": {},
   "outputs": [
    {
     "data": {
      "text/html": [
       "<div>\n",
       "<style scoped>\n",
       "    .dataframe tbody tr th:only-of-type {\n",
       "        vertical-align: middle;\n",
       "    }\n",
       "\n",
       "    .dataframe tbody tr th {\n",
       "        vertical-align: top;\n",
       "    }\n",
       "\n",
       "    .dataframe thead th {\n",
       "        text-align: right;\n",
       "    }\n",
       "</style>\n",
       "<table border=\"1\" class=\"dataframe\">\n",
       "  <thead>\n",
       "    <tr style=\"text-align: right;\">\n",
       "      <th></th>\n",
       "      <th>name</th>\n",
       "      <th>dtype</th>\n",
       "      <th>readiness</th>\n",
       "      <th>online_enabled</th>\n",
       "      <th>tables</th>\n",
       "      <th>primary_tables</th>\n",
       "      <th>entities</th>\n",
       "      <th>primary_entities</th>\n",
       "      <th>created_at</th>\n",
       "    </tr>\n",
       "  </thead>\n",
       "  <tbody>\n",
       "    <tr>\n",
       "      <th>0</th>\n",
       "      <td>InvoiceUniqueProductGroups</td>\n",
       "      <td>OBJECT</td>\n",
       "      <td>DEPRECATED</td>\n",
       "      <td>False</td>\n",
       "      <td>[GROCERYINVOICE, INVOICEITEMS, GROCERYPRODUCT]</td>\n",
       "      <td>[INVOICEITEMS]</td>\n",
       "      <td>[groceryinvoice]</td>\n",
       "      <td>[groceryinvoice]</td>\n",
       "      <td>2023-03-27 11:53:24.818</td>\n",
       "    </tr>\n",
       "    <tr>\n",
       "      <th>1</th>\n",
       "      <td>InvoiceUniqueProductGroupCount</td>\n",
       "      <td>FLOAT</td>\n",
       "      <td>DRAFT</td>\n",
       "      <td>False</td>\n",
       "      <td>[GROCERYINVOICE, INVOICEITEMS, GROCERYPRODUCT]</td>\n",
       "      <td>[INVOICEITEMS]</td>\n",
       "      <td>[groceryinvoice]</td>\n",
       "      <td>[groceryinvoice]</td>\n",
       "      <td>2023-03-27 11:53:19.841</td>\n",
       "    </tr>\n",
       "    <tr>\n",
       "      <th>2</th>\n",
       "      <td>InvoiceDiscountAmount</td>\n",
       "      <td>FLOAT</td>\n",
       "      <td>DRAFT</td>\n",
       "      <td>False</td>\n",
       "      <td>[GROCERYINVOICE, INVOICEITEMS]</td>\n",
       "      <td>[INVOICEITEMS]</td>\n",
       "      <td>[groceryinvoice]</td>\n",
       "      <td>[groceryinvoice]</td>\n",
       "      <td>2023-03-27 11:53:18.269</td>\n",
       "    </tr>\n",
       "    <tr>\n",
       "      <th>3</th>\n",
       "      <td>InvoiceItemCount</td>\n",
       "      <td>FLOAT</td>\n",
       "      <td>DRAFT</td>\n",
       "      <td>False</td>\n",
       "      <td>[GROCERYINVOICE, INVOICEITEMS]</td>\n",
       "      <td>[INVOICEITEMS]</td>\n",
       "      <td>[groceryinvoice]</td>\n",
       "      <td>[groceryinvoice]</td>\n",
       "      <td>2023-03-27 11:53:17.043</td>\n",
       "    </tr>\n",
       "    <tr>\n",
       "      <th>4</th>\n",
       "      <td>CustomerYearOfBirth</td>\n",
       "      <td>INT</td>\n",
       "      <td>PRODUCTION_READY</td>\n",
       "      <td>True</td>\n",
       "      <td>[GROCERYCUSTOMER]</td>\n",
       "      <td>[GROCERYCUSTOMER]</td>\n",
       "      <td>[grocerycustomer]</td>\n",
       "      <td>[grocerycustomer]</td>\n",
       "      <td>2023-03-27 11:53:15.747</td>\n",
       "    </tr>\n",
       "    <tr>\n",
       "      <th>5</th>\n",
       "      <td>CustomerSpend_14d</td>\n",
       "      <td>FLOAT</td>\n",
       "      <td>PRODUCTION_READY</td>\n",
       "      <td>True</td>\n",
       "      <td>[GROCERYINVOICE]</td>\n",
       "      <td>[GROCERYINVOICE]</td>\n",
       "      <td>[grocerycustomer]</td>\n",
       "      <td>[grocerycustomer]</td>\n",
       "      <td>2023-03-27 11:53:15.143</td>\n",
       "    </tr>\n",
       "    <tr>\n",
       "      <th>6</th>\n",
       "      <td>CustomerInventory_24w</td>\n",
       "      <td>OBJECT</td>\n",
       "      <td>PRODUCTION_READY</td>\n",
       "      <td>True</td>\n",
       "      <td>[GROCERYINVOICE, INVOICEITEMS, GROCERYPRODUCT]</td>\n",
       "      <td>[INVOICEITEMS]</td>\n",
       "      <td>[grocerycustomer]</td>\n",
       "      <td>[grocerycustomer]</td>\n",
       "      <td>2023-03-27 11:53:13.906</td>\n",
       "    </tr>\n",
       "    <tr>\n",
       "      <th>7</th>\n",
       "      <td>CustomerInventory_28d</td>\n",
       "      <td>OBJECT</td>\n",
       "      <td>PRODUCTION_READY</td>\n",
       "      <td>True</td>\n",
       "      <td>[GROCERYINVOICE, INVOICEITEMS, GROCERYPRODUCT]</td>\n",
       "      <td>[INVOICEITEMS]</td>\n",
       "      <td>[grocerycustomer]</td>\n",
       "      <td>[grocerycustomer]</td>\n",
       "      <td>2023-03-27 11:53:12.487</td>\n",
       "    </tr>\n",
       "    <tr>\n",
       "      <th>8</th>\n",
       "      <td>StateMeanLongitude</td>\n",
       "      <td>FLOAT</td>\n",
       "      <td>DRAFT</td>\n",
       "      <td>False</td>\n",
       "      <td>[GROCERYCUSTOMER]</td>\n",
       "      <td>[GROCERYCUSTOMER]</td>\n",
       "      <td>[frenchstate]</td>\n",
       "      <td>[frenchstate]</td>\n",
       "      <td>2023-03-27 11:53:11.228</td>\n",
       "    </tr>\n",
       "    <tr>\n",
       "      <th>9</th>\n",
       "      <td>StateMeanLatitude</td>\n",
       "      <td>FLOAT</td>\n",
       "      <td>DRAFT</td>\n",
       "      <td>False</td>\n",
       "      <td>[GROCERYCUSTOMER]</td>\n",
       "      <td>[GROCERYCUSTOMER]</td>\n",
       "      <td>[frenchstate]</td>\n",
       "      <td>[frenchstate]</td>\n",
       "      <td>2023-03-27 11:53:10.657</td>\n",
       "    </tr>\n",
       "    <tr>\n",
       "      <th>10</th>\n",
       "      <td>StateAvgInvoiceAmount_28d</td>\n",
       "      <td>FLOAT</td>\n",
       "      <td>DRAFT</td>\n",
       "      <td>False</td>\n",
       "      <td>[GROCERYCUSTOMER, GROCERYINVOICE]</td>\n",
       "      <td>[GROCERYINVOICE]</td>\n",
       "      <td>[frenchstate]</td>\n",
       "      <td>[frenchstate]</td>\n",
       "      <td>2023-03-27 11:53:09.955</td>\n",
       "    </tr>\n",
       "    <tr>\n",
       "      <th>11</th>\n",
       "      <td>StateInventory_28d</td>\n",
       "      <td>OBJECT</td>\n",
       "      <td>DRAFT</td>\n",
       "      <td>False</td>\n",
       "      <td>[GROCERYCUSTOMER, GROCERYINVOICE, INVOICEITEMS...</td>\n",
       "      <td>[INVOICEITEMS]</td>\n",
       "      <td>[frenchstate]</td>\n",
       "      <td>[frenchstate]</td>\n",
       "      <td>2023-03-27 11:53:08.475</td>\n",
       "    </tr>\n",
       "    <tr>\n",
       "      <th>12</th>\n",
       "      <td>StatePopulation</td>\n",
       "      <td>FLOAT</td>\n",
       "      <td>DRAFT</td>\n",
       "      <td>False</td>\n",
       "      <td>[GROCERYCUSTOMER]</td>\n",
       "      <td>[GROCERYCUSTOMER]</td>\n",
       "      <td>[frenchstate]</td>\n",
       "      <td>[frenchstate]</td>\n",
       "      <td>2023-03-27 11:53:06.924</td>\n",
       "    </tr>\n",
       "    <tr>\n",
       "      <th>13</th>\n",
       "      <td>StateName</td>\n",
       "      <td>VARCHAR</td>\n",
       "      <td>DRAFT</td>\n",
       "      <td>False</td>\n",
       "      <td>[GROCERYCUSTOMER]</td>\n",
       "      <td>[GROCERYCUSTOMER]</td>\n",
       "      <td>[grocerycustomer]</td>\n",
       "      <td>[grocerycustomer]</td>\n",
       "      <td>2023-03-27 11:53:06.130</td>\n",
       "    </tr>\n",
       "  </tbody>\n",
       "</table>\n",
       "</div>"
      ],
      "text/plain": [
       "                              name    dtype         readiness  online_enabled  \\\n",
       "0       InvoiceUniqueProductGroups   OBJECT        DEPRECATED           False   \n",
       "1   InvoiceUniqueProductGroupCount    FLOAT             DRAFT           False   \n",
       "2            InvoiceDiscountAmount    FLOAT             DRAFT           False   \n",
       "3                 InvoiceItemCount    FLOAT             DRAFT           False   \n",
       "4              CustomerYearOfBirth      INT  PRODUCTION_READY            True   \n",
       "5                CustomerSpend_14d    FLOAT  PRODUCTION_READY            True   \n",
       "6            CustomerInventory_24w   OBJECT  PRODUCTION_READY            True   \n",
       "7            CustomerInventory_28d   OBJECT  PRODUCTION_READY            True   \n",
       "8               StateMeanLongitude    FLOAT             DRAFT           False   \n",
       "9                StateMeanLatitude    FLOAT             DRAFT           False   \n",
       "10       StateAvgInvoiceAmount_28d    FLOAT             DRAFT           False   \n",
       "11              StateInventory_28d   OBJECT             DRAFT           False   \n",
       "12                 StatePopulation    FLOAT             DRAFT           False   \n",
       "13                       StateName  VARCHAR             DRAFT           False   \n",
       "\n",
       "                                               tables     primary_tables  \\\n",
       "0      [GROCERYINVOICE, INVOICEITEMS, GROCERYPRODUCT]     [INVOICEITEMS]   \n",
       "1      [GROCERYINVOICE, INVOICEITEMS, GROCERYPRODUCT]     [INVOICEITEMS]   \n",
       "2                      [GROCERYINVOICE, INVOICEITEMS]     [INVOICEITEMS]   \n",
       "3                      [GROCERYINVOICE, INVOICEITEMS]     [INVOICEITEMS]   \n",
       "4                                   [GROCERYCUSTOMER]  [GROCERYCUSTOMER]   \n",
       "5                                    [GROCERYINVOICE]   [GROCERYINVOICE]   \n",
       "6      [GROCERYINVOICE, INVOICEITEMS, GROCERYPRODUCT]     [INVOICEITEMS]   \n",
       "7      [GROCERYINVOICE, INVOICEITEMS, GROCERYPRODUCT]     [INVOICEITEMS]   \n",
       "8                                   [GROCERYCUSTOMER]  [GROCERYCUSTOMER]   \n",
       "9                                   [GROCERYCUSTOMER]  [GROCERYCUSTOMER]   \n",
       "10                  [GROCERYCUSTOMER, GROCERYINVOICE]   [GROCERYINVOICE]   \n",
       "11  [GROCERYCUSTOMER, GROCERYINVOICE, INVOICEITEMS...     [INVOICEITEMS]   \n",
       "12                                  [GROCERYCUSTOMER]  [GROCERYCUSTOMER]   \n",
       "13                                  [GROCERYCUSTOMER]  [GROCERYCUSTOMER]   \n",
       "\n",
       "             entities   primary_entities              created_at  \n",
       "0    [groceryinvoice]   [groceryinvoice] 2023-03-27 11:53:24.818  \n",
       "1    [groceryinvoice]   [groceryinvoice] 2023-03-27 11:53:19.841  \n",
       "2    [groceryinvoice]   [groceryinvoice] 2023-03-27 11:53:18.269  \n",
       "3    [groceryinvoice]   [groceryinvoice] 2023-03-27 11:53:17.043  \n",
       "4   [grocerycustomer]  [grocerycustomer] 2023-03-27 11:53:15.747  \n",
       "5   [grocerycustomer]  [grocerycustomer] 2023-03-27 11:53:15.143  \n",
       "6   [grocerycustomer]  [grocerycustomer] 2023-03-27 11:53:13.906  \n",
       "7   [grocerycustomer]  [grocerycustomer] 2023-03-27 11:53:12.487  \n",
       "8       [frenchstate]      [frenchstate] 2023-03-27 11:53:11.228  \n",
       "9       [frenchstate]      [frenchstate] 2023-03-27 11:53:10.657  \n",
       "10      [frenchstate]      [frenchstate] 2023-03-27 11:53:09.955  \n",
       "11      [frenchstate]      [frenchstate] 2023-03-27 11:53:08.475  \n",
       "12      [frenchstate]      [frenchstate] 2023-03-27 11:53:06.924  \n",
       "13  [grocerycustomer]  [grocerycustomer] 2023-03-27 11:53:06.130  "
      ]
     },
     "execution_count": 4,
     "metadata": {},
     "output_type": "execute_result"
    }
   ],
   "source": [
    "# list the features in the catalog - note the readiness of each\n",
    "catalog.list_features()"
   ]
  },
  {
   "cell_type": "markdown",
   "metadata": {},
   "source": [
    "### Example: Set features to production ready"
   ]
  },
  {
   "cell_type": "code",
   "execution_count": 5,
   "metadata": {},
   "outputs": [],
   "source": [
    "# change the state features to be production ready\n",
    "for feature_name in catalog.list_features().name:\n",
    "    feature = catalog.get_feature(feature_name)\n",
    "    \n",
    "    # does the feature name contain the word \"state\"?\n",
    "    if \"State\" in feature.name:\n",
    "        feature.update_readiness(\"PRODUCTION_READY\")"
   ]
  },
  {
   "cell_type": "code",
   "execution_count": 6,
   "metadata": {},
   "outputs": [
    {
     "data": {
      "text/html": [
       "<div>\n",
       "<style scoped>\n",
       "    .dataframe tbody tr th:only-of-type {\n",
       "        vertical-align: middle;\n",
       "    }\n",
       "\n",
       "    .dataframe tbody tr th {\n",
       "        vertical-align: top;\n",
       "    }\n",
       "\n",
       "    .dataframe thead th {\n",
       "        text-align: right;\n",
       "    }\n",
       "</style>\n",
       "<table border=\"1\" class=\"dataframe\">\n",
       "  <thead>\n",
       "    <tr style=\"text-align: right;\">\n",
       "      <th></th>\n",
       "      <th>name</th>\n",
       "      <th>dtype</th>\n",
       "      <th>readiness</th>\n",
       "      <th>online_enabled</th>\n",
       "      <th>tables</th>\n",
       "      <th>primary_tables</th>\n",
       "      <th>entities</th>\n",
       "      <th>primary_entities</th>\n",
       "      <th>created_at</th>\n",
       "    </tr>\n",
       "  </thead>\n",
       "  <tbody>\n",
       "    <tr>\n",
       "      <th>0</th>\n",
       "      <td>InvoiceUniqueProductGroups</td>\n",
       "      <td>OBJECT</td>\n",
       "      <td>DEPRECATED</td>\n",
       "      <td>False</td>\n",
       "      <td>[GROCERYINVOICE, INVOICEITEMS, GROCERYPRODUCT]</td>\n",
       "      <td>[INVOICEITEMS]</td>\n",
       "      <td>[groceryinvoice]</td>\n",
       "      <td>[groceryinvoice]</td>\n",
       "      <td>2023-03-27 11:53:24.818</td>\n",
       "    </tr>\n",
       "    <tr>\n",
       "      <th>1</th>\n",
       "      <td>InvoiceUniqueProductGroupCount</td>\n",
       "      <td>FLOAT</td>\n",
       "      <td>DRAFT</td>\n",
       "      <td>False</td>\n",
       "      <td>[GROCERYINVOICE, INVOICEITEMS, GROCERYPRODUCT]</td>\n",
       "      <td>[INVOICEITEMS]</td>\n",
       "      <td>[groceryinvoice]</td>\n",
       "      <td>[groceryinvoice]</td>\n",
       "      <td>2023-03-27 11:53:19.841</td>\n",
       "    </tr>\n",
       "    <tr>\n",
       "      <th>2</th>\n",
       "      <td>InvoiceDiscountAmount</td>\n",
       "      <td>FLOAT</td>\n",
       "      <td>DRAFT</td>\n",
       "      <td>False</td>\n",
       "      <td>[GROCERYINVOICE, INVOICEITEMS]</td>\n",
       "      <td>[INVOICEITEMS]</td>\n",
       "      <td>[groceryinvoice]</td>\n",
       "      <td>[groceryinvoice]</td>\n",
       "      <td>2023-03-27 11:53:18.269</td>\n",
       "    </tr>\n",
       "    <tr>\n",
       "      <th>3</th>\n",
       "      <td>InvoiceItemCount</td>\n",
       "      <td>FLOAT</td>\n",
       "      <td>DRAFT</td>\n",
       "      <td>False</td>\n",
       "      <td>[GROCERYINVOICE, INVOICEITEMS]</td>\n",
       "      <td>[INVOICEITEMS]</td>\n",
       "      <td>[groceryinvoice]</td>\n",
       "      <td>[groceryinvoice]</td>\n",
       "      <td>2023-03-27 11:53:17.043</td>\n",
       "    </tr>\n",
       "    <tr>\n",
       "      <th>4</th>\n",
       "      <td>CustomerYearOfBirth</td>\n",
       "      <td>INT</td>\n",
       "      <td>PRODUCTION_READY</td>\n",
       "      <td>True</td>\n",
       "      <td>[GROCERYCUSTOMER]</td>\n",
       "      <td>[GROCERYCUSTOMER]</td>\n",
       "      <td>[grocerycustomer]</td>\n",
       "      <td>[grocerycustomer]</td>\n",
       "      <td>2023-03-27 11:53:15.747</td>\n",
       "    </tr>\n",
       "    <tr>\n",
       "      <th>5</th>\n",
       "      <td>CustomerSpend_14d</td>\n",
       "      <td>FLOAT</td>\n",
       "      <td>PRODUCTION_READY</td>\n",
       "      <td>True</td>\n",
       "      <td>[GROCERYINVOICE]</td>\n",
       "      <td>[GROCERYINVOICE]</td>\n",
       "      <td>[grocerycustomer]</td>\n",
       "      <td>[grocerycustomer]</td>\n",
       "      <td>2023-03-27 11:53:15.143</td>\n",
       "    </tr>\n",
       "    <tr>\n",
       "      <th>6</th>\n",
       "      <td>CustomerInventory_24w</td>\n",
       "      <td>OBJECT</td>\n",
       "      <td>PRODUCTION_READY</td>\n",
       "      <td>True</td>\n",
       "      <td>[GROCERYINVOICE, INVOICEITEMS, GROCERYPRODUCT]</td>\n",
       "      <td>[INVOICEITEMS]</td>\n",
       "      <td>[grocerycustomer]</td>\n",
       "      <td>[grocerycustomer]</td>\n",
       "      <td>2023-03-27 11:53:13.906</td>\n",
       "    </tr>\n",
       "    <tr>\n",
       "      <th>7</th>\n",
       "      <td>CustomerInventory_28d</td>\n",
       "      <td>OBJECT</td>\n",
       "      <td>PRODUCTION_READY</td>\n",
       "      <td>True</td>\n",
       "      <td>[GROCERYINVOICE, INVOICEITEMS, GROCERYPRODUCT]</td>\n",
       "      <td>[INVOICEITEMS]</td>\n",
       "      <td>[grocerycustomer]</td>\n",
       "      <td>[grocerycustomer]</td>\n",
       "      <td>2023-03-27 11:53:12.487</td>\n",
       "    </tr>\n",
       "    <tr>\n",
       "      <th>8</th>\n",
       "      <td>StateMeanLongitude</td>\n",
       "      <td>FLOAT</td>\n",
       "      <td>PRODUCTION_READY</td>\n",
       "      <td>False</td>\n",
       "      <td>[GROCERYCUSTOMER]</td>\n",
       "      <td>[GROCERYCUSTOMER]</td>\n",
       "      <td>[frenchstate]</td>\n",
       "      <td>[frenchstate]</td>\n",
       "      <td>2023-03-27 11:53:11.228</td>\n",
       "    </tr>\n",
       "    <tr>\n",
       "      <th>9</th>\n",
       "      <td>StateMeanLatitude</td>\n",
       "      <td>FLOAT</td>\n",
       "      <td>PRODUCTION_READY</td>\n",
       "      <td>False</td>\n",
       "      <td>[GROCERYCUSTOMER]</td>\n",
       "      <td>[GROCERYCUSTOMER]</td>\n",
       "      <td>[frenchstate]</td>\n",
       "      <td>[frenchstate]</td>\n",
       "      <td>2023-03-27 11:53:10.657</td>\n",
       "    </tr>\n",
       "    <tr>\n",
       "      <th>10</th>\n",
       "      <td>StateAvgInvoiceAmount_28d</td>\n",
       "      <td>FLOAT</td>\n",
       "      <td>PRODUCTION_READY</td>\n",
       "      <td>False</td>\n",
       "      <td>[GROCERYCUSTOMER, GROCERYINVOICE]</td>\n",
       "      <td>[GROCERYINVOICE]</td>\n",
       "      <td>[frenchstate]</td>\n",
       "      <td>[frenchstate]</td>\n",
       "      <td>2023-03-27 11:53:09.955</td>\n",
       "    </tr>\n",
       "    <tr>\n",
       "      <th>11</th>\n",
       "      <td>StateInventory_28d</td>\n",
       "      <td>OBJECT</td>\n",
       "      <td>PRODUCTION_READY</td>\n",
       "      <td>False</td>\n",
       "      <td>[GROCERYCUSTOMER, GROCERYINVOICE, INVOICEITEMS...</td>\n",
       "      <td>[INVOICEITEMS]</td>\n",
       "      <td>[frenchstate]</td>\n",
       "      <td>[frenchstate]</td>\n",
       "      <td>2023-03-27 11:53:08.475</td>\n",
       "    </tr>\n",
       "    <tr>\n",
       "      <th>12</th>\n",
       "      <td>StatePopulation</td>\n",
       "      <td>FLOAT</td>\n",
       "      <td>PRODUCTION_READY</td>\n",
       "      <td>False</td>\n",
       "      <td>[GROCERYCUSTOMER]</td>\n",
       "      <td>[GROCERYCUSTOMER]</td>\n",
       "      <td>[frenchstate]</td>\n",
       "      <td>[frenchstate]</td>\n",
       "      <td>2023-03-27 11:53:06.924</td>\n",
       "    </tr>\n",
       "    <tr>\n",
       "      <th>13</th>\n",
       "      <td>StateName</td>\n",
       "      <td>VARCHAR</td>\n",
       "      <td>PRODUCTION_READY</td>\n",
       "      <td>False</td>\n",
       "      <td>[GROCERYCUSTOMER]</td>\n",
       "      <td>[GROCERYCUSTOMER]</td>\n",
       "      <td>[grocerycustomer]</td>\n",
       "      <td>[grocerycustomer]</td>\n",
       "      <td>2023-03-27 11:53:06.130</td>\n",
       "    </tr>\n",
       "  </tbody>\n",
       "</table>\n",
       "</div>"
      ],
      "text/plain": [
       "                              name    dtype         readiness  online_enabled  \\\n",
       "0       InvoiceUniqueProductGroups   OBJECT        DEPRECATED           False   \n",
       "1   InvoiceUniqueProductGroupCount    FLOAT             DRAFT           False   \n",
       "2            InvoiceDiscountAmount    FLOAT             DRAFT           False   \n",
       "3                 InvoiceItemCount    FLOAT             DRAFT           False   \n",
       "4              CustomerYearOfBirth      INT  PRODUCTION_READY            True   \n",
       "5                CustomerSpend_14d    FLOAT  PRODUCTION_READY            True   \n",
       "6            CustomerInventory_24w   OBJECT  PRODUCTION_READY            True   \n",
       "7            CustomerInventory_28d   OBJECT  PRODUCTION_READY            True   \n",
       "8               StateMeanLongitude    FLOAT  PRODUCTION_READY           False   \n",
       "9                StateMeanLatitude    FLOAT  PRODUCTION_READY           False   \n",
       "10       StateAvgInvoiceAmount_28d    FLOAT  PRODUCTION_READY           False   \n",
       "11              StateInventory_28d   OBJECT  PRODUCTION_READY           False   \n",
       "12                 StatePopulation    FLOAT  PRODUCTION_READY           False   \n",
       "13                       StateName  VARCHAR  PRODUCTION_READY           False   \n",
       "\n",
       "                                               tables     primary_tables  \\\n",
       "0      [GROCERYINVOICE, INVOICEITEMS, GROCERYPRODUCT]     [INVOICEITEMS]   \n",
       "1      [GROCERYINVOICE, INVOICEITEMS, GROCERYPRODUCT]     [INVOICEITEMS]   \n",
       "2                      [GROCERYINVOICE, INVOICEITEMS]     [INVOICEITEMS]   \n",
       "3                      [GROCERYINVOICE, INVOICEITEMS]     [INVOICEITEMS]   \n",
       "4                                   [GROCERYCUSTOMER]  [GROCERYCUSTOMER]   \n",
       "5                                    [GROCERYINVOICE]   [GROCERYINVOICE]   \n",
       "6      [GROCERYINVOICE, INVOICEITEMS, GROCERYPRODUCT]     [INVOICEITEMS]   \n",
       "7      [GROCERYINVOICE, INVOICEITEMS, GROCERYPRODUCT]     [INVOICEITEMS]   \n",
       "8                                   [GROCERYCUSTOMER]  [GROCERYCUSTOMER]   \n",
       "9                                   [GROCERYCUSTOMER]  [GROCERYCUSTOMER]   \n",
       "10                  [GROCERYCUSTOMER, GROCERYINVOICE]   [GROCERYINVOICE]   \n",
       "11  [GROCERYCUSTOMER, GROCERYINVOICE, INVOICEITEMS...     [INVOICEITEMS]   \n",
       "12                                  [GROCERYCUSTOMER]  [GROCERYCUSTOMER]   \n",
       "13                                  [GROCERYCUSTOMER]  [GROCERYCUSTOMER]   \n",
       "\n",
       "             entities   primary_entities              created_at  \n",
       "0    [groceryinvoice]   [groceryinvoice] 2023-03-27 11:53:24.818  \n",
       "1    [groceryinvoice]   [groceryinvoice] 2023-03-27 11:53:19.841  \n",
       "2    [groceryinvoice]   [groceryinvoice] 2023-03-27 11:53:18.269  \n",
       "3    [groceryinvoice]   [groceryinvoice] 2023-03-27 11:53:17.043  \n",
       "4   [grocerycustomer]  [grocerycustomer] 2023-03-27 11:53:15.747  \n",
       "5   [grocerycustomer]  [grocerycustomer] 2023-03-27 11:53:15.143  \n",
       "6   [grocerycustomer]  [grocerycustomer] 2023-03-27 11:53:13.906  \n",
       "7   [grocerycustomer]  [grocerycustomer] 2023-03-27 11:53:12.487  \n",
       "8       [frenchstate]      [frenchstate] 2023-03-27 11:53:11.228  \n",
       "9       [frenchstate]      [frenchstate] 2023-03-27 11:53:10.657  \n",
       "10      [frenchstate]      [frenchstate] 2023-03-27 11:53:09.955  \n",
       "11      [frenchstate]      [frenchstate] 2023-03-27 11:53:08.475  \n",
       "12      [frenchstate]      [frenchstate] 2023-03-27 11:53:06.924  \n",
       "13  [grocerycustomer]  [grocerycustomer] 2023-03-27 11:53:06.130  "
      ]
     },
     "execution_count": 6,
     "metadata": {},
     "output_type": "execute_result"
    }
   ],
   "source": [
    "# list the features in the catalog - note the readiness of each\n",
    "catalog.list_features()"
   ]
  },
  {
   "attachments": {},
   "cell_type": "markdown",
   "metadata": {},
   "source": [
    "## Manage Feature List Status\n",
    "\n",
    "Learning Objectives\n",
    "\n",
    "In this section you will learn:\n",
    "* how to change the status of a feature list\n",
    "* the meaning of each status value\n",
    "* how to deploy a feature list"
   ]
  },
  {
   "cell_type": "markdown",
   "metadata": {},
   "source": [
    "### Feature list status\n",
    "\n",
    "A feature list's status indicate its suitability for use in production.\n",
    "\n",
    "DEPRECATED: The feature list is no longer suitable for production use.<br>\n",
    "DRAFT: The feature list is being prototyped, and is not yet suitable for production.<br>\n",
    "PUBLIC_DRAFT: The feature list is ready for review and sharing, but is not yet in production.<br>\n",
    "PUBLISHED: The feature list has been deployed into production.<br>"
   ]
  },
  {
   "cell_type": "code",
   "execution_count": 7,
   "metadata": {},
   "outputs": [
    {
     "data": {
      "text/html": [
       "<div>\n",
       "<style scoped>\n",
       "    .dataframe tbody tr th:only-of-type {\n",
       "        vertical-align: middle;\n",
       "    }\n",
       "\n",
       "    .dataframe tbody tr th {\n",
       "        vertical-align: top;\n",
       "    }\n",
       "\n",
       "    .dataframe thead th {\n",
       "        text-align: right;\n",
       "    }\n",
       "</style>\n",
       "<table border=\"1\" class=\"dataframe\">\n",
       "  <thead>\n",
       "    <tr style=\"text-align: right;\">\n",
       "      <th></th>\n",
       "      <th>name</th>\n",
       "      <th>num_features</th>\n",
       "      <th>status</th>\n",
       "      <th>deployed</th>\n",
       "      <th>readiness_frac</th>\n",
       "      <th>online_frac</th>\n",
       "      <th>tables</th>\n",
       "      <th>entities</th>\n",
       "      <th>created_at</th>\n",
       "    </tr>\n",
       "  </thead>\n",
       "  <tbody>\n",
       "    <tr>\n",
       "      <th>0</th>\n",
       "      <td>InvoiceFeatureList</td>\n",
       "      <td>3</td>\n",
       "      <td>DRAFT</td>\n",
       "      <td>False</td>\n",
       "      <td>0.0</td>\n",
       "      <td>0.0</td>\n",
       "      <td>[GROCERYINVOICE, INVOICEITEMS, GROCERYPRODUCT]</td>\n",
       "      <td>[groceryinvoice]</td>\n",
       "      <td>2023-03-27 11:53:25.735</td>\n",
       "    </tr>\n",
       "    <tr>\n",
       "      <th>1</th>\n",
       "      <td>CustomerFeatureList</td>\n",
       "      <td>4</td>\n",
       "      <td>PUBLISHED</td>\n",
       "      <td>True</td>\n",
       "      <td>1.0</td>\n",
       "      <td>1.0</td>\n",
       "      <td>[GROCERYCUSTOMER, GROCERYINVOICE, INVOICEITEMS...</td>\n",
       "      <td>[grocerycustomer]</td>\n",
       "      <td>2023-03-27 11:53:23.086</td>\n",
       "    </tr>\n",
       "    <tr>\n",
       "      <th>2</th>\n",
       "      <td>StateFeatureList</td>\n",
       "      <td>5</td>\n",
       "      <td>DRAFT</td>\n",
       "      <td>False</td>\n",
       "      <td>1.0</td>\n",
       "      <td>0.0</td>\n",
       "      <td>[GROCERYCUSTOMER, GROCERYINVOICE, INVOICEITEMS...</td>\n",
       "      <td>[frenchstate]</td>\n",
       "      <td>2023-03-27 11:53:21.121</td>\n",
       "    </tr>\n",
       "  </tbody>\n",
       "</table>\n",
       "</div>"
      ],
      "text/plain": [
       "                  name  num_features     status  deployed  readiness_frac  \\\n",
       "0   InvoiceFeatureList             3      DRAFT     False             0.0   \n",
       "1  CustomerFeatureList             4  PUBLISHED      True             1.0   \n",
       "2     StateFeatureList             5      DRAFT     False             1.0   \n",
       "\n",
       "   online_frac                                             tables  \\\n",
       "0          0.0     [GROCERYINVOICE, INVOICEITEMS, GROCERYPRODUCT]   \n",
       "1          1.0  [GROCERYCUSTOMER, GROCERYINVOICE, INVOICEITEMS...   \n",
       "2          0.0  [GROCERYCUSTOMER, GROCERYINVOICE, INVOICEITEMS...   \n",
       "\n",
       "            entities              created_at  \n",
       "0   [groceryinvoice] 2023-03-27 11:53:25.735  \n",
       "1  [grocerycustomer] 2023-03-27 11:53:23.086  \n",
       "2      [frenchstate] 2023-03-27 11:53:21.121  "
      ]
     },
     "execution_count": 7,
     "metadata": {},
     "output_type": "execute_result"
    }
   ],
   "source": [
    "# list the feature lists in the catalog - note the status of each\n",
    "# Note the readiness fraction which represents the proportion of features that are production ready\n",
    "# Note the online fraction which represents the proportion of features that are being used in production\n",
    "catalog.list_feature_lists()"
   ]
  },
  {
   "cell_type": "markdown",
   "metadata": {},
   "source": [
    "### Example: Make a feature list public\n",
    "\n",
    "When a feature list is reviewed and ready for sharing with other users, change its status to PUBLIC_DRAFT"
   ]
  },
  {
   "cell_type": "code",
   "execution_count": 8,
   "metadata": {},
   "outputs": [
    {
     "name": "stdout",
     "output_type": "stream",
     "text": [
      "Loading Feature(s) |████████████████████████████████████████| 5/5 [100%] in 1.0s (4.83/s)                               \n"
     ]
    }
   ],
   "source": [
    "# get the state feature list\n",
    "state_feature_list = catalog.get_feature_list(\"StateFeatureList\")\n",
    "\n",
    "# update the status to public draft\n",
    "state_feature_list.update_status(\"PUBLIC_DRAFT\")"
   ]
  },
  {
   "cell_type": "code",
   "execution_count": 9,
   "metadata": {},
   "outputs": [
    {
     "data": {
      "text/html": [
       "<div>\n",
       "<style scoped>\n",
       "    .dataframe tbody tr th:only-of-type {\n",
       "        vertical-align: middle;\n",
       "    }\n",
       "\n",
       "    .dataframe tbody tr th {\n",
       "        vertical-align: top;\n",
       "    }\n",
       "\n",
       "    .dataframe thead th {\n",
       "        text-align: right;\n",
       "    }\n",
       "</style>\n",
       "<table border=\"1\" class=\"dataframe\">\n",
       "  <thead>\n",
       "    <tr style=\"text-align: right;\">\n",
       "      <th></th>\n",
       "      <th>name</th>\n",
       "      <th>num_features</th>\n",
       "      <th>status</th>\n",
       "      <th>deployed</th>\n",
       "      <th>readiness_frac</th>\n",
       "      <th>online_frac</th>\n",
       "      <th>tables</th>\n",
       "      <th>entities</th>\n",
       "      <th>created_at</th>\n",
       "    </tr>\n",
       "  </thead>\n",
       "  <tbody>\n",
       "    <tr>\n",
       "      <th>0</th>\n",
       "      <td>InvoiceFeatureList</td>\n",
       "      <td>3</td>\n",
       "      <td>DRAFT</td>\n",
       "      <td>False</td>\n",
       "      <td>0.0</td>\n",
       "      <td>0.0</td>\n",
       "      <td>[GROCERYINVOICE, INVOICEITEMS, GROCERYPRODUCT]</td>\n",
       "      <td>[groceryinvoice]</td>\n",
       "      <td>2023-03-27 11:53:25.735</td>\n",
       "    </tr>\n",
       "    <tr>\n",
       "      <th>1</th>\n",
       "      <td>CustomerFeatureList</td>\n",
       "      <td>4</td>\n",
       "      <td>PUBLISHED</td>\n",
       "      <td>True</td>\n",
       "      <td>1.0</td>\n",
       "      <td>1.0</td>\n",
       "      <td>[GROCERYCUSTOMER, GROCERYINVOICE, INVOICEITEMS...</td>\n",
       "      <td>[grocerycustomer]</td>\n",
       "      <td>2023-03-27 11:53:23.086</td>\n",
       "    </tr>\n",
       "    <tr>\n",
       "      <th>2</th>\n",
       "      <td>StateFeatureList</td>\n",
       "      <td>5</td>\n",
       "      <td>PUBLIC_DRAFT</td>\n",
       "      <td>False</td>\n",
       "      <td>1.0</td>\n",
       "      <td>0.0</td>\n",
       "      <td>[GROCERYCUSTOMER, GROCERYINVOICE, INVOICEITEMS...</td>\n",
       "      <td>[frenchstate]</td>\n",
       "      <td>2023-03-27 11:53:21.121</td>\n",
       "    </tr>\n",
       "  </tbody>\n",
       "</table>\n",
       "</div>"
      ],
      "text/plain": [
       "                  name  num_features        status  deployed  readiness_frac  \\\n",
       "0   InvoiceFeatureList             3         DRAFT     False             0.0   \n",
       "1  CustomerFeatureList             4     PUBLISHED      True             1.0   \n",
       "2     StateFeatureList             5  PUBLIC_DRAFT     False             1.0   \n",
       "\n",
       "   online_frac                                             tables  \\\n",
       "0          0.0     [GROCERYINVOICE, INVOICEITEMS, GROCERYPRODUCT]   \n",
       "1          1.0  [GROCERYCUSTOMER, GROCERYINVOICE, INVOICEITEMS...   \n",
       "2          0.0  [GROCERYCUSTOMER, GROCERYINVOICE, INVOICEITEMS...   \n",
       "\n",
       "            entities              created_at  \n",
       "0   [groceryinvoice] 2023-03-27 11:53:25.735  \n",
       "1  [grocerycustomer] 2023-03-27 11:53:23.086  \n",
       "2      [frenchstate] 2023-03-27 11:53:21.121  "
      ]
     },
     "execution_count": 9,
     "metadata": {},
     "output_type": "execute_result"
    }
   ],
   "source": [
    "# list the feature lists in the catalog - note the status of each\n",
    "catalog.list_feature_lists()"
   ]
  },
  {
   "cell_type": "markdown",
   "metadata": {},
   "source": [
    "### Example: Deploy a feature list\n",
    "\n",
    "Deploying a feature list changes its status to published"
   ]
  },
  {
   "cell_type": "code",
   "execution_count": 10,
   "metadata": {},
   "outputs": [
    {
     "name": "stdout",
     "output_type": "stream",
     "text": [
      "Loading Feature(s) |████████████████████████████████████████| 5/5 [100%] in 1.0s (5.22/s)                               \n",
      "Done! |████████████████████████████████████████| 100% in 36.5s (2.74%/s)                                                \n"
     ]
    }
   ],
   "source": [
    "# deploy the state feature list\n",
    "state_feature_list.deploy(enable=True)\n",
    "\n",
    "# set the feature status to published\n",
    "state_feature_list.update_status(\"PUBLISHED\")"
   ]
  },
  {
   "cell_type": "code",
   "execution_count": 11,
   "metadata": {},
   "outputs": [
    {
     "data": {
      "text/html": [
       "<div>\n",
       "<style scoped>\n",
       "    .dataframe tbody tr th:only-of-type {\n",
       "        vertical-align: middle;\n",
       "    }\n",
       "\n",
       "    .dataframe tbody tr th {\n",
       "        vertical-align: top;\n",
       "    }\n",
       "\n",
       "    .dataframe thead th {\n",
       "        text-align: right;\n",
       "    }\n",
       "</style>\n",
       "<table border=\"1\" class=\"dataframe\">\n",
       "  <thead>\n",
       "    <tr style=\"text-align: right;\">\n",
       "      <th></th>\n",
       "      <th>name</th>\n",
       "      <th>num_features</th>\n",
       "      <th>status</th>\n",
       "      <th>deployed</th>\n",
       "      <th>readiness_frac</th>\n",
       "      <th>online_frac</th>\n",
       "      <th>tables</th>\n",
       "      <th>entities</th>\n",
       "      <th>created_at</th>\n",
       "    </tr>\n",
       "  </thead>\n",
       "  <tbody>\n",
       "    <tr>\n",
       "      <th>0</th>\n",
       "      <td>InvoiceFeatureList</td>\n",
       "      <td>3</td>\n",
       "      <td>DRAFT</td>\n",
       "      <td>False</td>\n",
       "      <td>0.0</td>\n",
       "      <td>0.0</td>\n",
       "      <td>[GROCERYINVOICE, INVOICEITEMS, GROCERYPRODUCT]</td>\n",
       "      <td>[groceryinvoice]</td>\n",
       "      <td>2023-03-27 11:53:25.735</td>\n",
       "    </tr>\n",
       "    <tr>\n",
       "      <th>1</th>\n",
       "      <td>CustomerFeatureList</td>\n",
       "      <td>4</td>\n",
       "      <td>PUBLISHED</td>\n",
       "      <td>True</td>\n",
       "      <td>1.0</td>\n",
       "      <td>1.0</td>\n",
       "      <td>[GROCERYCUSTOMER, GROCERYINVOICE, INVOICEITEMS...</td>\n",
       "      <td>[grocerycustomer]</td>\n",
       "      <td>2023-03-27 11:53:23.086</td>\n",
       "    </tr>\n",
       "    <tr>\n",
       "      <th>2</th>\n",
       "      <td>StateFeatureList</td>\n",
       "      <td>5</td>\n",
       "      <td>PUBLISHED</td>\n",
       "      <td>True</td>\n",
       "      <td>1.0</td>\n",
       "      <td>1.0</td>\n",
       "      <td>[GROCERYCUSTOMER, GROCERYINVOICE, INVOICEITEMS...</td>\n",
       "      <td>[frenchstate]</td>\n",
       "      <td>2023-03-27 11:53:21.121</td>\n",
       "    </tr>\n",
       "  </tbody>\n",
       "</table>\n",
       "</div>"
      ],
      "text/plain": [
       "                  name  num_features     status  deployed  readiness_frac  \\\n",
       "0   InvoiceFeatureList             3      DRAFT     False             0.0   \n",
       "1  CustomerFeatureList             4  PUBLISHED      True             1.0   \n",
       "2     StateFeatureList             5  PUBLISHED      True             1.0   \n",
       "\n",
       "   online_frac                                             tables  \\\n",
       "0          0.0     [GROCERYINVOICE, INVOICEITEMS, GROCERYPRODUCT]   \n",
       "1          1.0  [GROCERYCUSTOMER, GROCERYINVOICE, INVOICEITEMS...   \n",
       "2          1.0  [GROCERYCUSTOMER, GROCERYINVOICE, INVOICEITEMS...   \n",
       "\n",
       "            entities              created_at  \n",
       "0   [groceryinvoice] 2023-03-27 11:53:25.735  \n",
       "1  [grocerycustomer] 2023-03-27 11:53:23.086  \n",
       "2      [frenchstate] 2023-03-27 11:53:21.121  "
      ]
     },
     "execution_count": 11,
     "metadata": {},
     "output_type": "execute_result"
    }
   ],
   "source": [
    "# list the feature lists in the catalog - note the status of each\n",
    "catalog.list_feature_lists()"
   ]
  },
  {
   "attachments": {},
   "cell_type": "markdown",
   "metadata": {},
   "source": [
    "## Versioning\n",
    "\n",
    "Learning Objectives\n",
    "\n",
    "In this section you will learn:\n",
    "* about feature versions and feature list versions\n",
    "* how to change the table cleaning operations for a feature\n",
    "* how to change the feature job settings for a feature\n",
    "* how to manage the default versions for a feature or a feature list\n",
    "* how to create new versions of features and feature lists"
   ]
  },
  {
   "attachments": {},
   "cell_type": "markdown",
   "metadata": {},
   "source": [
    "### Concept: Feature version\n",
    "A Feature Version enables the reuse of a Feature with varying Feature Job settings or distinct cleaning operations.\n",
    "\n",
    "If the availability or freshness of the data source change, new versions of the feature can be generated with a new Feature Job Setting. On the other hand, if changes occur in the data quality of the data sources, new versions of the feature can be created with new cleaning operations that address the new quality issues.\n",
    "\n",
    "To ensure the seamless inference of Machine Learning tasks that depend on the feature, old versions of the feature can still be served without any disruption."
   ]
  },
  {
   "cell_type": "markdown",
   "metadata": {},
   "source": [
    "### Example: Get table cleaning operations for a feature"
   ]
  },
  {
   "cell_type": "code",
   "execution_count": 12,
   "metadata": {},
   "outputs": [
    {
     "data": {
      "text/html": [
       "<div>\n",
       "<style scoped>\n",
       "    .dataframe tbody tr th:only-of-type {\n",
       "        vertical-align: middle;\n",
       "    }\n",
       "\n",
       "    .dataframe tbody tr th {\n",
       "        vertical-align: top;\n",
       "    }\n",
       "\n",
       "    .dataframe thead th {\n",
       "        text-align: right;\n",
       "    }\n",
       "</style>\n",
       "<table border=\"1\" class=\"dataframe\">\n",
       "  <thead>\n",
       "    <tr style=\"text-align: right;\">\n",
       "      <th></th>\n",
       "      <th>name</th>\n",
       "      <th>version</th>\n",
       "      <th>dtype</th>\n",
       "      <th>readiness</th>\n",
       "      <th>online_enabled</th>\n",
       "      <th>tables</th>\n",
       "      <th>primary_tables</th>\n",
       "      <th>entities</th>\n",
       "      <th>primary_entities</th>\n",
       "      <th>created_at</th>\n",
       "    </tr>\n",
       "  </thead>\n",
       "  <tbody>\n",
       "    <tr>\n",
       "      <th>0</th>\n",
       "      <td>InvoiceDiscountAmount</td>\n",
       "      <td>V230327</td>\n",
       "      <td>FLOAT</td>\n",
       "      <td>DRAFT</td>\n",
       "      <td>False</td>\n",
       "      <td>[GROCERYINVOICE, INVOICEITEMS]</td>\n",
       "      <td>[INVOICEITEMS]</td>\n",
       "      <td>[groceryinvoice]</td>\n",
       "      <td>[groceryinvoice]</td>\n",
       "      <td>2023-03-27 11:53:18.256</td>\n",
       "    </tr>\n",
       "  </tbody>\n",
       "</table>\n",
       "</div>"
      ],
      "text/plain": [
       "                    name  version  dtype readiness  online_enabled  \\\n",
       "0  InvoiceDiscountAmount  V230327  FLOAT     DRAFT           False   \n",
       "\n",
       "                           tables  primary_tables          entities  \\\n",
       "0  [GROCERYINVOICE, INVOICEITEMS]  [INVOICEITEMS]  [groceryinvoice]   \n",
       "\n",
       "   primary_entities              created_at  \n",
       "0  [groceryinvoice] 2023-03-27 11:53:18.256  "
      ]
     },
     "metadata": {},
     "output_type": "display_data"
    }
   ],
   "source": [
    "# get the InvoiceDiscountAmount feature\n",
    "invoice_discount_amount = catalog.get_feature(\"InvoiceDiscountAmount\")\n",
    "\n",
    "# list the feature versions\n",
    "display(invoice_discount_amount.list_versions())"
   ]
  },
  {
   "cell_type": "code",
   "execution_count": 13,
   "metadata": {
    "tags": []
   },
   "outputs": [
    {
     "data": {
      "text/plain": [
       "{'this': [], 'default': []}"
      ]
     },
     "execution_count": 13,
     "metadata": {},
     "output_type": "execute_result"
    }
   ],
   "source": [
    "# No cleaning has been operated on this feature\n",
    "invoice_discount_amount.info()['table_cleaning_operation']"
   ]
  },
  {
   "cell_type": "markdown",
   "metadata": {},
   "source": [
    "### Example: Updating table cleaning operations for a feature"
   ]
  },
  {
   "cell_type": "code",
   "execution_count": 14,
   "metadata": {},
   "outputs": [],
   "source": [
    "# update the data cleaning operations in the InvoiceDiscountAmount feature\n",
    "new_version = invoice_discount_amount.create_new_version(\n",
    "  table_cleaning_operations=[\n",
    "    fb.TableCleaningOperation(\n",
    "      table_name=\"INVOICEITEMS\",\n",
    "      column_cleaning_operations=[\n",
    "        fb.ColumnCleaningOperation(\n",
    "          column_name=\"Discount\",\n",
    "          cleaning_operations=[\n",
    "              fb.MissingValueImputation(imputed_value=0.0),\n",
    "              fb.ValueBeyondEndpointImputation(type=\"less_than\", end_point=0, imputed_value=None)\n",
    "          ],\n",
    "        )\n",
    "      ],\n",
    "    )\n",
    "  ]\n",
    ")"
   ]
  },
  {
   "cell_type": "code",
   "execution_count": 15,
   "metadata": {},
   "outputs": [
    {
     "data": {
      "text/html": [
       "<div>\n",
       "<style scoped>\n",
       "    .dataframe tbody tr th:only-of-type {\n",
       "        vertical-align: middle;\n",
       "    }\n",
       "\n",
       "    .dataframe tbody tr th {\n",
       "        vertical-align: top;\n",
       "    }\n",
       "\n",
       "    .dataframe thead th {\n",
       "        text-align: right;\n",
       "    }\n",
       "</style>\n",
       "<table border=\"1\" class=\"dataframe\">\n",
       "  <thead>\n",
       "    <tr style=\"text-align: right;\">\n",
       "      <th></th>\n",
       "      <th>name</th>\n",
       "      <th>version</th>\n",
       "      <th>dtype</th>\n",
       "      <th>readiness</th>\n",
       "      <th>online_enabled</th>\n",
       "      <th>tables</th>\n",
       "      <th>primary_tables</th>\n",
       "      <th>entities</th>\n",
       "      <th>primary_entities</th>\n",
       "      <th>created_at</th>\n",
       "    </tr>\n",
       "  </thead>\n",
       "  <tbody>\n",
       "    <tr>\n",
       "      <th>1</th>\n",
       "      <td>InvoiceDiscountAmount</td>\n",
       "      <td>V230327</td>\n",
       "      <td>FLOAT</td>\n",
       "      <td>DRAFT</td>\n",
       "      <td>False</td>\n",
       "      <td>[GROCERYINVOICE, INVOICEITEMS]</td>\n",
       "      <td>[INVOICEITEMS]</td>\n",
       "      <td>[groceryinvoice]</td>\n",
       "      <td>[groceryinvoice]</td>\n",
       "      <td>2023-03-27 11:53:18.256</td>\n",
       "    </tr>\n",
       "    <tr>\n",
       "      <th>0</th>\n",
       "      <td>InvoiceDiscountAmount</td>\n",
       "      <td>V230327_1</td>\n",
       "      <td>FLOAT</td>\n",
       "      <td>DRAFT</td>\n",
       "      <td>False</td>\n",
       "      <td>[GROCERYINVOICE, INVOICEITEMS]</td>\n",
       "      <td>[INVOICEITEMS]</td>\n",
       "      <td>[groceryinvoice]</td>\n",
       "      <td>[groceryinvoice]</td>\n",
       "      <td>2023-03-27 11:55:43.213</td>\n",
       "    </tr>\n",
       "  </tbody>\n",
       "</table>\n",
       "</div>"
      ],
      "text/plain": [
       "                    name    version  dtype readiness  online_enabled  \\\n",
       "1  InvoiceDiscountAmount    V230327  FLOAT     DRAFT           False   \n",
       "0  InvoiceDiscountAmount  V230327_1  FLOAT     DRAFT           False   \n",
       "\n",
       "                           tables  primary_tables          entities  \\\n",
       "1  [GROCERYINVOICE, INVOICEITEMS]  [INVOICEITEMS]  [groceryinvoice]   \n",
       "0  [GROCERYINVOICE, INVOICEITEMS]  [INVOICEITEMS]  [groceryinvoice]   \n",
       "\n",
       "   primary_entities              created_at  \n",
       "1  [groceryinvoice] 2023-03-27 11:53:18.256  \n",
       "0  [groceryinvoice] 2023-03-27 11:55:43.213  "
      ]
     },
     "metadata": {},
     "output_type": "display_data"
    }
   ],
   "source": [
    "# list the feature versions\n",
    "feature_versions = invoice_discount_amount.list_versions()\n",
    "\n",
    "# sort by created_at ascending\n",
    "feature_versions.sort_values(by=\"created_at\", ascending=True, inplace=True)\n",
    "\n",
    "# display only the InvoiceUniqueProductGroups feature - note the new version that has been created\n",
    "display(feature_versions)"
   ]
  },
  {
   "cell_type": "code",
   "execution_count": 16,
   "metadata": {
    "tags": []
   },
   "outputs": [
    {
     "data": {
      "text/plain": [
       "[{'table_name': 'INVOICEITEMS',\n",
       "  'column_cleaning_operations': [{'column_name': 'Discount',\n",
       "    'cleaning_operations': [{'imputed_value': 0, 'type': 'missing'},\n",
       "     {'imputed_value': None, 'type': 'less_than', 'end_point': 0}]}]}]"
      ]
     },
     "execution_count": 16,
     "metadata": {},
     "output_type": "execute_result"
    }
   ],
   "source": [
    "# Check new cleaning info\n",
    "new_version.info()['table_cleaning_operation']['this']"
   ]
  },
  {
   "cell_type": "code",
   "execution_count": 17,
   "metadata": {
    "tags": []
   },
   "outputs": [
    {
     "data": {
      "text/html": [
       "<div style=\"margin:30px; padding: 20px; border:1px solid #aaa\">\n",
       "\n",
       "<!DOCTYPE html PUBLIC \"-//W3C//DTD HTML 4.01//EN\"\n",
       "   \"http://www.w3.org/TR/html4/strict.dtd\">\n",
       "<!--\n",
       "generated by Pygments <https://pygments.org/>\n",
       "Copyright 2006-2022 by the Pygments team.\n",
       "Licensed under the BSD license, see LICENSE for details.\n",
       "-->\n",
       "<html>\n",
       "<head>\n",
       "  <title></title>\n",
       "  <meta http-equiv=\"content-type\" content=\"text/html; charset=None\">\n",
       "</head>\n",
       "<body>\n",
       "<h2></h2>\n",
       "\n",
       "<div class=\"highlight\"><pre><span></span><span class=\"c1\"># Generated by SDK version: 0.1.4</span>\n",
       "<span class=\"kn\">from</span> <span class=\"nn\">bson</span> <span class=\"kn\">import</span> <span class=\"n\">ObjectId</span>\n",
       "<span class=\"kn\">from</span> <span class=\"nn\">featurebyte</span> <span class=\"kn\">import</span> <span class=\"n\">ColumnCleaningOperation</span>\n",
       "<span class=\"kn\">from</span> <span class=\"nn\">featurebyte</span> <span class=\"kn\">import</span> <span class=\"n\">ItemTable</span>\n",
       "<span class=\"kn\">from</span> <span class=\"nn\">featurebyte</span> <span class=\"kn\">import</span> <span class=\"n\">MissingValueImputation</span>\n",
       "<span class=\"kn\">from</span> <span class=\"nn\">featurebyte</span> <span class=\"kn\">import</span> <span class=\"n\">ValueBeyondEndpointImputation</span>\n",
       "\n",
       "\n",
       "<span class=\"c1\"># item_table name: &quot;INVOICEITEMS&quot;, event_table name: &quot;GROCERYINVOICE&quot;</span>\n",
       "<span class=\"n\">item_table</span> <span class=\"o\">=</span> <span class=\"n\">ItemTable</span><span class=\"o\">.</span><span class=\"n\">get_by_id</span><span class=\"p\">(</span><span class=\"n\">ObjectId</span><span class=\"p\">(</span><span class=\"s2\">&quot;6421839ac15414bd69da9a7f&quot;</span><span class=\"p\">))</span>\n",
       "<span class=\"n\">item_view</span> <span class=\"o\">=</span> <span class=\"n\">item_table</span><span class=\"o\">.</span><span class=\"n\">get_view</span><span class=\"p\">(</span>\n",
       "    <span class=\"n\">event_suffix</span><span class=\"o\">=</span><span class=\"kc\">None</span><span class=\"p\">,</span>\n",
       "    <span class=\"n\">view_mode</span><span class=\"o\">=</span><span class=\"s2\">&quot;manual&quot;</span><span class=\"p\">,</span>\n",
       "    <span class=\"n\">drop_column_names</span><span class=\"o\">=</span><span class=\"p\">[],</span>\n",
       "    <span class=\"n\">column_cleaning_operations</span><span class=\"o\">=</span><span class=\"p\">[</span>\n",
       "        <span class=\"n\">ColumnCleaningOperation</span><span class=\"p\">(</span>\n",
       "            <span class=\"n\">column_name</span><span class=\"o\">=</span><span class=\"s2\">&quot;Discount&quot;</span><span class=\"p\">,</span>\n",
       "            <span class=\"n\">cleaning_operations</span><span class=\"o\">=</span><span class=\"p\">[</span>\n",
       "                <span class=\"n\">MissingValueImputation</span><span class=\"p\">(</span><span class=\"n\">imputed_value</span><span class=\"o\">=</span><span class=\"mi\">0</span><span class=\"p\">),</span>\n",
       "                <span class=\"n\">ValueBeyondEndpointImputation</span><span class=\"p\">(</span>\n",
       "                    <span class=\"nb\">type</span><span class=\"o\">=</span><span class=\"s2\">&quot;less_than&quot;</span><span class=\"p\">,</span> <span class=\"n\">end_point</span><span class=\"o\">=</span><span class=\"mi\">0</span><span class=\"p\">,</span> <span class=\"n\">imputed_value</span><span class=\"o\">=</span><span class=\"kc\">None</span>\n",
       "                <span class=\"p\">),</span>\n",
       "            <span class=\"p\">],</span>\n",
       "        <span class=\"p\">)</span>\n",
       "    <span class=\"p\">],</span>\n",
       "    <span class=\"n\">event_drop_column_names</span><span class=\"o\">=</span><span class=\"p\">[</span><span class=\"s2\">&quot;record_available_at&quot;</span><span class=\"p\">],</span>\n",
       "    <span class=\"n\">event_column_cleaning_operations</span><span class=\"o\">=</span><span class=\"p\">[],</span>\n",
       "    <span class=\"n\">event_join_column_names</span><span class=\"o\">=</span><span class=\"p\">[</span>\n",
       "        <span class=\"s2\">&quot;Timestamp&quot;</span><span class=\"p\">,</span>\n",
       "        <span class=\"s2\">&quot;GroceryInvoiceGuid&quot;</span><span class=\"p\">,</span>\n",
       "        <span class=\"s2\">&quot;GroceryCustomerGuid&quot;</span><span class=\"p\">,</span>\n",
       "    <span class=\"p\">],</span>\n",
       "<span class=\"p\">)</span>\n",
       "<span class=\"n\">feat</span> <span class=\"o\">=</span> <span class=\"n\">item_view</span><span class=\"o\">.</span><span class=\"n\">groupby</span><span class=\"p\">(</span>\n",
       "    <span class=\"n\">by_keys</span><span class=\"o\">=</span><span class=\"p\">[</span><span class=\"s2\">&quot;GroceryInvoiceGuid&quot;</span><span class=\"p\">],</span> <span class=\"n\">category</span><span class=\"o\">=</span><span class=\"kc\">None</span>\n",
       "<span class=\"p\">)</span><span class=\"o\">.</span><span class=\"n\">aggregate</span><span class=\"p\">(</span>\n",
       "    <span class=\"n\">value_column</span><span class=\"o\">=</span><span class=\"s2\">&quot;Discount&quot;</span><span class=\"p\">,</span>\n",
       "    <span class=\"n\">method</span><span class=\"o\">=</span><span class=\"s2\">&quot;sum&quot;</span><span class=\"p\">,</span>\n",
       "    <span class=\"n\">feature_name</span><span class=\"o\">=</span><span class=\"s2\">&quot;InvoiceDiscountAmount&quot;</span><span class=\"p\">,</span>\n",
       "    <span class=\"n\">skip_fill_na</span><span class=\"o\">=</span><span class=\"kc\">True</span><span class=\"p\">,</span>\n",
       "<span class=\"p\">)</span>\n",
       "<span class=\"n\">output</span> <span class=\"o\">=</span> <span class=\"n\">feat</span>\n",
       "</pre></div>\n",
       "</body>\n",
       "</html>\n",
       "\n",
       "\n",
       "</div>"
      ],
      "text/plain": [
       "'# Generated by SDK version: 0.1.4\\nfrom bson import ObjectId\\nfrom featurebyte import ColumnCleaningOperation\\nfrom featurebyte import ItemTable\\nfrom featurebyte import MissingValueImputation\\nfrom featurebyte import ValueBeyondEndpointImputation\\n\\n\\n# item_table name: \"INVOICEITEMS\", event_table name: \"GROCERYINVOICE\"\\nitem_table = ItemTable.get_by_id(ObjectId(\"6421839ac15414bd69da9a7f\"))\\nitem_view = item_table.get_view(\\n    event_suffix=None,\\n    view_mode=\"manual\",\\n    drop_column_names=[],\\n    column_cleaning_operations=[\\n        ColumnCleaningOperation(\\n            column_name=\"Discount\",\\n            cleaning_operations=[\\n                MissingValueImputation(imputed_value=0),\\n                ValueBeyondEndpointImputation(\\n                    type=\"less_than\", end_point=0, imputed_value=None\\n                ),\\n            ],\\n        )\\n    ],\\n    event_drop_column_names=[\"record_available_at\"],\\n    event_column_cleaning_operations=[],\\n    event_join_column_names=[\\n        \"Timestamp\",\\n        \"GroceryInvoiceGuid\",\\n        \"GroceryCustomerGuid\",\\n    ],\\n)\\nfeat = item_view.groupby(\\n    by_keys=[\"GroceryInvoiceGuid\"], category=None\\n).aggregate(\\n    value_column=\"Discount\",\\n    method=\"sum\",\\n    feature_name=\"InvoiceDiscountAmount\",\\n    skip_fill_na=True,\\n)\\noutput = feat\\n'"
      ]
     },
     "execution_count": 17,
     "metadata": {},
     "output_type": "execute_result"
    }
   ],
   "source": [
    "# Check feature definition file\n",
    "new_version.definition"
   ]
  },
  {
   "attachments": {},
   "cell_type": "markdown",
   "metadata": {},
   "source": [
    "### Concept: Default feature version\n",
    "    \n",
    "The default version of a feature streamlines the process of reusing features by providing the most appropriate version. Additionally, it simplifies the creation of new versions of feature lists.\n",
    "\n",
    "By default, the feature's version with the highest level of readiness is considered, unless the user overrides this selection. In cases where multiple versions share the highest level of readiness, the most recent version is automatically chosen as the default.\n",
    "\n",
    "When a feature is accessed without specifying a version ID but only by its name, the default version is automatically retrieved."
   ]
  },
  {
   "attachments": {},
   "cell_type": "markdown",
   "metadata": {},
   "source": [
    "### Example: The version we just created should be the default as no other version has a higher readiness and it is the latest version."
   ]
  },
  {
   "cell_type": "code",
   "execution_count": 18,
   "metadata": {
    "tags": []
   },
   "outputs": [
    {
     "data": {
      "text/plain": [
       "True"
      ]
     },
     "execution_count": 18,
     "metadata": {},
     "output_type": "execute_result"
    }
   ],
   "source": [
    "new_version.is_default"
   ]
  },
  {
   "cell_type": "markdown",
   "metadata": {},
   "source": [
    "### Example: Get the feature job settings for a feature\n",
    "\n",
    "Note that changing feature job settings will only affect time-aware features e.g. features created using aggregate_over. It will not affect features based upon simple aggregation."
   ]
  },
  {
   "cell_type": "code",
   "execution_count": 19,
   "metadata": {},
   "outputs": [
    {
     "data": {
      "text/html": [
       "<div>\n",
       "<style scoped>\n",
       "    .dataframe tbody tr th:only-of-type {\n",
       "        vertical-align: middle;\n",
       "    }\n",
       "\n",
       "    .dataframe tbody tr th {\n",
       "        vertical-align: top;\n",
       "    }\n",
       "\n",
       "    .dataframe thead th {\n",
       "        text-align: right;\n",
       "    }\n",
       "</style>\n",
       "<table border=\"1\" class=\"dataframe\">\n",
       "  <thead>\n",
       "    <tr style=\"text-align: right;\">\n",
       "      <th></th>\n",
       "      <th>name</th>\n",
       "      <th>version</th>\n",
       "      <th>dtype</th>\n",
       "      <th>readiness</th>\n",
       "      <th>online_enabled</th>\n",
       "      <th>tables</th>\n",
       "      <th>primary_tables</th>\n",
       "      <th>entities</th>\n",
       "      <th>primary_entities</th>\n",
       "      <th>created_at</th>\n",
       "    </tr>\n",
       "  </thead>\n",
       "  <tbody>\n",
       "    <tr>\n",
       "      <th>0</th>\n",
       "      <td>CustomerInventory_28d</td>\n",
       "      <td>V230327</td>\n",
       "      <td>OBJECT</td>\n",
       "      <td>PRODUCTION_READY</td>\n",
       "      <td>True</td>\n",
       "      <td>[GROCERYINVOICE, INVOICEITEMS, GROCERYPRODUCT]</td>\n",
       "      <td>[INVOICEITEMS]</td>\n",
       "      <td>[grocerycustomer]</td>\n",
       "      <td>[grocerycustomer]</td>\n",
       "      <td>2023-03-27 11:53:12.471</td>\n",
       "    </tr>\n",
       "  </tbody>\n",
       "</table>\n",
       "</div>"
      ],
      "text/plain": [
       "                    name  version   dtype         readiness  online_enabled  \\\n",
       "0  CustomerInventory_28d  V230327  OBJECT  PRODUCTION_READY            True   \n",
       "\n",
       "                                           tables  primary_tables  \\\n",
       "0  [GROCERYINVOICE, INVOICEITEMS, GROCERYPRODUCT]  [INVOICEITEMS]   \n",
       "\n",
       "            entities   primary_entities              created_at  \n",
       "0  [grocerycustomer]  [grocerycustomer] 2023-03-27 11:53:12.471  "
      ]
     },
     "metadata": {},
     "output_type": "display_data"
    }
   ],
   "source": [
    "# get the CustomerInventory_28d feature\n",
    "customer_inventory_28d_feature = catalog.get_feature(\"CustomerInventory_28d\")\n",
    "\n",
    "# list the feature versions\n",
    "display(customer_inventory_28d_feature.list_versions())"
   ]
  },
  {
   "cell_type": "code",
   "execution_count": 20,
   "metadata": {
    "tags": []
   },
   "outputs": [
    {
     "data": {
      "text/plain": [
       "[{'table_name': 'GROCERYINVOICE',\n",
       "  'feature_job_setting': {'blind_spot': '0s',\n",
       "   'frequency': '3600s',\n",
       "   'time_modulo_frequency': '90s'}}]"
      ]
     },
     "execution_count": 20,
     "metadata": {},
     "output_type": "execute_result"
    }
   ],
   "source": [
    "# Get the feature job settings for CustomerInventory_28d\n",
    "customer_inventory_28d_feature.info()['table_feature_job_setting']['this']"
   ]
  },
  {
   "attachments": {},
   "cell_type": "markdown",
   "metadata": {},
   "source": [
    "Note that the table name here is the event table associated with the item table as the timestamp originates from this table."
   ]
  },
  {
   "cell_type": "code",
   "execution_count": 21,
   "metadata": {
    "tags": []
   },
   "outputs": [
    {
     "data": {
      "text/plain": [
       "FeatureJobSetting(blind_spot='145', frequency='60m', time_modulo_frequency='90s')"
      ]
     },
     "execution_count": 21,
     "metadata": {},
     "output_type": "execute_result"
    }
   ],
   "source": [
    "# show the feature job settings for the grocery invoice table\n",
    "grocery_invoice_table = catalog.get_table(\"GROCERYINVOICE\")\n",
    "grocery_invoice_table.default_feature_job_setting"
   ]
  },
  {
   "cell_type": "markdown",
   "metadata": {},
   "source": [
    "### Example: Change the feature job settings for a feature\n",
    "\n",
    "Note that changing feature job settings will only affect time-aware features e.g. features created using aggregate_over. It will not affect features based upon simple aggregation."
   ]
  },
  {
   "cell_type": "code",
   "execution_count": 22,
   "metadata": {},
   "outputs": [],
   "source": [
    "# update the data cleaning operations for the InvoiceDiscountAmount feature to be more conservative\n",
    "new_version = customer_inventory_28d_feature.create_new_version(\n",
    "  table_feature_job_settings=[\n",
    "    fb.TableFeatureJobSetting(\n",
    "      table_name=\"GROCERYINVOICE\",\n",
    "      feature_job_setting=fb.FeatureJobSetting(\n",
    "        blind_spot=\"160s\",\n",
    "        frequency=\"60m\",\n",
    "        time_modulo_frequency=\"90s\",\n",
    "      )\n",
    "    ),\n",
    "  ]\n",
    ")"
   ]
  },
  {
   "cell_type": "code",
   "execution_count": 23,
   "metadata": {},
   "outputs": [
    {
     "data": {
      "text/html": [
       "<div>\n",
       "<style scoped>\n",
       "    .dataframe tbody tr th:only-of-type {\n",
       "        vertical-align: middle;\n",
       "    }\n",
       "\n",
       "    .dataframe tbody tr th {\n",
       "        vertical-align: top;\n",
       "    }\n",
       "\n",
       "    .dataframe thead th {\n",
       "        text-align: right;\n",
       "    }\n",
       "</style>\n",
       "<table border=\"1\" class=\"dataframe\">\n",
       "  <thead>\n",
       "    <tr style=\"text-align: right;\">\n",
       "      <th></th>\n",
       "      <th>name</th>\n",
       "      <th>version</th>\n",
       "      <th>dtype</th>\n",
       "      <th>readiness</th>\n",
       "      <th>online_enabled</th>\n",
       "      <th>tables</th>\n",
       "      <th>primary_tables</th>\n",
       "      <th>entities</th>\n",
       "      <th>primary_entities</th>\n",
       "      <th>created_at</th>\n",
       "    </tr>\n",
       "  </thead>\n",
       "  <tbody>\n",
       "    <tr>\n",
       "      <th>1</th>\n",
       "      <td>CustomerInventory_28d</td>\n",
       "      <td>V230327</td>\n",
       "      <td>OBJECT</td>\n",
       "      <td>PRODUCTION_READY</td>\n",
       "      <td>True</td>\n",
       "      <td>[GROCERYINVOICE, INVOICEITEMS, GROCERYPRODUCT]</td>\n",
       "      <td>[INVOICEITEMS]</td>\n",
       "      <td>[grocerycustomer]</td>\n",
       "      <td>[grocerycustomer]</td>\n",
       "      <td>2023-03-27 11:53:12.471</td>\n",
       "    </tr>\n",
       "    <tr>\n",
       "      <th>0</th>\n",
       "      <td>CustomerInventory_28d</td>\n",
       "      <td>V230327_1</td>\n",
       "      <td>OBJECT</td>\n",
       "      <td>DRAFT</td>\n",
       "      <td>False</td>\n",
       "      <td>[GROCERYINVOICE, INVOICEITEMS, GROCERYPRODUCT]</td>\n",
       "      <td>[INVOICEITEMS]</td>\n",
       "      <td>[grocerycustomer]</td>\n",
       "      <td>[grocerycustomer]</td>\n",
       "      <td>2023-03-27 11:55:51.723</td>\n",
       "    </tr>\n",
       "  </tbody>\n",
       "</table>\n",
       "</div>"
      ],
      "text/plain": [
       "                    name    version   dtype         readiness  online_enabled  \\\n",
       "1  CustomerInventory_28d    V230327  OBJECT  PRODUCTION_READY            True   \n",
       "0  CustomerInventory_28d  V230327_1  OBJECT             DRAFT           False   \n",
       "\n",
       "                                           tables  primary_tables  \\\n",
       "1  [GROCERYINVOICE, INVOICEITEMS, GROCERYPRODUCT]  [INVOICEITEMS]   \n",
       "0  [GROCERYINVOICE, INVOICEITEMS, GROCERYPRODUCT]  [INVOICEITEMS]   \n",
       "\n",
       "            entities   primary_entities              created_at  \n",
       "1  [grocerycustomer]  [grocerycustomer] 2023-03-27 11:53:12.471  \n",
       "0  [grocerycustomer]  [grocerycustomer] 2023-03-27 11:55:51.723  "
      ]
     },
     "metadata": {},
     "output_type": "display_data"
    }
   ],
   "source": [
    "# list the feature versions\n",
    "feature_versions = customer_inventory_28d_feature.list_versions()\n",
    "\n",
    "# sort by created_at ascending\n",
    "feature_versions.sort_values(by=\"created_at\", ascending=True, inplace=True)\n",
    "\n",
    "# note that the new version is a draft, and that the old version remains production ready\n",
    "display(feature_versions)"
   ]
  },
  {
   "cell_type": "code",
   "execution_count": 24,
   "metadata": {
    "tags": []
   },
   "outputs": [
    {
     "data": {
      "text/plain": [
       "[{'table_name': 'GROCERYINVOICE',\n",
       "  'feature_job_setting': {'blind_spot': '160s',\n",
       "   'frequency': '3600s',\n",
       "   'time_modulo_frequency': '90s'}}]"
      ]
     },
     "execution_count": 24,
     "metadata": {},
     "output_type": "execute_result"
    }
   ],
   "source": [
    "# Get the feature job settings for the new version\n",
    "new_version.info()['table_feature_job_setting']['this']"
   ]
  },
  {
   "cell_type": "code",
   "execution_count": 25,
   "metadata": {
    "tags": []
   },
   "outputs": [
    {
     "data": {
      "text/html": [
       "<div style=\"margin:30px; padding: 20px; border:1px solid #aaa\">\n",
       "\n",
       "<!DOCTYPE html PUBLIC \"-//W3C//DTD HTML 4.01//EN\"\n",
       "   \"http://www.w3.org/TR/html4/strict.dtd\">\n",
       "<!--\n",
       "generated by Pygments <https://pygments.org/>\n",
       "Copyright 2006-2022 by the Pygments team.\n",
       "Licensed under the BSD license, see LICENSE for details.\n",
       "-->\n",
       "<html>\n",
       "<head>\n",
       "  <title></title>\n",
       "  <meta http-equiv=\"content-type\" content=\"text/html; charset=None\">\n",
       "</head>\n",
       "<body>\n",
       "<h2></h2>\n",
       "\n",
       "<div class=\"highlight\"><pre><span></span><span class=\"c1\"># Generated by SDK version: 0.1.4</span>\n",
       "<span class=\"kn\">from</span> <span class=\"nn\">bson</span> <span class=\"kn\">import</span> <span class=\"n\">ObjectId</span>\n",
       "<span class=\"kn\">from</span> <span class=\"nn\">featurebyte</span> <span class=\"kn\">import</span> <span class=\"n\">DimensionTable</span>\n",
       "<span class=\"kn\">from</span> <span class=\"nn\">featurebyte</span> <span class=\"kn\">import</span> <span class=\"n\">ItemTable</span>\n",
       "\n",
       "\n",
       "<span class=\"c1\"># item_table name: &quot;INVOICEITEMS&quot;, event_table name: &quot;GROCERYINVOICE&quot;</span>\n",
       "<span class=\"n\">item_table</span> <span class=\"o\">=</span> <span class=\"n\">ItemTable</span><span class=\"o\">.</span><span class=\"n\">get_by_id</span><span class=\"p\">(</span><span class=\"n\">ObjectId</span><span class=\"p\">(</span><span class=\"s2\">&quot;6421839ac15414bd69da9a7f&quot;</span><span class=\"p\">))</span>\n",
       "<span class=\"n\">item_view</span> <span class=\"o\">=</span> <span class=\"n\">item_table</span><span class=\"o\">.</span><span class=\"n\">get_view</span><span class=\"p\">(</span>\n",
       "    <span class=\"n\">event_suffix</span><span class=\"o\">=</span><span class=\"kc\">None</span><span class=\"p\">,</span>\n",
       "    <span class=\"n\">view_mode</span><span class=\"o\">=</span><span class=\"s2\">&quot;manual&quot;</span><span class=\"p\">,</span>\n",
       "    <span class=\"n\">drop_column_names</span><span class=\"o\">=</span><span class=\"p\">[],</span>\n",
       "    <span class=\"n\">column_cleaning_operations</span><span class=\"o\">=</span><span class=\"p\">[],</span>\n",
       "    <span class=\"n\">event_drop_column_names</span><span class=\"o\">=</span><span class=\"p\">[</span><span class=\"s2\">&quot;record_available_at&quot;</span><span class=\"p\">],</span>\n",
       "    <span class=\"n\">event_column_cleaning_operations</span><span class=\"o\">=</span><span class=\"p\">[],</span>\n",
       "    <span class=\"n\">event_join_column_names</span><span class=\"o\">=</span><span class=\"p\">[</span>\n",
       "        <span class=\"s2\">&quot;Timestamp&quot;</span><span class=\"p\">,</span>\n",
       "        <span class=\"s2\">&quot;GroceryInvoiceGuid&quot;</span><span class=\"p\">,</span>\n",
       "        <span class=\"s2\">&quot;GroceryCustomerGuid&quot;</span><span class=\"p\">,</span>\n",
       "    <span class=\"p\">],</span>\n",
       "<span class=\"p\">)</span>\n",
       "\n",
       "<span class=\"c1\"># dimension_table name: &quot;GROCERYPRODUCT&quot;</span>\n",
       "<span class=\"n\">dimension_table</span> <span class=\"o\">=</span> <span class=\"n\">DimensionTable</span><span class=\"o\">.</span><span class=\"n\">get_by_id</span><span class=\"p\">(</span><span class=\"n\">ObjectId</span><span class=\"p\">(</span><span class=\"s2\">&quot;6421839cc15414bd69da9a80&quot;</span><span class=\"p\">))</span>\n",
       "<span class=\"n\">dimension_view</span> <span class=\"o\">=</span> <span class=\"n\">dimension_table</span><span class=\"o\">.</span><span class=\"n\">get_view</span><span class=\"p\">(</span>\n",
       "    <span class=\"n\">view_mode</span><span class=\"o\">=</span><span class=\"s2\">&quot;manual&quot;</span><span class=\"p\">,</span> <span class=\"n\">drop_column_names</span><span class=\"o\">=</span><span class=\"p\">[],</span> <span class=\"n\">column_cleaning_operations</span><span class=\"o\">=</span><span class=\"p\">[]</span>\n",
       "<span class=\"p\">)</span>\n",
       "<span class=\"n\">item_view</span><span class=\"o\">.</span><span class=\"n\">join</span><span class=\"p\">(</span><span class=\"n\">dimension_view</span><span class=\"p\">,</span> <span class=\"n\">on</span><span class=\"o\">=</span><span class=\"kc\">None</span><span class=\"p\">,</span> <span class=\"n\">how</span><span class=\"o\">=</span><span class=\"s2\">&quot;left&quot;</span><span class=\"p\">,</span> <span class=\"n\">rsuffix</span><span class=\"o\">=</span><span class=\"s2\">&quot;&quot;</span><span class=\"p\">)</span>\n",
       "<span class=\"n\">grouped</span> <span class=\"o\">=</span> <span class=\"n\">item_view</span><span class=\"o\">.</span><span class=\"n\">groupby</span><span class=\"p\">(</span>\n",
       "    <span class=\"n\">by_keys</span><span class=\"o\">=</span><span class=\"p\">[</span><span class=\"s2\">&quot;GroceryCustomerGuid&quot;</span><span class=\"p\">],</span> <span class=\"n\">category</span><span class=\"o\">=</span><span class=\"s2\">&quot;ProductGroup&quot;</span>\n",
       "<span class=\"p\">)</span><span class=\"o\">.</span><span class=\"n\">aggregate_over</span><span class=\"p\">(</span>\n",
       "    <span class=\"n\">value_column</span><span class=\"o\">=</span><span class=\"kc\">None</span><span class=\"p\">,</span>\n",
       "    <span class=\"n\">method</span><span class=\"o\">=</span><span class=\"s2\">&quot;count&quot;</span><span class=\"p\">,</span>\n",
       "    <span class=\"n\">windows</span><span class=\"o\">=</span><span class=\"p\">[</span><span class=\"s2\">&quot;28d&quot;</span><span class=\"p\">],</span>\n",
       "    <span class=\"n\">feature_names</span><span class=\"o\">=</span><span class=\"p\">[</span><span class=\"s2\">&quot;CustomerInventory_28d&quot;</span><span class=\"p\">],</span>\n",
       "    <span class=\"n\">feature_job_setting</span><span class=\"o\">=</span><span class=\"p\">{</span>\n",
       "        <span class=\"s2\">&quot;blind_spot&quot;</span><span class=\"p\">:</span> <span class=\"s2\">&quot;160s&quot;</span><span class=\"p\">,</span>\n",
       "        <span class=\"s2\">&quot;frequency&quot;</span><span class=\"p\">:</span> <span class=\"s2\">&quot;3600s&quot;</span><span class=\"p\">,</span>\n",
       "        <span class=\"s2\">&quot;time_modulo_frequency&quot;</span><span class=\"p\">:</span> <span class=\"s2\">&quot;90s&quot;</span><span class=\"p\">,</span>\n",
       "    <span class=\"p\">},</span>\n",
       "    <span class=\"n\">skip_fill_na</span><span class=\"o\">=</span><span class=\"kc\">True</span><span class=\"p\">,</span>\n",
       "<span class=\"p\">)</span>\n",
       "<span class=\"n\">feat</span> <span class=\"o\">=</span> <span class=\"n\">grouped</span><span class=\"p\">[</span><span class=\"s2\">&quot;CustomerInventory_28d&quot;</span><span class=\"p\">]</span>\n",
       "<span class=\"n\">output</span> <span class=\"o\">=</span> <span class=\"n\">feat</span>\n",
       "</pre></div>\n",
       "</body>\n",
       "</html>\n",
       "\n",
       "\n",
       "</div>"
      ],
      "text/plain": [
       "'# Generated by SDK version: 0.1.4\\nfrom bson import ObjectId\\nfrom featurebyte import DimensionTable\\nfrom featurebyte import ItemTable\\n\\n\\n# item_table name: \"INVOICEITEMS\", event_table name: \"GROCERYINVOICE\"\\nitem_table = ItemTable.get_by_id(ObjectId(\"6421839ac15414bd69da9a7f\"))\\nitem_view = item_table.get_view(\\n    event_suffix=None,\\n    view_mode=\"manual\",\\n    drop_column_names=[],\\n    column_cleaning_operations=[],\\n    event_drop_column_names=[\"record_available_at\"],\\n    event_column_cleaning_operations=[],\\n    event_join_column_names=[\\n        \"Timestamp\",\\n        \"GroceryInvoiceGuid\",\\n        \"GroceryCustomerGuid\",\\n    ],\\n)\\n\\n# dimension_table name: \"GROCERYPRODUCT\"\\ndimension_table = DimensionTable.get_by_id(ObjectId(\"6421839cc15414bd69da9a80\"))\\ndimension_view = dimension_table.get_view(\\n    view_mode=\"manual\", drop_column_names=[], column_cleaning_operations=[]\\n)\\nitem_view.join(dimension_view, on=None, how=\"left\", rsuffix=\"\")\\ngrouped = item_view.groupby(\\n    by_keys=[\"GroceryCustomerGuid\"], category=\"ProductGroup\"\\n).aggregate_over(\\n    value_column=None,\\n    method=\"count\",\\n    windows=[\"28d\"],\\n    feature_names=[\"CustomerInventory_28d\"],\\n    feature_job_setting={\\n        \"blind_spot\": \"160s\",\\n        \"frequency\": \"3600s\",\\n        \"time_modulo_frequency\": \"90s\",\\n    },\\n    skip_fill_na=True,\\n)\\nfeat = grouped[\"CustomerInventory_28d\"]\\noutput = feat\\n'"
      ]
     },
     "execution_count": 25,
     "metadata": {},
     "output_type": "execute_result"
    }
   ],
   "source": [
    "# Check feature definition file\n",
    "new_version.definition"
   ]
  },
  {
   "attachments": {},
   "cell_type": "markdown",
   "metadata": {},
   "source": [
    "### Example: Change default feature version mode"
   ]
  },
  {
   "cell_type": "markdown",
   "metadata": {},
   "source": [
    "The new version of CustomerInventory_28d is not the default as this version is a draft and the prior version is production ready."
   ]
  },
  {
   "cell_type": "code",
   "execution_count": 26,
   "metadata": {
    "tags": []
   },
   "outputs": [
    {
     "data": {
      "text/plain": [
       "False"
      ]
     },
     "execution_count": 26,
     "metadata": {},
     "output_type": "execute_result"
    }
   ],
   "source": [
    "new_version.is_default"
   ]
  },
  {
   "cell_type": "markdown",
   "metadata": {},
   "source": [
    "The default can be changed only if the default version mode is set as manual."
   ]
  },
  {
   "cell_type": "code",
   "execution_count": 27,
   "metadata": {
    "tags": []
   },
   "outputs": [
    {
     "name": "stdout",
     "output_type": "stream",
     "text": [
      "Cannot set default feature ID when default version mode is not MANUAL\n"
     ]
    }
   ],
   "source": [
    "# guardrail if default version mode is not MANUAL\n",
    "# the new version cannot be set as the default\n",
    "try:\n",
    "    new_version.as_default_version()\n",
    "except Exception as ex:\n",
    "    print(ex)"
   ]
  },
  {
   "cell_type": "code",
   "execution_count": 28,
   "metadata": {
    "tags": []
   },
   "outputs": [],
   "source": [
    "# change mode to manual and set new version as manual\n",
    "new_version.update_default_version_mode(\"MANUAL\")\n",
    "new_version.as_default_version()"
   ]
  },
  {
   "cell_type": "code",
   "execution_count": 29,
   "metadata": {
    "tags": []
   },
   "outputs": [
    {
     "data": {
      "text/plain": [
       "True"
      ]
     },
     "execution_count": 29,
     "metadata": {},
     "output_type": "execute_result"
    }
   ],
   "source": [
    "# check if new version is default\n",
    "new_version.is_default"
   ]
  },
  {
   "cell_type": "code",
   "execution_count": 30,
   "metadata": {
    "tags": []
   },
   "outputs": [
    {
     "data": {
      "text/plain": [
       "VersionIdentifier(name='V230327', suffix=1)"
      ]
     },
     "execution_count": 30,
     "metadata": {},
     "output_type": "execute_result"
    }
   ],
   "source": [
    "# check if version that is obtained by default is the version we just created\n",
    "customer_inventory_28d_feature = catalog.get_feature(\"CustomerInventory_28d\")\n",
    "customer_inventory_28d_feature.version"
   ]
  },
  {
   "cell_type": "markdown",
   "metadata": {},
   "source": [
    "### Example: Cannot have more than one production ready version of a feature"
   ]
  },
  {
   "cell_type": "code",
   "execution_count": 31,
   "metadata": {
    "tags": []
   },
   "outputs": [
    {
     "name": "stdout",
     "output_type": "stream",
     "text": [
      "Error changing the readiness of the new version to production ready\n",
      "Found another feature version that is already PRODUCTION_READY. Please deprecate the feature CustomerInventory_28d with ID 642183a7c15414bd69da9a93 first before promoting the promoted version as there can only be one feature version that is production ready at any point in time. We are unable to promote the feature with ID 6421844702047323e0343901 right now.\n"
     ]
    }
   ],
   "source": [
    "# change the readiness of the new version of CustomerInventory_28d to production ready\n",
    "try:\n",
    "    new_version.update_readiness(\"PRODUCTION_READY\")\n",
    "except Exception as ex:\n",
    "    print(\"Error changing the readiness of the new version to production ready\")\n",
    "    print(ex)"
   ]
  },
  {
   "attachments": {},
   "cell_type": "markdown",
   "metadata": {},
   "source": [
    "### Example: Create version of a Feature List\n",
    "\n",
    "The Feature List Version allows the use of the latest version of each feature. Upon creation of a new feature list version, the latest default versions of features are employed, unless particular feature versions are specified."
   ]
  },
  {
   "cell_type": "code",
   "execution_count": 32,
   "metadata": {
    "tags": []
   },
   "outputs": [
    {
     "name": "stdout",
     "output_type": "stream",
     "text": [
      "Loading Feature(s) |████████████████████████████████████████| 4/4 [100%] in 0.9s (4.44/s)                               \n"
     ]
    },
    {
     "data": {
      "text/html": [
       "<div>\n",
       "<style scoped>\n",
       "    .dataframe tbody tr th:only-of-type {\n",
       "        vertical-align: middle;\n",
       "    }\n",
       "\n",
       "    .dataframe tbody tr th {\n",
       "        vertical-align: top;\n",
       "    }\n",
       "\n",
       "    .dataframe thead th {\n",
       "        text-align: right;\n",
       "    }\n",
       "</style>\n",
       "<table border=\"1\" class=\"dataframe\">\n",
       "  <thead>\n",
       "    <tr style=\"text-align: right;\">\n",
       "      <th></th>\n",
       "      <th>name</th>\n",
       "      <th>version</th>\n",
       "      <th>dtype</th>\n",
       "      <th>readiness</th>\n",
       "      <th>online_enabled</th>\n",
       "      <th>tables</th>\n",
       "      <th>primary_tables</th>\n",
       "      <th>entities</th>\n",
       "      <th>primary_entities</th>\n",
       "      <th>created_at</th>\n",
       "    </tr>\n",
       "  </thead>\n",
       "  <tbody>\n",
       "    <tr>\n",
       "      <th>0</th>\n",
       "      <td>CustomerYearOfBirth</td>\n",
       "      <td>V230327</td>\n",
       "      <td>INT</td>\n",
       "      <td>PRODUCTION_READY</td>\n",
       "      <td>True</td>\n",
       "      <td>[GROCERYCUSTOMER]</td>\n",
       "      <td>[GROCERYCUSTOMER]</td>\n",
       "      <td>[grocerycustomer]</td>\n",
       "      <td>[grocerycustomer]</td>\n",
       "      <td>2023-03-27 11:53:15.736</td>\n",
       "    </tr>\n",
       "    <tr>\n",
       "      <th>1</th>\n",
       "      <td>CustomerSpend_14d</td>\n",
       "      <td>V230327</td>\n",
       "      <td>FLOAT</td>\n",
       "      <td>PRODUCTION_READY</td>\n",
       "      <td>True</td>\n",
       "      <td>[GROCERYINVOICE]</td>\n",
       "      <td>[GROCERYINVOICE]</td>\n",
       "      <td>[grocerycustomer]</td>\n",
       "      <td>[grocerycustomer]</td>\n",
       "      <td>2023-03-27 11:53:15.127</td>\n",
       "    </tr>\n",
       "    <tr>\n",
       "      <th>2</th>\n",
       "      <td>CustomerInventory_24w</td>\n",
       "      <td>V230327</td>\n",
       "      <td>OBJECT</td>\n",
       "      <td>PRODUCTION_READY</td>\n",
       "      <td>True</td>\n",
       "      <td>[GROCERYINVOICE, INVOICEITEMS, GROCERYPRODUCT]</td>\n",
       "      <td>[INVOICEITEMS]</td>\n",
       "      <td>[grocerycustomer]</td>\n",
       "      <td>[grocerycustomer]</td>\n",
       "      <td>2023-03-27 11:53:13.891</td>\n",
       "    </tr>\n",
       "    <tr>\n",
       "      <th>3</th>\n",
       "      <td>CustomerInventory_28d</td>\n",
       "      <td>V230327</td>\n",
       "      <td>OBJECT</td>\n",
       "      <td>PRODUCTION_READY</td>\n",
       "      <td>True</td>\n",
       "      <td>[GROCERYINVOICE, INVOICEITEMS, GROCERYPRODUCT]</td>\n",
       "      <td>[INVOICEITEMS]</td>\n",
       "      <td>[grocerycustomer]</td>\n",
       "      <td>[grocerycustomer]</td>\n",
       "      <td>2023-03-27 11:53:12.471</td>\n",
       "    </tr>\n",
       "  </tbody>\n",
       "</table>\n",
       "</div>"
      ],
      "text/plain": [
       "                    name  version   dtype         readiness  online_enabled  \\\n",
       "0    CustomerYearOfBirth  V230327     INT  PRODUCTION_READY            True   \n",
       "1      CustomerSpend_14d  V230327   FLOAT  PRODUCTION_READY            True   \n",
       "2  CustomerInventory_24w  V230327  OBJECT  PRODUCTION_READY            True   \n",
       "3  CustomerInventory_28d  V230327  OBJECT  PRODUCTION_READY            True   \n",
       "\n",
       "                                           tables     primary_tables  \\\n",
       "0                               [GROCERYCUSTOMER]  [GROCERYCUSTOMER]   \n",
       "1                                [GROCERYINVOICE]   [GROCERYINVOICE]   \n",
       "2  [GROCERYINVOICE, INVOICEITEMS, GROCERYPRODUCT]     [INVOICEITEMS]   \n",
       "3  [GROCERYINVOICE, INVOICEITEMS, GROCERYPRODUCT]     [INVOICEITEMS]   \n",
       "\n",
       "            entities   primary_entities              created_at  \n",
       "0  [grocerycustomer]  [grocerycustomer] 2023-03-27 11:53:15.736  \n",
       "1  [grocerycustomer]  [grocerycustomer] 2023-03-27 11:53:15.127  \n",
       "2  [grocerycustomer]  [grocerycustomer] 2023-03-27 11:53:13.891  \n",
       "3  [grocerycustomer]  [grocerycustomer] 2023-03-27 11:53:12.471  "
      ]
     },
     "execution_count": 32,
     "metadata": {},
     "output_type": "execute_result"
    }
   ],
   "source": [
    "# the current default of the feature list has all feature versions production ready\n",
    "customer_feature_list = catalog.get_feature_list(\"CustomerFeatureList\")\n",
    "customer_feature_list.list_features()"
   ]
  },
  {
   "cell_type": "code",
   "execution_count": 33,
   "metadata": {
    "tags": []
   },
   "outputs": [
    {
     "name": "stdout",
     "output_type": "stream",
     "text": [
      "Loading Feature(s) |████████████████████████████████████████| 4/4 [100%] in 0.7s (5.57/s)                               \n"
     ]
    }
   ],
   "source": [
    "# create new version with the new default of CustomerInventory_28d\n",
    "new_feature_list_version = customer_feature_list.create_new_version(mode=\"auto\")"
   ]
  },
  {
   "cell_type": "code",
   "execution_count": 34,
   "metadata": {
    "tags": []
   },
   "outputs": [
    {
     "data": {
      "text/html": [
       "<div>\n",
       "<style scoped>\n",
       "    .dataframe tbody tr th:only-of-type {\n",
       "        vertical-align: middle;\n",
       "    }\n",
       "\n",
       "    .dataframe tbody tr th {\n",
       "        vertical-align: top;\n",
       "    }\n",
       "\n",
       "    .dataframe thead th {\n",
       "        text-align: right;\n",
       "    }\n",
       "</style>\n",
       "<table border=\"1\" class=\"dataframe\">\n",
       "  <thead>\n",
       "    <tr style=\"text-align: right;\">\n",
       "      <th></th>\n",
       "      <th>name</th>\n",
       "      <th>version</th>\n",
       "      <th>dtype</th>\n",
       "      <th>readiness</th>\n",
       "      <th>online_enabled</th>\n",
       "      <th>tables</th>\n",
       "      <th>primary_tables</th>\n",
       "      <th>entities</th>\n",
       "      <th>primary_entities</th>\n",
       "      <th>created_at</th>\n",
       "    </tr>\n",
       "  </thead>\n",
       "  <tbody>\n",
       "    <tr>\n",
       "      <th>0</th>\n",
       "      <td>CustomerInventory_28d</td>\n",
       "      <td>V230327_1</td>\n",
       "      <td>OBJECT</td>\n",
       "      <td>DRAFT</td>\n",
       "      <td>False</td>\n",
       "      <td>[GROCERYINVOICE, INVOICEITEMS, GROCERYPRODUCT]</td>\n",
       "      <td>[INVOICEITEMS]</td>\n",
       "      <td>[grocerycustomer]</td>\n",
       "      <td>[grocerycustomer]</td>\n",
       "      <td>2023-03-27 11:55:51.723</td>\n",
       "    </tr>\n",
       "    <tr>\n",
       "      <th>1</th>\n",
       "      <td>CustomerYearOfBirth</td>\n",
       "      <td>V230327</td>\n",
       "      <td>INT</td>\n",
       "      <td>PRODUCTION_READY</td>\n",
       "      <td>True</td>\n",
       "      <td>[GROCERYCUSTOMER]</td>\n",
       "      <td>[GROCERYCUSTOMER]</td>\n",
       "      <td>[grocerycustomer]</td>\n",
       "      <td>[grocerycustomer]</td>\n",
       "      <td>2023-03-27 11:53:15.736</td>\n",
       "    </tr>\n",
       "    <tr>\n",
       "      <th>2</th>\n",
       "      <td>CustomerSpend_14d</td>\n",
       "      <td>V230327</td>\n",
       "      <td>FLOAT</td>\n",
       "      <td>PRODUCTION_READY</td>\n",
       "      <td>True</td>\n",
       "      <td>[GROCERYINVOICE]</td>\n",
       "      <td>[GROCERYINVOICE]</td>\n",
       "      <td>[grocerycustomer]</td>\n",
       "      <td>[grocerycustomer]</td>\n",
       "      <td>2023-03-27 11:53:15.127</td>\n",
       "    </tr>\n",
       "    <tr>\n",
       "      <th>3</th>\n",
       "      <td>CustomerInventory_24w</td>\n",
       "      <td>V230327</td>\n",
       "      <td>OBJECT</td>\n",
       "      <td>PRODUCTION_READY</td>\n",
       "      <td>True</td>\n",
       "      <td>[GROCERYINVOICE, INVOICEITEMS, GROCERYPRODUCT]</td>\n",
       "      <td>[INVOICEITEMS]</td>\n",
       "      <td>[grocerycustomer]</td>\n",
       "      <td>[grocerycustomer]</td>\n",
       "      <td>2023-03-27 11:53:13.891</td>\n",
       "    </tr>\n",
       "  </tbody>\n",
       "</table>\n",
       "</div>"
      ],
      "text/plain": [
       "                    name    version   dtype         readiness  online_enabled  \\\n",
       "0  CustomerInventory_28d  V230327_1  OBJECT             DRAFT           False   \n",
       "1    CustomerYearOfBirth    V230327     INT  PRODUCTION_READY            True   \n",
       "2      CustomerSpend_14d    V230327   FLOAT  PRODUCTION_READY            True   \n",
       "3  CustomerInventory_24w    V230327  OBJECT  PRODUCTION_READY            True   \n",
       "\n",
       "                                           tables     primary_tables  \\\n",
       "0  [GROCERYINVOICE, INVOICEITEMS, GROCERYPRODUCT]     [INVOICEITEMS]   \n",
       "1                               [GROCERYCUSTOMER]  [GROCERYCUSTOMER]   \n",
       "2                                [GROCERYINVOICE]   [GROCERYINVOICE]   \n",
       "3  [GROCERYINVOICE, INVOICEITEMS, GROCERYPRODUCT]     [INVOICEITEMS]   \n",
       "\n",
       "            entities   primary_entities              created_at  \n",
       "0  [grocerycustomer]  [grocerycustomer] 2023-03-27 11:55:51.723  \n",
       "1  [grocerycustomer]  [grocerycustomer] 2023-03-27 11:53:15.736  \n",
       "2  [grocerycustomer]  [grocerycustomer] 2023-03-27 11:53:15.127  \n",
       "3  [grocerycustomer]  [grocerycustomer] 2023-03-27 11:53:13.891  "
      ]
     },
     "execution_count": 34,
     "metadata": {},
     "output_type": "execute_result"
    }
   ],
   "source": [
    "new_feature_list_version.list_features()"
   ]
  },
  {
   "cell_type": "code",
   "execution_count": 35,
   "metadata": {
    "tags": []
   },
   "outputs": [
    {
     "data": {
      "text/plain": [
       "{'this': 0.75, 'default': 1.0}"
      ]
     },
     "execution_count": 35,
     "metadata": {},
     "output_type": "execute_result"
    }
   ],
   "source": [
    "# check readiness\n",
    "new_feature_list_version.info()['production_ready_fraction']"
   ]
  },
  {
   "cell_type": "markdown",
   "metadata": {},
   "source": [
    "### Default version of a Feature List\n",
    "\n",
    "The default version of a feature list is the version with the highest fraction of production ready features."
   ]
  },
  {
   "cell_type": "markdown",
   "metadata": {},
   "source": [
    "The new version is not the default as its production_ready_fraction is lower than the prior version for CustomerInventory_28d."
   ]
  },
  {
   "cell_type": "code",
   "execution_count": 36,
   "metadata": {
    "tags": []
   },
   "outputs": [
    {
     "data": {
      "text/plain": [
       "False"
      ]
     },
     "execution_count": 36,
     "metadata": {},
     "output_type": "execute_result"
    }
   ],
   "source": [
    "# the new version is not the default as it is production_ready_fraction is lower than the current default\n",
    "new_feature_list_version.is_default"
   ]
  },
  {
   "attachments": {},
   "cell_type": "markdown",
   "metadata": {},
   "source": [
    "## Deployment Guardrails\n",
    "\n",
    "FeatureByte has guardrails for deployment, and will prevent you from deploying a feature list that has features that are not production ready.\n",
    "\n",
    "Learning Objectives\n",
    "\n",
    "In this section you will learn:\n",
    "* how to check the readiness of a feature list\n",
    "* how to deploy a feature list"
   ]
  },
  {
   "cell_type": "markdown",
   "metadata": {},
   "source": [
    "### Example: Check readiness of a feature list\n",
    "\n",
    "The Feature List Readiness metric provides information to users about the readiness status of a Feature List. This metric represents the percentage of features that are production ready within the given feature list."
   ]
  },
  {
   "cell_type": "code",
   "execution_count": 37,
   "metadata": {
    "tags": []
   },
   "outputs": [
    {
     "name": "stdout",
     "output_type": "stream",
     "text": [
      "Loading Feature(s) |████████████████████████████████████████| 3/3 [100%] in 0.7s (4.47/s)                               \n"
     ]
    },
    {
     "data": {
      "text/plain": [
       "{'this': 0.0, 'default': 0.0}"
      ]
     },
     "execution_count": 37,
     "metadata": {},
     "output_type": "execute_result"
    }
   ],
   "source": [
    "# get the invoice feature list\n",
    "invoice_feature_list = catalog.get_feature_list(\"InvoiceFeatureList\")\n",
    "\n",
    "# check feature list is ready to be deployed\n",
    "invoice_feature_list.info()['production_ready_fraction']"
   ]
  },
  {
   "cell_type": "code",
   "execution_count": 38,
   "metadata": {
    "tags": []
   },
   "outputs": [
    {
     "data": {
      "text/html": [
       "<div>\n",
       "<style scoped>\n",
       "    .dataframe tbody tr th:only-of-type {\n",
       "        vertical-align: middle;\n",
       "    }\n",
       "\n",
       "    .dataframe tbody tr th {\n",
       "        vertical-align: top;\n",
       "    }\n",
       "\n",
       "    .dataframe thead th {\n",
       "        text-align: right;\n",
       "    }\n",
       "</style>\n",
       "<table border=\"1\" class=\"dataframe\">\n",
       "  <thead>\n",
       "    <tr style=\"text-align: right;\">\n",
       "      <th></th>\n",
       "      <th>name</th>\n",
       "      <th>version</th>\n",
       "      <th>dtype</th>\n",
       "      <th>readiness</th>\n",
       "      <th>online_enabled</th>\n",
       "      <th>tables</th>\n",
       "      <th>primary_tables</th>\n",
       "      <th>entities</th>\n",
       "      <th>primary_entities</th>\n",
       "      <th>created_at</th>\n",
       "    </tr>\n",
       "  </thead>\n",
       "  <tbody>\n",
       "    <tr>\n",
       "      <th>0</th>\n",
       "      <td>InvoiceUniqueProductGroups</td>\n",
       "      <td>V230327</td>\n",
       "      <td>OBJECT</td>\n",
       "      <td>DEPRECATED</td>\n",
       "      <td>False</td>\n",
       "      <td>[GROCERYINVOICE, INVOICEITEMS, GROCERYPRODUCT]</td>\n",
       "      <td>[INVOICEITEMS]</td>\n",
       "      <td>[groceryinvoice]</td>\n",
       "      <td>[groceryinvoice]</td>\n",
       "      <td>2023-03-27 11:53:24.806</td>\n",
       "    </tr>\n",
       "    <tr>\n",
       "      <th>1</th>\n",
       "      <td>InvoiceDiscountAmount</td>\n",
       "      <td>V230327</td>\n",
       "      <td>FLOAT</td>\n",
       "      <td>DRAFT</td>\n",
       "      <td>False</td>\n",
       "      <td>[GROCERYINVOICE, INVOICEITEMS]</td>\n",
       "      <td>[INVOICEITEMS]</td>\n",
       "      <td>[groceryinvoice]</td>\n",
       "      <td>[groceryinvoice]</td>\n",
       "      <td>2023-03-27 11:53:18.256</td>\n",
       "    </tr>\n",
       "    <tr>\n",
       "      <th>2</th>\n",
       "      <td>InvoiceItemCount</td>\n",
       "      <td>V230327</td>\n",
       "      <td>FLOAT</td>\n",
       "      <td>DRAFT</td>\n",
       "      <td>False</td>\n",
       "      <td>[GROCERYINVOICE, INVOICEITEMS]</td>\n",
       "      <td>[INVOICEITEMS]</td>\n",
       "      <td>[groceryinvoice]</td>\n",
       "      <td>[groceryinvoice]</td>\n",
       "      <td>2023-03-27 11:53:17.029</td>\n",
       "    </tr>\n",
       "  </tbody>\n",
       "</table>\n",
       "</div>"
      ],
      "text/plain": [
       "                         name  version   dtype   readiness  online_enabled  \\\n",
       "0  InvoiceUniqueProductGroups  V230327  OBJECT  DEPRECATED           False   \n",
       "1       InvoiceDiscountAmount  V230327   FLOAT       DRAFT           False   \n",
       "2            InvoiceItemCount  V230327   FLOAT       DRAFT           False   \n",
       "\n",
       "                                           tables  primary_tables  \\\n",
       "0  [GROCERYINVOICE, INVOICEITEMS, GROCERYPRODUCT]  [INVOICEITEMS]   \n",
       "1                  [GROCERYINVOICE, INVOICEITEMS]  [INVOICEITEMS]   \n",
       "2                  [GROCERYINVOICE, INVOICEITEMS]  [INVOICEITEMS]   \n",
       "\n",
       "           entities  primary_entities              created_at  \n",
       "0  [groceryinvoice]  [groceryinvoice] 2023-03-27 11:53:24.806  \n",
       "1  [groceryinvoice]  [groceryinvoice] 2023-03-27 11:53:18.256  \n",
       "2  [groceryinvoice]  [groceryinvoice] 2023-03-27 11:53:17.029  "
      ]
     },
     "execution_count": 38,
     "metadata": {},
     "output_type": "execute_result"
    }
   ],
   "source": [
    "invoice_feature_list.list_features()"
   ]
  },
  {
   "cell_type": "markdown",
   "metadata": {
    "tags": []
   },
   "source": [
    "### Example: Deploy a feature list when production readiness is not 100%"
   ]
  },
  {
   "cell_type": "code",
   "execution_count": 39,
   "metadata": {},
   "outputs": [
    {
     "name": "stdout",
     "output_type": "stream",
     "text": [
      "Loading Feature(s) |████████████████████████████████████████| 3/3 [100%] in 0.6s (5.08/s)                               \n",
      "Working... |⚠︎                                       | (!) 0% in 3.3s (0.00%/s)                                          \n",
      "Error deploying the invoice feature list\n",
      "Traceback (most recent call last):\n",
      "  File \"/app/.venv/lib/python3.8/site-packages/celery/app/trace.py\", line 451, in trace_task\n",
      "    R = retval = fun(*args, **kwargs)\n",
      "  File \"/app/.venv/lib/python3.8/site-packages/featurebyte/worker/__init__.py\", line 53, in __call__\n",
      "    return loop.run_until_complete(self._run(*args, **kwargs))\n",
      "  File \"/usr/local/lib/python3.8/asyncio/base_events.py\", line 616, in run_until_complete\n",
      "    return future.result()\n",
      "  File \"/app/.venv/lib/python3.8/site-packages/featurebyte/worker/__init__.py\", line 48, in _run\n",
      "    return await result\n",
      "  File \"/app/.venv/lib/python3.8/site-packages/featurebyte/worker/task_executor.py\", line 61, in execute_task\n",
      "    await executor.execute()\n",
      "  File \"/app/.venv/lib/python3.8/site-packages/featurebyte/worker/task_executor.py\", line 41, in execute\n",
      "    await self.task.execute()\n",
      "  File \"/app/.venv/lib/python3.8/site-packages/featurebyte/worker/task/feature_list_deploy.py\", line 43, in execute\n",
      "    await deploy_service.update_feature_list(\n",
      "  File \"/app/.venv/lib/python3.8/site-packages/featurebyte/service/deploy.py\", line 226, in update_feature_list\n",
      "    await self._validate_deployed_operation(document, deployed)\n",
      "  File \"/app/.venv/lib/python3.8/site-packages/featurebyte/service/deploy.py\", line 148, in _validate_deployed_operation\n",
      "    raise DocumentUpdateError(\n",
      "featurebyte.exception.DocumentUpdateError: Only FeatureList object of all production ready features can be deployed.\n",
      "\n"
     ]
    }
   ],
   "source": [
    "# deploy the invoice feature list\n",
    "try:\n",
    "    invoice_feature_list.deploy(enable=True)\n",
    "except Exception as ex:\n",
    "    print(\"Error deploying the invoice feature list\")\n",
    "    print(ex)"
   ]
  },
  {
   "cell_type": "code",
   "execution_count": 40,
   "metadata": {},
   "outputs": [
    {
     "data": {
      "text/html": [
       "<div>\n",
       "<style scoped>\n",
       "    .dataframe tbody tr th:only-of-type {\n",
       "        vertical-align: middle;\n",
       "    }\n",
       "\n",
       "    .dataframe tbody tr th {\n",
       "        vertical-align: top;\n",
       "    }\n",
       "\n",
       "    .dataframe thead th {\n",
       "        text-align: right;\n",
       "    }\n",
       "</style>\n",
       "<table border=\"1\" class=\"dataframe\">\n",
       "  <thead>\n",
       "    <tr style=\"text-align: right;\">\n",
       "      <th></th>\n",
       "      <th>name</th>\n",
       "      <th>num_features</th>\n",
       "      <th>status</th>\n",
       "      <th>deployed</th>\n",
       "      <th>readiness_frac</th>\n",
       "      <th>online_frac</th>\n",
       "      <th>tables</th>\n",
       "      <th>entities</th>\n",
       "      <th>created_at</th>\n",
       "    </tr>\n",
       "  </thead>\n",
       "  <tbody>\n",
       "    <tr>\n",
       "      <th>0</th>\n",
       "      <td>InvoiceFeatureList</td>\n",
       "      <td>3</td>\n",
       "      <td>DRAFT</td>\n",
       "      <td>False</td>\n",
       "      <td>0.0</td>\n",
       "      <td>0.0</td>\n",
       "      <td>[GROCERYINVOICE, INVOICEITEMS, GROCERYPRODUCT]</td>\n",
       "      <td>[groceryinvoice]</td>\n",
       "      <td>2023-03-27 11:53:25.735</td>\n",
       "    </tr>\n",
       "    <tr>\n",
       "      <th>1</th>\n",
       "      <td>CustomerFeatureList</td>\n",
       "      <td>4</td>\n",
       "      <td>PUBLISHED</td>\n",
       "      <td>True</td>\n",
       "      <td>1.0</td>\n",
       "      <td>1.0</td>\n",
       "      <td>[GROCERYCUSTOMER, GROCERYINVOICE, INVOICEITEMS...</td>\n",
       "      <td>[grocerycustomer]</td>\n",
       "      <td>2023-03-27 11:53:23.086</td>\n",
       "    </tr>\n",
       "    <tr>\n",
       "      <th>2</th>\n",
       "      <td>StateFeatureList</td>\n",
       "      <td>5</td>\n",
       "      <td>PUBLISHED</td>\n",
       "      <td>True</td>\n",
       "      <td>1.0</td>\n",
       "      <td>1.0</td>\n",
       "      <td>[GROCERYCUSTOMER, GROCERYINVOICE, INVOICEITEMS...</td>\n",
       "      <td>[frenchstate]</td>\n",
       "      <td>2023-03-27 11:53:21.121</td>\n",
       "    </tr>\n",
       "  </tbody>\n",
       "</table>\n",
       "</div>"
      ],
      "text/plain": [
       "                  name  num_features     status  deployed  readiness_frac  \\\n",
       "0   InvoiceFeatureList             3      DRAFT     False             0.0   \n",
       "1  CustomerFeatureList             4  PUBLISHED      True             1.0   \n",
       "2     StateFeatureList             5  PUBLISHED      True             1.0   \n",
       "\n",
       "   online_frac                                             tables  \\\n",
       "0          0.0     [GROCERYINVOICE, INVOICEITEMS, GROCERYPRODUCT]   \n",
       "1          1.0  [GROCERYCUSTOMER, GROCERYINVOICE, INVOICEITEMS...   \n",
       "2          1.0  [GROCERYCUSTOMER, GROCERYINVOICE, INVOICEITEMS...   \n",
       "\n",
       "            entities              created_at  \n",
       "0   [groceryinvoice] 2023-03-27 11:53:25.735  \n",
       "1  [grocerycustomer] 2023-03-27 11:53:23.086  \n",
       "2      [frenchstate] 2023-03-27 11:53:21.121  "
      ]
     },
     "execution_count": 40,
     "metadata": {},
     "output_type": "execute_result"
    }
   ],
   "source": [
    "# show the feature lists - note that the invoice feature list has not been deployed\n",
    "catalog.list_feature_lists()"
   ]
  },
  {
   "attachments": {},
   "cell_type": "markdown",
   "metadata": {},
   "source": [
    "## Disable Deployment\n",
    "\n",
    "Learning Objectives\n",
    "\n",
    "In this section you will learn:\n",
    "* how to disable deployments"
   ]
  },
  {
   "attachments": {},
   "cell_type": "markdown",
   "metadata": {},
   "source": [
    "### Example: Disabling a deployment"
   ]
  },
  {
   "cell_type": "code",
   "execution_count": 41,
   "metadata": {
    "tags": []
   },
   "outputs": [
    {
     "name": "stdout",
     "output_type": "stream",
     "text": [
      "Loading Feature(s) |████████████████████████████████████████| 4/4 [100%] in 0.8s (5.24/s)                               \n",
      "Loading Feature(s) |████████████████████████████████████████| 4/4 [100%] in 1.1s (3.56/s)                               \n",
      "Done! |████████████████████████████████████████| 100% in 15.4s (6.49%/s)                                                \n",
      "Loading Feature(s) |████████████████████████████████████████| 5/5 [100%] in 0.9s (5.43/s)                               \n",
      "Loading Feature(s) |████████████████████████████████████████| 5/5 [100%] in 1.0s (4.97/s)                               \n",
      "Done! |████████████████████████████████████████| 100% in 12.3s (8.12%/s)                                                \n"
     ]
    },
    {
     "data": {
      "text/html": [
       "<div>\n",
       "<style scoped>\n",
       "    .dataframe tbody tr th:only-of-type {\n",
       "        vertical-align: middle;\n",
       "    }\n",
       "\n",
       "    .dataframe tbody tr th {\n",
       "        vertical-align: top;\n",
       "    }\n",
       "\n",
       "    .dataframe thead th {\n",
       "        text-align: right;\n",
       "    }\n",
       "</style>\n",
       "<table border=\"1\" class=\"dataframe\">\n",
       "  <thead>\n",
       "    <tr style=\"text-align: right;\">\n",
       "      <th></th>\n",
       "      <th>name</th>\n",
       "      <th>num_features</th>\n",
       "      <th>status</th>\n",
       "      <th>deployed</th>\n",
       "      <th>readiness_frac</th>\n",
       "      <th>online_frac</th>\n",
       "      <th>tables</th>\n",
       "      <th>entities</th>\n",
       "      <th>created_at</th>\n",
       "    </tr>\n",
       "  </thead>\n",
       "  <tbody>\n",
       "    <tr>\n",
       "      <th>0</th>\n",
       "      <td>InvoiceFeatureList</td>\n",
       "      <td>3</td>\n",
       "      <td>DRAFT</td>\n",
       "      <td>False</td>\n",
       "      <td>0.0</td>\n",
       "      <td>0.0</td>\n",
       "      <td>[GROCERYINVOICE, INVOICEITEMS, GROCERYPRODUCT]</td>\n",
       "      <td>[groceryinvoice]</td>\n",
       "      <td>2023-03-27 11:53:25.735</td>\n",
       "    </tr>\n",
       "    <tr>\n",
       "      <th>1</th>\n",
       "      <td>CustomerFeatureList</td>\n",
       "      <td>4</td>\n",
       "      <td>PUBLISHED</td>\n",
       "      <td>False</td>\n",
       "      <td>1.0</td>\n",
       "      <td>0.0</td>\n",
       "      <td>[GROCERYCUSTOMER, GROCERYINVOICE, INVOICEITEMS...</td>\n",
       "      <td>[grocerycustomer]</td>\n",
       "      <td>2023-03-27 11:53:23.086</td>\n",
       "    </tr>\n",
       "    <tr>\n",
       "      <th>2</th>\n",
       "      <td>StateFeatureList</td>\n",
       "      <td>5</td>\n",
       "      <td>PUBLISHED</td>\n",
       "      <td>False</td>\n",
       "      <td>1.0</td>\n",
       "      <td>0.0</td>\n",
       "      <td>[GROCERYCUSTOMER, GROCERYINVOICE, INVOICEITEMS...</td>\n",
       "      <td>[frenchstate]</td>\n",
       "      <td>2023-03-27 11:53:21.121</td>\n",
       "    </tr>\n",
       "  </tbody>\n",
       "</table>\n",
       "</div>"
      ],
      "text/plain": [
       "                  name  num_features     status  deployed  readiness_frac  \\\n",
       "0   InvoiceFeatureList             3      DRAFT     False             0.0   \n",
       "1  CustomerFeatureList             4  PUBLISHED     False             1.0   \n",
       "2     StateFeatureList             5  PUBLISHED     False             1.0   \n",
       "\n",
       "   online_frac                                             tables  \\\n",
       "0          0.0     [GROCERYINVOICE, INVOICEITEMS, GROCERYPRODUCT]   \n",
       "1          0.0  [GROCERYCUSTOMER, GROCERYINVOICE, INVOICEITEMS...   \n",
       "2          0.0  [GROCERYCUSTOMER, GROCERYINVOICE, INVOICEITEMS...   \n",
       "\n",
       "            entities              created_at  \n",
       "0   [groceryinvoice] 2023-03-27 11:53:25.735  \n",
       "1  [grocerycustomer] 2023-03-27 11:53:23.086  \n",
       "2      [frenchstate] 2023-03-27 11:53:21.121  "
      ]
     },
     "execution_count": 41,
     "metadata": {},
     "output_type": "execute_result"
    }
   ],
   "source": [
    "# disable the deployments\n",
    "catalog.get_feature_list(\"CustomerFeatureList\").deploy(enable=False)\n",
    "catalog.get_feature_list(\"StateFeatureList\").deploy(enable=False)\n",
    "\n",
    "# show the feature lists status\n",
    "catalog.list_feature_lists()"
   ]
  },
  {
   "cell_type": "markdown",
   "metadata": {},
   "source": [
    "## Next Steps\n",
    "\n",
    "Now that you've completed the quick-start feature management tutorial, you can put your knowledge into practice or learn more:<br>\n",
    "1) Put your knowledge into practice by creating features in the \"credit card dataset feature engineering playground\" or \"healthcare dataset feature engineering playground\" catalogs\n",
    "2) Learn more about feature engineering via the \"Deep Dive Feature Engineering\" tutorial\n",
    "3) Learn about data modeling via the \"Deep Dive Data Modeling\" tutorial"
   ]
  }
 ],
 "metadata": {
  "kernelspec": {
   "display_name": "Python 3 (ipykernel)",
   "language": "python",
   "name": "python3"
  },
  "language_info": {
   "codemirror_mode": {
    "name": "ipython",
    "version": 3
   },
   "file_extension": ".py",
   "mimetype": "text/x-python",
   "name": "python",
   "nbconvert_exporter": "python",
   "pygments_lexer": "ipython3",
   "version": "3.8.16"
  }
 },
 "nbformat": 4,
 "nbformat_minor": 4
}
