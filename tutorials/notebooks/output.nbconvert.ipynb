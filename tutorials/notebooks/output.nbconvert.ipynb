{
 "cells": [
  {
   "cell_type": "markdown",
   "metadata": {},
   "source": [
    "# Quick Start Tutorial: End-to-End Workflow"
   ]
  },
  {
   "attachments": {},
   "cell_type": "markdown",
   "metadata": {},
   "source": [
    "## Learning Objectives\n",
    "\n",
    "In this tutorial you will learn how to:\n",
    "1. Create a catalog\n",
    "2. Define a data model for a catalog\n",
    "3. Add features to a catalog\n",
    "4. Solve a use case\n",
    "5. Deploy and serve a feature list\n",
    "6. Manage the feature list lifecycle"
   ]
  },
  {
   "attachments": {},
   "cell_type": "markdown",
   "metadata": {},
   "source": [
    "## Set up the prerequisites\n",
    "\n",
    "Learning Objectives\n",
    "\n",
    "In this section you will:\n",
    "* import libraries\n",
    "* start your local featurebyte server"
   ]
  },
  {
   "cell_type": "markdown",
   "metadata": {},
   "source": [
    "### Load the featurebyte library and connect to the local instance of featurebyte"
   ]
  },
  {
   "cell_type": "code",
   "execution_count": 1,
   "metadata": {
    "execution": {
     "iopub.execute_input": "2023-04-10T19:22:20.885316Z",
     "iopub.status.busy": "2023-04-10T19:22:20.884785Z",
     "iopub.status.idle": "2023-04-10T19:22:27.301550Z",
     "shell.execute_reply": "2023-04-10T19:22:27.299777Z"
    },
    "tags": []
   },
   "outputs": [
    {
     "name": "stderr",
     "output_type": "stream",
     "text": [
      "2023-04-10 15:22:21.978 | INFO     | featurebyte.docker.manager:start_playground:330 | Starting featurebyte service | {}\n"
     ]
    },
    {
     "name": "stdout",
     "output_type": "stream",
     "text": [
      "FeatureByte version 0.1.7\n"
     ]
    },
    {
     "name": "stderr",
     "output_type": "stream",
     "text": [
      "featurebyte-worker Skipped - Image is already being pulled by featurebyte-server \n",
      "spark-thrift Pulling \n",
      "featurebyte-docs Pulling \n",
      "mongo-rs Pulling \n",
      "redis Pulling \n",
      "featurebyte-server Pulling \n",
      "redis Pulled \n",
      "spark-thrift Pulled \n",
      "mongo-rs Pulled \n",
      "featurebyte-server Pulled \n",
      "featurebyte-docs Pulled \n",
      "Container redis  Running\n",
      "Container mongo-rs  Running\n",
      "Container featurebyte-worker  Running\n",
      "Container featurebyte-server  Running\n",
      "Container mongo-rs  Waiting\n",
      "Container mongo-rs  Waiting\n",
      "Container redis  Waiting\n",
      "Container mongo-rs  Healthy\n",
      "Container redis  Healthy\n",
      "Container mongo-rs  Healthy\n",
      "2023-04-10 15:22:24.155 | INFO     | featurebyte.docker.manager:start_playground:332 | Starting local spark service | {}\n",
      "featurebyte-server Skipped - Image is already being pulled by featurebyte-worker \n",
      "featurebyte-docs Pulling \n",
      "featurebyte-worker Pulling \n",
      "mongo-rs Pulling \n",
      "spark-thrift Pulling \n",
      "redis Pulling \n",
      "spark-thrift Pulled \n",
      "redis Pulled \n",
      "mongo-rs Pulled \n",
      "featurebyte-docs Pulled \n",
      "featurebyte-worker Pulled \n",
      "Container spark-thrift  Running\n",
      "2023-04-10 15:22:25.600 | INFO     | featurebyte.docker.manager:start_playground:335 | Starting documentation service | {}\n",
      "featurebyte-worker Skipped - Image is already being pulled by featurebyte-server \n",
      "featurebyte-docs Pulling \n",
      "redis Pulling \n",
      "spark-thrift Pulling \n",
      "mongo-rs Pulling \n",
      "featurebyte-server Pulling \n",
      "redis Pulled \n",
      "mongo-rs Pulled \n",
      "spark-thrift Pulled \n",
      "featurebyte-server Pulled \n",
      "featurebyte-docs Pulled \n",
      "Container featurebyte-docs  Running\n",
      "2023-04-10 15:22:26.903 | INFO     | featurebyte.docker.manager:start_playground:339 | Creating local spark feature store | {}\n",
      "2023-04-10 15:22:27.296 | INFO     | featurebyte.docker.manager:start_playground:361 | Dataset grocery already exists, skipping import | {}\n",
      "2023-04-10 15:22:27.296 | INFO     | featurebyte.docker.manager:start_playground:361 | Dataset healthcare already exists, skipping import | {}\n",
      "2023-04-10 15:22:27.296 | INFO     | featurebyte.docker.manager:start_playground:361 | Dataset creditcard already exists, skipping import | {}\n"
     ]
    }
   ],
   "source": [
    "# library imports\n",
    "import pandas as pd\n",
    "import numpy as np\n",
    "from datetime import datetime\n",
    "\n",
    "# load the featurebyte SDK\n",
    "import featurebyte as fb\n",
    "\n",
    "print(\"FeatureByte version \" + fb.version)\n",
    "\n",
    "# start the local server, then wait for it to be healthy before proceeding\n",
    "fb.playground()"
   ]
  },
  {
   "attachments": {},
   "cell_type": "markdown",
   "metadata": {},
   "source": [
    "## Create a catalog\n",
    "\n",
    "Once you have a feature store, you can create a Catalog, which acts as a central repository for metadata related to FeatureByte objects: tables, entities, features, and feature lists.\n",
    "\n",
    "For data sources covering multiple domains, use separate Catalogs for each domain to maintain clarity and easy access to domain-specific metadata.\n",
    "\n",
    "Learning Objectives\n",
    "\n",
    "In this section you will:\n",
    "* learn about catalogs\n",
    "* create a new catalog"
   ]
  },
  {
   "cell_type": "markdown",
   "metadata": {},
   "source": [
    "### Concept: Catalog\n",
    "\n",
    "A FeatureByte Catalog serves as a centralized repository for storing metadata about FeatureByte objects such as tables, entities, features, and feature lists associated with a specific domain. It functions as an effective tool for facilitating collaboration among team members working on similar use cases or utilizing the same data source within a data warehouse."
   ]
  },
  {
   "cell_type": "markdown",
   "metadata": {},
   "source": [
    "### Example: Create a new catalog"
   ]
  },
  {
   "cell_type": "code",
   "execution_count": 2,
   "metadata": {
    "execution": {
     "iopub.execute_input": "2023-04-10T19:22:27.309495Z",
     "iopub.status.busy": "2023-04-10T19:22:27.309014Z",
     "iopub.status.idle": "2023-04-10T19:22:27.346478Z",
     "shell.execute_reply": "2023-04-10T19:22:27.345765Z"
    },
    "tags": []
   },
   "outputs": [],
   "source": [
    "catalog_name = \"quick start end-to-end \" + datetime.now().strftime(\"%Y%m%d:%H%M\")\n",
    "\n",
    "# create a catalog\n",
    "catalog = fb.Catalog.create(catalog_name)"
   ]
  },
  {
   "cell_type": "code",
   "execution_count": 3,
   "metadata": {
    "execution": {
     "iopub.execute_input": "2023-04-10T19:22:27.350086Z",
     "iopub.status.busy": "2023-04-10T19:22:27.349791Z",
     "iopub.status.idle": "2023-04-10T19:22:27.369086Z",
     "shell.execute_reply": "2023-04-10T19:22:27.368538Z"
    },
    "tags": []
   },
   "outputs": [],
   "source": [
    "# you can activate an existing catalog\n",
    "catalog = fb.Catalog.activate(catalog_name)"
   ]
  },
  {
   "attachments": {},
   "cell_type": "markdown",
   "metadata": {},
   "source": [
    "## Define a Data Model\n",
    "\n",
    "Defining your Catalog's Data Model is crucial for facilitating feature engineering, organization, and serving of features and feature lists. It is an infrequent but essential task to ensure good practices. \n",
    "\n",
    "Learning Objectives\n",
    "\n",
    "In this section you will:\n",
    "* be introduced to the case study dataset\n",
    "* declare FeatureByte catalog tables\n",
    "* define data cleaning operations\n",
    "* declare and tag entities"
   ]
  },
  {
   "attachments": {
    "BetaTesting-FrenchGrocery.png": {
     "image/png": "[encoded data removed]"
    }
   },
   "cell_type": "markdown",
   "metadata": {},
   "source": [
    "### Case Study: French grocery dataset\n",
    "\n",
    "The French grocery dataset contains four tables containing data from a chain of grocery stores.\n",
    "\n",
    "The data source has already been declared in the playground feature store that was installed as part of FeatureByte.\n",
    "\n",
    "![BetaTesting-FrenchGrocery.png](attachment:BetaTesting-FrenchGrocery.png)"
   ]
  },
  {
   "cell_type": "markdown",
   "metadata": {},
   "source": [
    "### Concept: Data source\n",
    "\n",
    "A data source is a collection of tables accessible via a connection to a data warehouse or database. It is used to explore and retrieve details about tables that can be used as source table in the FeatureByte catalog. "
   ]
  },
  {
   "cell_type": "markdown",
   "metadata": {},
   "source": [
    "### Example: Connect to a pre-defined data source"
   ]
  },
  {
   "cell_type": "code",
   "execution_count": 4,
   "metadata": {
    "execution": {
     "iopub.execute_input": "2023-04-10T19:22:27.372711Z",
     "iopub.status.busy": "2023-04-10T19:22:27.372333Z",
     "iopub.status.idle": "2023-04-10T19:22:27.384784Z",
     "shell.execute_reply": "2023-04-10T19:22:27.384418Z"
    },
    "tags": []
   },
   "outputs": [],
   "source": [
    "# get data source from the local spark feature store\n",
    "ds = fb.FeatureStore.get(\"playground\").get_data_source()"
   ]
  },
  {
   "cell_type": "markdown",
   "metadata": {},
   "source": [
    "### Concept: FeatureByte catalog table\n",
    "\n",
    "A Catalog Table serves as a logical representation of a source table within the Catalog. The Catalog Table does not store data itself, but instead provides a way to access the source table and centralize essential metadata for feature engineering.\n",
    "\n",
    "The metadata on the table’s type determines the types of feature engineering operations that are possible and enforce guardrails accordingly. "
   ]
  },
  {
   "cell_type": "markdown",
   "metadata": {},
   "source": [
    "### Example: Declare catalog tables"
   ]
  },
  {
   "cell_type": "code",
   "execution_count": 5,
   "metadata": {
    "execution": {
     "iopub.execute_input": "2023-04-10T19:22:27.386974Z",
     "iopub.status.busy": "2023-04-10T19:22:27.386844Z",
     "iopub.status.idle": "2023-04-10T19:22:28.493915Z",
     "shell.execute_reply": "2023-04-10T19:22:28.493523Z"
    },
    "tags": []
   },
   "outputs": [
    {
     "data": {
      "text/html": [
       "<div>\n",
       "<style scoped>\n",
       "    .dataframe tbody tr th:only-of-type {\n",
       "        vertical-align: middle;\n",
       "    }\n",
       "\n",
       "    .dataframe tbody tr th {\n",
       "        vertical-align: top;\n",
       "    }\n",
       "\n",
       "    .dataframe thead th {\n",
       "        text-align: right;\n",
       "    }\n",
       "</style>\n",
       "<table border=\"1\" class=\"dataframe\">\n",
       "  <thead>\n",
       "    <tr style=\"text-align: right;\">\n",
       "      <th></th>\n",
       "      <th>GroceryInvoiceGuid</th>\n",
       "      <th>GroceryCustomerGuid</th>\n",
       "      <th>Timestamp</th>\n",
       "      <th>record_available_at</th>\n",
       "      <th>Amount</th>\n",
       "    </tr>\n",
       "  </thead>\n",
       "  <tbody>\n",
       "    <tr>\n",
       "      <th>0</th>\n",
       "      <td>09384ec7-f3a4-466e-bc8e-41023937354b</td>\n",
       "      <td>7005c3a2-a903-4c15-9ffb-d52b0d5eba14</td>\n",
       "      <td>2022-10-31 15:05:32</td>\n",
       "      <td>2022-10-31 16:01:00</td>\n",
       "      <td>2.89</td>\n",
       "    </tr>\n",
       "    <tr>\n",
       "      <th>1</th>\n",
       "      <td>381522c8-55b3-4015-9ce2-938ea8828683</td>\n",
       "      <td>82a104d2-ad63-4079-8ccc-767c5b88afcb</td>\n",
       "      <td>2022-11-17 15:24:37</td>\n",
       "      <td>2022-11-17 16:01:00</td>\n",
       "      <td>3.74</td>\n",
       "    </tr>\n",
       "    <tr>\n",
       "      <th>2</th>\n",
       "      <td>d687e93b-557e-49f6-a412-095c4448f305</td>\n",
       "      <td>a90ab8bf-1c87-4c98-811f-6b8cc8a7b7bd</td>\n",
       "      <td>2022-03-03 21:04:48</td>\n",
       "      <td>2022-03-03 22:01:00</td>\n",
       "      <td>48.18</td>\n",
       "    </tr>\n",
       "    <tr>\n",
       "      <th>3</th>\n",
       "      <td>530bd051-e009-42f0-b598-13e3947a4b46</td>\n",
       "      <td>ebd6f63f-9425-4175-8f69-457979d69741</td>\n",
       "      <td>2022-06-13 16:53:28</td>\n",
       "      <td>2022-06-13 17:01:00</td>\n",
       "      <td>25.97</td>\n",
       "    </tr>\n",
       "    <tr>\n",
       "      <th>4</th>\n",
       "      <td>2ec3b3b4-d7d1-4a69-82a6-53f91632b209</td>\n",
       "      <td>2ebe2af2-146a-4a94-b701-22146449a1a8</td>\n",
       "      <td>2023-01-09 09:28:05</td>\n",
       "      <td>2023-01-09 10:01:00</td>\n",
       "      <td>4.99</td>\n",
       "    </tr>\n",
       "  </tbody>\n",
       "</table>\n",
       "</div>"
      ],
      "text/plain": [
       "                     GroceryInvoiceGuid                   GroceryCustomerGuid  \\\n",
       "0  09384ec7-f3a4-466e-bc8e-41023937354b  7005c3a2-a903-4c15-9ffb-d52b0d5eba14   \n",
       "1  381522c8-55b3-4015-9ce2-938ea8828683  82a104d2-ad63-4079-8ccc-767c5b88afcb   \n",
       "2  d687e93b-557e-49f6-a412-095c4448f305  a90ab8bf-1c87-4c98-811f-6b8cc8a7b7bd   \n",
       "3  530bd051-e009-42f0-b598-13e3947a4b46  ebd6f63f-9425-4175-8f69-457979d69741   \n",
       "4  2ec3b3b4-d7d1-4a69-82a6-53f91632b209  2ebe2af2-146a-4a94-b701-22146449a1a8   \n",
       "\n",
       "            Timestamp record_available_at  Amount  \n",
       "0 2022-10-31 15:05:32 2022-10-31 16:01:00    2.89  \n",
       "1 2022-11-17 15:24:37 2022-11-17 16:01:00    3.74  \n",
       "2 2022-03-03 21:04:48 2022-03-03 22:01:00   48.18  \n",
       "3 2022-06-13 16:53:28 2022-06-13 17:01:00   25.97  \n",
       "4 2023-01-09 09:28:05 2023-01-09 10:01:00    4.99  "
      ]
     },
     "execution_count": 5,
     "metadata": {},
     "output_type": "execute_result"
    }
   ],
   "source": [
    "# register GroceryInvoice as an event data\n",
    "invoice_table = ds.get_table(\n",
    "            database_name=\"spark_catalog\",\n",
    "            schema_name=\"GROCERY\",\n",
    "            table_name=\"GROCERYINVOICE\"\n",
    "        ).create_event_table(   \n",
    "            name=\"GROCERYINVOICE\",\n",
    "            event_id_column=\"GroceryInvoiceGuid\",\n",
    "            event_timestamp_column=\"Timestamp\",\n",
    "            record_creation_timestamp_column=\"record_available_at\"\n",
    "        )\n",
    "\n",
    "# show sample data\n",
    "invoice_table.sample(5)"
   ]
  },
  {
   "cell_type": "code",
   "execution_count": 6,
   "metadata": {
    "execution": {
     "iopub.execute_input": "2023-04-10T19:22:28.495572Z",
     "iopub.status.busy": "2023-04-10T19:22:28.495451Z",
     "iopub.status.idle": "2023-04-10T19:22:30.742587Z",
     "shell.execute_reply": "2023-04-10T19:22:30.741797Z"
    },
    "tags": []
   },
   "outputs": [
    {
     "data": {
      "text/html": [
       "<div>\n",
       "<style scoped>\n",
       "    .dataframe tbody tr th:only-of-type {\n",
       "        vertical-align: middle;\n",
       "    }\n",
       "\n",
       "    .dataframe tbody tr th {\n",
       "        vertical-align: top;\n",
       "    }\n",
       "\n",
       "    .dataframe thead th {\n",
       "        text-align: right;\n",
       "    }\n",
       "</style>\n",
       "<table border=\"1\" class=\"dataframe\">\n",
       "  <thead>\n",
       "    <tr style=\"text-align: right;\">\n",
       "      <th></th>\n",
       "      <th>GroceryInvoiceItemGuid</th>\n",
       "      <th>GroceryInvoiceGuid</th>\n",
       "      <th>GroceryProductGuid</th>\n",
       "      <th>Quantity</th>\n",
       "      <th>UnitPrice</th>\n",
       "      <th>TotalCost</th>\n",
       "      <th>Discount</th>\n",
       "      <th>record_available_at</th>\n",
       "    </tr>\n",
       "  </thead>\n",
       "  <tbody>\n",
       "    <tr>\n",
       "      <th>0</th>\n",
       "      <td>e7e96e3c-ef4e-4644-903a-ca378a5860b8</td>\n",
       "      <td>a90aa7d8-a41b-4841-adcf-59178e0f0eea</td>\n",
       "      <td>2f5694f4-d6ca-4bfa-adbc-6a3750406306</td>\n",
       "      <td>1.0</td>\n",
       "      <td>0.88</td>\n",
       "      <td>0.88</td>\n",
       "      <td>0.41</td>\n",
       "      <td>2022-07-26 22:01:00</td>\n",
       "    </tr>\n",
       "    <tr>\n",
       "      <th>1</th>\n",
       "      <td>b1ea1f28-2b18-4643-bce6-cf2f3c336741</td>\n",
       "      <td>dc9d5f0d-e6d3-4a44-8528-a554f7a54fcb</td>\n",
       "      <td>6733d7ec-7dcd-4c18-a787-5c7957a42ad0</td>\n",
       "      <td>1.0</td>\n",
       "      <td>0.00</td>\n",
       "      <td>0.00</td>\n",
       "      <td>0.00</td>\n",
       "      <td>2023-03-28 15:01:00</td>\n",
       "    </tr>\n",
       "    <tr>\n",
       "      <th>2</th>\n",
       "      <td>d62dccc6-748d-4396-83e0-f3755849061e</td>\n",
       "      <td>ac1123e2-7052-4669-a956-e3057fb1f064</td>\n",
       "      <td>663e9a7b-7e86-48fe-9033-d52607caa602</td>\n",
       "      <td>1.0</td>\n",
       "      <td>3.49</td>\n",
       "      <td>3.49</td>\n",
       "      <td>0.00</td>\n",
       "      <td>2022-06-23 19:01:00</td>\n",
       "    </tr>\n",
       "    <tr>\n",
       "      <th>3</th>\n",
       "      <td>70f7bf5a-e6f6-471b-9ebf-5a060e0f6791</td>\n",
       "      <td>b3e69b48-83e7-42c2-a3ce-2158d73ec21c</td>\n",
       "      <td>d139e012-49a1-4fd6-b2f5-bb32556d1d36</td>\n",
       "      <td>1.0</td>\n",
       "      <td>1.00</td>\n",
       "      <td>1.00</td>\n",
       "      <td>0.00</td>\n",
       "      <td>2022-02-23 15:01:00</td>\n",
       "    </tr>\n",
       "    <tr>\n",
       "      <th>4</th>\n",
       "      <td>988de65a-be63-4018-b4fe-8b5b649795f0</td>\n",
       "      <td>7c476831-468f-44c0-b3f0-2e8a87df8b65</td>\n",
       "      <td>fb815fd5-9199-4984-a24d-edb489708a03</td>\n",
       "      <td>1.0</td>\n",
       "      <td>0.79</td>\n",
       "      <td>0.79</td>\n",
       "      <td>0.30</td>\n",
       "      <td>2022-03-17 17:01:00</td>\n",
       "    </tr>\n",
       "  </tbody>\n",
       "</table>\n",
       "</div>"
      ],
      "text/plain": [
       "                 GroceryInvoiceItemGuid                    GroceryInvoiceGuid  \\\n",
       "0  e7e96e3c-ef4e-4644-903a-ca378a5860b8  a90aa7d8-a41b-4841-adcf-59178e0f0eea   \n",
       "1  b1ea1f28-2b18-4643-bce6-cf2f3c336741  dc9d5f0d-e6d3-4a44-8528-a554f7a54fcb   \n",
       "2  d62dccc6-748d-4396-83e0-f3755849061e  ac1123e2-7052-4669-a956-e3057fb1f064   \n",
       "3  70f7bf5a-e6f6-471b-9ebf-5a060e0f6791  b3e69b48-83e7-42c2-a3ce-2158d73ec21c   \n",
       "4  988de65a-be63-4018-b4fe-8b5b649795f0  7c476831-468f-44c0-b3f0-2e8a87df8b65   \n",
       "\n",
       "                     GroceryProductGuid  Quantity  UnitPrice  TotalCost  \\\n",
       "0  2f5694f4-d6ca-4bfa-adbc-6a3750406306       1.0       0.88       0.88   \n",
       "1  6733d7ec-7dcd-4c18-a787-5c7957a42ad0       1.0       0.00       0.00   \n",
       "2  663e9a7b-7e86-48fe-9033-d52607caa602       1.0       3.49       3.49   \n",
       "3  d139e012-49a1-4fd6-b2f5-bb32556d1d36       1.0       1.00       1.00   \n",
       "4  fb815fd5-9199-4984-a24d-edb489708a03       1.0       0.79       0.79   \n",
       "\n",
       "   Discount record_available_at  \n",
       "0      0.41 2022-07-26 22:01:00  \n",
       "1      0.00 2023-03-28 15:01:00  \n",
       "2      0.00 2022-06-23 19:01:00  \n",
       "3      0.00 2022-02-23 15:01:00  \n",
       "4      0.30 2022-03-17 17:01:00  "
      ]
     },
     "execution_count": 6,
     "metadata": {},
     "output_type": "execute_result"
    }
   ],
   "source": [
    "# register invoice items as an item table\n",
    "items_table = ds.get_table(\n",
    "            database_name=\"spark_catalog\",\n",
    "            schema_name=\"GROCERY\",\n",
    "            table_name=\"INVOICEITEMS\"\n",
    "        ).create_item_table(\n",
    "            name=\"INVOICEITEMS\",\n",
    "            event_id_column=\"GroceryInvoiceGuid\",\n",
    "            item_id_column=\"GroceryInvoiceItemGuid\",\n",
    "            event_table_name=\"GROCERYINVOICE\"\n",
    "        )\n",
    "\n",
    "# show sample data\n",
    "items_table.sample(5)"
   ]
  },
  {
   "cell_type": "markdown",
   "metadata": {},
   "source": [
    "### Concept: Feature job setting\n",
    "\n",
    "The Feature Job Setting in FeatureByte captures essential details about batch feature computations for the online feature store, including the frequency and timing of the batch process, as well as the assumed blind spot for the data. This helps to maintain consistency between offline and online feature values and ensures accurate historical serving that reflects the production environment. The setting comprises three parameters:\n",
    "\n",
    "* The frequency parameter specifies how often the batch process should run.\n",
    "* The time_modulo_frequency parameter defines the timing of the batch process.\n",
    "* The blind_spot parameter sets the time gap between feature computation and the latest event timestamp to be processed.\n",
    "\n",
    "To ensure consistency of Feature Job Setting across features created by different team members, a Default Feature Job Setting is defined at the table level. However, it's possible to override this setting during feature declaration."
   ]
  },
  {
   "cell_type": "markdown",
   "metadata": {},
   "source": [
    "### Example: Feature job settings analysis"
   ]
  },
  {
   "cell_type": "code",
   "execution_count": 7,
   "metadata": {
    "execution": {
     "iopub.execute_input": "2023-04-10T19:22:30.747194Z",
     "iopub.status.busy": "2023-04-10T19:22:30.746839Z",
     "iopub.status.idle": "2023-04-10T19:22:37.066702Z",
     "shell.execute_reply": "2023-04-10T19:22:37.065593Z"
    },
    "tags": []
   },
   "outputs": [
    {
     "name": "stdout",
     "output_type": "stream",
     "text": [
      "Done! |████████████████████████████████████████| 100% in 6.1s (16.40%/s)                                                \n"
     ]
    },
    {
     "data": {
      "text/html": [
       "<!DOCTYPE html>\n",
       "<html lang=\"en\">\n",
       "<head>\n",
       "  <meta charset=\"utf-8\">\n",
       "  <title>Feature Job Setting Analysis</title>\n",
       "  <style>\n",
       "      .fb-analysis-body {\n",
       "        color: #333;\n",
       "        width: 800px;\n",
       "        font-family: sans-serif;\n",
       "      }\n",
       "      .fb-analysis-title {\n",
       "        color: #333;\n",
       "        font-size: 24px;\n",
       "        font-weight: bold;\n",
       "        text-align: center;\n",
       "      }\n",
       "      .fb-analysis-section {\n",
       "        padding: 20px;\n",
       "        margin: 20px;\n",
       "        color: #333;\n",
       "        border: 1px solid #777;\n",
       "      }\n",
       "      .fb-analysis-subtitle {\n",
       "        color: #333;\n",
       "        font-size: 20px;\n",
       "        font-weight: bold;\n",
       "        margin-bottom: 20px;\n",
       "      }\n",
       "      .fb-analysis-description {\n",
       "        font-family: monospace;\n",
       "        font-size: 14px;\n",
       "        padding: 20px;\n",
       "        background-color:#EEE;\n",
       "      }\n",
       "      .fb-analysis-section img {\n",
       "        width: 100%;\n",
       "        border: 1px solid #777;\n",
       "        margin-top: 20px;\n",
       "        margin-bottom: 20px;\n",
       "      }\n",
       "      .fb-analysis-section .warning {\n",
       "        color: #f33;\n",
       "      }\n",
       "      .fb-analysis-section li {\n",
       "        margin-bottom: 10px;\n",
       "      }\n",
       "  </style>\n",
       "</head>\n",
       "\n",
       "<body>\n",
       "  <div class=\"fb-analysis-body\">\n",
       "    <div class=\"fb-analysis-title\">\n",
       "      Feature Job Setting Analysis Report\n",
       "    </div>\n",
       "    <div>\n",
       "\n",
       "      <div class=\"fb-analysis-section\">\n",
       "        <div class=\"fb-analysis-subtitle\">Warehouse Jobs Statistics</div>\n",
       "        <div class=\"fb-analysis-description\">\n",
       "          The analysis is for the event table: GROCERYINVOICE<br/>\n",
       "The analysis period starts at 2023-03-13 18:48:10 and ends at 2023-04-10 18:48:10<br/>\n",
       "The column used for the event timestamp is Timestamp<br/>\n",
       "The column used for the record creation timestamp in GROCERYINVOICE is record_available_at<br/>\n",
       "<br/>\n",
       "STATISTICS ON TIME BETWEEN GROCERYINVOICE RECORDS CREATIONS<br/>\n",
       "- Average time is 4151.552795031056 s<br/>\n",
       "- Median time is 3600.0 s<br/>\n",
       "- Lowest time is 3600.0 s<br/>\n",
       "- Largest time is 36000.0 s<br/>\n",
       "based on a total of 458 unique record creation timestamps.<br/>\n",
       "<br/>\n",
       "<div><img src=\"data:image/png;base64, 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\" /></div>The BEST ESTIMATE FOR GROCERYINVOICE UPDATES FREQUENCY is every 1 hour<br/>\n",
       "<br/>\n",
       "The longer time between records creations are due to 214 MISSING UPDATES.<br/>\n",
       "<br/>\n",
       "<div><img src=\"data:image/png;base64, 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\" /></div>GROCERYINVOICE UPDATES TIME starts 1.0 minute and ends 1.0 minute after the start of each 1 hour<br/>\n",
       "<br/>\n",
       "<div><img src=\"data:image/png;base64, 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\" /></div>\n",
       "        </div>\n",
       "      </div>\n",
       "\n",
       "      <div class=\"fb-analysis-section\">\n",
       "        <div class=\"fb-analysis-subtitle\">Job Frequency Recommendation</div>\n",
       "        <div class=\"fb-analysis-description\">\n",
       "          The RECOMMENDED FEATURE JOB FREQUENCY is 1 minute 5 seconds after the start of each 1 hour.<br/>\n",
       "This includes a buffer of 5 s to allow for late jobs.<br/>\n",
       "<br/>\n",
       "The 66 jobs that occurred after missing jobs don't seem to have processed significantly older records.<br/>\n",
       "\n",
       "        </div>\n",
       "      </div>\n",
       "\n",
       "      <div class=\"fb-analysis-section\">\n",
       "        <div class=\"fb-analysis-subtitle\">Blind Spot Search</div>\n",
       "        <div class=\"fb-analysis-description\">\n",
       "          The OPTIMAL BLIND SPOT setting is 120 s to keep late data at less than 0.0 %<br/>\n",
       "Search for optimal blind spot<br/>\n",
       "- blind spot for 99.5 % of events to land: 60 s<br/>\n",
       "- blind spot for 99.9 % of events to land: 120 s<br/>\n",
       "- blind spot for 99.95 % of events to land: 120 s<br/>\n",
       "- blind spot for 99.99 % of events to land: 120 s<br/>\n",
       "- blind spot for 99.995 % of events to land: 120 s<br/>\n",
       "- blind spot for 100.0 % of events to land: 120 s<br/>\n",
       "<div><img src=\"data:image/png;base64, iVBORw0KGgoAAAANSUhEUgAAA+gAAAMgCAYAAACwGEg9AAAACXBIWXMAAA9hAAAPYQGoP6dpAAChYElEQVR4nOzdd3RU5fr28WvSeyMJhBoSEAzdAEmkKmhALChFUH8UEZAiRwE9enwVBAVRBBvSVETEcxCwF3oRMfSi0qRXKUlIAgRS9/tHmJExAZKQMDPJ97NW1jF79ux9z55JDlf2cz+PyTAMQwAAAAAAwKacbF0AAAAAAAAgoAMAAAAAYBcI6AAAAAAA2AECOgAAAAAAdoCADgAAAACAHSCgAwAAAABgBwjoAAAAAADYAQI6AAAAAAB2gIAOAAAAAIAdIKADAAAAAGAHCOgAAAAAANgBAjoAAAAAAHaAgA4AAAAAgB0goAMAAAAAYAcI6AAAAAAA2AECOgAAAAAAdoCADgAAAACAHSCgAwAAAABgBwjoAAAAAADYAQI6AAAAAAB2gIAOAAAAAIAdIKADAAAAAGAHCOgAAAAAANgBAjoAAAAAAHaAgA4AAAAAgB0goAMAAAAAYAcI6AAAAAAA2AECOgAAAAAAdoCADgAAAACAHSCgAwAAAABgBwjoAAAAAADYAQI6ALuyceNG3X777fL29pbJZNK2bdsK3G/VqlUymUxatWrVTa2vOPr06aPw8HBbl2HFZDJp9OjRJXrMOXPmqG7dunJ1dVVAQECJHrukHDp0SCaTSZ988omtS7mmRYsWqXHjxvLw8JDJZFJKSkqB+40ePVomk0mJiYnXPWZ4eLj69Olj+b40foYc6eeypBT0mTK/L7i2f34mcXVcK6D8IKADsHL8+HF16tRJfn5+ioqK0nfffZdvny+//FKhoaFKTU0t0XNnZWWpW7duSk5O1uTJkzVnzhzVqFGjRM8hST/++GOJh9PSMm7cOH399de2LuO6du/erT59+igyMlIzZ87UjBkzbFrP559/rrffftumNRRXUlKSunfvLk9PT02ZMkVz5syRt7e3rctyeOnp6Ro9enS5+uMBAMDxuNi6AAD2pXfv3jp+/LgmTJigtWvXqlu3btq9e7flDvClS5c0cuRIvfrqq/L39y/Rc+/fv1+HDx/WzJkz9cQTT5Tosa/0448/asqUKQ4R0seNG6euXbuqc+fOJXrcixcvysWl5P4vYNWqVcrNzdU777yjWrVqldhxi+vzzz/XH3/8oaefftpqe40aNXTx4kW5urraprBC2Lhxo86dO6exY8eqffv2pXae1q1b6+LFi3Jzcyu1c9iT9PR0vfLKK5Kktm3b2rYYSJL27NkjJyfuFQHAlfitCMDi4sWLWrFihaZPn65BgwZpzpw5qly5shYvXmzZZ+LEifL39y+VAH369GlJstvh0WWJh4dHiQZ0R3nvTCaTPDw85OzsbOtSrupmXUsnJyd5eHgQkGAz7u7udv3HMgCwBf5fGYDFpUuXZBiGAgMDJeWFmYCAAKWnp0vKG/7++uuv65133inyP+pXrFihVq1aydvbWwEBAXrggQe0a9cuy+N9+vRRmzZtJEndunWTyWQq8l2uNWvWqFu3bqpevbrc3d1VrVo1PfPMM7p48aLVeaZMmWJ5feYvs9zcXL399tuqV6+ePDw8VLFiRQ0cOFBnz54tVA1ff/216tevLw8PD9WvX19fffVVgftNnDhRt99+uypUqCBPT09FR0drwYIFVvuYTCZduHBBs2fPttRp7kE8fPiwBg8erDp16sjT01MVKlRQt27ddOjQoULV+c8edHPP7L59+9SnTx8FBATI399fffv2tbz/VxMeHq5Ro0ZJkkJCQqyOfbVe93/2U37yyScymUxau3athg8frpCQEHl7e+vBBx/UmTNn8j3/p59+Ups2beTr6ys/Pz81a9ZMn3/+uaS8u6M//PCDDh8+bLlu5hEgV+tBv97n80avkdn8+fMVHR0tT09PBQcH67HHHtPx48ctj7dt21a9e/eWJDVr1szqPb+WxMREde/eXX5+fqpQoYL+9a9/6dKlS9d8TkH94m3btlX9+vW1c+dO3XHHHfLy8lKVKlX0xhtv5Hv+sWPH1LlzZ3l7eys0NFTPPPOMMjIyCnUdzp07p6efflrh4eFyd3dXaGio7rrrLm3ZsiVfLZs3b9btt98uT09P1axZU9OmTct3vNOnT6tfv36qWLGiPDw81KhRI82ePdvy+KFDhxQSEiJJeuWVVyyfi2uNoklOTtbIkSPVoEED+fj4yM/PTx07dtT27dsL9Rr/KTs7W2PHjlVkZKTc3d0VHh6u//znP1bXbPjw4apQoYIMw7Bse+qpp2QymfTuu+9atp06dUomk0lTp06VJGVmZurll19WdHS0/P395e3trVatWmnlypVWNZg//xMnTtSMGTMstTRr1kwbN27MV/Pu3bvVvXt3hYSEyNPTU3Xq1NGLL75otc/x48f1+OOPq2LFinJ3d1e9evX08ccfF+qa3OjvgX86efKk+vbtq6pVq8rd3V1hYWF64IEH8v1e/Omnnyw/776+vurUqZN27NhRrNe/detWdezYUX5+fvLx8VG7du20bt06q32K8roMw9Crr76qqlWrysvLS3fccUeBtWVlZemVV15R7dq15eHhoQoVKqhly5ZaunTpda8TAPvGEHcAFoGBgYqMjNS4ceM0btw4/frrr9q2bZvee+89SdJzzz2njh07qnXr1kU67rJly9SxY0dFRERo9OjRunjxot577z21aNFCW7ZsUXh4uAYOHKgqVapo3LhxGjZsmJo1a6aKFSsW6Tzz589Xenq6Bg0apAoVKmjDhg167733dOzYMc2fP1+SNHDgQJ04cUJLly7VnDlz8h1j4MCB+uSTT9S3b18NGzZMBw8e1Pvvv6+tW7dq7dq117zbs2TJEnXp0kVRUVEaP368kpKSLP9Y/Kd33nlH999/vx599FFlZmbqf//7n7p166bvv/9enTp1kpQ36doTTzyh5s2ba8CAAZKkyMhISXnDoH/99Vf16NFDVatW1aFDhzR16lS1bdtWO3fulJeXV5GunVn37t1Vs2ZNjR8/Xlu2bNGHH36o0NBQTZgw4arPefvtt/Xpp5/qq6++0tSpU+Xj46OGDRsW6/xPPfWUAgMDNWrUKB06dEhvv/22hg4dqnnz5ln2+eSTT/T444+rXr16euGFFxQQEKCtW7dq0aJFeuSRR/Tiiy8qNTVVx44d0+TJkyVJPj4+Vz1nYT6fN3qNzHX37dtXzZo10/jx43Xq1Cm98847Wrt2rbZu3aqAgAC9+OKLqlOnjmbMmKExY8aoZs2alvf8Wrp3767w8HCNHz9e69at07vvvquzZ8/q008/ve5z/+ns2bPq0KGDHnroIXXv3l0LFizQv//9bzVo0EAdO3aUlDfapl27djpy5IiGDRumypUra86cOVqxYkWhzvHkk09qwYIFGjp0qKKiopSUlKRffvlFu3bt0m233WZVyz333KPu3burZ8+e+uKLLzRo0CC5ubnp8ccft9TStm1b7du3T0OHDlXNmjU1f/589enTRykpKfrXv/6lkJAQTZ06VYMGDdKDDz6ohx56SJKu+Tk9cOCAvv76a3Xr1k01a9bUqVOnNH36dLVp00Y7d+5U5cqVi3Rdn3jiCc2ePVtdu3bViBEjtH79eo0fP167du2y/CGvVatWmjx5snbs2KH69etLyvvDo5OTk9asWaNhw4ZZtkmy/C5OS0vThx9+qJ49e6p///46d+6cPvroI8XHx2vDhg1q3LixVS2ff/65zp07p4EDB8pkMumNN97QQw89pAMHDlh+x/32229q1aqVXF1dNWDAAIWHh2v//v367rvv9Nprr0nK+0NBbGysTCaThg4dqpCQEP3000/q16+f0tLS8rWYFFZhfg8UpEuXLtqxY4eeeuophYeH6/Tp01q6dKmOHDli+TmeM2eOevfurfj4eE2YMEHp6emaOnWqWrZsqa1bt1r2K8zr37Fjh1q1aiU/Pz8999xzcnV11fTp09W2bVutXr1aMTExRX5dL7/8sl599VXdc889uueee7RlyxbdfffdyszMtDrW6NGjNX78eMv/R6SlpWnTpk3asmWL7rrrrmJddwB2wgCAKyxfvtwIDAw0JBmSjKefftowDMNYu3at4enpaRw6dKjIx2zcuLERGhpqJCUlWbZt377dcHJyMnr16mXZtnLlSkOSMX/+/Ose07zvypUrLdvS09Pz7Td+/HjDZDIZhw8ftmwbMmSIUdCvvzVr1hiSjLlz51ptX7RoUYHbC3qdYWFhRkpKimXbkiVLDElGjRo1rPb9Z62ZmZlG/fr1jTvvvNNqu7e3t9G7d+985yrotSYkJBiSjE8//fSadRqGYUgyRo0aZfl+1KhRhiTj8ccft9rvwQcfNCpUqHDd45mff+bMmWuex6xGjRpWr2vWrFmGJKN9+/ZGbm6uZfszzzxjODs7W65pSkqK4evra8TExBgXL160OuaVz+vUqVO+a24YhnHw4EFDkjFr1izLtsJ+Pm/kGmVmZhqhoaFG/fr1rer+/vvvDUnGyy+/nO9abNy48ZrHvLKm+++/32r74MGDDUnG9u3bLdv+ec0L+hlq06ZNvs9QRkaGUalSJaNLly6WbW+//bYhyfjiiy8s2y5cuGDUqlUr3zEL4u/vbwwZMuSa+5hreeutt6xqMb9fmZmZVrV89tlnlv0yMzONuLg4w8fHx0hLSzMMwzDOnDlz1c9jQS5dumTk5ORYbTt48KDh7u5ujBkzxmrbPz9T5vfFbNu2bYYk44knnrA63siRIw1JxooVKwzDMIzTp08bkowPPvjAMIy8z7uTk5PRrVs3o2LFipbnDRs2zAgKCrJ85rOzs42MjAyrY589e9aoWLGi1efVXGuFChWM5ORky/ZvvvnGkGR89913lm2tW7c2fH19rX53Gob1z1m/fv2MsLAwIzEx0WqfHj16GP7+/gX+nrpScX8PFOTs2bOGJOPNN9+86j7nzp0zAgICjP79+1ttP3nypOHv72+1vTCvv3Pnzoabm5uxf/9+y7YTJ04Yvr6+RuvWrYv8uk6fPm24ubkZnTp1strvP//5jyHJ6lo1atTI6NSp01VfKwDHxRB3AFbuvPNOHTlyROvWrdORI0c0efJk5ebmatiwYRoxYoRq1KihqVOnqm7duqpTp06Bw02v9Ndff2nbtm3q06ePgoKCLNsbNmyou+66Sz/++GOJ1e7p6Wn57wsXLigxMVG33367DMPQ1q1br/v8+fPny9/fX3fddZcSExMtX9HR0fLx8ck3XPRK5tfZu3dvq8nz7rrrLkVFRV2z1rNnzyo1NVWtWrWyGuJb2NealZWlpKQk1apVSwEBAYU+RkGefPJJq+9btWqlpKQkpaWlFfuYRTFgwACrloNWrVopJydHhw8fliQtXbpU586d0/PPPy8PDw+r5xZnWavifD6Lc402bdqk06dPa/DgwVZ1d+rUSXXr1tUPP/xQ5NqvNGTIEKvvn3rqKUkq1s+Xj4+PHnvsMcv3bm5uat68uQ4cOGDZ9uOPPyosLExdu3a1bPPy8rKM9LiegIAArV+/XidOnLjmfi4uLho4cKBVLQMHDtTp06e1efNmSy2VKlVSz549Lfu5urpq2LBhOn/+vFavXl2omv7J3d3d0sqTk5OjpKQk+fj4qE6dOkX+GTO/D8OHD7faPmLECEmyvP8hISGqW7eufv75Z0nS2rVr5ezsrGeffVanTp3S3r17JeXdQW/ZsqXlM+/s7GyZ7C83N1fJycnKzs5W06ZNC6z14YcftrQySXmfYUmW9/jMmTP6+eef9fjjj6t69epWzzWf0zAMLVy4UPfdd58Mw7D6nRkfH6/U1NRi/y663u+Bgnh6esrNzU2rVq26akvS0qVLlZKSop49e1rV6+zsrJiYGMvv+MK8/pycHC1ZskSdO3dWRESE5fGwsDA98sgj+uWXX/L9Trje61q2bJkyMzMtbQ1mBY1ECAgI0I4dOyyfCQBlBwEdQD4+Pj6KiYlRtWrVJEmzZs3SyZMn9fzzz2vZsmV69tln9frrr+uNN97QiBEjrhlczf/wqFOnTr7Hbr31ViUmJurChQslUveRI0csQcvHx0chISGWvvbCLAm3d+9epaamKjQ0VCEhIVZf58+ft0zeVRDz66xdu3a+xwp67d9//71iY2Pl4eGhoKAgyxDcwi5dd/HiRb388suqVq2a3N3dFRwcrJCQEKWkpNzQ8nf//Meo+R/xhe3Bv1HXO//+/fslyTL890YV5/NZnGt0rfPUrVv3msGjMP75uYuMjJSTk1Oh5yS4UtWqVfP9sSMwMNDq9R0+fFi1atXKt19Br68gb7zxhv744w9Vq1ZNzZs31+jRo63+AGBWuXLlfEvM3XLLLZJkeW2HDx9W7dq1882Lceutt1oeL47c3FxNnjxZtWvXtvoZ++2334r8M3b48GE5OTnlW+GgUqVKCggIsKqxVatWliHsa9asUdOmTdW0aVMFBQVpzZo1SktL0/bt2y2h2mz27Nlq2LChpR85JCREP/zwQ4G1Xu8zbH4vrvVzdubMGaWkpGjGjBn5fl/27dtXkq75O/NaivMz5u7urgkTJuinn35SxYoV1bp1a73xxhs6efKkZR9zmL3zzjvz1bxkyRJLvYV9/enp6Vf93ZGbm6ujR48W6XVd7f9HQkJCrP6gIkljxoxRSkqKbrnlFjVo0EDPPvusfvvtt6vWC8Bx0IMO4JrS0tL04osvauLEifL29tZ///tfq2W/unbtqrlz5+qOO+6waZ05OTm66667lJycrH//+9+qW7euvL29dfz4cfXp00e5ubnXPUZubq5CQ0M1d+7cAh83TzJ1o9asWaP7779frVu31gcffKCwsDC5urpq1qxZlonOruepp57SrFmz9PTTTysuLk7+/v4ymUzq0aNHoV7r1VxtdnPjikmrSkJOTo5Nz38jHKHG4owmMLsZr6979+5q1aqVvvrqKy1ZskRvvvmmJkyYoC+//NLS525r48aN00svvaTHH39cY8eOVVBQkJycnPT0008X+2esMO9Ly5YtNXPmTB04cEBr1qxRq1atZDKZ1LJlS61Zs0aVK1dWbm6uVUD/7LPP1KdPH3Xu3FnPPvusQkND5ezsrPHjx1v+qHWlkniPzdfgscces0xs+E/FnYuiuPU9/fTTuu+++/T1119r8eLFeumllzR+/HitWLFCTZo0sdQ8Z84cVapUKd/zS3Jli4KU5M9W69attX//fn3zzTdasmSJPvzwQ02ePFnTpk0r1WVKAZQ+AjqAazJPVPXoo49Kkk6cOKEmTZpYHq9cubK2bdt21efXqFFDUt56t/+0e/duBQcH57tDVhy///67/vzzT82ePVu9evWybC9oRtur/SM5MjJSy5YtU4sWLayGkBeG+XUWNNzwn6994cKF8vDw0OLFi+Xu7m7ZPmvWrELXumDBAvXu3VtvvfWWZdulS5eUkpJSpLpLW2BgYL6aMjMz9ddffxXreOYJ0/74449rrrde2IB6sz6fV57nzjvvtHpsz549lseLa+/evapZs6bl+3379ik3NzffBHclpUaNGvrjjz9kGIbVtS7oOl5NWFiYBg8erMGDB+v06dO67bbb9Nprr1kF9BMnTujChQtW78Gff/4pSZbXVqNGDf3222/Kzc21uou+e/duy+NS0f9osWDBAt1xxx366KOPrLanpKQoODi4SMeqUaOGcnNztXfvXsudfSlvkrWUlBSr998cvJcuXaqNGzfq+eefl5QXyKZOnWoZVRAdHW1Va0REhL788kur12leXaGozEO2//jjj6vuExISIl9fX+Xk5Kh9+/bFOk9piIyM1IgRIzRixAjt3btXjRs31ltvvaXPPvvM8vsjNDT0mjUX9vV7eXld9XeHk5OTZRRaYV35/yNXDps/c+ZMgaMHgoKC1LdvX/Xt21fnz59X69atNXr0aAI64OAY4g7gqv7880+9//77eueddyz/6KtYsaLlH76StGvXrgLvRJiFhYWpcePGmj17tlVQ++OPP7RkyRLdc889JVKr+c7ElXciDMPQO++8k29f8z/2/xkcu3fvrpycHI0dOzbfc7Kzs68Zfq98nVcOKV26dKl27tyZr1aTyWR1F/nQoUP6+uuvC6y1oPM6Ozvnu+vy3nvvXfXOtK1ERkZa+mnNZsyYUew67777bvn6+mr8+PH5lhG78np4e3sXahjyzfp8Nm3aVKGhoZo2bZrVslo//fSTdu3aZZm5v7jMSweamVdeKK270ffcc49OnDhhtTRgenq6ZsyYcd3n5uTk5HtvQkNDVbly5XzLtGVnZ2v69OmW7zMzMzV9+nSFhIRYAuo999yjkydPWs2EnZ2drffee08+Pj6WNhfzygaF/SNWQT9j8+fPt1oWr7DMn6O3337bavukSZMkyer9r1mzpqpUqaLJkycrKytLLVq0kJQX3Pfv368FCxYoNjbW6m5vQb//1q9fr4SEhCLXKuWFz9atW+vjjz/WkSNHrB4zn8PZ2VldunTRwoULCwyyhVkWrSSlp6fn+50QGRkpX19fy+cqPj5efn5+GjdunLKysvIdw1xzYV//3XffrW+++caqleTUqVP6/PPP1bJlS/n5+RXpNbRv316urq567733rN7Lf35uJCkpKcnqex8fH9WqVavQSx0CsF/cQQdwVc8884wefvhhNW/e3LKta9eueuCBB/Sf//xHkvTdd9/p+++/v+Zx3nzzTXXs2FFxcXHq16+fZRkrf3//a65DXBR169ZVZGSkRo4cqePHj8vPz08LFy4s8K6D+R/2w4YNU3x8vJydndWjRw+1adNGAwcO1Pjx47Vt2zbdfffdcnV11d69ezV//ny98847VpNi/dP48ePVqVMntWzZUo8//riSk5P13nvvqV69ejp//rxlv06dOmnSpEnq0KGDHnnkEZ0+fVpTpkxRrVq18vUQRkdHa9myZZo0aZIqV66smjVrKiYmRvfee6/mzJkjf39/RUVFKSEhQcuWLVOFChVK5HqWlCeeeEJPPvmkunTporvuukvbt2/X4sWLi3wH0szPz0+TJ0/WE088oWbNmumRRx5RYGCgtm/frvT0dMva19HR0Zo3b56GDx+uZs2aycfHR/fdd1+Bx7wZn09XV1dNmDBBffv2VZs2bdSzZ0/LMmvh4eF65plnbuj4Bw8e1P33368OHTooISFBn332mR555BE1atSoROr/p/79++v9999Xr169tHnzZoWFhWnOnDmFWt7v3Llzqlq1qrp27apGjRrJx8dHy5Yt08aNG61GhEh5I3QmTJigQ4cO6ZZbbtG8efO0bds2zZgxw7Ic2IABAzR9+nT16dNHmzdvVnh4uBYsWKC1a9fq7bfflq+vr6S8ScSioqI0b9483XLLLQoKClL9+vWv2md87733asyYMerbt69uv/12/f7775o7d67Vnc3CatSokXr37q0ZM2YoJSVFbdq00YYNGzR79mx17tw5X4tQq1at9L///U8NGjSw9B7fdttt8vb21p9//qlHHnkkX61ffvmlHnzwQXXq1EkHDx7UtGnTFBUVZfW7pyjeffddtWzZUrfddpsGDBigmjVr6tChQ/rhhx8so6Zef/11rVy5UjExMerfv7+ioqKUnJysLVu2aNmyZUpOTi7WuYvjzz//VLt27dS9e3dFRUXJxcVFX331lU6dOqUePXpIyvv9MXXqVP3f//2fbrvtNvXo0UMhISE6cuSIfvjhB7Vo0ULvv/9+oV//q6++qqVLl6ply5YaPHiwXFxcNH36dGVkZOiNN94o8msICQnRyJEjNX78eN1777265557tHXrVv3000/5fmdGRUWpbdu2io6OVlBQkDZt2mRZuhCAg7u5k8YDcBQ//PCD4ePjY5w4cSLfY+PHjzcqV65shIWFGRMmTCjU8ZYtW2a0aNHC8PT0NPz8/Iz77rvP2Llzp9U+N7rM2s6dO4327dsbPj4+RnBwsNG/f39j+/bt+ZZAys7ONp566ikjJCTEMJlM+ZZcmzFjhhEdHW14enoavr6+RoMGDYznnnuuwGvxTwsXLjRuvfVWw93d3YiKijK+/PJLo3fv3vmW/Proo4+M2rVrG+7u7kbdunWNWbNm5VuayTAMY/fu3Ubr1q0NT09Pq2V2zp49a/Tt29cIDg42fHx8jPj4eGP37t35li26Gl1lmbV/LpNmXh7o4MGD1zze1Z6fk5Nj/Pvf/zaCg4MNLy8vIz4+3ti3b99Vl1f659JiBb3PhmEY3377rXH77bdbPk/Nmzc3/vvf/1oeP3/+vPHII48YAQEBVsvcFbQklmEU7vN5o9fIMAxj3rx5RpMmTQx3d3cjKCjIePTRR41jx44VeLyiLLO2c+dOo2vXroavr68RGBhoDB06NN8ydIVdZq1evXr5zlPQZ/jw4cPG/fffb3h5eRnBwcHGv/71L8uShNdaZi0jI8N49tlnjUaNGhm+vr6Gt7e30ahRI8vSYv+sZdOmTUZcXJzh4eFh1KhRw3j//ffzHfPUqVOWnwc3NzejQYMG+d5jwzCMX3/91YiOjjbc3Nyuu+TapUuXjBEjRhhhYWGGp6en0aJFCyMhIcFo06aN0aZNG8t+hVlmzTAMIysry3jllVeMmjVrGq6urka1atWMF154wbh06VK+c0+ZMsWQZAwaNMhqe/v27Q1JxvLly6225+bmGuPGjTNq1KhhuLu7G02aNDG+//77fO+budaCliIr6Hr88ccfxoMPPmgEBAQYHh4eRp06dYyXXnrJap9Tp04ZQ4YMMapVq2a4uroalSpVMtq1a2fMmDGjoMtq5UZ/D1wpMTHRGDJkiFG3bl3D29vb8Pf3N2JiYqyWArzyePHx8Ya/v7/h4eFhREZGGn369DE2bdpU5Ne/ZcsWIz4+3vDx8TG8vLyMO+64w/j111+t9inK68rJyTFeeeUVy+eubdu2xh9//JHvWr366qtG8+bNjYCAAMPT09OoW7eu8dprr1mWHwTguEyGYUez2gAAAEhq27atEhMTr9kHDABAWUMPOgAAAAAAdoCADgAAAACAHSCgAwAAAABgB+hBBwAAAADADnAHHQAAAAAAO0BABwAAAADADhDQAaAUbNy4Ubfffru8vb1lMpm0bdu2Uj3f3r17dffdd8vf318mk0lff/11qZ7PHplMJo0ePbrIz/vkk09kMpm0adMmu6kJAACUTwR0AChhWVlZ6tatm5KTkzV58mTNmTNHNWrUKNVz9u7dW7///rtee+01zZkzR02bNi3xc6Snp2v06NFatWpViR/bkf3444+EcBs5ceKEHnvsMdWpU0e+vr4KCAhQ8+bNNXv2bF1tip158+YpLi5O3t7eCggI0O23364VK1bk2++jjz7SrbfeKg8PD9WuXVvvvfdegcc7fvy4unfvroCAAPn5+emBBx7QgQMHSvR1FtcHH3ygTz75pEjPOXfunJ577jnVrFlT7u7uqlKlirp27ar09HTLPuY/ahX0dfLkyRJ+FQBQvrjYugAAKGv279+vw4cPa+bMmXriiSdK/XwXL15UQkKCXnzxRQ0dOrTUzpOenq5XXnlFktS2bdtSO09xXbx4US4uN///1n788UdNmTKlwJBuq5rKi8TERB07dkxdu3ZV9erVlZWVpaVLl6pPnz7as2ePxo0bZ7X/6NGjNWbMGHXt2lV9+vRRVlaW/vjjDx0/ftxqv+nTp+vJJ59Uly5dNHz4cK1Zs0bDhg1Tenq6/v3vf1v2O3/+vO644w6lpqbqP//5j1xdXTV58mS1adNG27ZtU4UKFW7KdbiaDz74QMHBwerTp0+h9k9NTVWbNm107NgxDRgwQLVq1dKZM2e0Zs0aZWRkyMvLy2r/MWPGqGbNmlbbAgICSqh6ACif+FcDAJSw06dPSyrZf6heuHBB3t7eBT525syZEj/fzZSdna3c3Fy5ubnd0HE8PDxKqKKSY4812YtrfaYLq2HDhvlGdAwdOlT33Xef3n33XY0dO1bOzs6SpHXr1mnMmDF666239Mwzz1z1mBcvXtSLL76oTp06acGCBZKk/v37Kzc3V2PHjtWAAQMUGBgoKS8A7927Vxs2bFCzZs0kSR07dlT9+vX11ltv5fsDgb174YUXdPjwYW3ZssUqeF/5R4krdezYsVRG6wBAecYQdwAoQX369FGbNm0kSd26dZPJZLK627xixQq1atXKMrz2gQce0K5du6yOMXr0aJlMJu3cuVOPPPKIAgMD1bJlywLPN3r0aMvw+WeffVYmk0nh4eGWx48fP67HH39cFStWlLu7u+rVq6ePP/7Y6hiZmZl6+eWXFR0dLX9/f3l7e6tVq1ZauXKlZZ9Dhw4pJCREkvTKK69YhrOa7xq3bdu2wLvqffr0sarn0KFDMplMmjhxot5++21FRkbK3d1dO3fulCTt3r1bXbt2VVBQkDw8PNS0aVN9++23V7/gVyio33vr1q3q2LGj/Pz85OPjo3bt2mndunUFPj89PV0DBw5UhQoV5Ofnp169euns2bPXPGefPn00ZcoUy/nNX1eryfze/vnnn3rsscfk7++vkJAQvfTSSzIMQ0ePHtUDDzwgPz8/VapUSW+99Va+c2ZkZGjUqFGqVauW3N3dVa1aNT333HPKyMgo1HVav369OnToIH9/f3l5ealNmzZau3at5fEFCxbIZDJp9erV+Z47ffp0mUwm/fHHH5ZthXnPzEOiV69ercGDBys0NFRVq1bVypUrZTKZ9NVXX+U71+effy6TyaSEhIRCva4rhYeHKz09XZmZmZZtb7/9tipVqqR//etfMgxD58+fL/C5K1euVFJSkgYPHmy1fciQIbpw4YJ++OEHy7YFCxaoWbNmlnAuSXXr1lW7du30xRdfXLfOpUuXqmXLlgoICJCPj4/q1Kmj//znP9d93qxZs3TnnXcqNDRU7u7uioqK0tSpU/Ndgx07dmj16tWWz+W1Rr6kpKRo1qxZGjBggGrWrKnMzMxCfabOnTunnJyc6+53pU2bNik+Pl7BwcHy9PRUzZo19fjjjxfpGABQVnEHHQBK0MCBA1WlShWNGzdOw4YNU7NmzVSxYkVJ0rJly9SxY0dFRERo9OjRunjxot577z21aNFCW7ZssQqyUl7Ar127tsaNG3fVftqHHnpIAQEBeuaZZ9SzZ0/dc8898vHxkSSdOnVKsbGxMplMGjp0qEJCQvTTTz+pX79+SktL09NPPy1JSktL04cffqiePXuqf//+OnfunD766CPFx8drw4YNaty4sUJCQjR16lQNGjRIDz74oB566CFJeXcwi2PWrFm6dOmSBgwYIHd3dwUFBWnHjh1q0aKFqlSpoueff17e3t764osv1LlzZy1cuFAPPvhgkc6xY8cOtWrVSn5+fnruuefk6uqq6dOnq23btlq9erViYmKs9h86dKgCAgI0evRo7dmzR1OnTtXhw4e1atUqq9B9pYEDB+rEiRNaunSp5syZU+jaHn74Yd166616/fXX9cMPP+jVV19VUFCQpk+frjvvvFMTJkzQ3LlzNXLkSDVr1kytW7eWJOXm5ur+++/XL7/8ogEDBujWW2/V77//rsmTJ+vPP/+87uSAK1asUMeOHRUdHa1Ro0bJycnJEvbWrFmj5s2bq1OnTvLx8dEXX3xh+WOT2bx581SvXj3Vr1/fco2L8p4NHjxYISEhevnll3XhwgW1bdtW1apV09y5c/PtO3fuXEVGRiouLu661/PixYu6cOGCzp8/r9WrV2vWrFmKi4uTp6enZZ/ly5fr9ttv17vvvqtXX31VSUlJqlSpUr7WkK1bt0pSvjvD0dHRcnJy0tatW/XYY48pNzdXv/32W4HBsnnz5lqyZInOnTsnX1/fAmvesWOH7r33XjVs2FBjxoyRu7u79u3bZ/XHkquZOnWq6tWrp/vvv18uLi767rvvNHjwYOXm5mrIkCGS8v4g8dRTT8nHx0cvvviiJFl+FxXkl19+0aVLl1SrVi117dpVX3/9tXJzcxUXF6cpU6aocePG+Z5zxx136Pz583Jzc1N8fLzeeust1a5d+5q1nz59WnfffbdCQkL0/PPPKyAgQIcOHdKXX3553dcNAOWCAQAoUStXrjQkGfPnz7fa3rhxYyM0NNRISkqybNu+fbvh5ORk9OrVy7Jt1KhRhiSjZ8+ehTrfwYMHDUnGm2++abW9X79+RlhYmJGYmGi1vUePHoa/v7+Rnp5uGIZhZGdnGxkZGVb7nD171qhYsaLx+OOPW7adOXPGkGSMGjUqXw1t2rQx2rRpk2977969jRo1auSr1c/Pzzh9+rTVvu3atTMaNGhgXLp0ybItNzfXuP32243atWtf8xoYhpGvts6dOxtubm7G/v37LdtOnDhh+Pr6Gq1bt7ZsmzVrliHJiI6ONjIzMy3b33jjDUOS8c0331zzvEOGDDGu9n+n/6zJ/N4OGDDAsi07O9uoWrWqYTKZjNdff92y/ezZs4anp6fRu3dvy7Y5c+YYTk5Oxpo1a6zOM23aNEOSsXbt2qvWmZuba9SuXduIj483cnNzLdvT09ONmjVrGnfddZdlW8+ePY3Q0FAjOzvbsu2vv/4ynJycjDFjxli2FfY9M1/jli1bWh3TMAzjhRdeMNzd3Y2UlBTLttOnTxsuLi4FftYKMn78eEOS5atdu3bGkSNHLI8nJycbkowKFSoYPj4+xptvvmnMmzfP6NChgyHJmDZtmmXfIUOGGM7OzgWeJyQkxOjRo4dhGH//PFx5PcymTJliSDJ279591ZonT55sSDLOnDlTqNd4JfPP7pXi4+ONiIgIq2316tUr8OeyIJMmTbJco+bNmxtz5841PvjgA6NixYpGYGCgceLECcu+8+bNM/r06WPMnj3b+Oqrr4z/9//+n+Hl5WUEBwdbXfeCfPXVV4YkY+PGjYWqCwDKG4a4A8BN8Ndff2nbtm3q06ePgoKCLNsbNmyou+66Sz/++GO+5zz55JPFPp9hGFq4cKHuu+8+GYahxMREy1d8fLxSU1O1ZcsWSZKzs7Ol/zs3N1fJycnKzs5W06ZNLfuUtC5duliGzEtScnKyVqxYoe7du+vcuXOWWpOSkhQfH6+9e/fmm8jrWnJycrRkyRJ17txZERERlu1hYWF65JFH9MsvvygtLc3qOQMGDJCrq6vl+0GDBsnFxaXA9+ZGXTl5oLOzs5o2bSrDMNSvXz/L9oCAANWpU8dqRvD58+fr1ltvVd26da3e0zvvvFOSrNoS/mnbtm3au3evHnnkESUlJVmee+HCBbVr104///yzcnNzJeXd4T99+rRVf/eCBQuUm5urhx9+WFLx3rP+/ftbesLNevXqpYyMDEu/t5R3pz47O1uPPfZYoa5nz549tXTpUn3++ed65JFHJOXdVTczD2dPSkrShx9+qJEjR6p79+764YcfFBUVpVdffdWy78WLF686H4KHh4fluOb/dXd3L3C/f9bwT+Y5I7755hvLdS+sK0cGpKamKjExUW3atNGBAweUmppapGOZma+RyWTS8uXL9cgjj2jQoEH6+uuvdfbsWUsrhyR1795ds2bNUq9evdS5c2eNHTtWixcvVlJSkl577bVrnsf8ur///ntlZWUVq1YAKMsI6ABwExw+fFiSVKdOnXyP3XrrrZagdKV/zo5cFGfOnFFKSopmzJihkJAQq6++fftK+nsyO0maPXu2GjZsKA8PD1WoUEEhISH64Ycfiv2P/ev552vbt2+fDMPQSy+9lK/eUaNG5av3es6cOaP09PSrXu/c3FwdPXrUavs/h+b6+PgoLCxMhw4dKvR5C6t69epW3/v7+8vDw0PBwcH5tl/ZB793717t2LEj3zW65ZZbJF37Gu3du1dS3pJ8/3z+hx9+qIyMDMv7be5RnzdvnuX58+bNU+PGjS3nKs57VtBnum7dumrWrJnmzp1r2TZ37lzFxsaqVq1aV309V6pRo4bat2+vnj17au7cuYqIiFD79u0tAdkcaF1dXdW1a1fL85ycnPTwww/r2LFjOnLkiGXfK3vXr3Tp0iXLscz/W1Cf9qVLl6z2KcjDDz+sFi1a6IknnlDFihXVo0cPffHFF4UK62vXrlX79u0tc1mEhIRYeteL+zNrrvW+++6ztMlIUmxsrGrWrKlff/31ms9v2bKlYmJitGzZsmvu16ZNG3Xp0kWvvPKKgoOD9cADD2jWrFmFnkMBAMo6etABwE5d6x/312P+R/5jjz2m3r17F7iPuX/8s88+U58+fdS5c2c9++yzCg0NlbOzs8aPH6/9+/cX6nwmk6nAPvmrTR71z9dmrnfkyJGKj48v8DmFDWuO4J93ka+2TZLVdc3NzVWDBg00adKkAvetVq3aVc9pvsZvvvlmgf3EkizBzN3dXZ07d9ZXX32lDz74QKdOndLatWutZiUvznt2tc90r1699K9//UvHjh1TRkaG1q1bp/fff/+qr+V6unbtqpkzZ+rnn39WfHy8ZQK7gICAfNc5NDRUknT27FlVr15dYWFhysnJ0enTpy2PSXmTKSYlJaly5cqSpKCgILm7u+uvv/7Kd37zNvO+BfH09NTPP/+slStX6ocfftCiRYs0b9483XnnnVqyZMlVPw/79+9Xu3btVLduXU2aNEnVqlWTm5ubfvzxR02ePLnId+PNzLUW1KceGhp63QkTpbzP3549e665j8lk0oIFC7Ru3Tp99913Wrx4sR5//HG99dZbWrdundUfBwCgPCKgA8BNYJ5pvaB/vO7evVvBwcE3vOTUlUJCQuTr66ucnBy1b9/+mvsuWLBAERER+vLLL60mQzPfBTW72kRpkhQYGGg1FNvMPHLgeszD0F1dXa9bb2GEhITIy8vrqtfbyckpX5jdu3ev7rjjDsv358+f119//aV77rnnmue61nUpaZGRkdq+fbvatWtX5PNGRkZKkvz8/Ap1jR9++GHNnj1by5cv165du2QYhmV4u1Sy71mPHj00fPhw/fe//9XFixfl6upqda6iMt85N99NdnJyUuPGjbVx40ZlZmZaDWE/ceKEJFlaLsx/vNi0aZPVe79p0ybl5uZaHndyclKDBg20adOmfOdfv369IiIirjpBnJmTk5PatWundu3aadKkSRo3bpxefPFFrVy58qrX9LvvvlNGRoa+/fZbq5EYBbU3FOUzEh0dLUkFtpKcOHFCdevWve4xDhw4YNW6ci2xsbGKjY3Va6+9ps8//1yPPvqo/ve//1m1fwBAecQQdwC4CcLCwtS4cWPNnj1bKSkplu1//PGHlixZct0QWFTOzs7q0qWLFi5caLUklpl57XTzvpL1ndr169fnW97Ky8tLkqzqN4uMjNTu3butjrt9+/ZCzUgt5d2ha9u2raZPn17gHckrj1sYzs7Ouvvuu/XNN99YDVE/deqUPv/8c7Vs2VJ+fn5Wz5kxY4ZVT+zUqVOVnZ2tjh07XvNc5j+sFHRdSlr37t11/PhxzZw5M99j5pnMryY6OlqRkZGaOHFigUuM/fMat2/fXkFBQZo3b57mzZun5s2bWw1RL8n3LDg4WB07dtRnn32muXPnqkOHDvmG+xfkauf46KOPZDKZdNttt1m2Pfzww8rJydHs2bMt2y5duqS5c+cqKirKcgf5zjvvVFBQUL5ly6ZOnSovLy916tTJsq1r167auHGjVUjfs2ePVqxYoW7dul2z9uTk5HzbzOH/WsO9C/p5TU1N1axZs/Lt6+3tXejPZZ06ddSoUSN98803SkxMtGxfsmSJjh49qrvuusuyraDr/uOPP2rz5s3q0KHDNc9z9uzZfKNtCvO6AaC84A46ANwkb775pjp27Ki4uDj169fPssyav79/vvW7S8Lrr7+ulStXKiYmRv3791dUVJSSk5O1ZcsWLVu2zBIQ7r33Xn355Zd68MEH1alTJx08eFDTpk1TVFSUVZDz9PRUVFSU5s2bp1tuuUVBQUGqX7++6tevr8cff1yTJk1SfHy8+vXrp9OnT2vatGmqV69evsnYrmbKlClq2bKlGjRooP79+ysiIkKnTp1SQkKCjh07pu3btxfp9b/66quWdaYHDx4sFxcXTZ8+XRkZGXrjjTfy7Z+Zmal27dqpe/fu2rNnjz744AO1bNlS999//zXPY77zOGzYMMXHx8vZ2Vk9evQoUq2F9X//93/64osv9OSTT2rlypVq0aKFcnJytHv3bn3xxRdavHhxvuXBzJycnPThhx+qY8eOqlevnvr27asqVaro+PHjWrlypfz8/PTdd99Z9nd1ddVDDz2k//3vf7pw4YImTpyY75gl+Z716tXL0h8+duzYQj3ntdde09q1a9WhQwdVr15dycnJWrhwoTZu3KinnnrKaoj9wIED9eGHH2rIkCH6888/Vb16dc2ZM0eHDx+2et2enp4aO3ashgwZom7duik+Pl5r1qzRZ599ptdee81qksfBgwdr5syZ6tSpk0aOHClXV1dNmjRJFStW1IgRI65Z+5gxY/Tzzz+rU6dOqlGjhk6fPq0PPvhAVatWVcuWLa/6vLvvvltubm667777NHDgQJ0/f14zZ85UaGhovj+UREdHa+rUqXr11VdVq1YthYaGWiYULMjkyZN11113qWXLlho4cKBSU1M1adIk3XLLLRo0aJBlv9tvv11NmjRR06ZN5e/vry1btujjjz9WtWrVrruO++zZs/XBBx/owQcfVGRkpM6dO6eZM2fKz8+vxP9QCQAOyUazxwNAmXW1ZdYMwzCWLVtmtGjRwvD09DT8/PyM++67z9i5c6fVPualuAq7/NLVllkzDMM4deqUMWTIEKNatWqGq6urUalSJaNdu3bGjBkzLPvk5uYa48aNM2rUqGG4u7sbTZo0Mb7//vt8S6QZhmH8+uuvRnR0tOHm5pZvCbHPPvvMiIiIMNzc3IzGjRsbixcvvuoyawXVahiGsX//fqNXr15GpUqVDFdXV6NKlSrGvffeayxYsOC61+Gf9RiGYWzZssWIj483fHx8DC8vL+OOO+4wfv31V6t9zEuArV692hgwYIARGBho+Pj4GI8++qjVknhXk52dbTz11FNGSEiIYTKZrJZc+2dNV3tve/fubXh7e+c7dps2bYx69epZbcvMzDQmTJhg1KtXz3B3dzcCAwON6Oho45VXXjFSU1OvW+/WrVuNhx56yKhQoYLh7u5u1KhRw+jevbuxfPnyfPsuXbrUkGSYTCbj6NGjBR6vMO+Z+Rpfa2mtjIwMIzAw0PD39zcuXrx43ddhGIaxZMkS49577zUqV65suLq6Gr6+vkaLFi2MWbNmWS0lZ3bq1Cmjd+/eRlBQkOHu7m7ExMQYixYtKvDYM2bMMOrUqWO4ubkZkZGRxuTJkws85tGjR42uXbsafn5+ho+Pj3Hvvfcae/fuvW7ty5cvNx544AGjcuXKhpubm1G5cmWjZ8+exp9//nnd53777bdGw4YNDQ8PDyM8PNyYMGGC8fHHHxuSjIMHD1r2O3nypNGpUyfD19fXkFSoJdeWLl1qxMbGGh4eHkZQUJDxf//3f8Zff/1ltc+LL75oNG7c2PD39zdcXV2N6tWrG4MGDTJOnjx53eNv2bLF6Nmzp1G9enXD3d3dCA0NNe69915j06ZN130uAJQHJsMoYFYfAAAcSE5OjlxcXDR27Fj9v//3/2xdDoohOztblStX1n333aePPvrI1uUAAGAT9KADAByeeWhvYfqWYZ++/vprnTlzRr169bJ1KQAA2Aw96AAAh7ZgwQJ9+umnMplMVrOwwzGsX79ev/32m8aOHasmTZqoTZs2ti4JAACbIaADABzac889J5PJpI8++kh16tSxdTkooqlTp+qzzz5T48aN9cknn9i6HAAAbIoedAAAAAAA7AA96AAAAAAA2AECOgAAAAAAdoCADgAAAACAHSCgAwAAAABgBwjoAAAAAADYAQI6AAAAAAB2gIAOAAAAAIAdIKADAAAAAGAHCOgAAAAAANgBAjoAAAAAAHaAgA4AAAAAgB0goAMAAAAAYAcI6AAAAAAA2AECOgAAAAAAdoCADgAAAACAHSCgAwAAAABgBwjoAAAAAADYAQI6AAAAAAB2gIAOAAAAAIAdIKADAAAAAGAHCOgAAAAAANgBAjoAAAAAAHaAgA4AAAAAgB1wsXUBuLlyc3N14sQJ+fr6ymQy2bocAAAAADZiGIbOnTunypUry8mJe7f2gIBezpw4cULVqlWzdRkAAAAA7MTRo0dVtWpVW5cBEdDLHV9fX0l5P4R+fn42rgYovPTMbDV/bbkkacOL7eTlxq8vAACAG5GWlqZq1apZMgJsj3/hljPmYe1+fn4EdDgUl8xsObl7Scr7/BLQAQAASgatr/aDRgMAAAAAAOwAAR0AAAAAADtAQAcAAAAAwA4Q0AEAAAAAsAMEdAAAAAAA7AABHQAAAAAAO0BABwAAAADADhDQAQAAAACwAwR0AAAAAADsAAEdAAAAAAA7QEAHAAAAAMAOENABAAAAALADBHQAAAAAAOwAAR0AAAAAADtAQAcAAAAAwA4Q0AEAAAAAsAMEdAAAAAAA7AABHQAAAAAAO0BABwAAAADADhDQAQAAAACwAwR0AAAAAADsAAEdAAAAAAA7QEAHAAAAAMAOENBhM4Zh6GDiBeXmGrYuBQAAAABsjoAOmzAMQ+3eWq07Jq7Sn6fP2bocAAAAALA5AjpswmQyqUqgpyRp3f4kG1cDAAAAALZHQIfNxEVWkCQlHCCgAwAAAAABHTYTG5EX0NcfTKYPHQAAAEC5R0CHzTSo4i9vN2elpGdp90n60AEAAACUbwR02Iyrs5OahgdJktYxzB0AAABAOUdAh02Zh7nThw4AAACgvCOgw6bME8VtoA8dAAAAQDlHQIdN1a/sJx93F6VezNKuk2m2LgcAAAAAbIaADptycXZSs/BASVIC66EDAAAAKMcI6LA5cx/6ugPJNq4EAAAAAGyHgA6b+3s99CTl0IcOAAAAoJwioMPm6lX2k6+7i85dytauv+hDBwAAAFA+EdBhcy7OTmpWk/XQAQAAAJRvBHTYhTjzeuhMFAcAAACgnCKgwy6Y+9A3HEymDx0AAABAuURAh12IquwnXw8XncvI1o4TqbYuBwAAAABuOgI67IKzk0kx9KEDAAAAKMcI6JdNmTJF4eHh8vDwUExMjDZs2HDVfWfOnKlWrVopMDBQgYGBat++fb79DcPQyy+/rLCwMHl6eqp9+/bau3ev1T7Jycl69NFH5efnp4CAAPXr10/nz5+3PH7o0CG1bt1a3t7eat26tQ4dOmT1/HvvvVcLFy688RdvJ2LpQwcAAABQjhHQJc2bN0/Dhw/XqFGjtGXLFjVq1Ejx8fE6ffp0gfuvWrVKPXv21MqVK5WQkKBq1arp7rvv1vHjxy37vPHGG3r33Xc1bdo0rV+/Xt7e3oqPj9elS5cs+zz66KPasWOHli5dqu+//14///yzBgwYYHl8xIgRqlKlirZt26awsDCNHDnSqmYnJyd16dKlFK6IbZgD+sZDZ5Wdk2vjagAAAADg5jIZhlHuZ+SKiYlRs2bN9P7770uScnNzVa1aNT311FN6/vnnr/v8nJwcBQYG6v3331evXr1kGIYqV66sESNGWEJ1amqqKlasqE8++UQ9evTQrl27FBUVpY0bN6pp06aSpEWLFumee+7RsWPHVLlyZUVFRWnSpEnq0KGDfvrpJ40cOVI7duxQSkqKmjVrphUrVqhatWpFeq1paWny9/dXamqq/Pz8inilSldOrqEmY5Yo7VK2vhnSQo2qBdi6JNiR9MxsRb28WJK0c0y8vNxcbFwRAACAY7PnbFBelfs76JmZmdq8ebPat29v2ebk5KT27dsrISGhUMdIT09XVlaWgoLyeqgPHjyokydPWh3T399fMTExlmMmJCQoICDAEs4lqX379nJyctL69eslSY0aNdKyZcuUm5urJUuWqGHDhpKkZ599VkOGDClyOLd3zk4mxZiHudOHDgAAAKCcKfcBPTExUTk5OapYsaLV9ooVK+rkyZOFOsa///1vVa5c2RLIzc+71jFPnjyp0NBQq8ddXFwUFBRk2WfixInavXu3wsPDtXfvXk2cOFE///yztm3bpl69eql79+6KiIjQk08+qczMzAJry8jIUFpamtWXPTMPc2eiOAAAAADlTbkP6Dfq9ddf1//+9z999dVX8vDwKNFjV6lSRd9//72OHDmi77//XsHBwRo8eLCmTZumV199Vb6+vtqzZ4/27t2r6dOnF3iM8ePHy9/f3/Jl73fdYyPyRiFsPJisLPrQAQAAAJQj5T6gBwcHy9nZWadOnbLafurUKVWqVOmaz504caJef/11q+HnkizPu9YxK1WqlG8SuuzsbCUnJ1/1vOPGjdPdd9+t6OhorVq1Sl26dJGrq6seeughrVq1qsDnvPDCC0pNTbV8HT169JqvydZureQnf09XXcjM0R/HWQ8dAAAAQPlR7gO6m5uboqOjtXz5csu23NxcLV++XHFxcVd93htvvKGxY8dq0aJFVn3kklSzZk1VqlTJ6phpaWlav3695ZhxcXFKSUnR5s2bLfusWLFCubm5iomJyXe+Xbt26fPPP9fYsWMl5U1Ml5WVJUnKyspSTk5OgXW6u7vLz8/P6sueOVmth55s42oAAAAA4OYp9wFdkoYPH66ZM2dq9uzZ2rVrlwYNGqQLFy6ob9++kqRevXrphRdesOw/YcIEvfTSS/r4448VHh6ukydP6uTJk5Y1zE0mk55++mm9+uqr+vbbb/X777+rV69eqly5sjp37ixJuvXWW9WhQwf1799fGzZs0Nq1azV06FD16NFDlStXtqrPMAwNGDBAkydPlre3tySpRYsWmjlzpnbt2qVPP/1ULVq0uAlX6uaIi2SiOAAAAADlD+sUSXr44Yd15swZvfzyyzp58qQaN26sRYsWWSZ5O3LkiJyc/v5bxtSpU5WZmamuXbtaHWfUqFEaPXq0JOm5557ThQsXNGDAAKWkpKhly5ZatGiRVZ/63LlzNXToULVr186ypvm7776br74ZM2aoYsWKuvfeey3bRo8erUceeUQxMTHq0KGDhgwZUpKXxKbME8VtOpTXh+7qzN+RAAAAAJR9rINezjjCWoe5uYaiX12qs+lZWjjodkXXCLR1SbADrIMOAABQshwhG5Q33JqE3cnrQ2e5NQAAAADlCwEddsm83BoBHQAAAEB5QUCHXYqLDJYkbTp0VpnZrIcOAAAAoOwjoMMu1Q71UZC3my5m5ej34ym2LgcAAAAASh0BHXbJyclkGeaesJ9h7gAAAADKPgI67JZ5ubV1B5JtXAkAAAAAlD4COuyWZT30w8nKyM6xcTUAAAAAULoI6LBbtUN9VMHbTZeycvXbsVRblwMAAAAApYqADrtlMpn+HuZOHzoAAACAMo6ADrsWG5kX0BNYDx0AAABAGUdAh12LuzyT++bDZ+lDBwAAAFCmEdBh1yJDfBTs466M7FxtO5Ji63IAAAAAoNQQ0GHX8vrQ8+6is9waAAAAgLKMgA679/d66PShAwAAACi7COiwe3GXJ4rbfOSsLmXRhw4AAACgbCKgw+5FBHsrxNddmdm52nY0xdblAAAAAECpIKDD7plMJsVdHuaewHroAAAAAMooAjocAn3oAAAAAMo6Ajocgnkm961HUuhDBwAAAFAmEdDhEGoGe6uin7syc3K15chZW5cDAAAAACWOgA6HkLceunmYO+uhAwAAACh7COhwGOaJ4tYxURwAAACAMoiADodhvoO+7WiKLmbShw4AAACgbCGgw2HUqOClSn4e9KEDAAAAKJMI6HAYJpNJcZEstwYAAACgbCKgw6GYl1sjoAMAAAAoawjocChxEcGS6EMHAAAAUPYQ0OFQqgV5qrK/h7JyDG0+TB86AAAAgLKDgA6HcuV66AkHEm1cDQAAAACUHAI6HE6sZaK4ZBtXAgAAAAAlh4AOhxN3+Q769qMpupCRbeNqAAAAAKBkENDhcKoFealKgKeyc+lDBwAAAFB2ENDhkMx96Cy3BgAAAKCsIKDDIcVFmieKI6ADAAAAKBsI6HBIMTWDJEm/HUulDx0AAABAmUBAh0OqFuSlqoGeysk1tPEQs7kDAAAAcHwEdDisuAiWWwMAAABQdhDQ4bCYKA4AAABAWUJAh8OKvTxR3O/HU3WePnQAAAAADo6ADodVJcBT1YO86EMHAAAAUCYQ0OHQYiPyZnNft59h7gAAAAAcGwEdDs28Hjp96AAAAAAcHQEdDs08Udzvx1OVdinLxtUAAAAAQPER0OHQwvw9FV7BS7mGtIk+dAAAAAAOjIAOhxfLeugAAAAAygACOhyeuQ89gYniAAAAADgwAjocXkzNvIC+40SqUi/Shw4AAADAMRHQ4fAq+XuoZrC3cg1p40GGuQMAAABwTAR0lAl/96EzzB0AAACAYyKgo0yIjQiSJK07SEAHAAAA4JgI6CgT4iLMfehpSk2nDx0AAACA4yGgo0wI9fNQRIi3DEPawHroAAAAABwQAR1lhrkPneXWAAAAADgiAjrKjDgmigMAAADgwAjoKDNiLk8Ut+tkmlLSM21cDQAAAAAUDQEdZUaor4dqhfrIMKT1rIcOAAAAwMEQ0FGmWJZbY5g7AAAAAAdDQEeZEhcRLImJ4gAAAAA4HgI6yhRzH/ruk+d09gJ96AAAAAAcBwEdZUqwj7tqh/pIktYf5C46AAAAAMdBQEeZExdpXm6NieIAAAAAOA4COsqcWNZDBwAAAOCACOgoc2Jq/t2HnnQ+w8bVAAAAAEDhENBR5lTwcVedir6SpA2shw4AAADAQRDQUSaZ10NPYJg7AAAAAAdBQEeZ9PdEcQR0AAAAAI6BgI4yqXnNvID+56nzSqQPHQAAAIADIKCjTArydlPdSnl96OtZbg0AAACAAyCgo8xiuTUAAAAAjoSAjjLLHNCZKA4AAACAIyCgo8yKjQiSySTtO31eZ87Rhw4AAADAvhHQUWYFeLmpbiU/SQxzBwAAAGD/COgo0+LoQwcAAADgIAjoKNNiI4IkEdABAAAA2D8COsq0mJoVZDJJ+89c0Om0S7YuBwAAAACuioCOMs3fy1VRYZf70A+yHjoAAAAA+0VAR5lnWW5tP8PcAQAAANgvAjrKPPNEcevpQwcAAABgxwjoKPOa1QySk0k6kHhBp+hDBwAAAGCnCOgo8/w9XVWvsr8kZnMHAAAAYL8I6CgXWG4NAAAAgL0joKNcYKI4AAAAAPaOgI5ywdyHfigpXX+lXrR1OQAAAACQDwEd5YKfh6vqV6EPHQAAAID9IqCj3DAvt7Zuf7KNKwEAAACA/AjoKDfMfejrDnIHHQAAAID9IaCj3GgaHihnJ5MOJ6XrRAp96AAAAADsCwEd5YYvfegAAAAA7BgBHeWKeT10llsDAAAAYG8I6ChX4uhDBwAAAGCnCOgoV5qGB8nZyaSjyRd17Gy6rcsBAAAAAAsCOsoVH3cXNaxq7kNnuTUAAAAA9oOAjnLHstwaE8UBAAAAsCMEdJQ75oDORHEAAAAA7AkBHeVO0xqBcnEy6XjKRR1Npg8dAAAAgH0goKPc8b6iDz2BYe4AAAAA7AQBHeVSXCR96AAAAADsCwEd5ZK5D339gWQZhmHjagAAAACAgI5yKrpGoFydzX3oF21dDgAAAAAQ0FE+ebm5qFHVAEkMcwcAAABgHwjoKLcsy60R0AEAAADYAQI6yq0rJ4qjDx0AAACArRHQUW7dVj2vD/2v1Es6wnroAAAAAGyMgI5yy9PNWU2qBUqSEvYzzB0AAACAbRHQUa7FRgRJYqI4AAAAALZHQEe5duVEcfShAwAAALAlAjrKtdtqBMrN2Umn0jJ0KIk+dAAAAAC2Q0BHuebh6qzG1QMk0YcOAAAAwLYI6Cj34iL+Xm4NAAAAAGyFgI5yLzaC9dABAAAA2B4BHeVek+oBcnNx0ulzGTqQeMHW5QAAAAAopwjoKPc8XJ112+U+dIa5AwAAALAVAjqgK5ZbY6I4AAAAADZCQAd05URxyfShAwAAALAJAjogqXH1ALm7OCnxfIb2n6EPHQAAAMDNR0AHJLm7OCu6RqAkKYE+dAAAAAA2QEAHLotlPXQAAAAANkRABy4zB/T1rIcOAAAAwAYI6MBljar5y8PVSYnnM7Xv9HlblwMAAACgnCGgA5fRhw4AAADAlgjowBXi6EMHAAAAYCMEdOAKsayHDgAAAMBGCOjAFRpWDZCnq7OSL2Tqz1P0oQMAAAC4eQjowBXcXJzUNDyvD51h7gAAAABuJgL6ZVOmTFF4eLg8PDwUExOjDRs2XHXfHTt2qEuXLgoPD5fJZNLbb7+db5/Ro0fLZDJZfdWtW9dqn0uXLmnIkCGqUKGCfHx81KVLF506dcryeHJysu677z75+PioSZMm2rp1q9XzhwwZorfeeuvGXjjyMQ9zT9hPQAcAAABw8xDQJc2bN0/Dhw/XqFGjtGXLFjVq1Ejx8fE6ffp0gfunp6crIiJCr7/+uipVqnTV49arV09//fWX5euXX36xevyZZ57Rd999p/nz52v16tU6ceKEHnroIcvjr732ms6dO6ctW7aobdu26t+/v+WxdevWaf369Xr66adv7MUjH8t66AeTlJtLHzoAAACAm4OALmnSpEnq37+/+vbtq6ioKE2bNk1eXl76+OOPC9y/WbNmevPNN9WjRw+5u7tf9bguLi6qVKmS5Ss4ONjyWGpqqj766CNNmjRJd955p6KjozVr1iz9+uuvWrdunSRp165d6tGjh2655RYNGDBAu3btkiRlZWXpySef1LRp0+Ts7FyCVwKS1LCqvzxdnXU2PUt/nj5n63IAAAAAlBPlPqBnZmZq8+bNat++vWWbk5OT2rdvr4SEhBs69t69e1W5cmVFRETo0Ucf1ZEjRyyPbd68WVlZWVbnrVu3rqpXr245b6NGjbRixQplZ2dr8eLFatiwoSTpjTfeUNu2bdW0adPr1pCRkaG0tDSrL1ybq/PffegMcwcAAABws5T7gJ6YmKicnBxVrFjRanvFihV18uTJYh83JiZGn3zyiRYtWqSpU6fq4MGDatWqlc6dy7sje/LkSbm5uSkgIOCq533++efl4uKiyMhIffXVV/roo4+0d+9ezZ49Wy+99JKefPJJRUREqHv37kpNTS2wjvHjx8vf39/yVa1atWK/pvIkLpL10AEAAADcXOU+oJeWjh07qlu3bmrYsKHi4+P1448/KiUlRV988UWhj+Hv76/PP/9chw8f1urVqxUVFaWBAwfqzTff1Ny5c3XgwAHt2bNHXl5eGjNmTIHHeOGFF5Sammr5Onr0aEm9xDLt7z70ZPrQAQAAANwU5T6gBwcHy9nZ2Wr2dEk6derUNSeAK6qAgADdcsst2rdvnySpUqVKyszMVEpKSqHPO2vWLAUEBOiBBx7QqlWr1LlzZ7m6uqpbt25atWpVgc9xd3eXn5+f1Reur0EVf3m7OSslPUu7T9KHDgAAAKD0lfuA7ubmpujoaC1fvtyyLTc3V8uXL1dcXFyJnef8+fPav3+/wsLCJEnR0dFydXW1Ou+ePXt05MiRAs975swZjRkzRu+9954kKScnR1lZWZLyJo3LyckpsVph7kMPksQwdwAAAAA3R7kP6JI0fPhwzZw5U7Nnz9auXbs0aNAgXbhwQX379pUk9erVSy+88IJl/8zMTG3btk3btm1TZmamjh8/rm3btlnujkvSyJEjtXr1ah06dEi//vqrHnzwQTk7O6tnz56S8oav9+vXT8OHD9fKlSu1efNm9e3bV3FxcYqNjc1X49NPP60RI0aoSpUqkqQWLVpozpw52rVrl2bMmKEWLVqU5iUql8x96AkEdAAAAAA3gYutC7AHDz/8sM6cOaOXX35ZJ0+eVOPGjbVo0SLLxHFHjhyRk9Pff8s4ceKEmjRpYvl+4sSJmjhxotq0aWMZan7s2DH17NlTSUlJCgkJUcuWLbVu3TqFhIRYnjd58mQ5OTmpS5cuysjIUHx8vD744IN89S1evFj79u3TnDlzLNuGDh2qTZs2KSYmRs2bN9eoUaNK+rKUe+Y+9A2X+9CdnEw2rggAAABAWWYyDIMZsMqRtLQ0+fv7KzU1lX7068jOyVXjMUt1PiNb3z/VUvWr+Nu6pHItPTNbUS8vliTtHBMvLzf+vggAAHAjyAb2hyHuwFW4ODup2eX10OlDBwAAAFDaCOjANZiHuRPQAQAAAJQ2AjpwDeaJ4tYfTFYO66EDAAAAKEUEdOAaosL85OvuonOXsrXrrzRblwMAAACgDCOgA9fg4uykZjXz1kNP2M8wdwAAAAClh4AOXEccfegAAAAAbgICOnAdV66Hnp2Ta+NqAAAAAJRVBHTgOqIq+8nXw0XnMrK1kz50AAAAAKWEgA5ch7OTSTGX+9AZ5g4AAACgtBDQgUIwD3NnojgAAAAApYWADhSCOaBvPHSWPnQAAAAApYKADhTCrWF+8vNw0fmMbP1xgj50AAAAACWPgA4UgrOTSTEstwYAAACgFBHQgUKiDx0AAABAaSKgA4UUdzmgbzqUrCz60AEAAACUMAI6UEh1K/nK39NVFzJz9MfxVFuXAwAAAKCMIaADheR0xXroCfShAwAAAChhBHSgCOIizRPFJdu4EgAAAABlDQEdKIJY+tABAAAAlBICOlAEdSr6KtDLVemZOfrtGH3oAAAAAEoOAR0ogrw+dNZDBwAAAFDyCOhAEcVG5E0UR0AHAAAAUJII6EARxUUGS5I2HTqrzGz60AEAAACUDAI6UES1Q30U5O2mi1k5+u1Yiq3LAQAAAFBGENCBInJyMjHMHQAAAECJI6ADxWBebi2BgA4AAACghBDQgWKIuxzQNx8+q4zsHBtXAwAAAKAsIKADxVAr1EcVvN10KSuX9dABAAAAlAgCOlAMJpPp72Hu+xnmDgAAAODGEdCBYoqNzAvoTBQHAAAAoCQQ0IFiirs8kzt96AAAAABKAgEdKKbIEB8F+7grIztX246k2LocAAAAAA6OgA4UU14funk99GQbVwMAAADA0RHQgRvw93roiTauBAAAAICjI6ADNyDu8kRxW46k6FIWfegAAAAAio+ADtyAiGBvhfi6KzM7V1vpQwcAAABwAwjowA0wmUyKi2C5NQAAAAA3joAO3KC/+9AJ6AAAAACKj4AO3CBzH/o2+tABAAAA3AACOnCDwit4qaKfuzJzcrXlyFlblwMAAADAQRHQgRuUtx765T70/QxzBwAAAFA8BHSgBPw9UVyyjSsBAAAA4KgI6EAJMN9B33r0rC5m0ocOAAAAoOgI6EAJqFHBS2H+HsrKMehDBwAAAFAsBHSgBFj1obPcGgAAAIBiIKADJSQ2IkiSlMBEcQAAAACKgYAOlJC4iGBJ0vZjKUrPzLZxNQAAAAAcDQEdKCHVgjxV+XIf+ubD9KEDAAAAKBoCOlBCTCaTYiPpQwcAAABQPAR0oASZJ4qjDx0AAABAURHQgRIUdzmg/3YsVRcy6EMHAAAAUHgEdKAEVQvyUpUAT2Xn0ocOAAAAoGgI6EAJswxzpw8dAAAAQBEQ0IESFsdEcQAAAACKgYAOlLDYiCBJeX3o5+lDBwAAAFBIBHSghFUN9FK1IE/l5BradCjZ1uUAAAAAcBAEdKAUxNY0D3MnoAMAAAAoHAI6UAqYKA4AAABAURHQgVIQe3miuD+Op+rcpSwbVwMAAADAERDQgVJQJcBT1YO8Lvehsx46AAAAgOsjoAOlJC6C5dYAAAAAFB4BHSglsZF5y63Rhw4AAACgMAjoQCkxTxT3x/FUpdGHDgAAAOA6COhAKQnz91R4BS/lGmI9dAAAAADXRUAHSpFlubX9DHMHAAAAcG0EdKAUxUWaJ4rjDjoAAACAayOgA6XIfAd9x4lUpV6kDx0AAADA1RHQgVJU0c9DEcHeyjWkjQe5iw4AAADg6gjoQCmLYT10AAAAAIVAQAdKWWwE66EDAAAAuD4XWxdQXMeOHdO3336rI0eOKDMz0+qxSZMm2agqIL+4y3fQd/6VptT0LPl7udq4IgAAAAD2yCED+vLly3X//fcrIiJCu3fvVv369XXo0CEZhqHbbrvN1uUBVkL9PBQR4q0DZy5o/cEk3V2vkq1LAgAAAGCHHHKI+wsvvKCRI0fq999/l4eHhxYuXKijR4+qTZs26tatm63LA/KJi2C5NQAAAADX5pABfdeuXerVq5ckycXFRRcvXpSPj4/GjBmjCRMm2Lg6IL9YJooDAAAAcB0OGdC9vb0tfedhYWHav3+/5bHExERblQVcVczlieJ2nUxTSnrmdfYGAAAAUB45ZECPjY3VL7/8Ikm65557NGLECL322mt6/PHHFRsba+PqgPxCfT1UK9RHhiGtZz10AAAAAAVwyEniJk2apPPnz0uSXnnlFZ0/f17z5s1T7dq1mcEddis2Ikj7Tp9Xwv4kxTNRHAAAAIB/cMiAHhERYflvb29vTZs2zYbVAIUTFxGsz9YdoQ8dAAAAQIEccoh7RESEkpLyh5yUlBSr8A7YE3Mf+u6T55R8gT50AAAAANYcMqAfOnRIOTk5+bZnZGTo+PHjNqgIuL5gH3fVDvWRJG04yF10AAAAANYcaoj7t99+a/nvxYsXy9/f3/J9Tk6Oli9frvDwcBtUBhROXGQF7T19XusOJKtD/TBblwMAAADAjjhUQO/cubMkyWQyqXfv3laPubq6Kjw8XG+99ZYNKgMKJzaigj5NOKyE/dxBBwAAAGDNoQJ6bm6uJKlmzZrauHGjgoODbVwRUDQxNfP60PecOqek8xmq4ONu44oAAAAA2AuH7EE/ePAg4RwOqYKPu+pU9JXEeugAAAAArDnUHfQrXbhwQatXr9aRI0eUmWk9I/awYcNsVBVwfXGRFbTn1DmtO5CkexrQhw4AAAAgj0MG9K1bt+qee+5Renq6Lly4oKCgICUmJsrLy0uhoaEEdNi12IggffLrIdZDBwAAAGDFIYe4P/PMM7rvvvt09uxZeXp6at26dTp8+LCio6M1ceJEW5cHXFPzmhUkSX+eOq/E8xk2rgYAAACAvXDIgL5t2zaNGDFCTk5OcnZ2VkZGhqpVq6Y33nhD//nPf2xdHnBNQd5uqlvpch/6AfrQAQAAAORxyIDu6uoqJ6e80kNDQ3XkyBFJkr+/v44ePWrL0oBCiY3Iu4uecCDRxpUAAAAAsBcOGdCbNGmijRs3SpLatGmjl19+WXPnztXTTz+t+vXr27g64PriIvMC+jruoAMAAAC4zCED+rhx4xQWljf79WuvvabAwEANGjRIZ86c0YwZM2xcHXB9MTWDZDJJ+06f1+lzl2xdDgAAAAA74JCzuDdt2tTy36GhoVq0aJENqwGKLsDLTXUr+WnXX2lafyBZ9zWqbOuSAAAAANiYQ95BB8qCuAjzMHeWWwMAAADgQHfQmzRpIpPJVKh9t2zZUsrVADcuNiJIH689qAQCOgAAAAA5UEDv3Lmz5b8vXbqkDz74QFFRUYqLi5MkrVu3Tjt27NDgwYNtVCFQNDE1K8hkkg6cuaDTaZcU6udh65IAAAAA2JDDBPRRo0ZZ/vuJJ57QsGHDNHbs2Hz7sMwaHIW/l6uiwvy040SaEg4k6YHGVWxdEgAAAAAbcsge9Pnz56tXr175tj/22GNauHChDSoCiufvPnSWWwMAAADKO4cM6J6enlq7dm2+7WvXrpWHB8OE4ThiLwf09fShAwAAAOWewwxxv9LTTz+tQYMGacuWLWrevLkkaf369fr444/10ksv2bg6oPCa1QySk0k6kHhBp9IuqSJ96AAAAEC55ZAB/fnnn1dERITeeecdffbZZ5KkW2+9VbNmzVL37t1tXB1QeP6erqpX2V+/H0/VOvrQAQAAgHLNIQO6JHXv3p0wjjIhNiJIvx9PVcJ+AjoAAABQnjlkDzpQlsRFmieKow8dAAAAKM8I6ICNNQ3P60M/lJSuv1Iv2rocAAAAADZCQAdszM/DVfWr+EviLjoAAABQnhHQATtgWQ99P+uhAwAAAOWVQwf0zMxM7dmzR9nZ2bYuBbgh5vXQE7iDDgAAAJRbDhnQ09PT1a9fP3l5ealevXo6cuSIJOmpp57S66+/buPqgKJrGh4oZyeTjiSn63gKfegAAABAeeSQAf2FF17Q9u3btWrVKnl4eFi2t2/fXvPmzbNhZUDx+F7Zh76fu+gAAABAeeSQAf3rr7/W+++/r5YtW8pkMlm216tXT/v377dhZUDxWfrQGeYOAAAAlEsOGdDPnDmj0NDQfNsvXLhgFdgBRxIbESRJWneQgA4AAACURw4Z0Js2baoffvjB8r05lH/44YeKi4uzVVnADWkaHiRnJ5OOJl/UsbPpti4HAAAAwE3mYusCimPcuHHq2LGjdu7cqezsbL3zzjvauXOnfv31V61evdrW5QHF4uPuooZV/bX1SIrWHUhW12gvW5cEAAAA4CZyyDvoLVu21LZt25Sdna0GDRpoyZIlCg0NVUJCgqKjo21dHlBsluXWmCgOAAAAKHcc8g66JEVGRmrmzJm2LgMoUXERFTR11X4migMAAADKIYe8g+7s7KzTp0/n256UlCRnZ2cbVASUjOgagXJxMul4ykUdTaYPHQAAAChPHDKgG4ZR4PaMjAy5ubnd5GqAkuN9uQ9dkhK4iw4AAACUKw41xP3dd9+VlDdr+4cffigfHx/LYzk5Ofr5559Vt25dW5UHlIi4yAraciRF6w4kqXvTarYuBwAAAMBN4lABffLkyZLy7qBPmzbNaji7m5ubwsPDNW3aNFuVB5SI2IgKmrJyv9btT5JhGJZlBAEAAACUbQ4V0A8ePChJuuOOO/Tll18qMDDQxhUBJS+6RqBcnU06kXpJR5MvqnoFllsDAAAAygOH7EFfuXIl4RxllpebixpVDZAkJRxItG0xAAAAAG4ah7qDfqVjx47p22+/1ZEjR5SZmWn12KRJk2xUFVAyYiMqaNPhs1p3IFkPN6tu63IAAAAA3AQOGdCXL1+u+++/XxEREdq9e7fq16+vQ4cOyTAM3XbbbbYuD7hhcZEV9P7KfVp3gD50AAAAoLxwyCHuL7zwgkaOHKnff/9dHh4eWrhwoY4ePao2bdqoW7duti4PuGG3Vc/rQ/8r9ZIOJ7EeOgAAAFAeOGRA37Vrl3r16iVJcnFx0cWLF+Xj46MxY8ZowoQJxTrmlClTFB4eLg8PD8XExGjDhg1X3XfHjh3q0qWLwsPDZTKZ9PbbbxfrmJcuXdKQIUNUoUIF+fj4qEuXLjp16pTl8eTkZN13333y8fFRkyZNtHXrVqvnDxkyRG+99VaxXi/sm6ebs5pUy5tnYR3roQMAAADlgkMGdG9vb0vfeVhYmPbv3295LDGx6JNqzZs3T8OHD9eoUaO0ZcsWNWrUSPHx8Tp9+nSB+6enpysiIkKvv/66KlWqVOxjPvPMM/ruu+80f/58rV69WidOnNBDDz1kefy1117TuXPntGXLFrVt21b9+/e3PLZu3TqtX79eTz/9dJFfLxxDbESQJCmBgA4AAACUCw4Z0GNjY/XLL79Iku655x6NGDFCr732mh5//HHFxsYW+XiTJk1S//791bdvX0VFRWnatGny8vLSxx9/XOD+zZo105tvvqkePXrI3d29WMdMTU3VRx99pEmTJunOO+9UdHS0Zs2apV9//VXr1q2TlDdSoEePHrrllls0YMAA7dq1S5KUlZWlJ598Mt9a8ChbYiMrSJKlDx0AAABA2eaQAX3SpEmKiYmRJL3yyitq166d5s2bp/DwcH300UdFOlZmZqY2b96s9u3bW7Y5OTmpffv2SkhIKFZ9hTnm5s2blZWVZbVP3bp1Vb16dcs+jRo10ooVK5Sdna3FixerYcOGkqQ33nhDbdu2VdOmTYtVHxzDbdUD5ebspFNpGTqYeMHW5QAAAAAoZQ45i3tERITlv729vTVt2rRiHysxMVE5OTmqWLGi1faKFStq9+7dpXbMkydPys3NTQEBAfn2OXnypCTp+eef16BBgxQZGWn548PevXs1e/ZsJSQk6Mknn9SSJUvUtGlTzZw5U/7+/vlqycjIUEZGhuX7tLS0Yr0m3Hwers5qXD1AGw4ma92BZEWE+Ni6JAAAAAClyCHvoJcX/v7++vzzz3X48GGtXr1aUVFRGjhwoN58803NnTtXBw4c0J49e+Tl5aUxY8YUeIzx48fL39/f8lWtWrWb/CpwI+Ii/h7mDgAAAKBsc5iAHhgYqKCgoEJ9FUVwcLCcnZ2tZk+XpFOnTl11AriSOGalSpWUmZmplJSUQp931qxZCggI0AMPPKBVq1apc+fOcnV1Vbdu3bRq1aoCn/PCCy8oNTXV8nX06NFivSbYRuzlgJ5AHzoAAABQ5jnMEPerLWV2o9zc3BQdHa3ly5erc+fOkqTc3FwtX75cQ4cOLbVjRkdHy9XVVcuXL1eXLl0kSXv27NGRI0cUFxeX75hnzpzRmDFjLJPj5eTkKCsrS1LepHE5OTkF1uLu7n7Viexg/5pUD5Cbi5POnMvQgcQLimSYOwAAAFBmOUxA7927d6kde/jw4erdu7eaNm2q5s2b6+2339aFCxfUt29fSVKvXr1UpUoVjR8/XlLeJHA7d+60/Pfx48e1bds2+fj4qFatWoU6pr+/v/r166fhw4crKChIfn5+euqppxQXF1fgTPRPP/20RowYoSpVqkiSWrRooTlz5ujuu+/WjBkz1KJFi1K7PrAdD1dn3VY9QOsOJCthfxIBHQAAACjDHCagl6aHH35YZ86c0csvv6yTJ0+qcePGWrRokWWStyNHjsjJ6e9ugBMnTqhJkyaW7ydOnKiJEyeqTZs2lqHm1zumJE2ePFlOTk7q0qWLMjIyFB8frw8++CBffYsXL9a+ffs0Z84cy7ahQ4dq06ZNiomJUfPmzTVq1KiSviywE7ERFbTuQLLWHUjSY7E1bF0OAAAAgFJiMmhsLVfS0tLk7++v1NRU+fn52bocFML6A0l6eMY6Bfu4a+OL7WQymWxdkk2kZ2Yr6uXFkqSdY+Ll5cbfFwEAAG4E2cD+OMwkcUB51bh6gNxdnJR4PkP7z5y3dTkAAAAASonDBPTffvtNubm5ti4DuOncXZwVXSNQkpRwINnG1QAAAAAoLQ4T0Js0aaLExERJUkREhJKSWBca5Yd5ubV1+/ncAwAAAGWVwwT0gIAAHTx4UJJ06NAh7qajXImLvBzQWQ8dAAAAKLMcZpalLl26qE2bNgoLC5PJZFLTpk3l7Oxc4L4HDhy4ydUBpathVX95uDop6UKm9p0+r9oVfW1dEgAAAIAS5jABfcaMGXrooYe0b98+DRs2TP3795evLyEF5YO5D33tviQlHEgioAMAAABlkMMEdEnq0KGDJGnz5s3617/+RUBHuRIXUUFr9yVp3YEk9YoLt3U5AAAAAEqYQwV0s1mzZln++9ixY5KkqlWr2qoc4KawTBR3IFm5uYacnMrneugAAABAWeUwk8RdKTc3V2PGjJG/v79q1KihGjVqKCAgQGPHjmXyOJRZDasGyNPVWckXMrX3NOuhAwAAAGWNQ95Bf/HFF/XRRx/p9ddfV4sWLSRJv/zyi0aPHq1Lly7ptddes3GFQMlzc3FS0/BArdmbqIT9iapTiRYPAAAAoCxxyIA+e/Zsffjhh7r//vst2xo2bKgqVapo8ODBBHSUWbERFbRmb6LWHUhWnxY1bV0OAAAAgBLkkEPck5OTVbdu3Xzb69atq+TkZBtUBNwc5j709QeTlJvLeugAAABAWeKQAb1Ro0Z6//33821///331ahRIxtUBNwcDav6y8vNWWfTs7Tn1DlblwMAAACgBDnkEPc33nhDnTp10rJlyxQXFydJSkhI0NGjR/Xjjz/auDqg9Lg6O6lpeJB+/vOM1h1I0q1hfrYuCQAAAEAJccg76G3atNGff/6pBx98UCkpKUpJSdFDDz2kPXv2qFWrVrYuDyhVsRFBkqSE/Uk2rgQAAABASXLIO+iSVLlyZSaDQ7n0dx8666EDAAAAZYlD3kEHyrMGVfzl7eas1ItZ2n2SPnQAAACgrCCgAw7G3IcuSQkHGOYOAAAAlBUEdMABxUXmDXNfR0AHAAAAygwCOuCALH3oB5KUw3roAAAAQJngsJPEmSUmJmr9+vXKyclRs2bNFBYWZuuSgFJXv7KffNxdlHYpW7v+SlP9Kv62LgkAAADADXLoO+gLFy5UrVq19Morr2jUqFGKjIzUrFmzbF0WUOpcnJ3ULDxQEsPcAQAAgLLCoQL6+fPnrb5/5ZVXtGHDBm3YsEFbt27V/Pnz9eKLL9qoOuDmMg9zJ6ADAAAAZYNDBfTo6Gh98803lu9dXFx0+vRpy/enTp2Sm5ubLUoDbjrzRHHrDybThw4AAACUAQ7Vg7548WINGTJEn3zyiaZMmaJ33nlHDz/8sHJycpSdnS0nJyd98sknti4TuCmiwvzk6+6ic5eytfNEmhpUpQ8dAAAAcGQOFdDDw8P1ww8/6L///a/atGmjYcOGad++fdq3b59ycnJUt25deXh42LpM4KZwcXZS85pBWr77tNYdSCKgAwAAAA7OoYa4m/Xs2VMbN27U9u3b1bZtW+Xm5qpx48aEc5Q75j70BPrQAQAAAIfnUHfQJenHH3/Url271KhRI3344YdavXq1Hn30UXXs2FFjxoyRp6enrUsEbhpzQN94MFnZOblycXbIv7kBAAAAkIPdQR8xYoT69u2rjRs3auDAgRo7dqzatGmjLVu2yMPDQ02aNNFPP/1k6zKBmyaqsp98PVx0LiNbO/9Ks3U5AAAAAG6AQwX0Tz75RD/++KP+97//aePGjZozZ44kyc3NTWPHjtWXX36pcePG2bhK4OZxdjIppmaQJClhP8PcAQAAAEfmUAHd29tbBw8elCQdPXo0X895VFSU1qxZY4vSAJthPXQAAACgbHCogD5+/Hj16tVLlStXVps2bTR27FhblwTYnKUP/dBZZefk2rgaAAAAAMXlUJPEPfroo+rQoYMOHDig2rVrKyAgwNYlATYXFeYnf09XpV7M0h8n0tS4WoCtSwIAAABQDA51B12SKlSooGbNmhHOgcucnExqTh86AAAA4PAcLqADyI8+dAAAAMDxEdCBMiDuckDfdChZWfShAwAAAA6JgA6UAXUr+SrAy1UXMnP0+/FUW5cDAAAAoBgI6EAZ4HTFeugMcwcAAAAcEwEdKCPMfehMFAcAAAA4JgI6UEbEWvrQz9KHDgAAADggAjpQRtSp6KtAL1ddzMrRb8foQwcAAAAcDQEdKCPy+tBZbg0AAABwVAR0oAyJiySgAwAAAI6KgA6UIVf2oWdm04cOAAAAOBICOlCG1A71UZC32+U+9BRblwMAAACgCAjoQBni5GRSbETeeugstwYAAAA4FgI6UMaYh7mvO0hABwAAABwJAR0oY+IuB/TNh88qIzvHxtUAAAAAKCwCOlDG1Ar1UbCPmy5l5Wr7UdZDBwAAABwFAR0oY0wmk2IiWG4NAAAAcDQEdKAMMvehM1EcAAAA4DgI6EAZFHd5JvctR87qUhZ96AAAAIAjIKADZVBkiI+CfdyVkZ2r7UdTbF0OAAAAgEIgoANlkMl0xXro9KEDAAAADoGADpRRcZFMFAcAAAA4EgI6UEaZJ4rbciSFPnQAAADAARDQgTIqIthbIb7uyszO1dYjKbYuBwAAAMB1ENCBMspkMinOvNwaw9wBAAAAu0dAB8ow8zB3+tABAAAA+0dAB8ow80Rx2+hDBwAAAOweAR0ow8IreKmin7syc3K15fBZW5cDAAAA4BoI6EAZdmUfOsPcAQAAAPtGQAfKuFgmigMAAAAcAgEdKOPMAX3b0RRdzKQPHQAAALBXBHSgjKtRwUth/h7KyjG05Qh96AAAAIC9IqADZZzJZPp7mPt+hrkDAAAA9oqADpQDTBQHAAAA2D8COlAOmO+gbz+WovTMbBtXAwAAAKAgBHSgHKgW5KnKl/vQN7MeOgAAAGCXCOhAOWAymRQbyTB3AAAAwJ4R0IFygoniAAAAAPtGQAfKCfNEcb8dS9WFDPrQAQAAAHtDQAfKiWpBXqoS4KnsXEOb6EMHAAAA7A4BHShHYlluDQAAALBbBHSgHImLpA8dAAAAsFcEdKAciY0IkiT9fjxV5+lDBwAAAOwKAR0oR6oGeqlakKdycg1tOpRs63IAAAAAXIGADpQzsTUvD3OnDx0AAACwKwR0oJwx96GvO8AddAAAAMCeENCBcibm8kzufxxP1blLWTauBgAAAIAZAR0oZ6oEeKp6kNflPnTWQwcAAADsBQEdKIfiWA8dAAAAsDsEdKAcio3MW26NieIAAAAA+0FAB8qh2Cv60NPoQwcAAADsAgEdKIfC/D0VXsFLuYa08SCzuQMAAAD2gIAOlFOx9KEDAAAAdoWADpRT5vXQ6UMHAAAA7AMBHSinzHfQd5xIU+pF+tABAAAAWyOgA+VURT8PRQR7y6APHQAAALALBHSgHIuJYJg7AAAAYC8I6EA5Zu5DZ6I4AAAAwPYI6EA5FlszSJK08680paRn2rgaAAAAoHwjoAPlWKifhyJC8vrQN9CHDgAAANgUAR0o5+Is66ET0AEAAABbIqAD5VwsE8UBAAAAdoGADpRz5oC++yR96AAAAIAtEdCBci7E1121Qn1kGAxzBwAAAGyJgA5AsRF5s7mz3BoAAABgOwR0AIqLCJZEQAcAAABsiYAOQDGX76DvPnlOyRfoQwcAAABsgYAOQME+7rqloo8kacNB7qIDAAAAtkBAByDpiuXW9hPQAQAAAFsgoAOQ9HdAZyZ3AAAAwDYI6AAkSTE18/rQ95w6p6TzGTauBgAAACh/COgAJEkVfNxVp6KvJGn9Qe6iAwAAADcbAR2ARVykeZg7fegAAADAzUZAB2ARe3m5NSaKAwAAAG4+AjoAi5iaeXfQ954+r0T60AEAAICbioAOwCLQ2011K+X1oTPMHQAAALi5COgArPy93BoBHQAAALiZCOgArJgniqMPHQAAALi5COgArMTUDJLJJO0/c0Gnz12ydTkAAABAuUFAB2AlwMtNt1bykyStP8B66AAAAMDNQkAHkI+5Dz2BPnQAAADgpiGgA8jHvB46E8UBAAAANw8BHUA+MTUryGSSDpy5oFNp9KEDAAAANwMBHUA+/l6uigrL60PnLjoAAABwcxDQARQozrIeOhPFAQAAADcDAR1AgWItAZ076AAAAMDNQEAHUKBmNYPkZJIOJl7QyVT60AEAAIDSRkAHUCB/T1fVq+wvibvoAAAAwM1AQAdwVSy3BgAAANw8BHQAVxUXmdeHnkBABwAAAEodAR3AVTUNz+tDP5yUrhMpF21dDgAAAFCmEdAvmzJlisLDw+Xh4aGYmBht2LDhmvvPnz9fdevWlYeHhxo0aKAff/zR6vE+ffrIZDJZfXXo0MFqn+TkZD366KPy8/NTQECA+vXrp/Pnz1seP3TokFq3bi1vb2+1bt1ahw4dsnr+vffeq4ULF97YCweuwc/DVQ2q5PWhrz/IXXQAAACgNBHQJc2bN0/Dhw/XqFGjtGXLFjVq1Ejx8fE6ffp0gfv/+uuv6tmzp/r166etW7eqc+fO6ty5s/744w+r/Tp06KC//vrL8vXf//7X6vFHH31UO3bs0NKlS/X999/r559/1oABAyyPjxgxQlWqVNG2bdsUFhamkSNHWtXs5OSkLl26lOCVAPIzL7eWsJ+ADgAAAJQmArqkSZMmqX///urbt6+ioqI0bdo0eXl56eOPPy5w/3feeUcdOnTQs88+q1tvvVVjx47Vbbfdpvfff99qP3d3d1WqVMnyFRgYaHls165dWrRokT788EPFxMSoZcuWeu+99/S///1PJ06csOzTu3dv1a5dW3369NGuXbskSSkpKfp//+//acqUKaV0RYC//b0eerKNKwEAAADKtnIf0DMzM7V582a1b9/ess3JyUnt27dXQkJCgc9JSEiw2l+S4uPj8+2/atUqhYaGqk6dOho0aJCSkpKsjhEQEKCmTZtatrVv315OTk5av369JKlRo0ZatmyZcnNztWTJEjVs2FCS9Oyzz2rIkCGqVq3adV9fRkaG0tLSrL6AomgaHihnJ5OOJKfrOH3oAAAAQKkp9wE9MTFROTk5qlixotX2ihUr6uTJkwU+5+TJk9fdv0OHDvr000+1fPlyTZgwQatXr1bHjh2Vk5NjOUZoaKjVMVxcXBQUFGQ5zsSJE7V7926Fh4dr7969mjhxon7++Wdt27ZNvXr1Uvfu3RUREaEnn3xSmZmZBdY6fvx4+fv7W74KE+qBK/l6uKr+5T70dQxzBwAAAEpNuQ/opaVHjx66//771aBBA3Xu3Fnff/+9Nm7cqFWrVhX6GFWqVNH333+vI0eO6Pvvv1dwcLAGDx6sadOm6dVXX5Wvr6/27NmjvXv3avr06QUe44UXXlBqaqrl6+jRoyX0ClGexFmGuRPQAQAAgNJS7gN6cHCwnJ2dderUKavtp06dUqVKlQp8TqVKlYq0vyRFREQoODhY+/btsxzjn5PQZWdnKzk5+arHGTdunO6++25FR0dr1apV6tKli1xdXfXQQw9dNfi7u7vLz8/P6gsoqtiIIEmshw4AAACUpnIf0N3c3BQdHa3ly5dbtuXm5mr58uWKi4sr8DlxcXFW+0vS0qVLr7q/JB07dkxJSUkKCwuzHCMlJUWbN2+27LNixQrl5uYqJiYm3/N37dqlzz//XGPHjpUk5eTkKCsrS5KUlZVlGToPlIam4UFydjLp2NmLOpqcbutyAAAAgDKp3Ad0SRo+fLhmzpyp2bNna9euXRo0aJAuXLigvn37SpJ69eqlF154wbL/v/71Ly1atEhvvfWWdu/erdGjR2vTpk0aOnSoJOn8+fN69tlntW7dOh06dEjLly/XAw88oFq1aik+Pl6SdOutt6pDhw7q37+/NmzYoLVr12ro0KHq0aOHKleubFWfYRgaMGCAJk+eLG9vb0lSixYtNHPmTO3atUuffvqpWrRocTMuFcopH3cXNax6uQ+du+gAAABAqSCgS3r44Yc1ceJEvfzyy2rcuLG2bdumRYsWWSaCO3LkiP766y/L/rfffrs+//xzzZgxQ40aNdKCBQv09ddfq379+pIkZ2dn/fbbb7r//vt1yy23qF+/foqOjtaaNWvk7u5uOc7cuXNVt25dtWvXTvfcc49atmypGTNm5KtvxowZqlixou69917LttGjR+vSpUuKiYlRrVq1NGTIkNK6PIAkllsDAAAASpvJMAzD1kXg5klLS5O/v79SU1PpR0eR/PznGfX6eIOqBHjql3/fIZPJdFPPn56ZraiXF0uSdo6Jl5eby009PwAAQFlDNrA/3EEHUCjRNQLl4mTS8ZSLOnaW9dABAACAkkZAB1Ao3u4ualQtQBKzuQMAAAClgYAOoNDMy62t209ABwAAAEoaAR1Aof09UVySmL4CAAAAKFkEdACFFl0jUK7OJp1IvaQjrIcOAAAAlCgCOoBC83JzUaOqAZJYDx0AAAAoaQR0AEUSF8l66AAAAEBpIKADKBJzH3rCfvrQAQAAgJJEQAdQJLdVz+tDP5l2SYeT6EMHAAAASgoBHUCReLo5q0m1QEmshw4AAACUJAI6gCKzrIdOQAcAAABKDAEdQJHFRrIeOgAAAFDSCOgAiuy26oFyc3bSqbQMHUy8YOtyAAAAgDKBgA6gyDxcndWkeoAkllsDAAAASgoBHUCxWJZbow8dAAAAKBEEdADFYg7o9KEDAAAAJYOADqBYmlQPkJuLk86cy9D+M/ShAwAAADeKgA6gWDxcnXWbpQ+dYe4AAADAjSKgAyi2uIhgSQR0AAAAoCQQ0AEUW2xEkKS8mdzpQwcAAABuDAEdQLE1rh4gdxcnJZ7P0P4z521dDgAAAODQCOgAis3dxVnRNQIlSQn7GeYOAAAA3AgCOoAb8vdya8k2rgQAAABwbAR0ADckLpL10AEAAICSQEAHcEMaVvWXh6uTki5kau9p+tABAACA4iKgA7gh7i7OalrDPJs7fegAAABAcRHQAdww83JrTBQHAAAAFB8BHcANM08Ut/5gsnJz6UMHAAAAioOADuCGNawaIE9XZyVfyNSfp8/ZuhwAAADAIRHQAdwwNxcnNQ3PWw99HcPcAQAAgGIhoAMoEayHDgAAANwYAjqAEmEJ6AeT6EMHAAAAioGADqBENKzqLy83Z6WkZ2nPKfrQAQAAgKIioAMoEa7OTmoaznJrAAAAQHER0AGUGPN66OsOENABAACAoiKgAygxcayHDgAAABQbAR1AialfxV/ebs5KvZilXSfTbF0OAAAA4FAI6ABKzJV96Cy3BgAAABQNAR1AiYqLzBvmzkRxAAAAQNEQ0AGUKPN66BsOJimHPnQAAACg0AjoAEpU/cp+8nF3UdqlbO36iz50AAAAoLAI6ABKlIuzk5qFB0piuTUAAACgKAjoAEqcuQ+dgA4AAAAUHgEdQImLvWI9dPrQAQAAgMIhoAMocVFhfvJ1d9G5S9naeYI+dAAAAKAwCOgASpyLs5Oa18xbDz3hQKKNqwEAAAAcAwEdQKkwD3NfdyDZxpUAAAAAjoGADqBUmCeK23gwWdk5uTauBgAAALB/BHQApeLWMD/5erjoXEa2dtCHDgAAAFwXAR1AqXB2Minmch86y60BAAAA10dAB1BqzH3oCQR0AAAA4LoI6ABKjTmg04cOAAAAXB8BHUCpiQrzk7+nq/5/e3cfXdOd73H8c6LyJJII8qDVkBaNEg+VRqrFbVyhrUUfVhX3lk4X0w6tFn0wVxXtqk7baauji2HWRe8MOqq4dVWjNLSElpF6iggTVJswQyMe8/i9f2j2OARRlbMl79daWXXO/p19vvt8s0997P3b+0RxmbZ+f9TX5QAAAACuRkAHcNX4+Xmc+6FzuzUAAADg4gjoAK6qZOd+6MxDBwAAAC6GgA7gqnLmoe89ohLmoQMAAAAXREAHcFXdEl1f4cF1dZJ56AAAAMBFEdABXFV+Z90PPWMPp7kDAAAAF0JAB3DVdWYeOgAAAHBJBHQAV13yTWcC+sa9PzIPHQAAALgAAjqAq65lZH01CK6rUyVl2nKgwNflAAAAAK5EQAdw1Z2Zh15xmjv3QwcAAAAqQ0AHUC0qTnPnQnEAAABA5QjoAKpFxYXiNu47ouJS5qEDAAAA5yKgA6gWLaNCFFHPX6dLyvUt89ABAACA8xDQAVQLj8ejznFn7oe+ntPcAQAAgPMQ0AFUG+d+6LkEdAAAAOBcBHQA1SY57l/3Qy8qLfNxNQAAAIC7ENABVJubI0PUKMRfRaXl+va7o74uBwAAAHAVAjqAauPxeJQUx+3WAAAAgMoQ0AFUK2ce+t8J6AAAAMDZCOgAqlXFPPS/7f9Rp0uYhw4AAABUIKADqFY3Na6nRiEBKiotV+Z3Bb4uBwAAAHANAjqAauV1P3ROcwcAAAAcBHQA1S75Ji4UBwAAAJyLgA6g2lVcKG7zdwXMQwcAAAB+QkAHUO3iGtVTZP0AFZeWa/P+Al+XAwAAALgCAR1AtTszD/2n09yZhw4AAABIIqAD8BHuhw4AAAB4I6AD8ImKC8Vl7mceOgAAACAR0AH4SLOGwYoKDVBxWbn+tu9HX5cDAAAA+BwBHYBPeDweJTMPHQAAAHAQ0AH4DPPQAQAAgH8hoAPwGWce+ncFOlXMPHQAAADUbgR0AD5zY0SwYsICVVJm2sQ8dAAAANRyBHQAPnP2/dA5zR0AAAC1HQEdgE9xoTgAAADgDAI6AJ+qOIL+7XcFOllc6uNqAAAAAN8hoAPwqaYRQbo+PEil5cxDBwAAQO1GQAfgUx6PR0lxEZKkjD2c5g4AAIDai4AOwOe4UBwAAABAQAfgAhUXitty4KhOFDEPHQAAALUTAR2AzzWNCHbmoW9kHjoAAABqKQI6AFdIvumn260xDx0AAAC1FAEdgCswDx0AAAC1HQEdgCt0/ulK7lu/P6rjzEMHAABALURAB+AKNzQIVtOIIJWVm77Ze8TX5QAAAADVjoAOwDU6N+c0dwAAANReBHQArlFxobj1XCgOAAAAtRABHYBrVFwobuv3R3XsdImPqwEAAACqFwEdgGs0CQ9SbMNglZu0cS/3QwcAAEDtQkAH4CoV89AzmIcOAACAWoaADsBVOt905nZrXCgOAAAAtQ0BHYCrVMxD3/b9URUyDx0AAAC1CAEdgKvEhAWp2U/z0L/J5X7oAAAAqD0I6ABcp+J2axncbg0AAAC1CAEdgOtUnOa+PpeADgAAgNqDgA7AdSoC+vYfCnX0FPPQAQAAUDsQ0AG4TlRooOIa1ZOZ9DXz0AEAAFBLENABuFJSxWnu3G4NAAAAtQQBHYArcaE4AAAA1DYEdACu1Ll5hCQpK79QBSeLfVwNAAAAcPUR0AG4UmRooG5qzDx0AAAA1B4EdACuVXE19wzmoQMAAKAWIKADcC3nfuh/5wg6AAAAaj4COgDXqgjoWXmFKjjB/dABAABQsxHQAbhW4/oBujkyRJL0zT6OogMAAKBmI6ADcLXkn46ic6E4AAAA1HQEdACuVnGa+zcEdAAAANRwBHQArpYUd+Z+6LsOHfdxJQAAAMDVRUAH4GqNQgLUMirE12UAAAAAVx0BHYDrVZzmDgAAANRkBHQArpdMQAcAAEAtQEAH4Hq3N4/wdQkAAADAVUdA/8n777+vZs2aKTAwUElJSfr6668vOn7BggW65ZZbFBgYqLZt22rZsmVey81M48ePV0xMjIKCgtSjRw/l5OR4jTly5IgGDRqk0NBQhYeH6/HHH9fx4/+6ENbevXvVtWtX1atXT127dtXevXu9Xn/fffdp4cKFV7bhwDWgYUiAWkQyDx0AAAA1GwFd0ocffqhRo0bp5Zdf1t/+9je1a9dOqampOnToUKXj161bpwEDBujxxx/X5s2b1a9fP/Xr10/btm1zxrzxxht67733NH36dG3YsEH16tVTamqqTp8+7YwZNGiQtm/frhUrVmjp0qVas2aNhg0b5iwfPXq0rr/+emVmZiomJkZjxozxqtnPz08PPvjgVfhEAPfhKDoAAABqOo+Zma+L8LWkpCQlJiZq6tSpkqTy8nI1bdpUTz31lF588cXzxvfv318nTpzQ0qVLnec6d+6s9u3ba/r06TIzNWnSRKNHj3ZC9dGjRxUVFaXZs2frkUceUVZWllq3bq1vvvlGnTp1kiQtX75c99xzjw4cOKAmTZqodevWevvtt9WrVy99+umnGjNmjLZv366CggIlJiZq1apVatq06WVta2FhocLCwnT06FGFhob+3I8MqHZLMg9o5PxvJUkbx6Uo2P86H1cEAADw8/h5PAqsW8fXZZANXKjW/w23uLhYmzZt0tixY53n/Pz81KNHD2VkZFT6moyMDI0aNcrrudTUVC1evFiSlJubq/z8fPXo0cNZHhYWpqSkJGVkZOiRRx5RRkaGwsPDnXAuST169JCfn582bNig+++/X+3atdPnn3+unj17Ki0tTQkJCZKk5557TsOHD69SOC8qKlJRUZHzuLCw8NIfCuBCibH/ulBcp1dX+rASAACAKxMfE6pPR97l6zLgQrX+FPd//vOfKisrU1RUlNfzUVFRys/Pr/Q1+fn5Fx1f8d9LjYmMjPRaft111ykiIsIZ89Zbb2nnzp1q1qyZcnJy9NZbb2nNmjXKzMzUo48+qocfflhxcXF64oknVFxcXGmtkydPVlhYmPNzuUfcAbcIr1fX1yUAAAAAV1WtP4LuZtdff73XafRFRUVKTU3VnDlz9Oqrr6p+/frKzs5Wr1699Mc//lFPPfXUeesYO3as19H+wsJCQjqueZziDgAArmV+Ho+vS4BL1fq/4TZq1Eh16tTRwYMHvZ4/ePCgoqOjK31NdHT0RcdX/PfgwYOKiYnxGtO+fXtnzLkXoSstLdWRI0cu+L6vvfaaevbsqdtuu01Dhw7Vq6++qrp16+qBBx7QqlWrKg3oAQEBCggIuMgnAFx7gv2vI6ADAACgxqn1p7j7+/vrtttu08qV/5rTWl5erpUrVyo5ObnS1yQnJ3uNl6QVK1Y445s3b67o6GivMYWFhdqwYYMzJjk5WQUFBdq0aZMzZtWqVSovL1dSUtJ575mVlaW5c+fqlVdekSSVlZWppKREklRSUqKysrKfs/kAAAAAAJfgEJSkUaNGafDgwerUqZNuv/12vfvuuzpx4oQee+wxSdKjjz6q66+/XpMnT5YkjRw5Ut26ddPvf/973XvvvZo/f742btyoGTNmSJI8Ho+eeeYZvfrqq2rRooWaN2+ul156SU2aNFG/fv0kSfHx8erVq5eGDh2q6dOnq6SkRCNGjNAjjzyiJk2aeNVnZho2bJjeeecd1atXT5LUpUsXzZw5Uy1bttQHH3ygAQMGVNOnBQAAAAC4GgjoOnPbtH/84x8aP3688vPz1b59ey1fvty5yNv+/fvl5/evkw3uuOMOzZ07V+PGjdNvf/tbtWjRQosXL1abNm2cMc8//7xOnDihYcOGqaCgQHfeeaeWL1+uwMBAZ8xf/vIXjRgxQikpKc49zd97773z6psxY4aioqJ03333Oc9NmDBBAwcOVFJSknr16qXhw4dfjY8GAAAAAFBNuA96LcO9DnGtOllcqtbjP5Mk7ZiUyhx0AACAK0Q2cJ9aPwcdAAAAAAA3IKADAAAAAOACBHQAAAAAAFyAgA4AAAAAgAsQ0AEAAAAAcAECOgAAAAAALkBABwAAAADABQjoAAAAAAC4AAEdAAAAAAAXIKADAAAAAOACBHQAAAAAAFyAgA4AAAAAgAsQ0AEAAAAAcAECOgAAAAAALkBABwAAAADABQjoAAAAAAC4AAEdAAAAAAAXIKADAAAAAOACBHQAAAAAAFyAgA4AAAAAgAtc5+sCUL3MTJJUWFjo40qAy3OyuFTlRSclnfn9LfXn6wsAAOBKVGSCiowA3/MY3ahVDhw4oKZNm/q6DAAAAAAu8d133+mGG27wdRkQAb3WKS8v1w8//KD69evL4/FccnxhYaGaNm2q7777TqGhodVQIa42eloz0deah57WPPS0ZqKvNU9t6qmZ6dixY2rSpIn8/Jj97AacI1rL+Pn5/ax/HQsNDa3xX1C1DT2tmehrzUNPax56WjPR15qntvQ0LCzM1yXgLPwzCQAAAAAALkBABwAAAADABQjouKiAgAC9/PLLCggI8HUp+IXQ05qJvtY89LTmoac1E32teegpfImLxAEAAAAA4AIcQQcAAAAAwAUI6AAAAAAAuAABHQAAAAAAFyCgAwAAAADgAgR0aMKECfJ4PF4/t9xyi7P89OnTGj58uBo2bKiQkBA9+OCDOnjwoA8rRmXWrFmjPn36qEmTJvJ4PFq8eLHXcjPT+PHjFRMTo6CgIPXo0UM5OTleY44cOaJBgwYpNDRU4eHhevzxx3X8+PFq3Aqc7VI9HTJkyHn7bq9evbzG0FN3mTx5shITE1W/fn1FRkaqX79+ys7O9hpTle/c/fv3695771VwcLAiIyP13HPPqbS0tDo3BT+pSk+7d+9+3r76xBNPeI2hp+4ybdo0JSQkKDQ0VKGhoUpOTtann37qLGc/vfZcqqfsp3ALAjokSbfeeqvy8vKcn6+++spZ9uyzz+qTTz7RggULtHr1av3www964IEHfFgtKnPixAm1a9dO77//fqXL33jjDb333nuaPn26NmzYoHr16ik1NVWnT592xgwaNEjbt2/XihUrtHTpUq1Zs0bDhg2rrk3AOS7VU0nq1auX1747b948r+X01F1Wr16t4cOHa/369VqxYoVKSkrUs2dPnThxwhlzqe/csrIy3XvvvSouLta6des0Z84czZ49W+PHj/fFJtV6VempJA0dOtRrX33jjTecZfTUfW644Qa9/vrr2rRpkzZu3Ki7775bffv21fbt2yWxn16LLtVTif0ULmGo9V5++WVr165dpcsKCgqsbt26tmDBAue5rKwsk2QZGRnVVCEulyRbtGiR87i8vNyio6PtzTffdJ4rKCiwgIAAmzdvnpmZ7dixwyTZN99844z59NNPzePx2Pfff19ttaNy5/bUzGzw4MHWt2/fC76GnrrfoUOHTJKtXr3azKr2nbts2TLz8/Oz/Px8Z8y0adMsNDTUioqKqncDcJ5ze2pm1q1bNxs5cuQFX0NPrw0NGjSwP/3pT+ynNUhFT83YT+EeHEGHJCknJ0dNmjRRXFycBg0apP3790uSNm3apJKSEvXo0cMZe8stt+jGG29URkaGr8rFZcrNzVV+fr5XH8PCwpSUlOT0MSMjQ+Hh4erUqZMzpkePHvLz89OGDRuqvWZUTXp6uiIjI9WqVSs9+eSTOnz4sLOMnrrf0aNHJUkRERGSqvadm5GRobZt2yoqKsoZk5qaqsLCQq8jQfCNc3ta4S9/+YsaNWqkNm3aaOzYsTp58qSzjJ66W1lZmebPn68TJ04oOTmZ/bQGOLenFdhP4QbX+boA+F5SUpJmz56tVq1aKS8vTxMnTtRdd92lbdu2KT8/X/7+/goPD/d6TVRUlPLz831TMC5bRa/O/p9KxeOKZfn5+YqMjPRaft111ykiIoJeu1SvXr30wAMPqHnz5tqzZ49++9vfqnfv3srIyFCdOnXoqcuVl5frmWeeUZcuXdSmTRtJqtJ3bn5+fqX7csUy+E5lPZWkgQMHKjY2Vk2aNNGWLVv0wgsvKDs7Wx9//LEkeupWW7duVXJysk6fPq2QkBAtWrRIrVu3VmZmJvvpNepCPZXYT+EeBHSod+/ezp8TEhKUlJSk2NhY/fWvf1VQUJAPKwNwMY888ojz57Zt2yohIUE33XST0tPTlZKS4sPKUBXDhw/Xtm3bvK75gWvbhXp69nUf2rZtq5iYGKWkpGjPnj266aabqrtMVFGrVq2UmZmpo0eP6qOPPtLgwYO1evVqX5eFK3ChnrZu3Zr9FK7BKe44T3h4uFq2bKndu3crOjpaxcXFKigo8Bpz8OBBRUdH+6ZAXLaKXp17hdmz+xgdHa1Dhw55LS8tLdWRI0fo9TUiLi5OjRo10u7duyXRUzcbMWKEli5dqi+++EI33HCD83xVvnOjo6Mr3ZcrlsE3LtTTyiQlJUmS175KT93H399fN998s2677TZNnjxZ7dq105QpU9hPr2EX6mll2E/hKwR0nOf48ePas2ePYmJidNttt6lu3bpauXKlszw7O1v79+/3mrMDd2vevLmio6O9+lhYWKgNGzY4fUxOTlZBQYE2bdrkjFm1apXKy8ud/0nB3Q4cOKDDhw8rJiZGEj11IzPTiBEjtGjRIq1atUrNmzf3Wl6V79zk5GRt3brV6x9fVqxYodDQUOdUTVSfS/W0MpmZmZLkta/SU/crLy9XUVER+2kNUtHTyrCfwmd8fZU6+N7o0aMtPT3dcnNzbe3atdajRw9r1KiRHTp0yMzMnnjiCbvxxhtt1apVtnHjRktOTrbk5GQfV41zHTt2zDZv3mybN282Sfb222/b5s2bbd++fWZm9vrrr1t4eLgtWbLEtmzZYn379rXmzZvbqVOnnHX06tXLOnToYBs2bLCvvvrKWrRoYQMGDPDVJtV6F+vpsWPHbMyYMZaRkWG5ubn2+eefW8eOHa1FixZ2+vRpZx301F2efPJJCwsLs/T0dMvLy3N+Tp486Yy51HduaWmptWnTxnr27GmZmZm2fPlya9y4sY0dO9YXm1TrXaqnu3fvtkmTJtnGjRstNzfXlixZYnFxcda1a1dnHfTUfV588UVbvXq15ebm2pYtW+zFF180j8djaWlpZsZ+ei26WE/ZT+EmBHRY//79LSYmxvz9/e3666+3/v372+7du53lp06dst/85jfWoEEDCw4Otvvvv9/y8vJ8WDEq88UXX5ik834GDx5sZmdutfbSSy9ZVFSUBQQEWEpKimVnZ3ut4/DhwzZgwAALCQmx0NBQe+yxx+zYsWM+2BqYXbynJ0+etJ49e1rjxo2tbt26Fhsba0OHDvW6/YsZPXWbyvopyWbNmuWMqcp37t69e613794WFBRkjRo1stGjR1tJSUk1bw3MLt3T/fv3W9euXS0iIsICAgLs5ptvtueee86OHj3qtR566i6/+tWvLDY21vz9/a1x48aWkpLihHMz9tNr0cV6yn4KN/GYmVXf8XoAAAAAAFAZ5qADAAAAAOACBHQAAAAAAFyAgA4AAAAAgAsQ0AEAAAAAcAECOgAAAAAALkBABwAAAADABQjoAAAAAAC4AAEdAHDFunfvrmeeeeaiY5o1a6Z3333XeezxeLR48eIret/Zs2crPDz8itbhFnv37pXH41FmZqYkKT09XR6PRwUFBT6tq7oNGTJE/fr183UZ1e7c/gMAaqfrfF0AAKB2ysvLU4MGDXxdxhUbMmSICgoKrvgfG3DGlClTZGa+LgMAAJ8goAMAfCI6OtrXJcCFwsLCfF0CAAA+wynuAIBfRGlpqUaMGKGwsDA1atRIL7300kWPhJ59invF6b0ff/yx/u3f/k3BwcFq166dMjIyvF4ze/Zs3XjjjQoODtb999+vw4cPX7Sm4uJijRgxQjExMQoMDFRsbKwmT57sVcO0adPUu3dvBQUFKS4uTh999JHXOrZu3aq7775bQUFBatiwoYYNG6bjx49LkiZMmKA5c+ZoyZIl8ng88ng8Sk9Pr7SW5cuX684771R4eLgaNmyo++67T3v27Llo/edauHChbr31VgUEBKhZs2b6/e9/7yybOnWq2rRp4zxevHixPB6Ppk+f7jzXo0cPjRs3TpK0Z88e9e3bV1FRUQoJCVFiYqI+//xzr/dr1qyZXnvtNf3qV79S/fr1deONN2rGjBleYw4cOKABAwYoIiJC9erVU6dOnbRhwwZn+ZIlS9SxY0cFBgYqLi5OEydOVGlp6QW38dxT3Lt3766nn35azz//vCIiIhQdHa0JEyZc9HNKT0/X7bffrnr16ik8PFxdunTRvn37qlxTQUGBfv3rXysqKkqBgYFq06aNli5d6iy/WB+q+rl9/fXX6tChgwIDA9WpUydt3rzZa/mPP/6oQYMGqXHjxgoKClKLFi00a9asi243AKAGMAAArlC3bt0sJCTERo4caTt37rQ///nPFhwcbDNmzHDGxMbG2jvvvOM8lmSLFi0yM7Pc3FyTZLfccostXbrUsrOz7aGHHrLY2FgrKSkxM7P169ebn5+f/e53v7Ps7GybMmWKhYeHW1hY2AXrevPNN61p06a2Zs0a27t3r3355Zc2d+5crxoaNmxoM2fOtOzsbBs3bpzVqVPHduzYYWZmx48ft5iYGHvggQds69attnLlSmvevLkNHjzYzMyOHTtmDz/8sPXq1cvy8vIsLy/PioqKKq3lo48+soULF1pOTo5t3rzZ+vTpY23btrWysjKvz2Dz5s1mZvbFF1+YJPvxxx/NzGzjxo3m5+dnkyZNsuzsbJs1a5YFBQXZrFmzzMxsy5Yt5vF47NChQ2Zm9swzz1ijRo2sf//+ZmZWXFxswcHBtmLFCjMzy8zMtOnTp9vWrVtt165dNm7cOAsMDLR9+/Z59SwiIsLef/99y8nJscmTJ5ufn5/t3LnT2f64uDi766677Msvv7ScnBz78MMPbd26dWZmtmbNGgsNDbXZs2fbnj17LC0tzZo1a2YTJky4YM8GDx5sffv2dR5369bNQkNDbcKECbZr1y6bM2eOeTweS0tLq/T1JSUlFhYWZmPGjLHdu3fbjh07bPbs2c52XaqmsrIy69y5s916662WlpZme/bssU8++cSWLVtWpT5U9XNr3LixDRw40LZt22affPKJxcXFefV/+PDh1r59e/vmm28sNzfXVqxYYf/7v/97wc8NAFAzENABAFesW7duFh8fb+Xl5c5zL7zwgsXHxzuPqxLQ//SnPznLt2/fbpIsKyvLzMwGDBhg99xzj9f79u/f/6IB/amnnrK7777bq66zSbInnnjC67mkpCR78sknzcxsxowZ1qBBAzt+/Liz/P/+7//Mz8/P8vPzzez8QFlV//jHP0ySbd261cwuHdAHDhxo//7v/+61jueee85at25tZmbl5eXWsGFDW7BggZmZtW/f3iZPnmzR0dFmZvbVV19Z3bp17cSJExes6dZbb7U//OEPzuPY2Fj7j//4D+dxeXm5RUZG2rRp08zM7I9//KPVr1/fDh8+XOn6UlJS7LXXXvN67n/+538sJibmgjVUFtDvvPNOrzGJiYn2wgsvVPr6w4cPmyRLT0//WTV99tln5ufnZ9nZ2ZW+/lJ9MKva59awYUM7deqUM2batGle/e/Tp4899thjldYAAKi5OMUdAPCL6Ny5szwej/M4OTlZOTk5Kisrq/I6EhISnD/HxMRIkg4dOiRJysrKUlJSktf45OTki65vyJAhyszMVKtWrfT0008rLS3tvDHnriM5OVlZWVnOe7Zr10716tVzlnfp0kXl5eXKzs6u8nZJUk5OjgYMGKC4uDiFhoaqWbNmkqT9+/dX6fVZWVnq0qWL13NdunRxPmOPx6OuXbsqPT1dBQUF2rFjh37zm9+oqKhIO3fu1OrVq5WYmKjg4GBJ0vHjxzVmzBjFx8crPDxcISEhysrKOq+es3vi8XgUHR3t9CQzM1MdOnRQREREpTV/++23mjRpkkJCQpyfoUOHKi8vTydPnqzSdp9bg3Tmd6OihnNFRERoyJAhSk1NVZ8+fTRlyhTl5eVVuabMzEzdcMMNatmyZaXrv1QfKqv53M8tKytLCQkJCgwMdMac+3v45JNPav78+Wrfvr2ef/55rVu37mIfEQCghiCgAwBco27dus6fK8J+eXn5z15fx44dlZubq1deeUWnTp3Sww8/rIceeuiK6/w5+vTpoyNHjmjmzJnasGGDM0+7uLj4F3uP7t27Kz09XV9++aU6dOig0NBQJ7SvXr1a3bp1c8aOGTNGixYt0muvvaYvv/xSmZmZatu27Xn1nN0T6UxfKnoSFBR00XqOHz+uiRMnKjMz0/nZunWrcnJyvMLppVyshsrMmjVLGRkZuuOOO/Thhx+qZcuWWr9+fZVqutQ2Xa2az9W7d2/t27dPzz77rH744QelpKRozJgxv0htAAD3IqADAH4RZ18YTJLWr1+vFi1aqE6dOr/I+uPj4yt9j0sJDQ1V//79NXPmTH344YdauHChjhw5csF1rF+/XvHx8c57fvvttzpx4oSzfO3atfLz81OrVq0kSf7+/pc8S+Dw4cPKzs7WuHHjlJKSovj4eP3444+XrP1s8fHxWrt2rddza9euVcuWLZ3PuFu3btqxY4cWLFig7t27SzoT2j///HOtXbvWea7itUOGDNH999+vtm3bKjo6Wnv37r2smhISEpSZmen1eZ6tY8eOys7O1s0333zej5/f1f0rSIcOHTR27FitW7dObdq00dy5c6tUU0JCgg4cOKBdu3ZVut6q9OFS4uPjtWXLFp0+fdp5rrLf5caNG2vw4MH685//rHffffe8C80BAGoeAjoA4Bexf/9+jRo1StnZ2Zo3b57+8Ic/aOTIkb/Y+p9++mktX75cb731lnJycjR16lQtX778oq95++23NW/ePO3cuVO7du3SggULFB0drfDwcGfMggUL9N///d/atWuXXn75ZX399dcaMWKEJGnQoEEKDAzU4MGDtW3bNn3xxRd66qmn9J//+Z+KioqSdOaK3Vu2bFF2drb++c9/qqSk5Lw6GjRooIYNG2rGjBnavXu3Vq1apVGjRl3W9o8ePVorV67UK6+8ol27dmnOnDmaOnWq11HVhIQENWjQQHPnzvUK6IsXL1ZRUZHXqdktWrTQxx9/rMzMTH377bcaOHDgZZ+tMGDAAEVHR6tfv35au3at/v73v2vhwoXO1ffHjx+vDz74QBMnTtT27duVlZWl+fPnO1eSvxpyc3M1duxYZWRkaN++fUpLS1NOTo7zjy6Xqqlbt27q2rWrHnzwQa1YsUK5ubn69NNPnd+1qvThUgYOHCiPx6OhQ4dqx44dWrZsmd566y2vMePHj9eSJUu0e/dubd++XUuXLnW2AQBQcxHQAQC/iEcffVSnTp3S7bffruHDh2vkyJEaNmzYL7b+zp07a+bMmZoyZYratWuntLS0Swa9+vXr64033lCnTp2UmJiovXv3atmyZV5HbydOnKj58+crISFBH3zwgebNm6fWrVtLkoKDg/XZZ5/pyJEjSkxM1EMPPaSUlBRNnTrVef3QoUPVqlUrderUSY0bNz7v6Kok+fn5af78+dq0aZPatGmjZ599Vm+++eZlbX/Hjh3117/+VfPnz1ebNm00fvx4TZo0SUOGDHHGeDwe3XXXXfJ4PLrzzjslnQntoaGh6tSpk9dc+rffflsNGjTQHXfcoT59+ig1NVUdO3a8rJr8/f2VlpamyMhI3XPPPWrbtq1ef/1150hyamqqli5dqrS0NCUmJqpz58565513FBsbe1nvczmCg4O1c+dOPfjgg2rZsqWGDRum4cOH69e//nWVa1q4cKESExM1YMAAtW7dWs8//7xzlkRV+nApISEh+uSTT7R161Z16NBB//Vf/6Xf/e53XmP8/f01duxYJSQkqGvXrqpTp47mz59/5R8QAMDVPGYXuUktAAA1mMfj0aJFi7zuuw0AAOArHEEHAAAAAMAFCOgAAAAAALjAdb4uAAAAX2GWFwAAcBOOoAMAAAAA4AIEdAAAAAAAXICADgAAAACACxDQAQAAAABwAQI6AAAAAAAuQEAHAAAAAMAFCOgAAAAAALgAAR0AAAAAABcgoAMAAAAA4AIEdAAAAAAAXICADgAAAACACxDQAQAAAABwAQI6AAAAAAAuQEAHAAAAAMAFCOgAAAAAALgAAR0AAAAAABcgoAMAAAAA4AIEdAAAAAAAXICADgAAAACACxDQAQAAAABwAQI6AAAAAAAuQEAHAAAAAMAFCOgAAAAAALgAAR0AAAAAABcgoAMAAAAA4AIEdAAAAAAAXICADgAAAACACxDQAQAAAABwAQI6AAAAAAAuQEAHAAAAAMAFCOgAAAAAALgAAR0AAAAAABcgoAMAAAAA4AIEdAAAAAAAXICADgAAAACACxDQAQAAAABwAQI6AAAAAAAuQEAHAAAAAMAFCOgAAAAAALgAAR0AAAAAABcgoAMAAAAA4AIEdAAAAAAAXICADgAAAACACxDQAQAAAABwgf8Hl/Xqplvy6CkAAAAASUVORK5CYII=\" /></div>\n",
       "        </div>\n",
       "      </div>\n",
       "\n",
       "      <div class=\"fb-analysis-section\">\n",
       "        <div class=\"fb-analysis-subtitle\">Feature Job Setting Recommendation</div>\n",
       "        <div class=\"fb-analysis-description\">\n",
       "          The RECOMMENDED BLIND SPOT setting is 120 s<br/>\n",
       "<br/>\n",
       "In SUMMARY, the recommended FEATUREJOB DEFAULT setting is:<br/>\n",
       "frequency: 3600<br/>\n",
       "job_time_modulo_frequency: 65<br/>\n",
       "blind_spot: 120<br/>\n",
       "<br/>\n",
       "The resulting FEATURE CUTOFF modulo frequency is 3545 s.\n",
       "        </div>\n",
       "      </div>\n",
       "\n",
       "      <div class=\"fb-analysis-section\">\n",
       "        <div class=\"fb-analysis-subtitle\">Feature Tiles Event Landing Time</div>\n",
       "        <div class=\"fb-analysis-description\">\n",
       "          <br/>\n",
       "For a feature cutoff at 3545 s:<br/>\n",
       "- time for 99.5 % of events to land: 120 s<br/>\n",
       "- time for 99.9 % of events to land: 120 s<br/>\n",
       "- time for 99.95 % of events to land: 120 s<br/>\n",
       "- time for 99.99 % of events to land: 120 s<br/>\n",
       "- time for 99.995 % of events to land: 120 s<br/>\n",
       "- time for 100.0 % of events to land: 120 s<br/>\n",
       "<div><img src=\"data:image/png;base64, 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\" /></div>\n",
       "        </div>\n",
       "      </div>\n",
       "\n",
       "      <div class=\"fb-analysis-section\">\n",
       "        <div class=\"fb-analysis-subtitle\">Backtest Result</div>\n",
       "        <div class=\"fb-analysis-description\">\n",
       "          For the feature job setting: <br/>\n",
       "- Frequency = 3600 s / Job time modulo frequency = 65 s / Blind spot = 120 s<br/>\n",
       "The backtest found that all records would have been processed on time.\n",
       "        </div>\n",
       "      </div>\n",
       "\n",
       "      <div class=\"fb-analysis-section\">\n",
       "        <div class=\"fb-analysis-subtitle\">Summary</div>\n",
       "        <div class=\"fb-analysis-description\">\n",
       "          Key findings:<ul><li>Based on the past records created from 2023-03-13 18:00:00 to 2023-04-10 18:00:00, the table is regularly updated 1.0 minute after the start of each 1 hour within a  interval. No job failure or late job has been detected.</li><li>The features computation jobs are recommended to be scheduled after the table updates completion and be set 1 minute 5 seconds after the start of each 1 hour.</li><li>Based on the analysis of the records latency, the blind_spot parameter used to determine the window of the features aggregation is recommended to be set at 120 s.</li></ul>The recommended Default Feature Job setting is:<ul><li>frequency: 3600 s</li><li>job_time_modulo_frequency: 65 s</li><li>blind_spot: 120 s</li></ul>\n",
       "        </div>\n",
       "      </div>\n",
       "\n",
       "    </div>\n",
       "  </div>\n",
       "</body>\n",
       "</html>\n"
      ],
      "text/plain": [
       "<IPython.core.display.HTML object>"
      ]
     },
     "metadata": {
      "isolated": true
     },
     "output_type": "display_data"
    }
   ],
   "source": [
    "# initialize the feature job settings for the invoice table\n",
    "invoice_table.initialize_default_feature_job_setting()"
   ]
  },
  {
   "cell_type": "markdown",
   "metadata": {},
   "source": [
    "### Concept: Cleaning operations\n",
    "\n",
    "Cleaning operations determine the process for cleaning data in a table column before performing feature engineering. The cleaning operations can either be set as a default operation in the metadata of a table column or established when creating a view.\n",
    "\n",
    "These operations specify how to manage the following scenarios:\n",
    "* Missing values\n",
    "* Disguised values\n",
    "* Values that are not in an anticipated list\n",
    "* Numeric values and dates that are out of boundaries\n",
    "\n",
    "It is important to note that cleaning operations for a specific table column may consist of a sequence of operations, which are executed in a particular order. Imputed values from previous operations should not be identified as values to be cleaned in subsequent operations."
   ]
  },
  {
   "cell_type": "markdown",
   "metadata": {},
   "source": [
    "### Example: Correct negative discounts and missing discount amounts"
   ]
  },
  {
   "cell_type": "code",
   "execution_count": 8,
   "metadata": {
    "execution": {
     "iopub.execute_input": "2023-04-10T19:22:37.073288Z",
     "iopub.status.busy": "2023-04-10T19:22:37.072920Z",
     "iopub.status.idle": "2023-04-10T19:22:37.445388Z",
     "shell.execute_reply": "2023-04-10T19:22:37.443992Z"
    },
    "tags": []
   },
   "outputs": [],
   "source": [
    "# discount amount cannot be negative\n",
    "items_table.Discount.update_critical_data_info(\n",
    "    cleaning_operations=[\n",
    "        fb.MissingValueImputation(imputed_value=0),\n",
    "        fb.ValueBeyondEndpointImputation(type=\"less_than\", end_point=0, imputed_value=0),\n",
    "    ]\n",
    ")"
   ]
  },
  {
   "cell_type": "markdown",
   "metadata": {},
   "source": [
    "### Concept: Entity\n",
    "\n",
    "An entity is a real-world object or concept that is represented by fields in source tables. Entities facilitate automatic table join definitions, serve as the unit of analysis for feature engineering, and aid in organizing features, feature lists, and use cases. Examples of entities can include customers, merchants, cities, products, and orders.\n",
    "\n",
    "Before features can be assigned to an entity, the user must identify the relevant columns in the Catalog Tables that define or refer to the entity. This is done through “tagging” columns with their semantic information."
   ]
  },
  {
   "cell_type": "markdown",
   "metadata": {},
   "source": [
    "### Example: Declare new entities"
   ]
  },
  {
   "cell_type": "code",
   "execution_count": 9,
   "metadata": {
    "execution": {
     "iopub.execute_input": "2023-04-10T19:22:37.452006Z",
     "iopub.status.busy": "2023-04-10T19:22:37.451463Z",
     "iopub.status.idle": "2023-04-10T19:22:37.516471Z",
     "shell.execute_reply": "2023-04-10T19:22:37.515700Z"
    },
    "tags": []
   },
   "outputs": [],
   "source": [
    "# register new entities\n",
    "entity1 = catalog.create_entity(name=\"grocerycustomer\", serving_names=[\"GROCERYCUSTOMERGUID\"])\n",
    "entity2 = catalog.create_entity(name=\"groceryinvoice\", serving_names=[\"GROCERYINVOICEGUID\"])"
   ]
  },
  {
   "cell_type": "markdown",
   "metadata": {},
   "source": [
    "### Concept: Entity Tagging\n",
    "\n",
    "The process of entity tagging involves identifying the specific columns in tables that  identify or reference a particular entity. These columns are often primary keys, natural keys, or foreign keys that are unique to each entity. This process is a critical step in preparing data before feature engineering, as it enables users to assign features to individual entities or join related data across multiple tables."
   ]
  },
  {
   "cell_type": "markdown",
   "metadata": {},
   "source": [
    "### Example: Entity tagging"
   ]
  },
  {
   "cell_type": "code",
   "execution_count": 10,
   "metadata": {
    "execution": {
     "iopub.execute_input": "2023-04-10T19:22:37.520303Z",
     "iopub.status.busy": "2023-04-10T19:22:37.520026Z",
     "iopub.status.idle": "2023-04-10T19:22:38.049787Z",
     "shell.execute_reply": "2023-04-10T19:22:38.049141Z"
    },
    "tags": []
   },
   "outputs": [],
   "source": [
    "# tag the entities for the grocery invoice table\n",
    "invoice_table.GroceryInvoiceGuid.as_entity(\"groceryinvoice\")\n",
    "invoice_table.GroceryCustomerGuid.as_entity(\"grocerycustomer\")\n",
    "\n",
    "# tag the entities for the grocery items table\n",
    "items_table.GroceryInvoiceGuid.as_entity(\"groceryinvoice\")"
   ]
  },
  {
   "attachments": {},
   "cell_type": "markdown",
   "metadata": {},
   "source": [
    "## Add Features to a Catalog\n",
    "\n",
    "Learning Objectives\n",
    "\n",
    "In this section you will:\n",
    "* learn the purpose of views\n",
    "* create views from tables\n",
    "* transform data in a view\n",
    "* filter rows in a view"
   ]
  },
  {
   "cell_type": "markdown",
   "metadata": {},
   "source": [
    "### Concept: FeatureByte Views\n",
    "\n",
    "Views are cleaned versions of Catalog tables and offer a flexible and efficient way to work with Catalog tables. They allow operations like creating new columns, filtering records, conditionally editing columns, extracting lags, capturing attribute changes, and joining views, similar to Pandas. Unlike Pandas DataFrames, which require loading all data into memory, views are materialized only when needed during previews or feature materialization.\n",
    "\n",
    "When a view is created, it inherits the metadata of the Catalog Table it originated from. There are currently five types of views supported: Event Views, Item Views, Dimension Views, Slowly Changing Dimension (SCD) Views, and Change Views.\n",
    "\n",
    "The syntax used to manipulate data in a FeatureByte view is similar to a Pandas DataFrame, making it easier to learn.\n",
    "\n",
    "By default, data accessed through views is cleaned according to the default cleaning operations specified in the Catalog Tables. However, it is still possible to perform data manipulation based on the raw data present in the source table using the raw view attribute or to overwrite the cleaning operations when the view is created.\n",
    "\n",
    "View operations are only materialized for purposes such as samples, exploratory data analysis, or feature materialization. FeatureByte follows a lazy execution strategy where view operations are translated into a graphical representation of intended operations."
   ]
  },
  {
   "cell_type": "markdown",
   "metadata": {},
   "source": [
    "### Example: Create views from tables"
   ]
  },
  {
   "cell_type": "code",
   "execution_count": 11,
   "metadata": {
    "execution": {
     "iopub.execute_input": "2023-04-10T19:22:38.056565Z",
     "iopub.status.busy": "2023-04-10T19:22:38.055996Z",
     "iopub.status.idle": "2023-04-10T19:22:38.402769Z",
     "shell.execute_reply": "2023-04-10T19:22:38.402320Z"
    },
    "tags": []
   },
   "outputs": [],
   "source": [
    "# get the view objects\n",
    "items_view = items_table.get_view()\n",
    "invoice_view = invoice_table.get_view()"
   ]
  },
  {
   "cell_type": "markdown",
   "metadata": {},
   "source": [
    "### Concept: Feature\n",
    "\n",
    "To train and predict using Machine Learning models, input data is required, which is commonly referred to as features."
   ]
  },
  {
   "cell_type": "markdown",
   "metadata": {},
   "source": [
    "### Concept: Observation set\n",
    "\n",
    "An observation set is a table of entity keys and points in time, for which you wish to materialize feature values. The entities keys define which entities a feature will materialize, and the points in time define at which timestamps."
   ]
  },
  {
   "cell_type": "markdown",
   "metadata": {},
   "source": [
    "### Example: Creating an observation set"
   ]
  },
  {
   "cell_type": "code",
   "execution_count": 12,
   "metadata": {
    "execution": {
     "iopub.execute_input": "2023-04-10T19:22:38.405383Z",
     "iopub.status.busy": "2023-04-10T19:22:38.405130Z",
     "iopub.status.idle": "2023-04-10T19:22:38.828519Z",
     "shell.execute_reply": "2023-04-10T19:22:38.827960Z"
    },
    "tags": []
   },
   "outputs": [
    {
     "data": {
      "text/html": [
       "<div>\n",
       "<style scoped>\n",
       "    .dataframe tbody tr th:only-of-type {\n",
       "        vertical-align: middle;\n",
       "    }\n",
       "\n",
       "    .dataframe tbody tr th {\n",
       "        vertical-align: top;\n",
       "    }\n",
       "\n",
       "    .dataframe thead th {\n",
       "        text-align: right;\n",
       "    }\n",
       "</style>\n",
       "<table border=\"1\" class=\"dataframe\">\n",
       "  <thead>\n",
       "    <tr style=\"text-align: right;\">\n",
       "      <th></th>\n",
       "      <th>GROCERYCUSTOMERGUID</th>\n",
       "      <th>POINT_IN_TIME</th>\n",
       "    </tr>\n",
       "  </thead>\n",
       "  <tbody>\n",
       "    <tr>\n",
       "      <th>0</th>\n",
       "      <td>30e3fbe4-3cbe-4d51-b6ca-1f990ef9773d</td>\n",
       "      <td>2022-12-17 12:12:40</td>\n",
       "    </tr>\n",
       "    <tr>\n",
       "      <th>1</th>\n",
       "      <td>7484ebd5-ee65-49f8-abce-8becd7af39fb</td>\n",
       "      <td>2022-12-26 18:12:37</td>\n",
       "    </tr>\n",
       "    <tr>\n",
       "      <th>2</th>\n",
       "      <td>a906b457-33c7-4186-a4a8-77f2ad018c2b</td>\n",
       "      <td>2022-12-04 16:13:10</td>\n",
       "    </tr>\n",
       "    <tr>\n",
       "      <th>3</th>\n",
       "      <td>e0453f48-5d57-4681-84b3-0f07b15ab48e</td>\n",
       "      <td>2022-11-05 17:08:56</td>\n",
       "    </tr>\n",
       "    <tr>\n",
       "      <th>4</th>\n",
       "      <td>e459196f-bf0a-41a1-a307-a4cfcf41fea9</td>\n",
       "      <td>2022-11-27 17:42:11</td>\n",
       "    </tr>\n",
       "  </tbody>\n",
       "</table>\n",
       "</div>"
      ],
      "text/plain": [
       "                    GROCERYCUSTOMERGUID       POINT_IN_TIME\n",
       "0  30e3fbe4-3cbe-4d51-b6ca-1f990ef9773d 2022-12-17 12:12:40\n",
       "1  7484ebd5-ee65-49f8-abce-8becd7af39fb 2022-12-26 18:12:37\n",
       "2  a906b457-33c7-4186-a4a8-77f2ad018c2b 2022-12-04 16:13:10\n",
       "3  e0453f48-5d57-4681-84b3-0f07b15ab48e 2022-11-05 17:08:56\n",
       "4  e459196f-bf0a-41a1-a307-a4cfcf41fea9 2022-11-27 17:42:11"
      ]
     },
     "metadata": {},
     "output_type": "display_data"
    }
   ],
   "source": [
    "# get some invoice IDs and invoice event timestamps from 2022\n",
    "filter = (invoice_view[\"Timestamp\"].dt.year == 2022) & (invoice_view[\"Timestamp\"].dt.month >= 10)\n",
    "observation_set = (\n",
    "    invoice_view[filter].sample(5)[[\"GroceryCustomerGuid\", \"Timestamp\"]]\n",
    "    .rename({\n",
    "        \"Timestamp\": \"POINT_IN_TIME\",\n",
    "        \"GroceryCustomerGuid\": \"GROCERYCUSTOMERGUID\",\n",
    "    }, axis=1)\n",
    ")\n",
    "display(observation_set)"
   ]
  },
  {
   "cell_type": "markdown",
   "metadata": {},
   "source": [
    "### Concept: Aggregate feature\n",
    "\n",
    "Aggregate features are an important type of feature engineering that involves applying various aggregation functions to a collection of data points grouped by an entity (or a tuple of entities). Common aggregation functions include the latest, count, sum, average, minimum, maximum, and standard deviation and it's important to consider the temporal aspect when conducting these aggregation operations.\n",
    "\n",
    "There are three main types of aggregate features, which are simple aggregates, aggregates over a window and aggregates \"as at\" a point-in-time.\n",
    "\n",
    "If a feature is intended to capture patterns of interaction between two or more entities, these aggregations are grouped by the tuple of the entities. For instance, an aggregate feature can be created to show the amount spent by a customer with a merchant in the recent past."
   ]
  },
  {
   "cell_type": "markdown",
   "metadata": {},
   "source": [
    "### Concept: Aggregates over a window\n",
    "\n",
    "Aggregates over a window refer to features that are generated by aggregating data within a specific time frame. These types of features are commonly used for analyzing event and item data."
   ]
  },
  {
   "cell_type": "markdown",
   "metadata": {},
   "source": [
    "### Example: Syntax for creating an aggregate feature over a window"
   ]
  },
  {
   "cell_type": "code",
   "execution_count": 13,
   "metadata": {
    "execution": {
     "iopub.execute_input": "2023-04-10T19:22:38.832003Z",
     "iopub.status.busy": "2023-04-10T19:22:38.831692Z",
     "iopub.status.idle": "2023-04-10T19:22:41.684356Z",
     "shell.execute_reply": "2023-04-10T19:22:41.683601Z"
    },
    "tags": []
   },
   "outputs": [
    {
     "data": {
      "text/html": [
       "<div>\n",
       "<style scoped>\n",
       "    .dataframe tbody tr th:only-of-type {\n",
       "        vertical-align: middle;\n",
       "    }\n",
       "\n",
       "    .dataframe tbody tr th {\n",
       "        vertical-align: top;\n",
       "    }\n",
       "\n",
       "    .dataframe thead th {\n",
       "        text-align: right;\n",
       "    }\n",
       "</style>\n",
       "<table border=\"1\" class=\"dataframe\">\n",
       "  <thead>\n",
       "    <tr style=\"text-align: right;\">\n",
       "      <th></th>\n",
       "      <th>GROCERYCUSTOMERGUID</th>\n",
       "      <th>POINT_IN_TIME</th>\n",
       "      <th>CustomerMaxDiscount_30days</th>\n",
       "      <th>CustomerMaxDiscount_90days</th>\n",
       "    </tr>\n",
       "  </thead>\n",
       "  <tbody>\n",
       "    <tr>\n",
       "      <th>0</th>\n",
       "      <td>30e3fbe4-3cbe-4d51-b6ca-1f990ef9773d</td>\n",
       "      <td>2022-12-17 12:12:40</td>\n",
       "      <td>2.36</td>\n",
       "      <td>4.50</td>\n",
       "    </tr>\n",
       "    <tr>\n",
       "      <th>1</th>\n",
       "      <td>7484ebd5-ee65-49f8-abce-8becd7af39fb</td>\n",
       "      <td>2022-12-26 18:12:37</td>\n",
       "      <td>2.02</td>\n",
       "      <td>2.58</td>\n",
       "    </tr>\n",
       "    <tr>\n",
       "      <th>2</th>\n",
       "      <td>a906b457-33c7-4186-a4a8-77f2ad018c2b</td>\n",
       "      <td>2022-12-04 16:13:10</td>\n",
       "      <td>2.73</td>\n",
       "      <td>2.73</td>\n",
       "    </tr>\n",
       "    <tr>\n",
       "      <th>3</th>\n",
       "      <td>e0453f48-5d57-4681-84b3-0f07b15ab48e</td>\n",
       "      <td>2022-11-05 17:08:56</td>\n",
       "      <td>0.60</td>\n",
       "      <td>1.57</td>\n",
       "    </tr>\n",
       "    <tr>\n",
       "      <th>4</th>\n",
       "      <td>e459196f-bf0a-41a1-a307-a4cfcf41fea9</td>\n",
       "      <td>2022-11-27 17:42:11</td>\n",
       "      <td>1.65</td>\n",
       "      <td>1.65</td>\n",
       "    </tr>\n",
       "  </tbody>\n",
       "</table>\n",
       "</div>"
      ],
      "text/plain": [
       "                    GROCERYCUSTOMERGUID       POINT_IN_TIME  \\\n",
       "0  30e3fbe4-3cbe-4d51-b6ca-1f990ef9773d 2022-12-17 12:12:40   \n",
       "1  7484ebd5-ee65-49f8-abce-8becd7af39fb 2022-12-26 18:12:37   \n",
       "2  a906b457-33c7-4186-a4a8-77f2ad018c2b 2022-12-04 16:13:10   \n",
       "3  e0453f48-5d57-4681-84b3-0f07b15ab48e 2022-11-05 17:08:56   \n",
       "4  e459196f-bf0a-41a1-a307-a4cfcf41fea9 2022-11-27 17:42:11   \n",
       "\n",
       "   CustomerMaxDiscount_30days  CustomerMaxDiscount_90days  \n",
       "0                        2.36                        4.50  \n",
       "1                        2.02                        2.58  \n",
       "2                        2.73                        2.73  \n",
       "3                        0.60                        1.57  \n",
       "4                        1.65                        1.65  "
      ]
     },
     "metadata": {},
     "output_type": "display_data"
    }
   ],
   "source": [
    "# get the discount on a grocery item for each customer over 90 days and 180 days, grouped by customer\n",
    "customer_max_discount = items_view.groupby(\"GroceryCustomerGuid\").aggregate_over(\n",
    "    \"Discount\",\n",
    "    method=fb.AggFunc.MAX,\n",
    "    feature_names=[\"CustomerMaxDiscount_30days\", \"CustomerMaxDiscount_90days\"],   \n",
    "    fill_value=0,\n",
    "    windows=['30d', '90d']\n",
    ")\n",
    "customer_max_discount.save()\n",
    "\n",
    "# create a multi-row preview of the feature values\n",
    "display(customer_max_discount.preview(observation_set))"
   ]
  },
  {
   "cell_type": "code",
   "execution_count": 14,
   "metadata": {
    "execution": {
     "iopub.execute_input": "2023-04-10T19:22:41.687992Z",
     "iopub.status.busy": "2023-04-10T19:22:41.687706Z",
     "iopub.status.idle": "2023-04-10T19:22:42.674249Z",
     "shell.execute_reply": "2023-04-10T19:22:42.673862Z"
    },
    "tags": []
   },
   "outputs": [],
   "source": [
    "# get the total amount of invoices for each customer over the past 14 days\n",
    "customer_invoice_total_14d = items_view.groupby(\"GroceryCustomerGuid\").aggregate_over(\n",
    "    \"Discount\",\n",
    "    method=fb.AggFunc.SUM,\n",
    "    feature_names=[\"CustomerInvoiceTotal_14days\"],\n",
    "    fill_value=0,\n",
    "    windows=['14d']\n",
    ")\n",
    "customer_invoice_total_14d.save()"
   ]
  },
  {
   "attachments": {},
   "cell_type": "markdown",
   "metadata": {},
   "source": [
    "## Solve a Use Case\n",
    "\n",
    "Learning Objectives\n",
    "\n",
    "In this section you will learn how to:\n",
    "* design an observation set for training data\n",
    "* create a feature list\n",
    "* create historical training data\n",
    "* consume training data to train a machine learning model"
   ]
  },
  {
   "cell_type": "markdown",
   "metadata": {},
   "source": [
    "### Case Study: Predicting Customer Spend\n",
    "\n",
    "Your chain of grocery stores wants to target market customers immediately after each purchase. As one step in this marketing campaign, they want to predict future customer spend in the 14 days after a purchase."
   ]
  },
  {
   "cell_type": "markdown",
   "metadata": {},
   "source": [
    "### Example: Create an observation set for training data"
   ]
  },
  {
   "cell_type": "code",
   "execution_count": 15,
   "metadata": {
    "execution": {
     "iopub.execute_input": "2023-04-10T19:22:42.676518Z",
     "iopub.status.busy": "2023-04-10T19:22:42.676391Z",
     "iopub.status.idle": "2023-04-10T19:22:43.188760Z",
     "shell.execute_reply": "2023-04-10T19:22:43.187983Z"
    },
    "tags": []
   },
   "outputs": [
    {
     "data": {
      "text/html": [
       "<div>\n",
       "<style scoped>\n",
       "    .dataframe tbody tr th:only-of-type {\n",
       "        vertical-align: middle;\n",
       "    }\n",
       "\n",
       "    .dataframe tbody tr th {\n",
       "        vertical-align: top;\n",
       "    }\n",
       "\n",
       "    .dataframe thead th {\n",
       "        text-align: right;\n",
       "    }\n",
       "</style>\n",
       "<table border=\"1\" class=\"dataframe\">\n",
       "  <thead>\n",
       "    <tr style=\"text-align: right;\">\n",
       "      <th></th>\n",
       "      <th>GROCERYCUSTOMERGUID</th>\n",
       "      <th>POINT_IN_TIME</th>\n",
       "    </tr>\n",
       "  </thead>\n",
       "  <tbody>\n",
       "    <tr>\n",
       "      <th>0</th>\n",
       "      <td>03732ad7-f757-40dd-a834-9a6654544009</td>\n",
       "      <td>2022-07-15 18:19:20</td>\n",
       "    </tr>\n",
       "    <tr>\n",
       "      <th>1</th>\n",
       "      <td>ec0a3d0b-1196-439a-8682-2ad3704db074</td>\n",
       "      <td>2022-09-18 18:55:38</td>\n",
       "    </tr>\n",
       "    <tr>\n",
       "      <th>2</th>\n",
       "      <td>091be817-ce2c-4a3b-96e0-526b9b2a33f6</td>\n",
       "      <td>2022-06-30 16:30:35</td>\n",
       "    </tr>\n",
       "    <tr>\n",
       "      <th>3</th>\n",
       "      <td>6c6e4d82-0856-4709-8e80-695fe85afebf</td>\n",
       "      <td>2022-08-07 18:43:24</td>\n",
       "    </tr>\n",
       "    <tr>\n",
       "      <th>4</th>\n",
       "      <td>ecb0a59a-124e-4ac2-8181-5f6f64b4b5cf</td>\n",
       "      <td>2022-02-15 17:00:36</td>\n",
       "    </tr>\n",
       "    <tr>\n",
       "      <th>...</th>\n",
       "      <td>...</td>\n",
       "      <td>...</td>\n",
       "    </tr>\n",
       "    <tr>\n",
       "      <th>995</th>\n",
       "      <td>a7ada4a3-fd92-44e6-a232-175c90b1c939</td>\n",
       "      <td>2022-11-20 12:35:31</td>\n",
       "    </tr>\n",
       "    <tr>\n",
       "      <th>996</th>\n",
       "      <td>b5423dbc-db1c-4dbf-8721-b9fba6bcdd9b</td>\n",
       "      <td>2022-09-29 13:40:19</td>\n",
       "    </tr>\n",
       "    <tr>\n",
       "      <th>997</th>\n",
       "      <td>42d75f67-602c-4fa2-becf-bbc8c1ea5bb2</td>\n",
       "      <td>2022-06-20 20:33:26</td>\n",
       "    </tr>\n",
       "    <tr>\n",
       "      <th>998</th>\n",
       "      <td>84e20f8f-27d8-4e90-b6a0-d08122144ab8</td>\n",
       "      <td>2022-06-28 13:53:03</td>\n",
       "    </tr>\n",
       "    <tr>\n",
       "      <th>999</th>\n",
       "      <td>2e35f283-c1ab-4d8d-8eb4-1884dfeb1581</td>\n",
       "      <td>2022-05-16 10:42:20</td>\n",
       "    </tr>\n",
       "  </tbody>\n",
       "</table>\n",
       "<p>1000 rows × 2 columns</p>\n",
       "</div>"
      ],
      "text/plain": [
       "                      GROCERYCUSTOMERGUID       POINT_IN_TIME\n",
       "0    03732ad7-f757-40dd-a834-9a6654544009 2022-07-15 18:19:20\n",
       "1    ec0a3d0b-1196-439a-8682-2ad3704db074 2022-09-18 18:55:38\n",
       "2    091be817-ce2c-4a3b-96e0-526b9b2a33f6 2022-06-30 16:30:35\n",
       "3    6c6e4d82-0856-4709-8e80-695fe85afebf 2022-08-07 18:43:24\n",
       "4    ecb0a59a-124e-4ac2-8181-5f6f64b4b5cf 2022-02-15 17:00:36\n",
       "..                                    ...                 ...\n",
       "995  a7ada4a3-fd92-44e6-a232-175c90b1c939 2022-11-20 12:35:31\n",
       "996  b5423dbc-db1c-4dbf-8721-b9fba6bcdd9b 2022-09-29 13:40:19\n",
       "997  42d75f67-602c-4fa2-becf-bbc8c1ea5bb2 2022-06-20 20:33:26\n",
       "998  84e20f8f-27d8-4e90-b6a0-d08122144ab8 2022-06-28 13:53:03\n",
       "999  2e35f283-c1ab-4d8d-8eb4-1884dfeb1581 2022-05-16 10:42:20\n",
       "\n",
       "[1000 rows x 2 columns]"
      ]
     },
     "metadata": {},
     "output_type": "display_data"
    }
   ],
   "source": [
    "# filter to get the second half of 2022\n",
    "filter = (invoice_view[\"Timestamp\"].dt.year == 2022) & (invoice_view[\"Timestamp\"].dt.month >= 2)\n",
    "\n",
    "# create a pandas data frame a sample of the customer IDs and timestamps\n",
    "observation_set_features = observation_set = (\n",
    "    invoice_view[filter].sample(1000)[[\"GroceryCustomerGuid\", \"Timestamp\"]]\n",
    "    .rename({\n",
    "        \"Timestamp\": \"POINT_IN_TIME\",\n",
    "        \"GroceryCustomerGuid\": \"GROCERYCUSTOMERGUID\",\n",
    "    }, axis=1)\n",
    ")\n",
    "display(observation_set_features)"
   ]
  },
  {
   "cell_type": "markdown",
   "metadata": {},
   "source": [
    "### Concept: Feature list\n",
    "\n",
    "A Feature List is a set of features that is typically crafted to address a specific Use Case."
   ]
  },
  {
   "cell_type": "markdown",
   "metadata": {},
   "source": [
    "### Example: Create a feature list"
   ]
  },
  {
   "cell_type": "code",
   "execution_count": 16,
   "metadata": {
    "execution": {
     "iopub.execute_input": "2023-04-10T19:22:43.193379Z",
     "iopub.status.busy": "2023-04-10T19:22:43.193054Z",
     "iopub.status.idle": "2023-04-10T19:22:45.084543Z",
     "shell.execute_reply": "2023-04-10T19:22:45.083616Z"
    },
    "tags": []
   },
   "outputs": [
    {
     "name": "stdout",
     "output_type": "stream",
     "text": [
      "Saving Feature(s) |████████████████████████████████████████| 3/3 [100%] in 0.0s (99.06/s)                               \n",
      "Loading Feature(s) |████████████████████████████████████████| 3/3 [100%] in 1.3s (2.27/s)                               \n"
     ]
    }
   ],
   "source": [
    "# create a feature list\n",
    "feature_list = fb.FeatureList([\n",
    "    customer_max_discount,\n",
    "    customer_invoice_total_14d\n",
    "], name = \"customer features\")\n",
    "feature_list.save()"
   ]
  },
  {
   "cell_type": "code",
   "execution_count": 17,
   "metadata": {
    "execution": {
     "iopub.execute_input": "2023-04-10T19:22:45.088490Z",
     "iopub.status.busy": "2023-04-10T19:22:45.088189Z",
     "iopub.status.idle": "2023-04-10T19:22:45.746779Z",
     "shell.execute_reply": "2023-04-10T19:22:45.746258Z"
    },
    "tags": []
   },
   "outputs": [
    {
     "name": "stdout",
     "output_type": "stream",
     "text": [
      "Saving Feature(s) |████████████████████████████████████████| 1/1 [100%] in 0.0s (27.93/s)                               \n",
      "Loading Feature(s) |████████████████████████████████████████| 1/1 [100%] in 0.3s (3.15/s)                               \n"
     ]
    }
   ],
   "source": [
    "# create a feature list for the target\n",
    "target_list = fb.FeatureList([\n",
    "    customer_invoice_total_14d\n",
    "], name = \"Target feature\")\n",
    "target_list.save()"
   ]
  },
  {
   "cell_type": "markdown",
   "metadata": {},
   "source": [
    "### Concept: Materialization\n",
    "\n",
    "A feature definition is a set of instructions for computing the feature on past or newly available data. The act of computing features is known as Feature Materialization."
   ]
  },
  {
   "cell_type": "markdown",
   "metadata": {},
   "source": [
    "### Example: Get historical values"
   ]
  },
  {
   "cell_type": "code",
   "execution_count": 18,
   "metadata": {
    "execution": {
     "iopub.execute_input": "2023-04-10T19:22:45.749908Z",
     "iopub.status.busy": "2023-04-10T19:22:45.749690Z",
     "iopub.status.idle": "2023-04-10T19:22:54.412190Z",
     "shell.execute_reply": "2023-04-10T19:22:54.411487Z"
    },
    "tags": []
   },
   "outputs": [
    {
     "name": "stdout",
     "output_type": "stream",
     "text": [
      "Retrieving Historical Feature(s) |████████████████████████████████████████| 1/1 [100%] in 8.5s (0.12/s)                 \n"
     ]
    },
    {
     "data": {
      "text/html": [
       "<div>\n",
       "<style scoped>\n",
       "    .dataframe tbody tr th:only-of-type {\n",
       "        vertical-align: middle;\n",
       "    }\n",
       "\n",
       "    .dataframe tbody tr th {\n",
       "        vertical-align: top;\n",
       "    }\n",
       "\n",
       "    .dataframe thead th {\n",
       "        text-align: right;\n",
       "    }\n",
       "</style>\n",
       "<table border=\"1\" class=\"dataframe\">\n",
       "  <thead>\n",
       "    <tr style=\"text-align: right;\">\n",
       "      <th></th>\n",
       "      <th>GROCERYCUSTOMERGUID</th>\n",
       "      <th>POINT_IN_TIME</th>\n",
       "      <th>CustomerInvoiceTotal_14days</th>\n",
       "      <th>CustomerMaxDiscount_90days</th>\n",
       "      <th>CustomerMaxDiscount_30days</th>\n",
       "    </tr>\n",
       "  </thead>\n",
       "  <tbody>\n",
       "    <tr>\n",
       "      <th>0</th>\n",
       "      <td>03732ad7-f757-40dd-a834-9a6654544009</td>\n",
       "      <td>2022-07-15 18:19:20</td>\n",
       "      <td>8.78</td>\n",
       "      <td>3.11</td>\n",
       "      <td>2.19</td>\n",
       "    </tr>\n",
       "    <tr>\n",
       "      <th>1</th>\n",
       "      <td>ec0a3d0b-1196-439a-8682-2ad3704db074</td>\n",
       "      <td>2022-09-18 18:55:38</td>\n",
       "      <td>4.30</td>\n",
       "      <td>9.96</td>\n",
       "      <td>9.96</td>\n",
       "    </tr>\n",
       "    <tr>\n",
       "      <th>2</th>\n",
       "      <td>091be817-ce2c-4a3b-96e0-526b9b2a33f6</td>\n",
       "      <td>2022-06-30 16:30:35</td>\n",
       "      <td>14.72</td>\n",
       "      <td>11.56</td>\n",
       "      <td>4.04</td>\n",
       "    </tr>\n",
       "    <tr>\n",
       "      <th>3</th>\n",
       "      <td>6c6e4d82-0856-4709-8e80-695fe85afebf</td>\n",
       "      <td>2022-08-07 18:43:24</td>\n",
       "      <td>2.62</td>\n",
       "      <td>3.25</td>\n",
       "      <td>3.25</td>\n",
       "    </tr>\n",
       "    <tr>\n",
       "      <th>4</th>\n",
       "      <td>ecb0a59a-124e-4ac2-8181-5f6f64b4b5cf</td>\n",
       "      <td>2022-02-15 17:00:36</td>\n",
       "      <td>35.81</td>\n",
       "      <td>6.27</td>\n",
       "      <td>6.27</td>\n",
       "    </tr>\n",
       "    <tr>\n",
       "      <th>...</th>\n",
       "      <td>...</td>\n",
       "      <td>...</td>\n",
       "      <td>...</td>\n",
       "      <td>...</td>\n",
       "      <td>...</td>\n",
       "    </tr>\n",
       "    <tr>\n",
       "      <th>995</th>\n",
       "      <td>a7ada4a3-fd92-44e6-a232-175c90b1c939</td>\n",
       "      <td>2022-11-20 12:35:31</td>\n",
       "      <td>31.02</td>\n",
       "      <td>4.69</td>\n",
       "      <td>3.24</td>\n",
       "    </tr>\n",
       "    <tr>\n",
       "      <th>996</th>\n",
       "      <td>b5423dbc-db1c-4dbf-8721-b9fba6bcdd9b</td>\n",
       "      <td>2022-09-29 13:40:19</td>\n",
       "      <td>15.96</td>\n",
       "      <td>13.45</td>\n",
       "      <td>13.45</td>\n",
       "    </tr>\n",
       "    <tr>\n",
       "      <th>997</th>\n",
       "      <td>42d75f67-602c-4fa2-becf-bbc8c1ea5bb2</td>\n",
       "      <td>2022-06-20 20:33:26</td>\n",
       "      <td>29.03</td>\n",
       "      <td>2.49</td>\n",
       "      <td>2.00</td>\n",
       "    </tr>\n",
       "    <tr>\n",
       "      <th>998</th>\n",
       "      <td>84e20f8f-27d8-4e90-b6a0-d08122144ab8</td>\n",
       "      <td>2022-06-28 13:53:03</td>\n",
       "      <td>12.23</td>\n",
       "      <td>3.00</td>\n",
       "      <td>3.00</td>\n",
       "    </tr>\n",
       "    <tr>\n",
       "      <th>999</th>\n",
       "      <td>2e35f283-c1ab-4d8d-8eb4-1884dfeb1581</td>\n",
       "      <td>2022-05-16 10:42:20</td>\n",
       "      <td>7.57</td>\n",
       "      <td>2.89</td>\n",
       "      <td>2.89</td>\n",
       "    </tr>\n",
       "  </tbody>\n",
       "</table>\n",
       "<p>1000 rows × 5 columns</p>\n",
       "</div>"
      ],
      "text/plain": [
       "                      GROCERYCUSTOMERGUID       POINT_IN_TIME  \\\n",
       "0    03732ad7-f757-40dd-a834-9a6654544009 2022-07-15 18:19:20   \n",
       "1    ec0a3d0b-1196-439a-8682-2ad3704db074 2022-09-18 18:55:38   \n",
       "2    091be817-ce2c-4a3b-96e0-526b9b2a33f6 2022-06-30 16:30:35   \n",
       "3    6c6e4d82-0856-4709-8e80-695fe85afebf 2022-08-07 18:43:24   \n",
       "4    ecb0a59a-124e-4ac2-8181-5f6f64b4b5cf 2022-02-15 17:00:36   \n",
       "..                                    ...                 ...   \n",
       "995  a7ada4a3-fd92-44e6-a232-175c90b1c939 2022-11-20 12:35:31   \n",
       "996  b5423dbc-db1c-4dbf-8721-b9fba6bcdd9b 2022-09-29 13:40:19   \n",
       "997  42d75f67-602c-4fa2-becf-bbc8c1ea5bb2 2022-06-20 20:33:26   \n",
       "998  84e20f8f-27d8-4e90-b6a0-d08122144ab8 2022-06-28 13:53:03   \n",
       "999  2e35f283-c1ab-4d8d-8eb4-1884dfeb1581 2022-05-16 10:42:20   \n",
       "\n",
       "     CustomerInvoiceTotal_14days  CustomerMaxDiscount_90days  \\\n",
       "0                           8.78                        3.11   \n",
       "1                           4.30                        9.96   \n",
       "2                          14.72                       11.56   \n",
       "3                           2.62                        3.25   \n",
       "4                          35.81                        6.27   \n",
       "..                           ...                         ...   \n",
       "995                        31.02                        4.69   \n",
       "996                        15.96                       13.45   \n",
       "997                        29.03                        2.49   \n",
       "998                        12.23                        3.00   \n",
       "999                         7.57                        2.89   \n",
       "\n",
       "     CustomerMaxDiscount_30days  \n",
       "0                          2.19  \n",
       "1                          9.96  \n",
       "2                          4.04  \n",
       "3                          3.25  \n",
       "4                          6.27  \n",
       "..                          ...  \n",
       "995                        3.24  \n",
       "996                       13.45  \n",
       "997                        2.00  \n",
       "998                        3.00  \n",
       "999                        2.89  \n",
       "\n",
       "[1000 rows x 5 columns]"
      ]
     },
     "metadata": {},
     "output_type": "display_data"
    }
   ],
   "source": [
    "# use the get historical features function to get the feature values for the observation set\n",
    "training_data_features = feature_list.get_historical_features(observation_set_features)\n",
    "display(training_data_features)"
   ]
  },
  {
   "cell_type": "markdown",
   "metadata": {},
   "source": [
    "### Example: Get target values\n",
    "\n",
    "When target values use aggregates or time offsets, you first need to offset the point in time by the time window."
   ]
  },
  {
   "cell_type": "code",
   "execution_count": 19,
   "metadata": {
    "execution": {
     "iopub.execute_input": "2023-04-10T19:22:54.415878Z",
     "iopub.status.busy": "2023-04-10T19:22:54.415550Z",
     "iopub.status.idle": "2023-04-10T19:22:54.423979Z",
     "shell.execute_reply": "2023-04-10T19:22:54.423496Z"
    },
    "tags": []
   },
   "outputs": [
    {
     "data": {
      "text/html": [
       "<div>\n",
       "<style scoped>\n",
       "    .dataframe tbody tr th:only-of-type {\n",
       "        vertical-align: middle;\n",
       "    }\n",
       "\n",
       "    .dataframe tbody tr th {\n",
       "        vertical-align: top;\n",
       "    }\n",
       "\n",
       "    .dataframe thead th {\n",
       "        text-align: right;\n",
       "    }\n",
       "</style>\n",
       "<table border=\"1\" class=\"dataframe\">\n",
       "  <thead>\n",
       "    <tr style=\"text-align: right;\">\n",
       "      <th></th>\n",
       "      <th>GROCERYCUSTOMERGUID</th>\n",
       "      <th>POINT_IN_TIME</th>\n",
       "    </tr>\n",
       "  </thead>\n",
       "  <tbody>\n",
       "    <tr>\n",
       "      <th>0</th>\n",
       "      <td>03732ad7-f757-40dd-a834-9a6654544009</td>\n",
       "      <td>2022-07-29 18:19:20</td>\n",
       "    </tr>\n",
       "    <tr>\n",
       "      <th>1</th>\n",
       "      <td>ec0a3d0b-1196-439a-8682-2ad3704db074</td>\n",
       "      <td>2022-10-02 18:55:38</td>\n",
       "    </tr>\n",
       "    <tr>\n",
       "      <th>2</th>\n",
       "      <td>091be817-ce2c-4a3b-96e0-526b9b2a33f6</td>\n",
       "      <td>2022-07-14 16:30:35</td>\n",
       "    </tr>\n",
       "    <tr>\n",
       "      <th>3</th>\n",
       "      <td>6c6e4d82-0856-4709-8e80-695fe85afebf</td>\n",
       "      <td>2022-08-21 18:43:24</td>\n",
       "    </tr>\n",
       "    <tr>\n",
       "      <th>4</th>\n",
       "      <td>ecb0a59a-124e-4ac2-8181-5f6f64b4b5cf</td>\n",
       "      <td>2022-03-01 17:00:36</td>\n",
       "    </tr>\n",
       "    <tr>\n",
       "      <th>...</th>\n",
       "      <td>...</td>\n",
       "      <td>...</td>\n",
       "    </tr>\n",
       "    <tr>\n",
       "      <th>995</th>\n",
       "      <td>a7ada4a3-fd92-44e6-a232-175c90b1c939</td>\n",
       "      <td>2022-12-04 12:35:31</td>\n",
       "    </tr>\n",
       "    <tr>\n",
       "      <th>996</th>\n",
       "      <td>b5423dbc-db1c-4dbf-8721-b9fba6bcdd9b</td>\n",
       "      <td>2022-10-13 13:40:19</td>\n",
       "    </tr>\n",
       "    <tr>\n",
       "      <th>997</th>\n",
       "      <td>42d75f67-602c-4fa2-becf-bbc8c1ea5bb2</td>\n",
       "      <td>2022-07-04 20:33:26</td>\n",
       "    </tr>\n",
       "    <tr>\n",
       "      <th>998</th>\n",
       "      <td>84e20f8f-27d8-4e90-b6a0-d08122144ab8</td>\n",
       "      <td>2022-07-12 13:53:03</td>\n",
       "    </tr>\n",
       "    <tr>\n",
       "      <th>999</th>\n",
       "      <td>2e35f283-c1ab-4d8d-8eb4-1884dfeb1581</td>\n",
       "      <td>2022-05-30 10:42:20</td>\n",
       "    </tr>\n",
       "  </tbody>\n",
       "</table>\n",
       "<p>1000 rows × 2 columns</p>\n",
       "</div>"
      ],
      "text/plain": [
       "                      GROCERYCUSTOMERGUID       POINT_IN_TIME\n",
       "0    03732ad7-f757-40dd-a834-9a6654544009 2022-07-29 18:19:20\n",
       "1    ec0a3d0b-1196-439a-8682-2ad3704db074 2022-10-02 18:55:38\n",
       "2    091be817-ce2c-4a3b-96e0-526b9b2a33f6 2022-07-14 16:30:35\n",
       "3    6c6e4d82-0856-4709-8e80-695fe85afebf 2022-08-21 18:43:24\n",
       "4    ecb0a59a-124e-4ac2-8181-5f6f64b4b5cf 2022-03-01 17:00:36\n",
       "..                                    ...                 ...\n",
       "995  a7ada4a3-fd92-44e6-a232-175c90b1c939 2022-12-04 12:35:31\n",
       "996  b5423dbc-db1c-4dbf-8721-b9fba6bcdd9b 2022-10-13 13:40:19\n",
       "997  42d75f67-602c-4fa2-becf-bbc8c1ea5bb2 2022-07-04 20:33:26\n",
       "998  84e20f8f-27d8-4e90-b6a0-d08122144ab8 2022-07-12 13:53:03\n",
       "999  2e35f283-c1ab-4d8d-8eb4-1884dfeb1581 2022-05-30 10:42:20\n",
       "\n",
       "[1000 rows x 2 columns]"
      ]
     },
     "metadata": {},
     "output_type": "display_data"
    }
   ],
   "source": [
    "# add 14 days to the timestamps in the observation set\n",
    "observation_set_target = observation_set_features.copy()\n",
    "observation_set_target[\"POINT_IN_TIME\"] = observation_set_target[\"POINT_IN_TIME\"] + pd.DateOffset(days=14)\n",
    "display(observation_set_target)"
   ]
  },
  {
   "cell_type": "code",
   "execution_count": 20,
   "metadata": {
    "execution": {
     "iopub.execute_input": "2023-04-10T19:22:54.426202Z",
     "iopub.status.busy": "2023-04-10T19:22:54.426029Z",
     "iopub.status.idle": "2023-04-10T19:23:01.303076Z",
     "shell.execute_reply": "2023-04-10T19:23:01.302448Z"
    },
    "tags": []
   },
   "outputs": [
    {
     "name": "stdout",
     "output_type": "stream",
     "text": [
      "Retrieving Historical Feature(s) |████████████████████████████████████████| 1/1 [100%] in 6.8s (0.15/s)                 \n"
     ]
    },
    {
     "data": {
      "text/html": [
       "<div>\n",
       "<style scoped>\n",
       "    .dataframe tbody tr th:only-of-type {\n",
       "        vertical-align: middle;\n",
       "    }\n",
       "\n",
       "    .dataframe tbody tr th {\n",
       "        vertical-align: top;\n",
       "    }\n",
       "\n",
       "    .dataframe thead th {\n",
       "        text-align: right;\n",
       "    }\n",
       "</style>\n",
       "<table border=\"1\" class=\"dataframe\">\n",
       "  <thead>\n",
       "    <tr style=\"text-align: right;\">\n",
       "      <th></th>\n",
       "      <th>GROCERYCUSTOMERGUID</th>\n",
       "      <th>POINT_IN_TIME</th>\n",
       "      <th>Target</th>\n",
       "    </tr>\n",
       "  </thead>\n",
       "  <tbody>\n",
       "    <tr>\n",
       "      <th>0</th>\n",
       "      <td>03732ad7-f757-40dd-a834-9a6654544009</td>\n",
       "      <td>2022-07-15 18:19:20</td>\n",
       "      <td>12.20</td>\n",
       "    </tr>\n",
       "    <tr>\n",
       "      <th>1</th>\n",
       "      <td>ec0a3d0b-1196-439a-8682-2ad3704db074</td>\n",
       "      <td>2022-09-18 18:55:38</td>\n",
       "      <td>15.05</td>\n",
       "    </tr>\n",
       "    <tr>\n",
       "      <th>2</th>\n",
       "      <td>091be817-ce2c-4a3b-96e0-526b9b2a33f6</td>\n",
       "      <td>2022-06-30 16:30:35</td>\n",
       "      <td>27.38</td>\n",
       "    </tr>\n",
       "    <tr>\n",
       "      <th>3</th>\n",
       "      <td>6c6e4d82-0856-4709-8e80-695fe85afebf</td>\n",
       "      <td>2022-08-07 18:43:24</td>\n",
       "      <td>2.27</td>\n",
       "    </tr>\n",
       "    <tr>\n",
       "      <th>4</th>\n",
       "      <td>ecb0a59a-124e-4ac2-8181-5f6f64b4b5cf</td>\n",
       "      <td>2022-02-15 17:00:36</td>\n",
       "      <td>33.65</td>\n",
       "    </tr>\n",
       "    <tr>\n",
       "      <th>...</th>\n",
       "      <td>...</td>\n",
       "      <td>...</td>\n",
       "      <td>...</td>\n",
       "    </tr>\n",
       "    <tr>\n",
       "      <th>995</th>\n",
       "      <td>a7ada4a3-fd92-44e6-a232-175c90b1c939</td>\n",
       "      <td>2022-11-20 12:35:31</td>\n",
       "      <td>29.36</td>\n",
       "    </tr>\n",
       "    <tr>\n",
       "      <th>996</th>\n",
       "      <td>b5423dbc-db1c-4dbf-8721-b9fba6bcdd9b</td>\n",
       "      <td>2022-09-29 13:40:19</td>\n",
       "      <td>14.22</td>\n",
       "    </tr>\n",
       "    <tr>\n",
       "      <th>997</th>\n",
       "      <td>42d75f67-602c-4fa2-becf-bbc8c1ea5bb2</td>\n",
       "      <td>2022-06-20 20:33:26</td>\n",
       "      <td>31.89</td>\n",
       "    </tr>\n",
       "    <tr>\n",
       "      <th>998</th>\n",
       "      <td>84e20f8f-27d8-4e90-b6a0-d08122144ab8</td>\n",
       "      <td>2022-06-28 13:53:03</td>\n",
       "      <td>18.61</td>\n",
       "    </tr>\n",
       "    <tr>\n",
       "      <th>999</th>\n",
       "      <td>2e35f283-c1ab-4d8d-8eb4-1884dfeb1581</td>\n",
       "      <td>2022-05-16 10:42:20</td>\n",
       "      <td>14.58</td>\n",
       "    </tr>\n",
       "  </tbody>\n",
       "</table>\n",
       "<p>1000 rows × 3 columns</p>\n",
       "</div>"
      ],
      "text/plain": [
       "                      GROCERYCUSTOMERGUID       POINT_IN_TIME  Target\n",
       "0    03732ad7-f757-40dd-a834-9a6654544009 2022-07-15 18:19:20   12.20\n",
       "1    ec0a3d0b-1196-439a-8682-2ad3704db074 2022-09-18 18:55:38   15.05\n",
       "2    091be817-ce2c-4a3b-96e0-526b9b2a33f6 2022-06-30 16:30:35   27.38\n",
       "3    6c6e4d82-0856-4709-8e80-695fe85afebf 2022-08-07 18:43:24    2.27\n",
       "4    ecb0a59a-124e-4ac2-8181-5f6f64b4b5cf 2022-02-15 17:00:36   33.65\n",
       "..                                    ...                 ...     ...\n",
       "995  a7ada4a3-fd92-44e6-a232-175c90b1c939 2022-11-20 12:35:31   29.36\n",
       "996  b5423dbc-db1c-4dbf-8721-b9fba6bcdd9b 2022-09-29 13:40:19   14.22\n",
       "997  42d75f67-602c-4fa2-becf-bbc8c1ea5bb2 2022-06-20 20:33:26   31.89\n",
       "998  84e20f8f-27d8-4e90-b6a0-d08122144ab8 2022-06-28 13:53:03   18.61\n",
       "999  2e35f283-c1ab-4d8d-8eb4-1884dfeb1581 2022-05-16 10:42:20   14.58\n",
       "\n",
       "[1000 rows x 3 columns]"
      ]
     },
     "metadata": {},
     "output_type": "display_data"
    }
   ],
   "source": [
    "# Materialize the target feature using get historical features\n",
    "training_data_target = target_list.get_historical_features(observation_set_target)\n",
    "\n",
    "# remove the offset from the point in time column\n",
    "training_data_target[\"POINT_IN_TIME\"] = training_data_target[\"POINT_IN_TIME\"] - pd.DateOffset(days=14)\n",
    "\n",
    "# rename the CustomerInvoiceTotal_14days column to Target\n",
    "training_data_target = training_data_target.rename({\"CustomerInvoiceTotal_14days\": \"Target\"}, axis=1)\n",
    "\n",
    "display(training_data_target)"
   ]
  },
  {
   "cell_type": "markdown",
   "metadata": {},
   "source": [
    "### Example: Merging materialized values for features and target"
   ]
  },
  {
   "cell_type": "code",
   "execution_count": 21,
   "metadata": {
    "execution": {
     "iopub.execute_input": "2023-04-10T19:23:01.306297Z",
     "iopub.status.busy": "2023-04-10T19:23:01.306047Z",
     "iopub.status.idle": "2023-04-10T19:23:01.316361Z",
     "shell.execute_reply": "2023-04-10T19:23:01.316059Z"
    },
    "tags": []
   },
   "outputs": [
    {
     "data": {
      "text/html": [
       "<div>\n",
       "<style scoped>\n",
       "    .dataframe tbody tr th:only-of-type {\n",
       "        vertical-align: middle;\n",
       "    }\n",
       "\n",
       "    .dataframe tbody tr th {\n",
       "        vertical-align: top;\n",
       "    }\n",
       "\n",
       "    .dataframe thead th {\n",
       "        text-align: right;\n",
       "    }\n",
       "</style>\n",
       "<table border=\"1\" class=\"dataframe\">\n",
       "  <thead>\n",
       "    <tr style=\"text-align: right;\">\n",
       "      <th></th>\n",
       "      <th>GROCERYCUSTOMERGUID</th>\n",
       "      <th>POINT_IN_TIME</th>\n",
       "      <th>CustomerInvoiceTotal_14days</th>\n",
       "      <th>CustomerMaxDiscount_90days</th>\n",
       "      <th>CustomerMaxDiscount_30days</th>\n",
       "      <th>Target</th>\n",
       "    </tr>\n",
       "  </thead>\n",
       "  <tbody>\n",
       "    <tr>\n",
       "      <th>0</th>\n",
       "      <td>03732ad7-f757-40dd-a834-9a6654544009</td>\n",
       "      <td>2022-07-15 18:19:20</td>\n",
       "      <td>8.78</td>\n",
       "      <td>3.11</td>\n",
       "      <td>2.19</td>\n",
       "      <td>12.20</td>\n",
       "    </tr>\n",
       "    <tr>\n",
       "      <th>1</th>\n",
       "      <td>ec0a3d0b-1196-439a-8682-2ad3704db074</td>\n",
       "      <td>2022-09-18 18:55:38</td>\n",
       "      <td>4.30</td>\n",
       "      <td>9.96</td>\n",
       "      <td>9.96</td>\n",
       "      <td>15.05</td>\n",
       "    </tr>\n",
       "    <tr>\n",
       "      <th>2</th>\n",
       "      <td>091be817-ce2c-4a3b-96e0-526b9b2a33f6</td>\n",
       "      <td>2022-06-30 16:30:35</td>\n",
       "      <td>14.72</td>\n",
       "      <td>11.56</td>\n",
       "      <td>4.04</td>\n",
       "      <td>27.38</td>\n",
       "    </tr>\n",
       "    <tr>\n",
       "      <th>3</th>\n",
       "      <td>6c6e4d82-0856-4709-8e80-695fe85afebf</td>\n",
       "      <td>2022-08-07 18:43:24</td>\n",
       "      <td>2.62</td>\n",
       "      <td>3.25</td>\n",
       "      <td>3.25</td>\n",
       "      <td>2.27</td>\n",
       "    </tr>\n",
       "    <tr>\n",
       "      <th>4</th>\n",
       "      <td>ecb0a59a-124e-4ac2-8181-5f6f64b4b5cf</td>\n",
       "      <td>2022-02-15 17:00:36</td>\n",
       "      <td>35.81</td>\n",
       "      <td>6.27</td>\n",
       "      <td>6.27</td>\n",
       "      <td>33.65</td>\n",
       "    </tr>\n",
       "    <tr>\n",
       "      <th>...</th>\n",
       "      <td>...</td>\n",
       "      <td>...</td>\n",
       "      <td>...</td>\n",
       "      <td>...</td>\n",
       "      <td>...</td>\n",
       "      <td>...</td>\n",
       "    </tr>\n",
       "    <tr>\n",
       "      <th>995</th>\n",
       "      <td>a7ada4a3-fd92-44e6-a232-175c90b1c939</td>\n",
       "      <td>2022-11-20 12:35:31</td>\n",
       "      <td>31.02</td>\n",
       "      <td>4.69</td>\n",
       "      <td>3.24</td>\n",
       "      <td>29.36</td>\n",
       "    </tr>\n",
       "    <tr>\n",
       "      <th>996</th>\n",
       "      <td>b5423dbc-db1c-4dbf-8721-b9fba6bcdd9b</td>\n",
       "      <td>2022-09-29 13:40:19</td>\n",
       "      <td>15.96</td>\n",
       "      <td>13.45</td>\n",
       "      <td>13.45</td>\n",
       "      <td>14.22</td>\n",
       "    </tr>\n",
       "    <tr>\n",
       "      <th>997</th>\n",
       "      <td>42d75f67-602c-4fa2-becf-bbc8c1ea5bb2</td>\n",
       "      <td>2022-06-20 20:33:26</td>\n",
       "      <td>29.03</td>\n",
       "      <td>2.49</td>\n",
       "      <td>2.00</td>\n",
       "      <td>31.89</td>\n",
       "    </tr>\n",
       "    <tr>\n",
       "      <th>998</th>\n",
       "      <td>84e20f8f-27d8-4e90-b6a0-d08122144ab8</td>\n",
       "      <td>2022-06-28 13:53:03</td>\n",
       "      <td>12.23</td>\n",
       "      <td>3.00</td>\n",
       "      <td>3.00</td>\n",
       "      <td>18.61</td>\n",
       "    </tr>\n",
       "    <tr>\n",
       "      <th>999</th>\n",
       "      <td>2e35f283-c1ab-4d8d-8eb4-1884dfeb1581</td>\n",
       "      <td>2022-05-16 10:42:20</td>\n",
       "      <td>7.57</td>\n",
       "      <td>2.89</td>\n",
       "      <td>2.89</td>\n",
       "      <td>14.58</td>\n",
       "    </tr>\n",
       "  </tbody>\n",
       "</table>\n",
       "<p>1000 rows × 6 columns</p>\n",
       "</div>"
      ],
      "text/plain": [
       "                      GROCERYCUSTOMERGUID       POINT_IN_TIME  \\\n",
       "0    03732ad7-f757-40dd-a834-9a6654544009 2022-07-15 18:19:20   \n",
       "1    ec0a3d0b-1196-439a-8682-2ad3704db074 2022-09-18 18:55:38   \n",
       "2    091be817-ce2c-4a3b-96e0-526b9b2a33f6 2022-06-30 16:30:35   \n",
       "3    6c6e4d82-0856-4709-8e80-695fe85afebf 2022-08-07 18:43:24   \n",
       "4    ecb0a59a-124e-4ac2-8181-5f6f64b4b5cf 2022-02-15 17:00:36   \n",
       "..                                    ...                 ...   \n",
       "995  a7ada4a3-fd92-44e6-a232-175c90b1c939 2022-11-20 12:35:31   \n",
       "996  b5423dbc-db1c-4dbf-8721-b9fba6bcdd9b 2022-09-29 13:40:19   \n",
       "997  42d75f67-602c-4fa2-becf-bbc8c1ea5bb2 2022-06-20 20:33:26   \n",
       "998  84e20f8f-27d8-4e90-b6a0-d08122144ab8 2022-06-28 13:53:03   \n",
       "999  2e35f283-c1ab-4d8d-8eb4-1884dfeb1581 2022-05-16 10:42:20   \n",
       "\n",
       "     CustomerInvoiceTotal_14days  CustomerMaxDiscount_90days  \\\n",
       "0                           8.78                        3.11   \n",
       "1                           4.30                        9.96   \n",
       "2                          14.72                       11.56   \n",
       "3                           2.62                        3.25   \n",
       "4                          35.81                        6.27   \n",
       "..                           ...                         ...   \n",
       "995                        31.02                        4.69   \n",
       "996                        15.96                       13.45   \n",
       "997                        29.03                        2.49   \n",
       "998                        12.23                        3.00   \n",
       "999                         7.57                        2.89   \n",
       "\n",
       "     CustomerMaxDiscount_30days  Target  \n",
       "0                          2.19   12.20  \n",
       "1                          9.96   15.05  \n",
       "2                          4.04   27.38  \n",
       "3                          3.25    2.27  \n",
       "4                          6.27   33.65  \n",
       "..                          ...     ...  \n",
       "995                        3.24   29.36  \n",
       "996                       13.45   14.22  \n",
       "997                        2.00   31.89  \n",
       "998                        3.00   18.61  \n",
       "999                        2.89   14.58  \n",
       "\n",
       "[1000 rows x 6 columns]"
      ]
     },
     "metadata": {},
     "output_type": "display_data"
    }
   ],
   "source": [
    "# merge training data features and training data target\n",
    "training_data = training_data_features.merge(training_data_target, on=[\"GROCERYCUSTOMERGUID\", \"POINT_IN_TIME\"])\n",
    "display(training_data)"
   ]
  },
  {
   "attachments": {},
   "cell_type": "markdown",
   "metadata": {},
   "source": [
    "### Example: Training a scikit learn model\n",
    "\n",
    "Note that you will need to install scikit learn https://scikit-learn.org/stable/install.html"
   ]
  },
  {
   "cell_type": "code",
   "execution_count": 22,
   "metadata": {
    "execution": {
     "iopub.execute_input": "2023-04-10T19:23:01.318342Z",
     "iopub.status.busy": "2023-04-10T19:23:01.318171Z",
     "iopub.status.idle": "2023-04-10T19:23:02.388996Z",
     "shell.execute_reply": "2023-04-10T19:23:02.388556Z"
    },
    "tags": []
   },
   "outputs": [
    {
     "name": "stdout",
     "output_type": "stream",
     "text": [
      "Mean squared error:  3.5210243412247086\n"
     ]
    },
    {
     "data": {
      "text/plain": [
       "['model.pkl']"
      ]
     },
     "execution_count": 22,
     "metadata": {},
     "output_type": "execute_result"
    }
   ],
   "source": [
    "import sklearn\n",
    "# use sklearn to train a random forest regression model on the training data\n",
    "from sklearn.ensemble import HistGradientBoostingRegressor\n",
    "from sklearn.model_selection import train_test_split\n",
    "from sklearn.metrics import mean_squared_error\n",
    "\n",
    "# split the data into training and test sets\n",
    "X_train, X_test, y_train, y_test = train_test_split(training_data.drop(\n",
    "    columns=[\"GROCERYCUSTOMERGUID\", \"POINT_IN_TIME\"]), training_data[\"Target\"], test_size=0.2, random_state=42)\n",
    "\n",
    "# train the model\n",
    "model = HistGradientBoostingRegressor()\n",
    "model.fit(X_train, y_train)\n",
    "\n",
    "# get predictions\n",
    "y_pred = model.predict(X_test)\n",
    "\n",
    "# calculate the mean squared error\n",
    "mse = mean_squared_error(y_test, y_pred)\n",
    "print(\"Mean squared error: \", mse)\n",
    "\n",
    "# save the model\n",
    "import joblib\n",
    "joblib.dump(model, \"model.pkl\")"
   ]
  },
  {
   "attachments": {},
   "cell_type": "markdown",
   "metadata": {},
   "source": [
    "## Deploy and Serve a Feature List\n",
    "\n",
    "Deploying a feature list is easy. FeatureByte automatically materializes features in the online feature store without requiring separate pipelines or tools. Simply run the deploy method of your feature list in the SDK.\n",
    "\n",
    "Once a feature list is deployed, the online feature store offers pre-computed feature values.\n",
    "\n",
    "Learning Objectives\n",
    "\n",
    "In this tutorial you will learn how to:\n",
    "1. manage the readiness of a feature\n",
    "2. deploy a feature list\n",
    "3. consume a feature list via API"
   ]
  },
  {
   "cell_type": "markdown",
   "metadata": {},
   "source": [
    "### Concept: Feature readiness\n",
    "\n",
    "A feature's readiness indicate a feature's suitability for use in feature lists.\n",
    "\n",
    "DEPRECATED: Indicates that the feature version is not recommended for either training or online serving.<br>\n",
    "QUARANTINE: Indicates that the feature version has recently had some issues and should be used with caution. It is currently under review.<br>\n",
    "DRAFT: The feature is being prototyped and is not yet ready for production.<br>\n",
    "PRODUCTION_READY: Indicates that the feature version is ready to be used in production.<br>"
   ]
  },
  {
   "cell_type": "markdown",
   "metadata": {},
   "source": [
    "### Example: Set features to production ready"
   ]
  },
  {
   "cell_type": "code",
   "execution_count": 23,
   "metadata": {
    "execution": {
     "iopub.execute_input": "2023-04-10T19:23:02.391201Z",
     "iopub.status.busy": "2023-04-10T19:23:02.391085Z",
     "iopub.status.idle": "2023-04-10T19:23:08.548575Z",
     "shell.execute_reply": "2023-04-10T19:23:08.548243Z"
    },
    "tags": []
   },
   "outputs": [
    {
     "data": {
      "text/html": [
       "<div>\n",
       "<style scoped>\n",
       "    .dataframe tbody tr th:only-of-type {\n",
       "        vertical-align: middle;\n",
       "    }\n",
       "\n",
       "    .dataframe tbody tr th {\n",
       "        vertical-align: top;\n",
       "    }\n",
       "\n",
       "    .dataframe thead th {\n",
       "        text-align: right;\n",
       "    }\n",
       "</style>\n",
       "<table border=\"1\" class=\"dataframe\">\n",
       "  <thead>\n",
       "    <tr style=\"text-align: right;\">\n",
       "      <th></th>\n",
       "      <th>name</th>\n",
       "      <th>version</th>\n",
       "      <th>dtype</th>\n",
       "      <th>readiness</th>\n",
       "      <th>online_enabled</th>\n",
       "      <th>tables</th>\n",
       "      <th>primary_tables</th>\n",
       "      <th>entities</th>\n",
       "      <th>primary_entities</th>\n",
       "      <th>created_at</th>\n",
       "    </tr>\n",
       "  </thead>\n",
       "  <tbody>\n",
       "    <tr>\n",
       "      <th>0</th>\n",
       "      <td>CustomerInvoiceTotal_14days</td>\n",
       "      <td>V230410</td>\n",
       "      <td>FLOAT</td>\n",
       "      <td>PRODUCTION_READY</td>\n",
       "      <td>False</td>\n",
       "      <td>[GROCERYINVOICE, INVOICEITEMS]</td>\n",
       "      <td>[INVOICEITEMS]</td>\n",
       "      <td>[grocerycustomer]</td>\n",
       "      <td>[grocerycustomer]</td>\n",
       "      <td>2023-04-10 19:22:42.321</td>\n",
       "    </tr>\n",
       "    <tr>\n",
       "      <th>1</th>\n",
       "      <td>CustomerMaxDiscount_90days</td>\n",
       "      <td>V230410</td>\n",
       "      <td>FLOAT</td>\n",
       "      <td>PRODUCTION_READY</td>\n",
       "      <td>False</td>\n",
       "      <td>[GROCERYINVOICE, INVOICEITEMS]</td>\n",
       "      <td>[INVOICEITEMS]</td>\n",
       "      <td>[grocerycustomer]</td>\n",
       "      <td>[grocerycustomer]</td>\n",
       "      <td>2023-04-10 19:22:40.308</td>\n",
       "    </tr>\n",
       "    <tr>\n",
       "      <th>2</th>\n",
       "      <td>CustomerMaxDiscount_30days</td>\n",
       "      <td>V230410</td>\n",
       "      <td>FLOAT</td>\n",
       "      <td>PRODUCTION_READY</td>\n",
       "      <td>False</td>\n",
       "      <td>[GROCERYINVOICE, INVOICEITEMS]</td>\n",
       "      <td>[INVOICEITEMS]</td>\n",
       "      <td>[grocerycustomer]</td>\n",
       "      <td>[grocerycustomer]</td>\n",
       "      <td>2023-04-10 19:22:39.643</td>\n",
       "    </tr>\n",
       "  </tbody>\n",
       "</table>\n",
       "</div>"
      ],
      "text/plain": [
       "                          name  version  dtype         readiness  \\\n",
       "0  CustomerInvoiceTotal_14days  V230410  FLOAT  PRODUCTION_READY   \n",
       "1   CustomerMaxDiscount_90days  V230410  FLOAT  PRODUCTION_READY   \n",
       "2   CustomerMaxDiscount_30days  V230410  FLOAT  PRODUCTION_READY   \n",
       "\n",
       "   online_enabled                          tables  primary_tables  \\\n",
       "0           False  [GROCERYINVOICE, INVOICEITEMS]  [INVOICEITEMS]   \n",
       "1           False  [GROCERYINVOICE, INVOICEITEMS]  [INVOICEITEMS]   \n",
       "2           False  [GROCERYINVOICE, INVOICEITEMS]  [INVOICEITEMS]   \n",
       "\n",
       "            entities   primary_entities              created_at  \n",
       "0  [grocerycustomer]  [grocerycustomer] 2023-04-10 19:22:42.321  \n",
       "1  [grocerycustomer]  [grocerycustomer] 2023-04-10 19:22:40.308  \n",
       "2  [grocerycustomer]  [grocerycustomer] 2023-04-10 19:22:39.643  "
      ]
     },
     "execution_count": 23,
     "metadata": {},
     "output_type": "execute_result"
    }
   ],
   "source": [
    "# change the state features to be production ready\n",
    "for feature_name in feature_list.list_features().name:\n",
    "    feature = catalog.get_feature(feature_name)\n",
    "    feature.update_readiness(\"PRODUCTION_READY\")\n",
    "\n",
    "# display the features\n",
    "feature_list.list_features()"
   ]
  },
  {
   "cell_type": "markdown",
   "metadata": {},
   "source": [
    "### Example: Deploy a feature list"
   ]
  },
  {
   "cell_type": "code",
   "execution_count": 24,
   "metadata": {
    "execution": {
     "iopub.execute_input": "2023-04-10T19:23:08.550256Z",
     "iopub.status.busy": "2023-04-10T19:23:08.550139Z",
     "iopub.status.idle": "2023-04-10T19:23:43.687507Z",
     "shell.execute_reply": "2023-04-10T19:23:43.687164Z"
    }
   },
   "outputs": [
    {
     "name": "stdout",
     "output_type": "stream",
     "text": [
      "Loading Feature(s) |████████████████████████████████████████| 3/3 [100%] in 0.6s (5.17/s)                               \n",
      "Done! |████████████████████████████████████████| 100% in 33.4s (2.99%/s)                                                \n"
     ]
    },
    {
     "data": {
      "text/html": [
       "<div>\n",
       "<style scoped>\n",
       "    .dataframe tbody tr th:only-of-type {\n",
       "        vertical-align: middle;\n",
       "    }\n",
       "\n",
       "    .dataframe tbody tr th {\n",
       "        vertical-align: top;\n",
       "    }\n",
       "\n",
       "    .dataframe thead th {\n",
       "        text-align: right;\n",
       "    }\n",
       "</style>\n",
       "<table border=\"1\" class=\"dataframe\">\n",
       "  <thead>\n",
       "    <tr style=\"text-align: right;\">\n",
       "      <th></th>\n",
       "      <th>name</th>\n",
       "      <th>num_features</th>\n",
       "      <th>status</th>\n",
       "      <th>deployed</th>\n",
       "      <th>readiness_frac</th>\n",
       "      <th>online_frac</th>\n",
       "      <th>tables</th>\n",
       "      <th>entities</th>\n",
       "      <th>created_at</th>\n",
       "    </tr>\n",
       "  </thead>\n",
       "  <tbody>\n",
       "    <tr>\n",
       "      <th>0</th>\n",
       "      <td>Target feature</td>\n",
       "      <td>1</td>\n",
       "      <td>DRAFT</td>\n",
       "      <td>False</td>\n",
       "      <td>1.0</td>\n",
       "      <td>1.0</td>\n",
       "      <td>[GROCERYINVOICE, INVOICEITEMS]</td>\n",
       "      <td>[grocerycustomer]</td>\n",
       "      <td>2023-04-10 19:22:45.290</td>\n",
       "    </tr>\n",
       "    <tr>\n",
       "      <th>1</th>\n",
       "      <td>customer features</td>\n",
       "      <td>3</td>\n",
       "      <td>PUBLISHED</td>\n",
       "      <td>True</td>\n",
       "      <td>1.0</td>\n",
       "      <td>1.0</td>\n",
       "      <td>[GROCERYINVOICE, INVOICEITEMS]</td>\n",
       "      <td>[grocerycustomer]</td>\n",
       "      <td>2023-04-10 19:22:43.521</td>\n",
       "    </tr>\n",
       "  </tbody>\n",
       "</table>\n",
       "</div>"
      ],
      "text/plain": [
       "                name  num_features     status  deployed  readiness_frac  \\\n",
       "0     Target feature             1      DRAFT     False             1.0   \n",
       "1  customer features             3  PUBLISHED      True             1.0   \n",
       "\n",
       "   online_frac                          tables           entities  \\\n",
       "0          1.0  [GROCERYINVOICE, INVOICEITEMS]  [grocerycustomer]   \n",
       "1          1.0  [GROCERYINVOICE, INVOICEITEMS]  [grocerycustomer]   \n",
       "\n",
       "               created_at  \n",
       "0 2023-04-10 19:22:45.290  \n",
       "1 2023-04-10 19:22:43.521  "
      ]
     },
     "execution_count": 24,
     "metadata": {},
     "output_type": "execute_result"
    }
   ],
   "source": [
    "# deploy the state feature list\n",
    "feature_list.deploy(enable=True)\n",
    "\n",
    "# set the feature status to published\n",
    "feature_list.update_status(\"PUBLISHED\")\n",
    "\n",
    "# display the feature lists\n",
    "catalog.list_feature_lists()"
   ]
  },
  {
   "cell_type": "markdown",
   "metadata": {},
   "source": [
    "### Point in time for deployment\n",
    "\n",
    "The production feature serving API uses the current time as its point in time. To consume the feature list, send only the primary entity via the serving name."
   ]
  },
  {
   "cell_type": "markdown",
   "metadata": {},
   "source": [
    "### Automatically create a Python function for consuming the API"
   ]
  },
  {
   "cell_type": "markdown",
   "metadata": {},
   "source": [
    "You can either use a python template or a shell script where the generated code will use the curl command to send the request.\n",
    "\n",
    "For the python template, set the language parameter value as 'python'.\n",
    "For the shell script, set the language parameter value as 'sh'."
   ]
  },
  {
   "cell_type": "code",
   "execution_count": 25,
   "metadata": {
    "execution": {
     "iopub.execute_input": "2023-04-10T19:23:43.689469Z",
     "iopub.status.busy": "2023-04-10T19:23:43.689299Z",
     "iopub.status.idle": "2023-04-10T19:23:45.892635Z",
     "shell.execute_reply": "2023-04-10T19:23:45.892244Z"
    }
   },
   "outputs": [
    {
     "data": {
      "text/html": [
       "<div style=\"margin:30px; padding: 20px; border:1px solid #aaa\">\n",
       "\n",
       "<!DOCTYPE html PUBLIC \"-//W3C//DTD HTML 4.01//EN\"\n",
       "   \"http://www.w3.org/TR/html4/strict.dtd\">\n",
       "<!--\n",
       "generated by Pygments <https://pygments.org/>\n",
       "Copyright 2006-2023 by the Pygments team.\n",
       "Licensed under the BSD license, see LICENSE for details.\n",
       "-->\n",
       "<html>\n",
       "<head>\n",
       "  <title></title>\n",
       "  <meta http-equiv=\"content-type\" content=\"text/html; charset=None\">\n",
       "  <style type=\"text/css\">\n",
       "/*\n",
       "generated by Pygments <https://pygments.org/>\n",
       "Copyright 2006-2023 by the Pygments team.\n",
       "Licensed under the BSD license, see LICENSE for details.\n",
       "*/\n",
       "pre { line-height: 125%; }\n",
       "td.linenos .normal { color: inherit; background-color: transparent; padding-left: 5px; padding-right: 5px; }\n",
       "span.linenos { color: inherit; background-color: transparent; padding-left: 5px; padding-right: 5px; }\n",
       "td.linenos .special { color: #000000; background-color: #ffffc0; padding-left: 5px; padding-right: 5px; }\n",
       "span.linenos.special { color: #000000; background-color: #ffffc0; padding-left: 5px; padding-right: 5px; }\n",
       "body .hll { background-color: #ffffcc }\n",
       "body { background: #f8f8f8; }\n",
       "body .c { color: #3D7B7B; font-style: italic } /* Comment */\n",
       "body .err { border: 1px solid #FF0000 } /* Error */\n",
       "body .k { color: #008000; font-weight: bold } /* Keyword */\n",
       "body .o { color: #666666 } /* Operator */\n",
       "body .ch { color: #3D7B7B; font-style: italic } /* Comment.Hashbang */\n",
       "body .cm { color: #3D7B7B; font-style: italic } /* Comment.Multiline */\n",
       "body .cp { color: #9C6500 } /* Comment.Preproc */\n",
       "body .cpf { color: #3D7B7B; font-style: italic } /* Comment.PreprocFile */\n",
       "body .c1 { color: #3D7B7B; font-style: italic } /* Comment.Single */\n",
       "body .cs { color: #3D7B7B; font-style: italic } /* Comment.Special */\n",
       "body .gd { color: #A00000 } /* Generic.Deleted */\n",
       "body .ge { font-style: italic } /* Generic.Emph */\n",
       "body .gr { color: #E40000 } /* Generic.Error */\n",
       "body .gh { color: #000080; font-weight: bold } /* Generic.Heading */\n",
       "body .gi { color: #008400 } /* Generic.Inserted */\n",
       "body .go { color: #717171 } /* Generic.Output */\n",
       "body .gp { color: #000080; font-weight: bold } /* Generic.Prompt */\n",
       "body .gs { font-weight: bold } /* Generic.Strong */\n",
       "body .gu { color: #800080; font-weight: bold } /* Generic.Subheading */\n",
       "body .gt { color: #0044DD } /* Generic.Traceback */\n",
       "body .kc { color: #008000; font-weight: bold } /* Keyword.Constant */\n",
       "body .kd { color: #008000; font-weight: bold } /* Keyword.Declaration */\n",
       "body .kn { color: #008000; font-weight: bold } /* Keyword.Namespace */\n",
       "body .kp { color: #008000 } /* Keyword.Pseudo */\n",
       "body .kr { color: #008000; font-weight: bold } /* Keyword.Reserved */\n",
       "body .kt { color: #B00040 } /* Keyword.Type */\n",
       "body .m { color: #666666 } /* Literal.Number */\n",
       "body .s { color: #BA2121 } /* Literal.String */\n",
       "body .na { color: #687822 } /* Name.Attribute */\n",
       "body .nb { color: #008000 } /* Name.Builtin */\n",
       "body .nc { color: #0000FF; font-weight: bold } /* Name.Class */\n",
       "body .no { color: #880000 } /* Name.Constant */\n",
       "body .nd { color: #AA22FF } /* Name.Decorator */\n",
       "body .ni { color: #717171; font-weight: bold } /* Name.Entity */\n",
       "body .ne { color: #CB3F38; font-weight: bold } /* Name.Exception */\n",
       "body .nf { color: #0000FF } /* Name.Function */\n",
       "body .nl { color: #767600 } /* Name.Label */\n",
       "body .nn { color: #0000FF; font-weight: bold } /* Name.Namespace */\n",
       "body .nt { color: #008000; font-weight: bold } /* Name.Tag */\n",
       "body .nv { color: #19177C } /* Name.Variable */\n",
       "body .ow { color: #AA22FF; font-weight: bold } /* Operator.Word */\n",
       "body .w { color: #bbbbbb } /* Text.Whitespace */\n",
       "body .mb { color: #666666 } /* Literal.Number.Bin */\n",
       "body .mf { color: #666666 } /* Literal.Number.Float */\n",
       "body .mh { color: #666666 } /* Literal.Number.Hex */\n",
       "body .mi { color: #666666 } /* Literal.Number.Integer */\n",
       "body .mo { color: #666666 } /* Literal.Number.Oct */\n",
       "body .sa { color: #BA2121 } /* Literal.String.Affix */\n",
       "body .sb { color: #BA2121 } /* Literal.String.Backtick */\n",
       "body .sc { color: #BA2121 } /* Literal.String.Char */\n",
       "body .dl { color: #BA2121 } /* Literal.String.Delimiter */\n",
       "body .sd { color: #BA2121; font-style: italic } /* Literal.String.Doc */\n",
       "body .s2 { color: #BA2121 } /* Literal.String.Double */\n",
       "body .se { color: #AA5D1F; font-weight: bold } /* Literal.String.Escape */\n",
       "body .sh { color: #BA2121 } /* Literal.String.Heredoc */\n",
       "body .si { color: #A45A77; font-weight: bold } /* Literal.String.Interpol */\n",
       "body .sx { color: #008000 } /* Literal.String.Other */\n",
       "body .sr { color: #A45A77 } /* Literal.String.Regex */\n",
       "body .s1 { color: #BA2121 } /* Literal.String.Single */\n",
       "body .ss { color: #19177C } /* Literal.String.Symbol */\n",
       "body .bp { color: #008000 } /* Name.Builtin.Pseudo */\n",
       "body .fm { color: #0000FF } /* Name.Function.Magic */\n",
       "body .vc { color: #19177C } /* Name.Variable.Class */\n",
       "body .vg { color: #19177C } /* Name.Variable.Global */\n",
       "body .vi { color: #19177C } /* Name.Variable.Instance */\n",
       "body .vm { color: #19177C } /* Name.Variable.Magic */\n",
       "body .il { color: #666666 } /* Literal.Number.Integer.Long */\n",
       "\n",
       "  </style>\n",
       "</head>\n",
       "<body>\n",
       "<h2></h2>\n",
       "\n",
       "<div class=\"highlight\"><pre><span></span><span class=\"kn\">from</span> <span class=\"nn\">typing</span> <span class=\"kn\">import</span> <span class=\"n\">Any</span><span class=\"p\">,</span> <span class=\"n\">Dict</span>\n",
       "\n",
       "<span class=\"kn\">import</span> <span class=\"nn\">pandas</span> <span class=\"k\">as</span> <span class=\"nn\">pd</span>\n",
       "<span class=\"kn\">import</span> <span class=\"nn\">requests</span>\n",
       "\n",
       "\n",
       "<span class=\"k\">def</span> <span class=\"nf\">request_features</span><span class=\"p\">(</span><span class=\"n\">entity_serving_names</span><span class=\"p\">:</span> <span class=\"n\">Dict</span><span class=\"p\">[</span><span class=\"nb\">str</span><span class=\"p\">,</span> <span class=\"n\">Any</span><span class=\"p\">])</span> <span class=\"o\">-&gt;</span> <span class=\"n\">pd</span><span class=\"o\">.</span><span class=\"n\">DataFrame</span><span class=\"p\">:</span>\n",
       "<span class=\"w\">    </span><span class=\"sd\">&quot;&quot;&quot;</span>\n",
       "<span class=\"sd\">    Send POST request to online serving endpoint</span>\n",
       "\n",
       "<span class=\"sd\">    Parameters</span>\n",
       "<span class=\"sd\">    ----------</span>\n",
       "<span class=\"sd\">    entity_serving_names: Dict[str, Any]</span>\n",
       "<span class=\"sd\">        Entity serving name values to used for serving request</span>\n",
       "\n",
       "<span class=\"sd\">    Returns</span>\n",
       "<span class=\"sd\">    -------</span>\n",
       "<span class=\"sd\">    pd.DataFrame</span>\n",
       "<span class=\"sd\">    &quot;&quot;&quot;</span>\n",
       "    <span class=\"n\">response</span> <span class=\"o\">=</span> <span class=\"n\">requests</span><span class=\"o\">.</span><span class=\"n\">post</span><span class=\"p\">(</span>\n",
       "        <span class=\"n\">url</span><span class=\"o\">=</span><span class=\"s2\">&quot;http://127.0.0.1:8088/feature_list/64346203425695270f724a7d/online_features&quot;</span><span class=\"p\">,</span>\n",
       "        <span class=\"n\">params</span><span class=\"o\">=</span><span class=\"p\">{</span><span class=\"s2\">&quot;catalog_id&quot;</span><span class=\"p\">:</span> <span class=\"s2\">&quot;643461f3425695270f724a6b&quot;</span><span class=\"p\">},</span>\n",
       "        <span class=\"n\">headers</span><span class=\"o\">=</span><span class=\"p\">{</span><span class=\"s2\">&quot;Content-Type&quot;</span><span class=\"p\">:</span> <span class=\"s2\">&quot;application/json&quot;</span><span class=\"p\">},</span>\n",
       "        <span class=\"n\">json</span><span class=\"o\">=</span><span class=\"p\">{</span><span class=\"s2\">&quot;entity_serving_names&quot;</span><span class=\"p\">:</span> <span class=\"n\">entity_serving_names</span><span class=\"p\">},</span>\n",
       "    <span class=\"p\">)</span>\n",
       "    <span class=\"k\">assert</span> <span class=\"n\">response</span><span class=\"o\">.</span><span class=\"n\">status_code</span> <span class=\"o\">==</span> <span class=\"mi\">200</span><span class=\"p\">,</span> <span class=\"n\">response</span><span class=\"o\">.</span><span class=\"n\">json</span><span class=\"p\">()</span>\n",
       "    <span class=\"k\">return</span> <span class=\"n\">pd</span><span class=\"o\">.</span><span class=\"n\">DataFrame</span><span class=\"o\">.</span><span class=\"n\">from_dict</span><span class=\"p\">(</span><span class=\"n\">response</span><span class=\"o\">.</span><span class=\"n\">json</span><span class=\"p\">()[</span><span class=\"s2\">&quot;features&quot;</span><span class=\"p\">])</span>\n",
       "\n",
       "\n",
       "<span class=\"n\">request_features</span><span class=\"p\">([{</span><span class=\"s2\">&quot;GROCERYCUSTOMERGUID&quot;</span><span class=\"p\">:</span> <span class=\"s2\">&quot;a7ada4a3-fd92-44e6-a232-175c90b1c939&quot;</span><span class=\"p\">}])</span>\n",
       "</pre></div>\n",
       "</body>\n",
       "</html>\n",
       "\n",
       "\n",
       "</div>"
      ],
      "text/plain": [
       "'from typing import Any, Dict\\n\\nimport pandas as pd\\nimport requests\\n\\n\\ndef request_features(entity_serving_names: Dict[str, Any]) -> pd.DataFrame:\\n    \"\"\"\\n    Send POST request to online serving endpoint\\n\\n    Parameters\\n    ----------\\n    entity_serving_names: Dict[str, Any]\\n        Entity serving name values to used for serving request\\n\\n    Returns\\n    -------\\n    pd.DataFrame\\n    \"\"\"\\n    response = requests.post(\\n        url=\"http://127.0.0.1:8088/feature_list/64346203425695270f724a7d/online_features\",\\n        params={\"catalog_id\": \"643461f3425695270f724a6b\"},\\n        headers={\"Content-Type\": \"application/json\"},\\n        json={\"entity_serving_names\": entity_serving_names},\\n    )\\n    assert response.status_code == 200, response.json()\\n    return pd.DataFrame.from_dict(response.json()[\"features\"])\\n\\n\\nrequest_features([{\"GROCERYCUSTOMERGUID\": \"a7ada4a3-fd92-44e6-a232-175c90b1c939\"}])'"
      ]
     },
     "execution_count": 25,
     "metadata": {},
     "output_type": "execute_result"
    }
   ],
   "source": [
    "# get a python template for consuming the feature serving API\n",
    "feature_list.get_online_serving_code(language=\"python\")"
   ]
  },
  {
   "cell_type": "markdown",
   "metadata": {},
   "source": [
    "Copy the online serving code that was generated above, paste it into the cell below, then run it"
   ]
  },
  {
   "cell_type": "code",
   "execution_count": 26,
   "metadata": {
    "execution": {
     "iopub.execute_input": "2023-04-10T19:23:45.895027Z",
     "iopub.status.busy": "2023-04-10T19:23:45.894859Z",
     "iopub.status.idle": "2023-04-10T19:23:45.896993Z",
     "shell.execute_reply": "2023-04-10T19:23:45.896625Z"
    }
   },
   "outputs": [],
   "source": [
    "# replace the contents of this Python code cell with the output from to_be_deployed.get_online_serving_code(language=\"python\")"
   ]
  },
  {
   "attachments": {},
   "cell_type": "markdown",
   "metadata": {},
   "source": [
    "## Manage the feature list lifecycle\n",
    "\n",
    "Learning objectives\n",
    "\n",
    "In this section you will learn how to:\n",
    "* make a new feature version\n",
    "* change the feature job settings for a feature\n",
    "* disable a deployment"
   ]
  },
  {
   "cell_type": "markdown",
   "metadata": {},
   "source": [
    "### Example: Change the feature job settings for a feature\n",
    "\n",
    "Note that changing feature job settings will only affect time-aware features e.g. features created using aggregate_over. It will not affect features based upon simple aggregation."
   ]
  },
  {
   "cell_type": "code",
   "execution_count": 27,
   "metadata": {
    "execution": {
     "iopub.execute_input": "2023-04-10T19:23:45.899326Z",
     "iopub.status.busy": "2023-04-10T19:23:45.899156Z",
     "iopub.status.idle": "2023-04-10T19:23:45.902026Z",
     "shell.execute_reply": "2023-04-10T19:23:45.901653Z"
    }
   },
   "outputs": [
    {
     "data": {
      "text/plain": [
       "FeatureJobSetting(blind_spot='120s', frequency='3600s', time_modulo_frequency='65s')"
      ]
     },
     "execution_count": 27,
     "metadata": {},
     "output_type": "execute_result"
    }
   ],
   "source": [
    "# show the feature job settings for the grocery invoice table\n",
    "invoice_table.default_feature_job_setting"
   ]
  },
  {
   "cell_type": "code",
   "execution_count": 28,
   "metadata": {
    "execution": {
     "iopub.execute_input": "2023-04-10T19:23:45.903988Z",
     "iopub.status.busy": "2023-04-10T19:23:45.903852Z",
     "iopub.status.idle": "2023-04-10T19:23:47.682231Z",
     "shell.execute_reply": "2023-04-10T19:23:47.681856Z"
    }
   },
   "outputs": [],
   "source": [
    "# get the feature\n",
    "customer_invoice_total_14d = catalog.get_feature(\"CustomerInvoiceTotal_14days\")\n",
    "\n",
    "# update the feature job settings for the customer_invoice_total_14d feature\n",
    "customer_invoice_total_14d = customer_invoice_total_14d.create_new_version([\n",
    "    fb.TableFeatureJobSetting(\n",
    "      table_name=\"GROCERYINVOICE\",\n",
    "      feature_job_setting=fb.FeatureJobSetting(\n",
    "        blind_spot=\"160s\",\n",
    "        frequency=\"60m\",\n",
    "        time_modulo_frequency=\"90s\",\n",
    "      )\n",
    "    ),\n",
    "  ]\n",
    ")\n",
    "\n",
    "# list the feature versions\n",
    "feature_versions = customer_invoice_total_14d.list_versions()"
   ]
  },
  {
   "attachments": {},
   "cell_type": "markdown",
   "metadata": {},
   "source": [
    "### Example: Disable a deployment"
   ]
  },
  {
   "cell_type": "code",
   "execution_count": 29,
   "metadata": {
    "execution": {
     "iopub.execute_input": "2023-04-10T19:23:47.684221Z",
     "iopub.status.busy": "2023-04-10T19:23:47.684094Z",
     "iopub.status.idle": "2023-04-10T19:23:58.771429Z",
     "shell.execute_reply": "2023-04-10T19:23:58.770809Z"
    }
   },
   "outputs": [
    {
     "name": "stdout",
     "output_type": "stream",
     "text": [
      "Loading Feature(s) |████████████████████████████████████████| 3/3 [100%] in 1.1s (2.67/s)                               \n",
      "Done! |████████████████████████████████████████| 100% in 9.3s (10.80%/s)                                                \n"
     ]
    }
   ],
   "source": [
    "# disable the feature list deployment\n",
    "feature_list.deploy(enable=False)"
   ]
  },
  {
   "attachments": {},
   "cell_type": "markdown",
   "metadata": {},
   "source": [
    "## Next Steps\n",
    "\n",
    "Now that you've completed the quick-start end-to-end tutorial, you can put your knowledge into practice or learn more:<br>\n",
    "1. Learn more about feature engineering via the \"Quick Start Feature Engineering\" tutorial\n",
    "2. Learn more about reusing features via the \"Quick Start Reusing Features\" tutorial\n",
    "3. Learn about data modeling via the \"Deep Dive Data Modeling\" tutorial"
   ]
  }
 ],
 "metadata": {
  "kernelspec": {
   "display_name": "Python 3 (ipykernel)",
   "language": "python",
   "name": "python3"
  },
  "language_info": {
   "codemirror_mode": {
    "name": "ipython",
    "version": 3
   },
   "file_extension": ".py",
   "mimetype": "text/x-python",
   "name": "python",
   "nbconvert_exporter": "python",
   "pygments_lexer": "ipython3",
   "version": "3.10.9"
  }
 },
 "nbformat": 4,
 "nbformat_minor": 4
}
