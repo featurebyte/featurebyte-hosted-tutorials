{
 "cells": [
  {
   "cell_type": "markdown",
   "metadata": {},
   "source": [
    "# Quick Start Tutorial: Feature Engineering"
   ]
  },
  {
   "attachments": {},
   "cell_type": "markdown",
   "metadata": {},
   "source": [
    "## Learning Objectives\n",
    "\n",
    "In this tutorial you will learn:\n",
    "1. How to create and use views\n",
    "2. How features, entities, and observation sets are used together\n",
    "3. How to create a lookup feature\n",
    "4. How to create an aggregate feature\n",
    "5. How to save features\n",
    "6. How to reuse features\n",
    "7. How to create a feature list\n",
    "8. How to materialize feature values"
   ]
  },
  {
   "attachments": {},
   "cell_type": "markdown",
   "metadata": {},
   "source": [
    "## Set up the prerequisites\n",
    "\n",
    "Learning Objectives\n",
    "\n",
    "In this section you will:\n",
    "* start your local featurebyte server\n",
    "* import libraries\n",
    "* learn about catalogs\n",
    "* activate a pre-built catalog"
   ]
  },
  {
   "cell_type": "markdown",
   "metadata": {},
   "source": [
    "### Load the featurebyte library and connect to the local instance of featurebyte"
   ]
  },
  {
   "cell_type": "code",
   "execution_count": 1,
   "metadata": {
    "tags": []
   },
   "outputs": [
    {
     "name": "stderr",
     "output_type": "stream",
     "text": [
      "2023-03-27 19:05:13.261 | INFO     | featurebyte.docker.manager:start_playground:305 | Starting featurebyte service | {}\n"
     ]
    },
    {
     "name": "stdout",
     "output_type": "stream",
     "text": [
      "FeatureByte version 0.1.4\n"
     ]
    },
    {
     "name": "stderr",
     "output_type": "stream",
     "text": [
      "2023-03-27 19:05:21.233 | INFO     | featurebyte.docker.manager:start_playground:307 | Starting local spark service | {}\n",
      "2023-03-27 19:05:28.080 | INFO     | featurebyte.docker.manager:start_playground:310 | Starting documentation service | {}\n",
      "2023-03-27 19:05:34.971 | INFO     | featurebyte.docker.manager:start_playground:314 | Creating local spark feature store | {}\n",
      "2023-03-27 19:05:35.493 | INFO     | featurebyte.docker.manager:start_playground:336 | Dataset grocery already exists, skipping import | {}\n",
      "2023-03-27 19:05:35.494 | INFO     | featurebyte.docker.manager:start_playground:336 | Dataset healthcare already exists, skipping import | {}\n",
      "2023-03-27 19:05:35.494 | INFO     | featurebyte.docker.manager:start_playground:336 | Dataset creditcard already exists, skipping import | {}\n"
     ]
    }
   ],
   "source": [
    "# library imports\n",
    "import pandas as pd\n",
    "import numpy as np\n",
    "\n",
    "# load the featurebyte SDK\n",
    "import featurebyte as fb\n",
    "\n",
    "print(\"FeatureByte version \" + fb.version)\n",
    "\n",
    "# start the local server, then wait for it to be healthy before proceeding\n",
    "fb.playground()"
   ]
  },
  {
   "cell_type": "markdown",
   "metadata": {},
   "source": [
    "### Concept: Catalog\n",
    "\n",
    "A FeatureByte Catalog serves as a centralized repository for storing metadata about FeatureByte objects such as tables, entities, features, and feature lists associated with a specific domain. It functions as an effective tool for facilitating collaboration among team members working on similar use cases or utilizing the same data source within a data warehouse."
   ]
  },
  {
   "cell_type": "markdown",
   "metadata": {},
   "source": [
    "### Create a pre-built catalog for this tutorial, with the data, metadata, and features already set up\n",
    "\n",
    "Note that creating a pre-built catalog is not a step you will do in real-life. This is a function specific to this quick-start tutorial to quickly skip over many of the preparatory steps and get you to a point where you can materialize features.\n",
    "\n",
    "In a real-life project you would do data modeling, declaring the tables, entities, and the associated metadata. This would not be a frequent task, but forms the basis for best-practice feature engineering."
   ]
  },
  {
   "cell_type": "code",
   "execution_count": 2,
   "metadata": {
    "tags": []
   },
   "outputs": [
    {
     "name": "stdout",
     "output_type": "stream",
     "text": [
      "Cleaning up any existing tutorial catalogs\n",
      "Building a quick start catalog for feature engineering named [quick start feature engineering 20230327:1905]\n",
      "Creating new catalog\n",
      "Catalog created\n",
      "Registering the source tables\n",
      "Registering the entities\n",
      "Tagging the entities to columns in the data tables\n",
      "Populating the feature store with example features\n",
      "Catalog created and pre-populated with data and features\n"
     ]
    }
   ],
   "source": [
    "# get the functions to create a pre-built catalog\n",
    "from prebuilt_catalogs import *\n",
    "\n",
    "# create a new catalog for this tutorial\n",
    "catalog_name = create_tutorial_catalog(PrebuiltCatalog.QuickStartFeatureEngineeering)"
   ]
  },
  {
   "cell_type": "markdown",
   "metadata": {},
   "source": [
    "### Example: Activate an existing catalog"
   ]
  },
  {
   "cell_type": "code",
   "execution_count": 3,
   "metadata": {
    "tags": []
   },
   "outputs": [],
   "source": [
    "# you can activate an existing catalog\n",
    "catalog = fb.Catalog.activate(catalog_name)"
   ]
  },
  {
   "attachments": {},
   "cell_type": "markdown",
   "metadata": {},
   "source": [
    "## Create Views of Tables within the Catalog\n",
    "\n",
    "Learning Objectives\n",
    "\n",
    "In this section you will learn:\n",
    "* about tables and table types\n",
    "* about the dataset used in this tutorial\n",
    "* how to load tables\n",
    "* about views\n",
    "* how to create views"
   ]
  },
  {
   "cell_type": "markdown",
   "metadata": {},
   "source": [
    "### Concept: Catalog table\n",
    "\n",
    "A Catalog Table serves as a logical representation of a source table within the Catalog. The Catalog Table does not store data itself, but instead provides a way to access the source table and centralize essential metadata for feature engineering."
   ]
  },
  {
   "attachments": {},
   "cell_type": "markdown",
   "metadata": {},
   "source": [
    "### Concept: Standard table types\n",
    "\n",
    "Featurebyte is designed to use data warehouses as the primary data source.\n",
    "\n",
    "Featurebyte supports four of the most common types of data table.\n",
    "\n",
    "1. an <b>event</b> table is a type of Catalog Table that contains rows for specific business event that was measured at a particular moment in time. Event tables can take various forms, such as an Order table in E-commerce, Credit Card Transactions in Banking, Doctor Visits in Healthcare, and Clickstream on the Internet.  \n",
    "2. An <b>item</b> is a type of Catalog Table that represents a table in the data warehouse containing in-depth details about a business event. For instance, an Item table can contain information about Product Items purchased in Customer Orders or Drug Prescriptions issued during Doctor Visits by Patients.\n",
    "3. A <b>dimension</b> table is a Catalog Table that represents a table in the data warehouse that stores static descriptive information such as a birth date or product category. Using a Dimension table requires special attention. If the data in the table changes slowly, it is not advisable to use it because these changes can cause significant data leaks during model training and adversely affect the inference performance. In such cases, it is recommended to use a Slowly Changing Dimension table of Type 2 that maintains a history of changes. For example, dimension data could contain the product group of each grocery product.\n",
    "4. A <b>slowly changing dimension</b> (SCD) table is a type of Catalog Table that represents a table in a data warehouse that contains data that changes slowly and unpredictably over time. There are two main types of SCDs: Type 1, which overwrites old data with new data, and Type 2, which maintains a history of changes by creating a new record for each change. FeatureByte only supports the use of Type 2 SCDs since SCDs of Type 1 may cause data leaks during model training and poor performance during inference. An SCD Table of Type 2 utilizes a natural key to distinguish each active row and facilitate tracking of changes over time. The SCD table employs effective and expiration date columns to determine the active status of a row. In certain instances, an active flag column may replace the expiration date column to indicate if a row is currently active. For example, slowly changing dimension data could contain customer data, which has attributes that need versioning, such as when a customer changes address."
   ]
  },
  {
   "attachments": {
    "BetaTesting-FrenchGrocery.png": {
     "image/png": "[encoded data removed]"
    }
   },
   "cell_type": "markdown",
   "metadata": {},
   "source": [
    "### Introduction to the French grocery dataset\n",
    "\n",
    "This tutorial uses the French grocery dataset that has been pre-installed in quick-start feature engineering catalog. It consists of 4 data tables recording grocery purchasing activity for each customer.<br>\n",
    "\n",
    "1. <b>GroceryCustomer</b> is a slowly changing dimension table containing customer attributes.\n",
    "2. <b>GroceryInvoice</b> is an event table containing grocery purchase transactions.\n",
    "3. <b>InvoiceItems</b> is an event items table containing details of the basket of grocery items purchased in each transaction.\n",
    "4. <b>GroceryProduct</b> is a dimension table containing the product attributes for each grocery item being sold.\n",
    "\n",
    "![BetaTesting-FrenchGrocery.png](attachment:BetaTesting-FrenchGrocery.png)"
   ]
  },
  {
   "cell_type": "markdown",
   "metadata": {},
   "source": [
    "### Example: Load featurebyte tables\n",
    "\n",
    "FeatureByte works on the principle of not moving data unnecessarily. So when you load a featurebyte table, you load its metadata, not the full contents of the table."
   ]
  },
  {
   "cell_type": "code",
   "execution_count": 4,
   "metadata": {
    "tags": []
   },
   "outputs": [],
   "source": [
    "# get the tables for this catalog\n",
    "grocery_customer_table = catalog.get_table(\"GROCERYCUSTOMER\")\n",
    "grocery_items_table = catalog.get_table(\"INVOICEITEMS\")\n",
    "grocery_invoice_table = catalog.get_table(\"GROCERYINVOICE\")"
   ]
  },
  {
   "cell_type": "markdown",
   "metadata": {},
   "source": [
    "### Concept: FeatureByte view\n",
    "\n",
    "Views are cleaned versions of Catalog tables and offer a flexible and efficient way to work with Catalog tables. They allow operations like creating new columns, filtering records, conditionally editing columns, extracting lags and joining views, similar to Pandas. Unlike Pandas DataFrames, which require loading all data into memory, views are materialized only when needed during previews or feature materialization."
   ]
  },
  {
   "cell_type": "markdown",
   "metadata": {},
   "source": [
    "### Example: Syntax for creating views"
   ]
  },
  {
   "cell_type": "code",
   "execution_count": 5,
   "metadata": {
    "tags": []
   },
   "outputs": [],
   "source": [
    "# create views from the tables\n",
    "grocery_customer_view = grocery_customer_table.get_view()\n",
    "grocery_invoice_view = grocery_invoice_table.get_view()\n",
    "grocery_items_view = grocery_items_table.get_view()"
   ]
  },
  {
   "attachments": {},
   "cell_type": "markdown",
   "metadata": {},
   "source": [
    "## Features\n",
    "\n",
    "Learning Objectives\n",
    "\n",
    "In this section you will learn:\n",
    "* the definition of a feature\n",
    "* about entities and primary entities\n",
    "* how to list entities\n",
    "* what is an observation set, and how to create one"
   ]
  },
  {
   "cell_type": "markdown",
   "metadata": {},
   "source": [
    "### Concept: Feature\n",
    "\n",
    "Input data that is used to train Machine Learning models and compute predictions is commonly referred to as features.\n",
    "\n",
    "Features in FeatureByte are easily declared from Views in three ways: either as a Lookup feature, as an Aggregate feature or as a Cross Aggregate feature. Features can also be declared as a transformation of one or more existing features."
   ]
  },
  {
   "cell_type": "markdown",
   "metadata": {},
   "source": [
    "### Concept: Entity\n",
    "\n",
    "An entity is a real-world object or concept that is represented by fields in the source tables. Entities facilitate automatic table join definitions, serve as the unit of analysis for feature engineering, and aid in organizing features, feature lists, and use cases.\n",
    "\n",
    "All features must relate to an entity (or entities) as their primary unit of analysis."
   ]
  },
  {
   "cell_type": "markdown",
   "metadata": {},
   "source": [
    "### Concept: Feature Primary Entity\n",
    "The primary entity of a feature defines the level of analysis for that feature.\n",
    "\n",
    "The primary entity is usually a single entity. But in some instances, it may be a tuple of entities.\n",
    "\n",
    "When a feature is a result of an aggregation grouped by multiple entities, the primary entity is a tuple of those entities. For instance, if a feature quantifies the interaction between a customer entity and a merchant entity in the past, such as the sum of transaction amounts grouped by customer and merchant in the past 4 weeks, the primary entity is the tuple of customer and merchant.\n",
    "\n",
    "When a feature is derived from features with different primary entities, the primary entity is determined by the entity relationships, and the lowest level entity is selected as the primary entity. If the underlying entities have no relationship, the primary entity becomes a tuple of those entities.\n",
    "\n",
    "For example, if a feature compares the basket of a customer with the average basket of customers in the same city, the primary entity is the customer since the customer entity is a child of the customer city entity. However, if the feature is the distance between the customer location and the merchant location, the primary entity becomes the tuple of customer and merchant since these entities do not have any parent-child relationship."
   ]
  },
  {
   "cell_type": "markdown",
   "metadata": {},
   "source": [
    "### Example: List entities\n",
    "\n",
    "Note that in this case study, all entities except French state are used for joining tables. \n",
    "\n",
    "All entities can be used as a unit of analysis for features. For example, the French state entity can be used for creating features that aggregate over the geography."
   ]
  },
  {
   "cell_type": "code",
   "execution_count": 6,
   "metadata": {
    "tags": []
   },
   "outputs": [
    {
     "data": {
      "text/html": [
       "<div>\n",
       "<style scoped>\n",
       "    .dataframe tbody tr th:only-of-type {\n",
       "        vertical-align: middle;\n",
       "    }\n",
       "\n",
       "    .dataframe tbody tr th {\n",
       "        vertical-align: top;\n",
       "    }\n",
       "\n",
       "    .dataframe thead th {\n",
       "        text-align: right;\n",
       "    }\n",
       "</style>\n",
       "<table border=\"1\" class=\"dataframe\">\n",
       "  <thead>\n",
       "    <tr style=\"text-align: right;\">\n",
       "      <th></th>\n",
       "      <th>name</th>\n",
       "      <th>serving_names</th>\n",
       "      <th>created_at</th>\n",
       "    </tr>\n",
       "  </thead>\n",
       "  <tbody>\n",
       "    <tr>\n",
       "      <th>0</th>\n",
       "      <td>frenchstate</td>\n",
       "      <td>[FRENCHSTATE]</td>\n",
       "      <td>2023-03-27 11:05:43.875</td>\n",
       "    </tr>\n",
       "    <tr>\n",
       "      <th>1</th>\n",
       "      <td>groceryproduct</td>\n",
       "      <td>[GROCERYPRODUCTGUID]</td>\n",
       "      <td>2023-03-27 11:05:43.656</td>\n",
       "    </tr>\n",
       "    <tr>\n",
       "      <th>2</th>\n",
       "      <td>groceryinvoice</td>\n",
       "      <td>[GROCERYINVOICEGUID]</td>\n",
       "      <td>2023-03-27 11:05:43.418</td>\n",
       "    </tr>\n",
       "    <tr>\n",
       "      <th>3</th>\n",
       "      <td>grocerycustomer</td>\n",
       "      <td>[GROCERYCUSTOMERGUID]</td>\n",
       "      <td>2023-03-27 11:05:43.319</td>\n",
       "    </tr>\n",
       "  </tbody>\n",
       "</table>\n",
       "</div>"
      ],
      "text/plain": [
       "              name          serving_names              created_at\n",
       "0      frenchstate          [FRENCHSTATE] 2023-03-27 11:05:43.875\n",
       "1   groceryproduct   [GROCERYPRODUCTGUID] 2023-03-27 11:05:43.656\n",
       "2   groceryinvoice   [GROCERYINVOICEGUID] 2023-03-27 11:05:43.418\n",
       "3  grocerycustomer  [GROCERYCUSTOMERGUID] 2023-03-27 11:05:43.319"
      ]
     },
     "execution_count": 6,
     "metadata": {},
     "output_type": "execute_result"
    }
   ],
   "source": [
    "# list the entities in the dataset\n",
    "catalog.list_entities()"
   ]
  },
  {
   "cell_type": "markdown",
   "metadata": {},
   "source": [
    "### Concept: Observation set\n",
    "\n",
    "An observation set is a table of entity keys and points in time, for which you wish to materialize feature values. The entities keys define which entities a feature will materialize, and the points in time define at which timestamps."
   ]
  },
  {
   "cell_type": "markdown",
   "metadata": {},
   "source": [
    "### Example: Creating an observation set\n",
    "\n",
    "Some use cases are about events, and require predictions to be triggered when a specified event occurs.\n",
    "\n",
    "For a use case requiring predictions about a grocery customer whenever an invoice event occurs, your observation set may be sampled from historical invoices."
   ]
  },
  {
   "cell_type": "code",
   "execution_count": 7,
   "metadata": {
    "tags": []
   },
   "outputs": [
    {
     "data": {
      "text/html": [
       "<div>\n",
       "<style scoped>\n",
       "    .dataframe tbody tr th:only-of-type {\n",
       "        vertical-align: middle;\n",
       "    }\n",
       "\n",
       "    .dataframe tbody tr th {\n",
       "        vertical-align: top;\n",
       "    }\n",
       "\n",
       "    .dataframe thead th {\n",
       "        text-align: right;\n",
       "    }\n",
       "</style>\n",
       "<table border=\"1\" class=\"dataframe\">\n",
       "  <thead>\n",
       "    <tr style=\"text-align: right;\">\n",
       "      <th></th>\n",
       "      <th>GROCERYCUSTOMERGUID</th>\n",
       "      <th>POINT_IN_TIME</th>\n",
       "    </tr>\n",
       "  </thead>\n",
       "  <tbody>\n",
       "    <tr>\n",
       "      <th>0</th>\n",
       "      <td>7005c3a2-a903-4c15-9ffb-d52b0d5eba14</td>\n",
       "      <td>2022-10-31 15:05:32</td>\n",
       "    </tr>\n",
       "    <tr>\n",
       "      <th>1</th>\n",
       "      <td>82a104d2-ad63-4079-8ccc-767c5b88afcb</td>\n",
       "      <td>2022-11-17 15:24:37</td>\n",
       "    </tr>\n",
       "    <tr>\n",
       "      <th>2</th>\n",
       "      <td>a90ab8bf-1c87-4c98-811f-6b8cc8a7b7bd</td>\n",
       "      <td>2022-03-03 21:04:48</td>\n",
       "    </tr>\n",
       "    <tr>\n",
       "      <th>3</th>\n",
       "      <td>ebd6f63f-9425-4175-8f69-457979d69741</td>\n",
       "      <td>2022-06-13 16:53:28</td>\n",
       "    </tr>\n",
       "    <tr>\n",
       "      <th>4</th>\n",
       "      <td>b721fbac-ed20-47c7-8bcc-c7033dddf773</td>\n",
       "      <td>2022-11-20 15:42:00</td>\n",
       "    </tr>\n",
       "  </tbody>\n",
       "</table>\n",
       "</div>"
      ],
      "text/plain": [
       "                    GROCERYCUSTOMERGUID       POINT_IN_TIME\n",
       "0  7005c3a2-a903-4c15-9ffb-d52b0d5eba14 2022-10-31 15:05:32\n",
       "1  82a104d2-ad63-4079-8ccc-767c5b88afcb 2022-11-17 15:24:37\n",
       "2  a90ab8bf-1c87-4c98-811f-6b8cc8a7b7bd 2022-03-03 21:04:48\n",
       "3  ebd6f63f-9425-4175-8f69-457979d69741 2022-06-13 16:53:28\n",
       "4  b721fbac-ed20-47c7-8bcc-c7033dddf773 2022-11-20 15:42:00"
      ]
     },
     "metadata": {},
     "output_type": "display_data"
    }
   ],
   "source": [
    "# get some invoice IDs and invoice event timestamps from 2022\n",
    "filter = grocery_invoice_view[\"Timestamp\"].dt.year == 2022\n",
    "observation_set = (\n",
    "    grocery_invoice_view[filter].sample(5)[[\"GroceryCustomerGuid\", \"Timestamp\"]]\n",
    "    .rename({\n",
    "        \"Timestamp\": \"POINT_IN_TIME\",\n",
    "        \"GroceryCustomerGuid\": \"GROCERYCUSTOMERGUID\",\n",
    "    }, axis=1)\n",
    ")\n",
    "display(observation_set)"
   ]
  },
  {
   "attachments": {},
   "cell_type": "markdown",
   "metadata": {},
   "source": [
    "## Create a Lookup Feature\n",
    "\n",
    "Learning Objectives\n",
    "\n",
    "In this section you will learn:\n",
    "* how to transform data\n",
    "* what is a lookup feature\n",
    "* how to create a lookup feature"
   ]
  },
  {
   "cell_type": "markdown",
   "metadata": {},
   "source": [
    "### Concept: Transformation\n",
    "\n",
    "A transformation is the process of changing the values of data in a view."
   ]
  },
  {
   "cell_type": "markdown",
   "metadata": {},
   "source": [
    "### Example: Transforming data in a view"
   ]
  },
  {
   "cell_type": "code",
   "execution_count": 8,
   "metadata": {
    "tags": []
   },
   "outputs": [
    {
     "data": {
      "text/html": [
       "<div>\n",
       "<style scoped>\n",
       "    .dataframe tbody tr th:only-of-type {\n",
       "        vertical-align: middle;\n",
       "    }\n",
       "\n",
       "    .dataframe tbody tr th {\n",
       "        vertical-align: top;\n",
       "    }\n",
       "\n",
       "    .dataframe thead th {\n",
       "        text-align: right;\n",
       "    }\n",
       "</style>\n",
       "<table border=\"1\" class=\"dataframe\">\n",
       "  <thead>\n",
       "    <tr style=\"text-align: right;\">\n",
       "      <th></th>\n",
       "      <th>GroceryCustomerGuid</th>\n",
       "      <th>ValidFrom</th>\n",
       "      <th>BrowserUserAgent</th>\n",
       "      <th>CurrentRecord</th>\n",
       "      <th>OperatingSystem</th>\n",
       "    </tr>\n",
       "  </thead>\n",
       "  <tbody>\n",
       "    <tr>\n",
       "      <th>0</th>\n",
       "      <td>af30d1e6-1563-4866-9038-5a4c338f579d</td>\n",
       "      <td>2019-01-02 16:19:58</td>\n",
       "      <td>Mozilla/5.0 (Windows NT 10.0; Win64; x64; rv:6...</td>\n",
       "      <td>True</td>\n",
       "      <td>Windows</td>\n",
       "    </tr>\n",
       "    <tr>\n",
       "      <th>1</th>\n",
       "      <td>bfee3b1a-4315-4a63-aff3-65e3f926fc41</td>\n",
       "      <td>2019-01-09 17:26:09</td>\n",
       "      <td>Mozilla/5.0 (Windows NT 10.0; Win64; x64) Appl...</td>\n",
       "      <td>True</td>\n",
       "      <td>Windows</td>\n",
       "    </tr>\n",
       "    <tr>\n",
       "      <th>2</th>\n",
       "      <td>9a6e097b-5297-4a31-b3a0-1443defb0915</td>\n",
       "      <td>2019-01-01 16:53:27</td>\n",
       "      <td>Mozilla/5.0 (Windows NT 10.0; Win64; x64; rv:6...</td>\n",
       "      <td>True</td>\n",
       "      <td>Windows</td>\n",
       "    </tr>\n",
       "    <tr>\n",
       "      <th>3</th>\n",
       "      <td>832a37b2-0a10-4f78-be47-42415f68be6c</td>\n",
       "      <td>2019-01-15 12:50:46</td>\n",
       "      <td>Mozilla/5.0 (Macintosh; Intel Mac OS X 10_14_4...</td>\n",
       "      <td>True</td>\n",
       "      <td>Mac</td>\n",
       "    </tr>\n",
       "    <tr>\n",
       "      <th>4</th>\n",
       "      <td>a90ab8bf-1c87-4c98-811f-6b8cc8a7b7bd</td>\n",
       "      <td>2019-01-02 15:18:35</td>\n",
       "      <td>Mozilla/5.0 (Macintosh; Intel Mac OS X 10_14_4...</td>\n",
       "      <td>True</td>\n",
       "      <td>Mac</td>\n",
       "    </tr>\n",
       "    <tr>\n",
       "      <th>5</th>\n",
       "      <td>e3a927ee-ae24-496d-9c53-53f39ede0f9e</td>\n",
       "      <td>2019-03-16 17:22:56</td>\n",
       "      <td>Mozilla/5.0 (Windows NT 10.0; Win64; x64) Appl...</td>\n",
       "      <td>True</td>\n",
       "      <td>Windows</td>\n",
       "    </tr>\n",
       "    <tr>\n",
       "      <th>6</th>\n",
       "      <td>cbc46908-6827-49b5-8cbc-c67223ca56c4</td>\n",
       "      <td>2019-01-07 16:44:43</td>\n",
       "      <td>Mozilla/5.0 (Windows NT 10.0; Win64; x64) Appl...</td>\n",
       "      <td>True</td>\n",
       "      <td>Windows</td>\n",
       "    </tr>\n",
       "    <tr>\n",
       "      <th>7</th>\n",
       "      <td>e0df64b7-9104-439d-956e-dc5dc0a66f8f</td>\n",
       "      <td>2019-01-08 10:50:07</td>\n",
       "      <td>Mozilla/5.0 (Windows NT 10.0; WOW64) AppleWebK...</td>\n",
       "      <td>False</td>\n",
       "      <td>Windows</td>\n",
       "    </tr>\n",
       "    <tr>\n",
       "      <th>8</th>\n",
       "      <td>372f9d62-7479-43c4-a54c-8b49faff067c</td>\n",
       "      <td>2021-04-21 17:12:29</td>\n",
       "      <td>Mozilla/5.0 (Windows NT 6.1; Win64; x64; rv:66...</td>\n",
       "      <td>True</td>\n",
       "      <td>Windows</td>\n",
       "    </tr>\n",
       "    <tr>\n",
       "      <th>9</th>\n",
       "      <td>850e590f-d786-4dd3-9c3f-836aa1402091</td>\n",
       "      <td>2022-03-24 15:24:04</td>\n",
       "      <td>Mozilla/5.0 (Windows NT 10.0; Win64; x64; rv:6...</td>\n",
       "      <td>True</td>\n",
       "      <td>Windows</td>\n",
       "    </tr>\n",
       "  </tbody>\n",
       "</table>\n",
       "</div>"
      ],
      "text/plain": [
       "                    GroceryCustomerGuid           ValidFrom  \\\n",
       "0  af30d1e6-1563-4866-9038-5a4c338f579d 2019-01-02 16:19:58   \n",
       "1  bfee3b1a-4315-4a63-aff3-65e3f926fc41 2019-01-09 17:26:09   \n",
       "2  9a6e097b-5297-4a31-b3a0-1443defb0915 2019-01-01 16:53:27   \n",
       "3  832a37b2-0a10-4f78-be47-42415f68be6c 2019-01-15 12:50:46   \n",
       "4  a90ab8bf-1c87-4c98-811f-6b8cc8a7b7bd 2019-01-02 15:18:35   \n",
       "5  e3a927ee-ae24-496d-9c53-53f39ede0f9e 2019-03-16 17:22:56   \n",
       "6  cbc46908-6827-49b5-8cbc-c67223ca56c4 2019-01-07 16:44:43   \n",
       "7  e0df64b7-9104-439d-956e-dc5dc0a66f8f 2019-01-08 10:50:07   \n",
       "8  372f9d62-7479-43c4-a54c-8b49faff067c 2021-04-21 17:12:29   \n",
       "9  850e590f-d786-4dd3-9c3f-836aa1402091 2022-03-24 15:24:04   \n",
       "\n",
       "                                    BrowserUserAgent  CurrentRecord  \\\n",
       "0  Mozilla/5.0 (Windows NT 10.0; Win64; x64; rv:6...           True   \n",
       "1  Mozilla/5.0 (Windows NT 10.0; Win64; x64) Appl...           True   \n",
       "2  Mozilla/5.0 (Windows NT 10.0; Win64; x64; rv:6...           True   \n",
       "3  Mozilla/5.0 (Macintosh; Intel Mac OS X 10_14_4...           True   \n",
       "4  Mozilla/5.0 (Macintosh; Intel Mac OS X 10_14_4...           True   \n",
       "5  Mozilla/5.0 (Windows NT 10.0; Win64; x64) Appl...           True   \n",
       "6  Mozilla/5.0 (Windows NT 10.0; Win64; x64) Appl...           True   \n",
       "7  Mozilla/5.0 (Windows NT 10.0; WOW64) AppleWebK...          False   \n",
       "8  Mozilla/5.0 (Windows NT 6.1; Win64; x64; rv:66...           True   \n",
       "9  Mozilla/5.0 (Windows NT 10.0; Win64; x64; rv:6...           True   \n",
       "\n",
       "  OperatingSystem  \n",
       "0         Windows  \n",
       "1         Windows  \n",
       "2         Windows  \n",
       "3             Mac  \n",
       "4             Mac  \n",
       "5         Windows  \n",
       "6         Windows  \n",
       "7         Windows  \n",
       "8         Windows  \n",
       "9         Windows  "
      ]
     },
     "metadata": {},
     "output_type": "display_data"
    }
   ],
   "source": [
    "# extract the operating system from the BrowserUserAgent column\n",
    "grocery_customer_view[\"OperatingSystem\"] = 'Unknown'\n",
    "filter1 = grocery_customer_view.BrowserUserAgent.str.contains(\"Windows\")\n",
    "filter2 = grocery_customer_view.BrowserUserAgent.str.contains(\"Mac OS X\")\n",
    "grocery_customer_view.OperatingSystem[filter1] = 'Windows'\n",
    "grocery_customer_view.OperatingSystem[filter2] = 'Mac'\n",
    "\n",
    "# display a sample of the results\n",
    "display(grocery_customer_view[[\"GroceryCustomerGuid\", \"BrowserUserAgent\", \"OperatingSystem\"]].sample())"
   ]
  },
  {
   "cell_type": "markdown",
   "metadata": {},
   "source": [
    "### Concept: Natural key\n",
    "\n",
    "A natural key is a generally accepted identifier used to uniquely identify real-world objects. Examples are social security numbers that identify specific employee, or SKU numbers in a product dimension. In a Slowly Changing Dimension (SCD) table, a natural key is a column or a group of columns that remains constant over time and uniquely identifies each active row in the table at any point-in-time.\n",
    "\n",
    "This key is crucial in maintaining and analyzing the historical changes made in the table. For example, in a customer SCD table, the customer ID can be considered a natural key since it remains constant, uniquely identifies each customer, is associated with only one set of customer attributes at a particular point-in-time, such as their address and phone number."
   ]
  },
  {
   "cell_type": "markdown",
   "metadata": {},
   "source": [
    "### Concept: Lookup feature\n",
    "\n",
    "A Lookup feature refers to an entity’s attribute in a View at a specific point-in-time. Lookup features do not involve any aggregation processes.\n",
    "\n",
    "When a FeatureByte view's primary key identifies an entity, it is simple to designate its attributes as features for that particular entity. Examples of Lookup features are a customer's birthplace retrieved from a Customer Dimension table or a transaction amount retrieved from a Transactions Event table.\n",
    "\n",
    "In situations where an entity serves as the natural key of an SCD view, it is also possible to assign one of its attributes as a feature for that entity. However, in those cases, the feature is materialized through point-in-time joins, and the resulting value corresponds to the active row at the specified point-in-time of the feature request. For instance, a customer feature could be the customer's street address at the request's point-in-time. To acquire a feature value at a specific time before the request's point-in-time, an offset can be indicated. For example, by setting the offset to 9 weeks, the feature would represent the customer's street address 9 weeks before the request's point-in-time."
   ]
  },
  {
   "cell_type": "markdown",
   "metadata": {},
   "source": [
    "### Example: Syntax for declaring a lookup feature"
   ]
  },
  {
   "cell_type": "code",
   "execution_count": 9,
   "metadata": {
    "tags": []
   },
   "outputs": [
    {
     "data": {
      "text/html": [
       "<div>\n",
       "<style scoped>\n",
       "    .dataframe tbody tr th:only-of-type {\n",
       "        vertical-align: middle;\n",
       "    }\n",
       "\n",
       "    .dataframe tbody tr th {\n",
       "        vertical-align: top;\n",
       "    }\n",
       "\n",
       "    .dataframe thead th {\n",
       "        text-align: right;\n",
       "    }\n",
       "</style>\n",
       "<table border=\"1\" class=\"dataframe\">\n",
       "  <thead>\n",
       "    <tr style=\"text-align: right;\">\n",
       "      <th></th>\n",
       "      <th>GROCERYCUSTOMERGUID</th>\n",
       "      <th>POINT_IN_TIME</th>\n",
       "      <th>OperatingSystem</th>\n",
       "    </tr>\n",
       "  </thead>\n",
       "  <tbody>\n",
       "    <tr>\n",
       "      <th>0</th>\n",
       "      <td>7005c3a2-a903-4c15-9ffb-d52b0d5eba14</td>\n",
       "      <td>2022-10-31 15:05:32</td>\n",
       "      <td>Windows</td>\n",
       "    </tr>\n",
       "    <tr>\n",
       "      <th>1</th>\n",
       "      <td>82a104d2-ad63-4079-8ccc-767c5b88afcb</td>\n",
       "      <td>2022-11-17 15:24:37</td>\n",
       "      <td>Windows</td>\n",
       "    </tr>\n",
       "    <tr>\n",
       "      <th>2</th>\n",
       "      <td>a90ab8bf-1c87-4c98-811f-6b8cc8a7b7bd</td>\n",
       "      <td>2022-03-03 21:04:48</td>\n",
       "      <td>Mac</td>\n",
       "    </tr>\n",
       "    <tr>\n",
       "      <th>3</th>\n",
       "      <td>ebd6f63f-9425-4175-8f69-457979d69741</td>\n",
       "      <td>2022-06-13 16:53:28</td>\n",
       "      <td>Unknown</td>\n",
       "    </tr>\n",
       "    <tr>\n",
       "      <th>4</th>\n",
       "      <td>b721fbac-ed20-47c7-8bcc-c7033dddf773</td>\n",
       "      <td>2022-11-20 15:42:00</td>\n",
       "      <td>Windows</td>\n",
       "    </tr>\n",
       "  </tbody>\n",
       "</table>\n",
       "</div>"
      ],
      "text/plain": [
       "                    GROCERYCUSTOMERGUID       POINT_IN_TIME OperatingSystem\n",
       "0  7005c3a2-a903-4c15-9ffb-d52b0d5eba14 2022-10-31 15:05:32         Windows\n",
       "1  82a104d2-ad63-4079-8ccc-767c5b88afcb 2022-11-17 15:24:37         Windows\n",
       "2  a90ab8bf-1c87-4c98-811f-6b8cc8a7b7bd 2022-03-03 21:04:48             Mac\n",
       "3  ebd6f63f-9425-4175-8f69-457979d69741 2022-06-13 16:53:28         Unknown\n",
       "4  b721fbac-ed20-47c7-8bcc-c7033dddf773 2022-11-20 15:42:00         Windows"
      ]
     },
     "metadata": {},
     "output_type": "display_data"
    }
   ],
   "source": [
    "# create a feature from the operating system column\n",
    "customer_operating_system = grocery_customer_view.OperatingSystem.as_feature(\"OperatingSystem\")\n",
    "\n",
    "# create a multi-row preview of the feature values\n",
    "display(customer_operating_system.preview(observation_set))"
   ]
  },
  {
   "attachments": {},
   "cell_type": "markdown",
   "metadata": {},
   "source": [
    "## Create an Aggregate Feature\n",
    "\n",
    "Learning Objectives\n",
    "\n",
    "In this section you will learn:\n",
    "* what is an aggregate feature\n",
    "* how to create a aggregate feature over a time window"
   ]
  },
  {
   "cell_type": "markdown",
   "metadata": {},
   "source": [
    "### Concept: Aggregate feature\n",
    "\n",
    "Aggregate features are an important type of feature engineering that involves applying various aggregation functions to a collection of data points to identify key patterns or trends. Common aggregation functions include the latest, count, sum, average, minimum, maximum, and standard deviation. However, it's often essential to consider the temporal aspect when conducting these aggregation operations.\n",
    "\n",
    "There are four main types of aggregate features, including simple aggregates, aggregates over a window, aggregates \"as at\" a point-in-time, and aggregates of changes over a window."
   ]
  },
  {
   "cell_type": "markdown",
   "metadata": {},
   "source": [
    "### Concept: Aggregates over a window\n",
    "\n",
    "Aggregates over a window refer to features that are generated by aggregating data within a specific time frame. These types of features are commonly used for analyzing event and item data."
   ]
  },
  {
   "cell_type": "markdown",
   "metadata": {},
   "source": [
    "### Example: Syntax for creating an aggregate feature over a window"
   ]
  },
  {
   "cell_type": "code",
   "execution_count": 10,
   "metadata": {
    "tags": []
   },
   "outputs": [
    {
     "data": {
      "text/html": [
       "<div>\n",
       "<style scoped>\n",
       "    .dataframe tbody tr th:only-of-type {\n",
       "        vertical-align: middle;\n",
       "    }\n",
       "\n",
       "    .dataframe tbody tr th {\n",
       "        vertical-align: top;\n",
       "    }\n",
       "\n",
       "    .dataframe thead th {\n",
       "        text-align: right;\n",
       "    }\n",
       "</style>\n",
       "<table border=\"1\" class=\"dataframe\">\n",
       "  <thead>\n",
       "    <tr style=\"text-align: right;\">\n",
       "      <th></th>\n",
       "      <th>GroceryCustomerGuid</th>\n",
       "      <th>Discount</th>\n",
       "      <th>TotalCost</th>\n",
       "      <th>PercentageDiscount</th>\n",
       "    </tr>\n",
       "  </thead>\n",
       "  <tbody>\n",
       "    <tr>\n",
       "      <th>0</th>\n",
       "      <td>07fb68a0-cde2-46c1-897f-b14724f63cb7</td>\n",
       "      <td>0.41</td>\n",
       "      <td>0.88</td>\n",
       "      <td>31.782946</td>\n",
       "    </tr>\n",
       "    <tr>\n",
       "      <th>1</th>\n",
       "      <td>6178c39c-63f6-4f44-bcf2-3279705334a6</td>\n",
       "      <td>0.00</td>\n",
       "      <td>3.49</td>\n",
       "      <td>0.000000</td>\n",
       "    </tr>\n",
       "    <tr>\n",
       "      <th>2</th>\n",
       "      <td>838eda39-b1d3-4b03-b09d-eebeede52965</td>\n",
       "      <td>0.00</td>\n",
       "      <td>1.00</td>\n",
       "      <td>0.000000</td>\n",
       "    </tr>\n",
       "    <tr>\n",
       "      <th>3</th>\n",
       "      <td>b2994ad1-71a5-45a3-8154-9dfa3b6a0888</td>\n",
       "      <td>0.30</td>\n",
       "      <td>0.79</td>\n",
       "      <td>27.522936</td>\n",
       "    </tr>\n",
       "    <tr>\n",
       "      <th>4</th>\n",
       "      <td>fa6efaa1-fb76-46b2-8215-317029cf8ea6</td>\n",
       "      <td>1.50</td>\n",
       "      <td>4.99</td>\n",
       "      <td>23.112481</td>\n",
       "    </tr>\n",
       "    <tr>\n",
       "      <th>5</th>\n",
       "      <td>e1ee2840-b72f-448f-be0a-dac4ac177e54</td>\n",
       "      <td>0.00</td>\n",
       "      <td>0.25</td>\n",
       "      <td>0.000000</td>\n",
       "    </tr>\n",
       "    <tr>\n",
       "      <th>6</th>\n",
       "      <td>8ad5c37c-135a-41d8-86bc-dc85f188603e</td>\n",
       "      <td>0.20</td>\n",
       "      <td>2.38</td>\n",
       "      <td>7.751938</td>\n",
       "    </tr>\n",
       "    <tr>\n",
       "      <th>7</th>\n",
       "      <td>16e4cf29-598b-43e2-bf52-65f2ed80ac50</td>\n",
       "      <td>0.44</td>\n",
       "      <td>0.75</td>\n",
       "      <td>36.974790</td>\n",
       "    </tr>\n",
       "    <tr>\n",
       "      <th>8</th>\n",
       "      <td>641f1ed9-a8cd-4519-80e6-cc135c3910d4</td>\n",
       "      <td>0.00</td>\n",
       "      <td>10.14</td>\n",
       "      <td>0.000000</td>\n",
       "    </tr>\n",
       "    <tr>\n",
       "      <th>9</th>\n",
       "      <td>59728405-8f8a-4812-8c4b-56e5bb6aff89</td>\n",
       "      <td>0.27</td>\n",
       "      <td>2.42</td>\n",
       "      <td>10.037175</td>\n",
       "    </tr>\n",
       "  </tbody>\n",
       "</table>\n",
       "</div>"
      ],
      "text/plain": [
       "                    GroceryCustomerGuid  Discount  TotalCost  \\\n",
       "0  07fb68a0-cde2-46c1-897f-b14724f63cb7      0.41       0.88   \n",
       "1  6178c39c-63f6-4f44-bcf2-3279705334a6      0.00       3.49   \n",
       "2  838eda39-b1d3-4b03-b09d-eebeede52965      0.00       1.00   \n",
       "3  b2994ad1-71a5-45a3-8154-9dfa3b6a0888      0.30       0.79   \n",
       "4  fa6efaa1-fb76-46b2-8215-317029cf8ea6      1.50       4.99   \n",
       "5  e1ee2840-b72f-448f-be0a-dac4ac177e54      0.00       0.25   \n",
       "6  8ad5c37c-135a-41d8-86bc-dc85f188603e      0.20       2.38   \n",
       "7  16e4cf29-598b-43e2-bf52-65f2ed80ac50      0.44       0.75   \n",
       "8  641f1ed9-a8cd-4519-80e6-cc135c3910d4      0.00      10.14   \n",
       "9  59728405-8f8a-4812-8c4b-56e5bb6aff89      0.27       2.42   \n",
       "\n",
       "   PercentageDiscount  \n",
       "0           31.782946  \n",
       "1            0.000000  \n",
       "2            0.000000  \n",
       "3           27.522936  \n",
       "4           23.112481  \n",
       "5            0.000000  \n",
       "6            7.751938  \n",
       "7           36.974790  \n",
       "8            0.000000  \n",
       "9           10.037175  "
      ]
     },
     "metadata": {},
     "output_type": "display_data"
    }
   ],
   "source": [
    "# calculate the percentage discount for each grocery item\n",
    "grocery_items_view[\"PercentageDiscount\"] = grocery_items_view.Discount / (\n",
    "    grocery_items_view.TotalCost + grocery_items_view.Discount\n",
    ") * 100.0\n",
    "\n",
    "# display a sample of the results\n",
    "display(grocery_items_view.sample()[[\"GroceryCustomerGuid\", \"Discount\", \"TotalCost\", \"PercentageDiscount\"]])"
   ]
  },
  {
   "cell_type": "code",
   "execution_count": 11,
   "metadata": {
    "tags": []
   },
   "outputs": [
    {
     "data": {
      "text/html": [
       "<div>\n",
       "<style scoped>\n",
       "    .dataframe tbody tr th:only-of-type {\n",
       "        vertical-align: middle;\n",
       "    }\n",
       "\n",
       "    .dataframe tbody tr th {\n",
       "        vertical-align: top;\n",
       "    }\n",
       "\n",
       "    .dataframe thead th {\n",
       "        text-align: right;\n",
       "    }\n",
       "</style>\n",
       "<table border=\"1\" class=\"dataframe\">\n",
       "  <thead>\n",
       "    <tr style=\"text-align: right;\">\n",
       "      <th></th>\n",
       "      <th>GROCERYCUSTOMERGUID</th>\n",
       "      <th>POINT_IN_TIME</th>\n",
       "      <th>MaxDiscount_30days</th>\n",
       "      <th>MaxDiscount_90days</th>\n",
       "    </tr>\n",
       "  </thead>\n",
       "  <tbody>\n",
       "    <tr>\n",
       "      <th>0</th>\n",
       "      <td>7005c3a2-a903-4c15-9ffb-d52b0d5eba14</td>\n",
       "      <td>2022-10-31 15:05:32</td>\n",
       "      <td>49.664430</td>\n",
       "      <td>49.664430</td>\n",
       "    </tr>\n",
       "    <tr>\n",
       "      <th>1</th>\n",
       "      <td>82a104d2-ad63-4079-8ccc-767c5b88afcb</td>\n",
       "      <td>2022-11-17 15:24:37</td>\n",
       "      <td>49.367089</td>\n",
       "      <td>52.267303</td>\n",
       "    </tr>\n",
       "    <tr>\n",
       "      <th>2</th>\n",
       "      <td>a90ab8bf-1c87-4c98-811f-6b8cc8a7b7bd</td>\n",
       "      <td>2022-03-03 21:04:48</td>\n",
       "      <td>20.202020</td>\n",
       "      <td>40.828402</td>\n",
       "    </tr>\n",
       "    <tr>\n",
       "      <th>3</th>\n",
       "      <td>ebd6f63f-9425-4175-8f69-457979d69741</td>\n",
       "      <td>2022-06-13 16:53:28</td>\n",
       "      <td>56.410256</td>\n",
       "      <td>56.410256</td>\n",
       "    </tr>\n",
       "    <tr>\n",
       "      <th>4</th>\n",
       "      <td>b721fbac-ed20-47c7-8bcc-c7033dddf773</td>\n",
       "      <td>2022-11-20 15:42:00</td>\n",
       "      <td>52.380952</td>\n",
       "      <td>52.380952</td>\n",
       "    </tr>\n",
       "  </tbody>\n",
       "</table>\n",
       "</div>"
      ],
      "text/plain": [
       "                    GROCERYCUSTOMERGUID       POINT_IN_TIME  \\\n",
       "0  7005c3a2-a903-4c15-9ffb-d52b0d5eba14 2022-10-31 15:05:32   \n",
       "1  82a104d2-ad63-4079-8ccc-767c5b88afcb 2022-11-17 15:24:37   \n",
       "2  a90ab8bf-1c87-4c98-811f-6b8cc8a7b7bd 2022-03-03 21:04:48   \n",
       "3  ebd6f63f-9425-4175-8f69-457979d69741 2022-06-13 16:53:28   \n",
       "4  b721fbac-ed20-47c7-8bcc-c7033dddf773 2022-11-20 15:42:00   \n",
       "\n",
       "   MaxDiscount_30days  MaxDiscount_90days  \n",
       "0           49.664430           49.664430  \n",
       "1           49.367089           52.267303  \n",
       "2           20.202020           40.828402  \n",
       "3           56.410256           56.410256  \n",
       "4           52.380952           52.380952  "
      ]
     },
     "metadata": {},
     "output_type": "display_data"
    }
   ],
   "source": [
    "# get the maximum percentage discount on a grocery item for each customer over 90 days and 180 days,\n",
    "# grouped by customer\n",
    "customer_max_percent_discount = grocery_items_view.groupby(\n",
    "    \"GroceryCustomerGuid\"\n",
    ").aggregate_over(\n",
    "    \"PercentageDiscount\",\n",
    "    method=fb.AggFunc.MAX,\n",
    "    feature_names=[\"MaxDiscount_30days\", \"MaxDiscount_90days\"],   \n",
    "    fill_value=0,\n",
    "    windows=['30d', '90d']\n",
    ")\n",
    "\n",
    "# create a multi-row preview of the feature values\n",
    "display(customer_max_percent_discount.preview(observation_set))"
   ]
  },
  {
   "attachments": {},
   "cell_type": "markdown",
   "metadata": {},
   "source": [
    "## Save features\n",
    "\n",
    "Learning Objectives\n",
    "\n",
    "In this section you will learn:\n",
    "* how to save features"
   ]
  },
  {
   "cell_type": "markdown",
   "metadata": {},
   "source": [
    "### Example: Saving features to the Catalog"
   ]
  },
  {
   "cell_type": "code",
   "execution_count": 12,
   "metadata": {
    "tags": []
   },
   "outputs": [],
   "source": [
    "# save features to the Catalog\n",
    "customer_operating_system.save()\n",
    "customer_max_percent_discount.save()"
   ]
  },
  {
   "attachments": {},
   "cell_type": "markdown",
   "metadata": {},
   "source": [
    "## Reuse an Existing Feature\n",
    "\n",
    "Learning Objectives\n",
    "\n",
    "In this section you will learn:\n",
    "* how to load a feature from the catalog\n",
    "* how to view the feature lineage"
   ]
  },
  {
   "cell_type": "markdown",
   "metadata": {},
   "source": [
    "### Example: Reuse an existing feature"
   ]
  },
  {
   "cell_type": "code",
   "execution_count": 13,
   "metadata": {
    "tags": []
   },
   "outputs": [
    {
     "data": {
      "text/html": [
       "<div>\n",
       "<style scoped>\n",
       "    .dataframe tbody tr th:only-of-type {\n",
       "        vertical-align: middle;\n",
       "    }\n",
       "\n",
       "    .dataframe tbody tr th {\n",
       "        vertical-align: top;\n",
       "    }\n",
       "\n",
       "    .dataframe thead th {\n",
       "        text-align: right;\n",
       "    }\n",
       "</style>\n",
       "<table border=\"1\" class=\"dataframe\">\n",
       "  <thead>\n",
       "    <tr style=\"text-align: right;\">\n",
       "      <th></th>\n",
       "      <th>name</th>\n",
       "      <th>dtype</th>\n",
       "      <th>readiness</th>\n",
       "      <th>online_enabled</th>\n",
       "      <th>tables</th>\n",
       "      <th>primary_tables</th>\n",
       "      <th>entities</th>\n",
       "      <th>primary_entities</th>\n",
       "      <th>created_at</th>\n",
       "    </tr>\n",
       "  </thead>\n",
       "  <tbody>\n",
       "    <tr>\n",
       "      <th>0</th>\n",
       "      <td>MaxDiscount_90days</td>\n",
       "      <td>FLOAT</td>\n",
       "      <td>DRAFT</td>\n",
       "      <td>False</td>\n",
       "      <td>[GROCERYINVOICE, INVOICEITEMS]</td>\n",
       "      <td>[INVOICEITEMS]</td>\n",
       "      <td>[grocerycustomer]</td>\n",
       "      <td>[grocerycustomer]</td>\n",
       "      <td>2023-03-27 11:06:03.647</td>\n",
       "    </tr>\n",
       "    <tr>\n",
       "      <th>1</th>\n",
       "      <td>MaxDiscount_30days</td>\n",
       "      <td>FLOAT</td>\n",
       "      <td>DRAFT</td>\n",
       "      <td>False</td>\n",
       "      <td>[GROCERYINVOICE, INVOICEITEMS]</td>\n",
       "      <td>[INVOICEITEMS]</td>\n",
       "      <td>[grocerycustomer]</td>\n",
       "      <td>[grocerycustomer]</td>\n",
       "      <td>2023-03-27 11:06:02.456</td>\n",
       "    </tr>\n",
       "    <tr>\n",
       "      <th>2</th>\n",
       "      <td>OperatingSystem</td>\n",
       "      <td>VARCHAR</td>\n",
       "      <td>DRAFT</td>\n",
       "      <td>False</td>\n",
       "      <td>[GROCERYCUSTOMER]</td>\n",
       "      <td>[GROCERYCUSTOMER]</td>\n",
       "      <td>[grocerycustomer]</td>\n",
       "      <td>[grocerycustomer]</td>\n",
       "      <td>2023-03-27 11:06:01.365</td>\n",
       "    </tr>\n",
       "    <tr>\n",
       "      <th>3</th>\n",
       "      <td>CustomerPurchasedItemsEntropy_28d</td>\n",
       "      <td>FLOAT</td>\n",
       "      <td>DRAFT</td>\n",
       "      <td>False</td>\n",
       "      <td>[GROCERYINVOICE, INVOICEITEMS]</td>\n",
       "      <td>[INVOICEITEMS]</td>\n",
       "      <td>[grocerycustomer]</td>\n",
       "      <td>[grocerycustomer]</td>\n",
       "      <td>2023-03-27 11:05:48.641</td>\n",
       "    </tr>\n",
       "    <tr>\n",
       "      <th>4</th>\n",
       "      <td>CustomerInvoiceCount_60days</td>\n",
       "      <td>FLOAT</td>\n",
       "      <td>DRAFT</td>\n",
       "      <td>False</td>\n",
       "      <td>[GROCERYINVOICE]</td>\n",
       "      <td>[GROCERYINVOICE]</td>\n",
       "      <td>[grocerycustomer]</td>\n",
       "      <td>[grocerycustomer]</td>\n",
       "      <td>2023-03-27 11:05:47.818</td>\n",
       "    </tr>\n",
       "  </tbody>\n",
       "</table>\n",
       "</div>"
      ],
      "text/plain": [
       "                                name    dtype readiness  online_enabled  \\\n",
       "0                 MaxDiscount_90days    FLOAT     DRAFT           False   \n",
       "1                 MaxDiscount_30days    FLOAT     DRAFT           False   \n",
       "2                    OperatingSystem  VARCHAR     DRAFT           False   \n",
       "3  CustomerPurchasedItemsEntropy_28d    FLOAT     DRAFT           False   \n",
       "4        CustomerInvoiceCount_60days    FLOAT     DRAFT           False   \n",
       "\n",
       "                           tables     primary_tables           entities  \\\n",
       "0  [GROCERYINVOICE, INVOICEITEMS]     [INVOICEITEMS]  [grocerycustomer]   \n",
       "1  [GROCERYINVOICE, INVOICEITEMS]     [INVOICEITEMS]  [grocerycustomer]   \n",
       "2               [GROCERYCUSTOMER]  [GROCERYCUSTOMER]  [grocerycustomer]   \n",
       "3  [GROCERYINVOICE, INVOICEITEMS]     [INVOICEITEMS]  [grocerycustomer]   \n",
       "4                [GROCERYINVOICE]   [GROCERYINVOICE]  [grocerycustomer]   \n",
       "\n",
       "    primary_entities              created_at  \n",
       "0  [grocerycustomer] 2023-03-27 11:06:03.647  \n",
       "1  [grocerycustomer] 2023-03-27 11:06:02.456  \n",
       "2  [grocerycustomer] 2023-03-27 11:06:01.365  \n",
       "3  [grocerycustomer] 2023-03-27 11:05:48.641  \n",
       "4  [grocerycustomer] 2023-03-27 11:05:47.818  "
      ]
     },
     "metadata": {},
     "output_type": "display_data"
    }
   ],
   "source": [
    "# show the existing features\n",
    "existing_features = catalog.list_features()\n",
    "\n",
    "display(existing_features)"
   ]
  },
  {
   "cell_type": "code",
   "execution_count": 14,
   "metadata": {
    "tags": []
   },
   "outputs": [
    {
     "data": {
      "text/html": [
       "<div>\n",
       "<style scoped>\n",
       "    .dataframe tbody tr th:only-of-type {\n",
       "        vertical-align: middle;\n",
       "    }\n",
       "\n",
       "    .dataframe tbody tr th {\n",
       "        vertical-align: top;\n",
       "    }\n",
       "\n",
       "    .dataframe thead th {\n",
       "        text-align: right;\n",
       "    }\n",
       "</style>\n",
       "<table border=\"1\" class=\"dataframe\">\n",
       "  <thead>\n",
       "    <tr style=\"text-align: right;\">\n",
       "      <th></th>\n",
       "      <th>GROCERYCUSTOMERGUID</th>\n",
       "      <th>POINT_IN_TIME</th>\n",
       "      <th>CustomerPurchasedItemsEntropy_28d</th>\n",
       "    </tr>\n",
       "  </thead>\n",
       "  <tbody>\n",
       "    <tr>\n",
       "      <th>0</th>\n",
       "      <td>7005c3a2-a903-4c15-9ffb-d52b0d5eba14</td>\n",
       "      <td>2022-10-31 15:05:32</td>\n",
       "      <td>4.133650</td>\n",
       "    </tr>\n",
       "    <tr>\n",
       "      <th>1</th>\n",
       "      <td>82a104d2-ad63-4079-8ccc-767c5b88afcb</td>\n",
       "      <td>2022-11-17 15:24:37</td>\n",
       "      <td>3.920139</td>\n",
       "    </tr>\n",
       "    <tr>\n",
       "      <th>2</th>\n",
       "      <td>a90ab8bf-1c87-4c98-811f-6b8cc8a7b7bd</td>\n",
       "      <td>2022-03-03 21:04:48</td>\n",
       "      <td>2.271869</td>\n",
       "    </tr>\n",
       "    <tr>\n",
       "      <th>3</th>\n",
       "      <td>ebd6f63f-9425-4175-8f69-457979d69741</td>\n",
       "      <td>2022-06-13 16:53:28</td>\n",
       "      <td>3.963312</td>\n",
       "    </tr>\n",
       "    <tr>\n",
       "      <th>4</th>\n",
       "      <td>b721fbac-ed20-47c7-8bcc-c7033dddf773</td>\n",
       "      <td>2022-11-20 15:42:00</td>\n",
       "      <td>3.768368</td>\n",
       "    </tr>\n",
       "  </tbody>\n",
       "</table>\n",
       "</div>"
      ],
      "text/plain": [
       "                    GROCERYCUSTOMERGUID       POINT_IN_TIME  \\\n",
       "0  7005c3a2-a903-4c15-9ffb-d52b0d5eba14 2022-10-31 15:05:32   \n",
       "1  82a104d2-ad63-4079-8ccc-767c5b88afcb 2022-11-17 15:24:37   \n",
       "2  a90ab8bf-1c87-4c98-811f-6b8cc8a7b7bd 2022-03-03 21:04:48   \n",
       "3  ebd6f63f-9425-4175-8f69-457979d69741 2022-06-13 16:53:28   \n",
       "4  b721fbac-ed20-47c7-8bcc-c7033dddf773 2022-11-20 15:42:00   \n",
       "\n",
       "   CustomerPurchasedItemsEntropy_28d  \n",
       "0                           4.133650  \n",
       "1                           3.920139  \n",
       "2                           2.271869  \n",
       "3                           3.963312  \n",
       "4                           3.768368  "
      ]
     },
     "metadata": {},
     "output_type": "display_data"
    }
   ],
   "source": [
    "# load a feature from the Catalog\n",
    "customer_purchased_items_entropy_28days = catalog.get_feature(\"CustomerPurchasedItemsEntropy_28d\")\n",
    "\n",
    "# create a multi-row preview of the feature values\n",
    "display(customer_purchased_items_entropy_28days.preview(observation_set))"
   ]
  },
  {
   "cell_type": "markdown",
   "metadata": {},
   "source": [
    "### Concept: Feature Definition File\n",
    "\n",
    "The feature definition file is the single source of truth for a feature version. The file is generated automatically after a feature is declared in the SDK and is stored in the FeatureByte Service.\n",
    "\n",
    "This file uses the same SDK syntax as the feature declaration and provides an explicit outline of the intended operations of the feature declaration, including those that are inherited but not explicitly declared by the user. These operations may include feature job settings and cleaning operations inherited from tables metadata, for example."
   ]
  },
  {
   "cell_type": "markdown",
   "metadata": {},
   "source": [
    "### Example: Show Feature Definition File"
   ]
  },
  {
   "cell_type": "code",
   "execution_count": 15,
   "metadata": {
    "tags": []
   },
   "outputs": [
    {
     "name": "stdout",
     "output_type": "stream",
     "text": [
      "# Generated by SDK version: 0.1.4\n",
      "from bson import ObjectId\n",
      "from featurebyte import ItemTable\n",
      "\n",
      "\n",
      "# item_table name: \"INVOICEITEMS\", event_table name: \"GROCERYINVOICE\"\n",
      "item_table = ItemTable.get_by_id(ObjectId(\"64217884ca42b16a1fc658b0\"))\n",
      "item_view = item_table.get_view(\n",
      "    event_suffix=None,\n",
      "    view_mode=\"manual\",\n",
      "    drop_column_names=[],\n",
      "    column_cleaning_operations=[],\n",
      "    event_drop_column_names=[\"record_available_at\"],\n",
      "    event_column_cleaning_operations=[],\n",
      "    event_join_column_names=[\n",
      "        \"Timestamp\",\n",
      "        \"GroceryInvoiceGuid\",\n",
      "        \"GroceryCustomerGuid\",\n",
      "    ],\n",
      ")\n",
      "grouped = item_view.groupby(\n",
      "    by_keys=[\"GroceryCustomerGuid\"], category=\"GroceryProductGuid\"\n",
      ").aggregate_over(\n",
      "    value_column=None,\n",
      "    method=\"count\",\n",
      "    windows=[\"28d\"],\n",
      "    feature_names=[\"CustomerInventory_28d\"],\n",
      "    feature_job_setting={\n",
      "        \"blind_spot\": \"0s\",\n",
      "        \"frequency\": \"3600s\",\n",
      "        \"time_modulo_frequency\": \"90s\",\n",
      "    },\n",
      "    skip_fill_na=True,\n",
      ")\n",
      "feat = grouped[\"CustomerInventory_28d\"]\n",
      "feat_1 = feat.cd.entropy()\n",
      "feat_1.name = \"CustomerPurchasedItemsEntropy_28d\"\n",
      "output = feat_1\n",
      "\n"
     ]
    }
   ],
   "source": [
    "# display the feature lineage for the feature we just loaded from the Catalog\n",
    "print(customer_purchased_items_entropy_28days.definition)"
   ]
  },
  {
   "attachments": {},
   "cell_type": "markdown",
   "metadata": {},
   "source": [
    "## Create a Feature List\n",
    "\n",
    "Learning Objectives\n",
    "\n",
    "In this section you will learn:\n",
    "* how to create a feature list\n",
    "* how to save a feature list"
   ]
  },
  {
   "cell_type": "markdown",
   "metadata": {},
   "source": [
    "### Concept: Feature list\n",
    "\n",
    "A Feature List is a set of features that is typically crafted to address a specific Use Case.\n",
    "\n",
    "The primary entity of the Feature List, which determines its main focus, is determined by analyzing the relationship between the primary entities of the individual features listed. Usually, the primary entity of the Feature List aligns with that of the Use Case. Nevertheless, if there is a mismatch, the serving entities of the Feature List are utilized to evaluate its compatibility with the Use Case."
   ]
  },
  {
   "cell_type": "markdown",
   "metadata": {},
   "source": [
    "### Example: Create a feature list"
   ]
  },
  {
   "cell_type": "code",
   "execution_count": 16,
   "metadata": {
    "tags": []
   },
   "outputs": [
    {
     "data": {
      "text/html": [
       "<div>\n",
       "<style scoped>\n",
       "    .dataframe tbody tr th:only-of-type {\n",
       "        vertical-align: middle;\n",
       "    }\n",
       "\n",
       "    .dataframe tbody tr th {\n",
       "        vertical-align: top;\n",
       "    }\n",
       "\n",
       "    .dataframe thead th {\n",
       "        text-align: right;\n",
       "    }\n",
       "</style>\n",
       "<table border=\"1\" class=\"dataframe\">\n",
       "  <thead>\n",
       "    <tr style=\"text-align: right;\">\n",
       "      <th></th>\n",
       "      <th>GROCERYCUSTOMERGUID</th>\n",
       "      <th>POINT_IN_TIME</th>\n",
       "      <th>OperatingSystem</th>\n",
       "      <th>MaxDiscount_30days</th>\n",
       "      <th>MaxDiscount_90days</th>\n",
       "      <th>CustomerPurchasedItemsEntropy_28d</th>\n",
       "    </tr>\n",
       "  </thead>\n",
       "  <tbody>\n",
       "    <tr>\n",
       "      <th>0</th>\n",
       "      <td>7005c3a2-a903-4c15-9ffb-d52b0d5eba14</td>\n",
       "      <td>2022-10-31 15:05:32</td>\n",
       "      <td>Windows</td>\n",
       "      <td>49.664430</td>\n",
       "      <td>49.664430</td>\n",
       "      <td>4.133650</td>\n",
       "    </tr>\n",
       "    <tr>\n",
       "      <th>1</th>\n",
       "      <td>82a104d2-ad63-4079-8ccc-767c5b88afcb</td>\n",
       "      <td>2022-11-17 15:24:37</td>\n",
       "      <td>Windows</td>\n",
       "      <td>49.367089</td>\n",
       "      <td>52.267303</td>\n",
       "      <td>3.920139</td>\n",
       "    </tr>\n",
       "    <tr>\n",
       "      <th>2</th>\n",
       "      <td>a90ab8bf-1c87-4c98-811f-6b8cc8a7b7bd</td>\n",
       "      <td>2022-03-03 21:04:48</td>\n",
       "      <td>Mac</td>\n",
       "      <td>20.202020</td>\n",
       "      <td>40.828402</td>\n",
       "      <td>2.271869</td>\n",
       "    </tr>\n",
       "    <tr>\n",
       "      <th>3</th>\n",
       "      <td>ebd6f63f-9425-4175-8f69-457979d69741</td>\n",
       "      <td>2022-06-13 16:53:28</td>\n",
       "      <td>Unknown</td>\n",
       "      <td>56.410256</td>\n",
       "      <td>56.410256</td>\n",
       "      <td>3.963312</td>\n",
       "    </tr>\n",
       "    <tr>\n",
       "      <th>4</th>\n",
       "      <td>b721fbac-ed20-47c7-8bcc-c7033dddf773</td>\n",
       "      <td>2022-11-20 15:42:00</td>\n",
       "      <td>Windows</td>\n",
       "      <td>52.380952</td>\n",
       "      <td>52.380952</td>\n",
       "      <td>3.768368</td>\n",
       "    </tr>\n",
       "  </tbody>\n",
       "</table>\n",
       "</div>"
      ],
      "text/plain": [
       "                    GROCERYCUSTOMERGUID       POINT_IN_TIME OperatingSystem  \\\n",
       "0  7005c3a2-a903-4c15-9ffb-d52b0d5eba14 2022-10-31 15:05:32         Windows   \n",
       "1  82a104d2-ad63-4079-8ccc-767c5b88afcb 2022-11-17 15:24:37         Windows   \n",
       "2  a90ab8bf-1c87-4c98-811f-6b8cc8a7b7bd 2022-03-03 21:04:48             Mac   \n",
       "3  ebd6f63f-9425-4175-8f69-457979d69741 2022-06-13 16:53:28         Unknown   \n",
       "4  b721fbac-ed20-47c7-8bcc-c7033dddf773 2022-11-20 15:42:00         Windows   \n",
       "\n",
       "   MaxDiscount_30days  MaxDiscount_90days  CustomerPurchasedItemsEntropy_28d  \n",
       "0           49.664430           49.664430                           4.133650  \n",
       "1           49.367089           52.267303                           3.920139  \n",
       "2           20.202020           40.828402                           2.271869  \n",
       "3           56.410256           56.410256                           3.963312  \n",
       "4           52.380952           52.380952                           3.768368  "
      ]
     },
     "metadata": {},
     "output_type": "display_data"
    }
   ],
   "source": [
    "# feature list can be constructed from both features and feature groups\n",
    "grocery_features = fb.FeatureList([\n",
    "    customer_operating_system,\n",
    "    customer_max_percent_discount,\n",
    "    customer_purchased_items_entropy_28days\n",
    "    ], name=\"quick_start_grocery_features\")\n",
    "\n",
    "# materialize the feature values for this feature list\n",
    "display(grocery_features.preview(observation_set))"
   ]
  },
  {
   "cell_type": "markdown",
   "metadata": {},
   "source": [
    "### Example: Save a feature list"
   ]
  },
  {
   "cell_type": "code",
   "execution_count": 17,
   "metadata": {
    "tags": []
   },
   "outputs": [
    {
     "name": "stdout",
     "output_type": "stream",
     "text": [
      "Saving Feature(s) |████████████████████████████████████████| 4/4 [100%] in 0.0s (105.48/s)                              \n",
      "Loading Feature(s) |████████████████████████████████████████| 4/4 [100%] in 1.1s (3.69/s)                               \n"
     ]
    },
    {
     "data": {
      "text/html": [
       "<div>\n",
       "<style scoped>\n",
       "    .dataframe tbody tr th:only-of-type {\n",
       "        vertical-align: middle;\n",
       "    }\n",
       "\n",
       "    .dataframe tbody tr th {\n",
       "        vertical-align: top;\n",
       "    }\n",
       "\n",
       "    .dataframe thead th {\n",
       "        text-align: right;\n",
       "    }\n",
       "</style>\n",
       "<table border=\"1\" class=\"dataframe\">\n",
       "  <thead>\n",
       "    <tr style=\"text-align: right;\">\n",
       "      <th></th>\n",
       "      <th>name</th>\n",
       "      <th>num_features</th>\n",
       "      <th>status</th>\n",
       "      <th>deployed</th>\n",
       "      <th>readiness_frac</th>\n",
       "      <th>online_frac</th>\n",
       "      <th>tables</th>\n",
       "      <th>entities</th>\n",
       "      <th>created_at</th>\n",
       "    </tr>\n",
       "  </thead>\n",
       "  <tbody>\n",
       "    <tr>\n",
       "      <th>0</th>\n",
       "      <td>quick_start_grocery_features</td>\n",
       "      <td>4</td>\n",
       "      <td>DRAFT</td>\n",
       "      <td>False</td>\n",
       "      <td>0.0</td>\n",
       "      <td>0.0</td>\n",
       "      <td>[GROCERYCUSTOMER, GROCERYINVOICE, INVOICEITEMS]</td>\n",
       "      <td>[grocerycustomer]</td>\n",
       "      <td>2023-03-27 11:06:13.717</td>\n",
       "    </tr>\n",
       "  </tbody>\n",
       "</table>\n",
       "</div>"
      ],
      "text/plain": [
       "                           name  num_features status  deployed  \\\n",
       "0  quick_start_grocery_features             4  DRAFT     False   \n",
       "\n",
       "   readiness_frac  online_frac  \\\n",
       "0             0.0          0.0   \n",
       "\n",
       "                                            tables           entities  \\\n",
       "0  [GROCERYCUSTOMER, GROCERYINVOICE, INVOICEITEMS]  [grocerycustomer]   \n",
       "\n",
       "               created_at  \n",
       "0 2023-03-27 11:06:13.717  "
      ]
     },
     "metadata": {},
     "output_type": "display_data"
    }
   ],
   "source": [
    "# save the feature list to the Catalog\n",
    "grocery_features.save()\n",
    "\n",
    "display(catalog.list_feature_lists())"
   ]
  },
  {
   "cell_type": "code",
   "execution_count": 18,
   "metadata": {
    "tags": []
   },
   "outputs": [
    {
     "data": {
      "text/html": [
       "<div>\n",
       "<style scoped>\n",
       "    .dataframe tbody tr th:only-of-type {\n",
       "        vertical-align: middle;\n",
       "    }\n",
       "\n",
       "    .dataframe tbody tr th {\n",
       "        vertical-align: top;\n",
       "    }\n",
       "\n",
       "    .dataframe thead th {\n",
       "        text-align: right;\n",
       "    }\n",
       "</style>\n",
       "<table border=\"1\" class=\"dataframe\">\n",
       "  <thead>\n",
       "    <tr style=\"text-align: right;\">\n",
       "      <th></th>\n",
       "      <th>name</th>\n",
       "      <th>num_features</th>\n",
       "      <th>status</th>\n",
       "      <th>deployed</th>\n",
       "      <th>readiness_frac</th>\n",
       "      <th>online_frac</th>\n",
       "      <th>tables</th>\n",
       "      <th>entities</th>\n",
       "      <th>created_at</th>\n",
       "    </tr>\n",
       "  </thead>\n",
       "  <tbody>\n",
       "    <tr>\n",
       "      <th>0</th>\n",
       "      <td>quick_start_grocery_features</td>\n",
       "      <td>4</td>\n",
       "      <td>DRAFT</td>\n",
       "      <td>False</td>\n",
       "      <td>0.0</td>\n",
       "      <td>0.0</td>\n",
       "      <td>[GROCERYCUSTOMER, GROCERYINVOICE, INVOICEITEMS]</td>\n",
       "      <td>[grocerycustomer]</td>\n",
       "      <td>2023-03-27 11:06:13.717</td>\n",
       "    </tr>\n",
       "  </tbody>\n",
       "</table>\n",
       "</div>"
      ],
      "text/plain": [
       "                           name  num_features status  deployed  \\\n",
       "0  quick_start_grocery_features             4  DRAFT     False   \n",
       "\n",
       "   readiness_frac  online_frac  \\\n",
       "0             0.0          0.0   \n",
       "\n",
       "                                            tables           entities  \\\n",
       "0  [GROCERYCUSTOMER, GROCERYINVOICE, INVOICEITEMS]  [grocerycustomer]   \n",
       "\n",
       "               created_at  \n",
       "0 2023-03-27 11:06:13.717  "
      ]
     },
     "metadata": {},
     "output_type": "display_data"
    }
   ],
   "source": [
    "# show the feature list in the Catalog\n",
    "\n",
    "# get all feature lists\n",
    "all_feature_lists = catalog.list_feature_lists()\n",
    "\n",
    "# display the metadata for the feature list we just saved\n",
    "# display only the matching feature list\n",
    "display(all_feature_lists[all_feature_lists.name == grocery_features.name])"
   ]
  },
  {
   "attachments": {},
   "cell_type": "markdown",
   "metadata": {},
   "source": [
    "## Materialize Feature Values\n",
    "\n",
    "Learning Objectives\n",
    "\n",
    "In this section you will learn:\n",
    "* how to get historical values for a feature list\n",
    "* how to deploy a feature list\n",
    "* how to consume features via the API\n",
    "* how to disable a deployed feature list"
   ]
  },
  {
   "cell_type": "markdown",
   "metadata": {},
   "source": [
    "### Example: Get historical features\n",
    "\n",
    "While the preview function materializes feature values when prototyping, the scalable approach to materialize features for training data is to use the get_historical_features function, which accesses cached feature values from the feature store."
   ]
  },
  {
   "cell_type": "code",
   "execution_count": 19,
   "metadata": {
    "tags": []
   },
   "outputs": [
    {
     "name": "stdout",
     "output_type": "stream",
     "text": [
      "Retrieving Historical Feature(s) |████████████████████████████████████████| 1/1 [100%] in 11.8s (0.08/s)                \n"
     ]
    },
    {
     "data": {
      "text/html": [
       "<div>\n",
       "<style scoped>\n",
       "    .dataframe tbody tr th:only-of-type {\n",
       "        vertical-align: middle;\n",
       "    }\n",
       "\n",
       "    .dataframe tbody tr th {\n",
       "        vertical-align: top;\n",
       "    }\n",
       "\n",
       "    .dataframe thead th {\n",
       "        text-align: right;\n",
       "    }\n",
       "</style>\n",
       "<table border=\"1\" class=\"dataframe\">\n",
       "  <thead>\n",
       "    <tr style=\"text-align: right;\">\n",
       "      <th></th>\n",
       "      <th>GROCERYCUSTOMERGUID</th>\n",
       "      <th>POINT_IN_TIME</th>\n",
       "      <th>MaxDiscount_90days</th>\n",
       "      <th>MaxDiscount_30days</th>\n",
       "      <th>OperatingSystem</th>\n",
       "      <th>CustomerPurchasedItemsEntropy_28d</th>\n",
       "    </tr>\n",
       "  </thead>\n",
       "  <tbody>\n",
       "    <tr>\n",
       "      <th>0</th>\n",
       "      <td>7005c3a2-a903-4c15-9ffb-d52b0d5eba14</td>\n",
       "      <td>2022-10-31 15:05:32</td>\n",
       "      <td>49.664430</td>\n",
       "      <td>49.664430</td>\n",
       "      <td>Windows</td>\n",
       "      <td>4.133650</td>\n",
       "    </tr>\n",
       "    <tr>\n",
       "      <th>1</th>\n",
       "      <td>82a104d2-ad63-4079-8ccc-767c5b88afcb</td>\n",
       "      <td>2022-11-17 15:24:37</td>\n",
       "      <td>52.267303</td>\n",
       "      <td>49.367089</td>\n",
       "      <td>Windows</td>\n",
       "      <td>3.920139</td>\n",
       "    </tr>\n",
       "    <tr>\n",
       "      <th>2</th>\n",
       "      <td>a90ab8bf-1c87-4c98-811f-6b8cc8a7b7bd</td>\n",
       "      <td>2022-03-03 21:04:48</td>\n",
       "      <td>40.828402</td>\n",
       "      <td>20.202020</td>\n",
       "      <td>Mac</td>\n",
       "      <td>2.271869</td>\n",
       "    </tr>\n",
       "    <tr>\n",
       "      <th>3</th>\n",
       "      <td>ebd6f63f-9425-4175-8f69-457979d69741</td>\n",
       "      <td>2022-06-13 16:53:28</td>\n",
       "      <td>56.410256</td>\n",
       "      <td>56.410256</td>\n",
       "      <td>Unknown</td>\n",
       "      <td>3.963312</td>\n",
       "    </tr>\n",
       "    <tr>\n",
       "      <th>4</th>\n",
       "      <td>b721fbac-ed20-47c7-8bcc-c7033dddf773</td>\n",
       "      <td>2022-11-20 15:42:00</td>\n",
       "      <td>52.380952</td>\n",
       "      <td>52.380952</td>\n",
       "      <td>Windows</td>\n",
       "      <td>3.768368</td>\n",
       "    </tr>\n",
       "  </tbody>\n",
       "</table>\n",
       "</div>"
      ],
      "text/plain": [
       "                    GROCERYCUSTOMERGUID       POINT_IN_TIME  \\\n",
       "0  7005c3a2-a903-4c15-9ffb-d52b0d5eba14 2022-10-31 15:05:32   \n",
       "1  82a104d2-ad63-4079-8ccc-767c5b88afcb 2022-11-17 15:24:37   \n",
       "2  a90ab8bf-1c87-4c98-811f-6b8cc8a7b7bd 2022-03-03 21:04:48   \n",
       "3  ebd6f63f-9425-4175-8f69-457979d69741 2022-06-13 16:53:28   \n",
       "4  b721fbac-ed20-47c7-8bcc-c7033dddf773 2022-11-20 15:42:00   \n",
       "\n",
       "   MaxDiscount_90days  MaxDiscount_30days OperatingSystem  \\\n",
       "0           49.664430           49.664430         Windows   \n",
       "1           52.267303           49.367089         Windows   \n",
       "2           40.828402           20.202020             Mac   \n",
       "3           56.410256           56.410256         Unknown   \n",
       "4           52.380952           52.380952         Windows   \n",
       "\n",
       "   CustomerPurchasedItemsEntropy_28d  \n",
       "0                           4.133650  \n",
       "1                           3.920139  \n",
       "2                           2.271869  \n",
       "3                           3.963312  \n",
       "4                           3.768368  "
      ]
     },
     "metadata": {},
     "output_type": "display_data"
    }
   ],
   "source": [
    "# materialize the values\n",
    "historical_data = grocery_features.get_historical_features(observation_set)\n",
    "\n",
    "# display the historical data\n",
    "display(historical_data)"
   ]
  },
  {
   "cell_type": "markdown",
   "metadata": {},
   "source": [
    "### Example: Deploy a feature list\n",
    "\n",
    "A Feature List is deployed to support online serving. This triggers the orchestration of the feature materialization into the online feature store"
   ]
  },
  {
   "cell_type": "code",
   "execution_count": 20,
   "metadata": {
    "tags": []
   },
   "outputs": [
    {
     "name": "stdout",
     "output_type": "stream",
     "text": [
      "Loading Feature(s) |████████████████████████████████████████| 4/4 [100%] in 1.0s (4.04/s)                               \n",
      "Done! |████████████████████████████████████████| 100% in 57.7s (1.73%/s)                                                \n"
     ]
    }
   ],
   "source": [
    "# deploy the new feature list, setting all the features to be production ready\n",
    "grocery_features.deploy(enable=True, make_production_ready=True)"
   ]
  },
  {
   "cell_type": "markdown",
   "metadata": {},
   "source": [
    "### Example: Consume features via API\n",
    "\n",
    "Once a feature list has been deployed, you can consume it via the feature serving API.\n",
    "\n",
    "You can either use a python template or a shell script where the generated code will use the curl command to send the request.\n",
    "\n",
    "For the python template, set the language parameter value as 'python'.\n",
    "For the shell script, set the language parameter value as 'sh'."
   ]
  },
  {
   "cell_type": "code",
   "execution_count": 21,
   "metadata": {
    "tags": []
   },
   "outputs": [
    {
     "data": {
      "text/html": [
       "<div style=\"margin:30px; padding: 20px; border:1px solid #aaa\">\n",
       "\n",
       "<!DOCTYPE html PUBLIC \"-//W3C//DTD HTML 4.01//EN\"\n",
       "   \"http://www.w3.org/TR/html4/strict.dtd\">\n",
       "<!--\n",
       "generated by Pygments <https://pygments.org/>\n",
       "Copyright 2006-2022 by the Pygments team.\n",
       "Licensed under the BSD license, see LICENSE for details.\n",
       "-->\n",
       "<html>\n",
       "<head>\n",
       "  <title></title>\n",
       "  <meta http-equiv=\"content-type\" content=\"text/html; charset=None\">\n",
       "</head>\n",
       "<body>\n",
       "<h2></h2>\n",
       "\n",
       "<div class=\"highlight\"><pre><span></span><span class=\"kn\">from</span> <span class=\"nn\">typing</span> <span class=\"kn\">import</span> <span class=\"n\">Any</span><span class=\"p\">,</span> <span class=\"n\">Dict</span>\n",
       "\n",
       "<span class=\"kn\">import</span> <span class=\"nn\">pandas</span> <span class=\"k\">as</span> <span class=\"nn\">pd</span>\n",
       "<span class=\"kn\">import</span> <span class=\"nn\">requests</span>\n",
       "\n",
       "\n",
       "<span class=\"k\">def</span> <span class=\"nf\">request_features</span><span class=\"p\">(</span><span class=\"n\">entity_serving_names</span><span class=\"p\">:</span> <span class=\"n\">Dict</span><span class=\"p\">[</span><span class=\"nb\">str</span><span class=\"p\">,</span> <span class=\"n\">Any</span><span class=\"p\">])</span> <span class=\"o\">-&gt;</span> <span class=\"n\">pd</span><span class=\"o\">.</span><span class=\"n\">DataFrame</span><span class=\"p\">:</span>\n",
       "<span class=\"w\">    </span><span class=\"sd\">&quot;&quot;&quot;</span>\n",
       "<span class=\"sd\">    Send POST request to online serving endpoint</span>\n",
       "\n",
       "<span class=\"sd\">    Parameters</span>\n",
       "<span class=\"sd\">    ----------</span>\n",
       "<span class=\"sd\">    entity_serving_names: Dict[str, Any]</span>\n",
       "<span class=\"sd\">        Entity serving name values to used for serving request</span>\n",
       "\n",
       "<span class=\"sd\">    Returns</span>\n",
       "<span class=\"sd\">    -------</span>\n",
       "<span class=\"sd\">    pd.DataFrame</span>\n",
       "<span class=\"sd\">    &quot;&quot;&quot;</span>\n",
       "    <span class=\"n\">response</span> <span class=\"o\">=</span> <span class=\"n\">requests</span><span class=\"o\">.</span><span class=\"n\">post</span><span class=\"p\">(</span>\n",
       "        <span class=\"n\">url</span><span class=\"o\">=</span><span class=\"s2\">&quot;http://127.0.0.1:8088/feature_list/642178a1ca42b16a1fc658ca/online_features&quot;</span><span class=\"p\">,</span>\n",
       "        <span class=\"n\">params</span><span class=\"o\">=</span><span class=\"p\">{</span><span class=\"s2\">&quot;catalog_id&quot;</span><span class=\"p\">:</span> <span class=\"s2\">&quot;64217880ca42b16a1fc658ad&quot;</span><span class=\"p\">},</span>\n",
       "        <span class=\"n\">headers</span><span class=\"o\">=</span><span class=\"p\">{</span><span class=\"s2\">&quot;Content-Type&quot;</span><span class=\"p\">:</span> <span class=\"s2\">&quot;application/json&quot;</span><span class=\"p\">},</span>\n",
       "        <span class=\"n\">json</span><span class=\"o\">=</span><span class=\"p\">{</span><span class=\"s2\">&quot;entity_serving_names&quot;</span><span class=\"p\">:</span> <span class=\"n\">entity_serving_names</span><span class=\"p\">},</span>\n",
       "    <span class=\"p\">)</span>\n",
       "    <span class=\"k\">assert</span> <span class=\"n\">response</span><span class=\"o\">.</span><span class=\"n\">status_code</span> <span class=\"o\">==</span> <span class=\"mi\">200</span><span class=\"p\">,</span> <span class=\"n\">response</span><span class=\"o\">.</span><span class=\"n\">json</span><span class=\"p\">()</span>\n",
       "    <span class=\"k\">return</span> <span class=\"n\">pd</span><span class=\"o\">.</span><span class=\"n\">DataFrame</span><span class=\"o\">.</span><span class=\"n\">from_dict</span><span class=\"p\">(</span><span class=\"n\">response</span><span class=\"o\">.</span><span class=\"n\">json</span><span class=\"p\">()[</span><span class=\"s2\">&quot;features&quot;</span><span class=\"p\">])</span>\n",
       "\n",
       "\n",
       "<span class=\"n\">request_features</span><span class=\"p\">([{</span><span class=\"s2\">&quot;GROCERYCUSTOMERGUID&quot;</span><span class=\"p\">:</span> <span class=\"s2\">&quot;007a07da-1525-49be-94d1-fc7251f46a66&quot;</span><span class=\"p\">}])</span>\n",
       "</pre></div>\n",
       "</body>\n",
       "</html>\n",
       "\n",
       "\n",
       "</div>"
      ],
      "text/plain": [
       "'from typing import Any, Dict\\n\\nimport pandas as pd\\nimport requests\\n\\n\\ndef request_features(entity_serving_names: Dict[str, Any]) -> pd.DataFrame:\\n    \"\"\"\\n    Send POST request to online serving endpoint\\n\\n    Parameters\\n    ----------\\n    entity_serving_names: Dict[str, Any]\\n        Entity serving name values to used for serving request\\n\\n    Returns\\n    -------\\n    pd.DataFrame\\n    \"\"\"\\n    response = requests.post(\\n        url=\"http://127.0.0.1:8088/feature_list/642178a1ca42b16a1fc658ca/online_features\",\\n        params={\"catalog_id\": \"64217880ca42b16a1fc658ad\"},\\n        headers={\"Content-Type\": \"application/json\"},\\n        json={\"entity_serving_names\": entity_serving_names},\\n    )\\n    assert response.status_code == 200, response.json()\\n    return pd.DataFrame.from_dict(response.json()[\"features\"])\\n\\n\\nrequest_features([{\"GROCERYCUSTOMERGUID\": \"007a07da-1525-49be-94d1-fc7251f46a66\"}])'"
      ]
     },
     "execution_count": 21,
     "metadata": {},
     "output_type": "execute_result"
    }
   ],
   "source": [
    "# get a python template for consuming the feature serving API\n",
    "grocery_features.get_online_serving_code(language=\"python\")"
   ]
  },
  {
   "cell_type": "markdown",
   "metadata": {},
   "source": [
    "Paste the output from the previous notebook cell into the following Python cell and run it. Note that in production there is no historical point_in_time parameter for materializing features."
   ]
  },
  {
   "cell_type": "code",
   "execution_count": 22,
   "metadata": {
    "tags": []
   },
   "outputs": [],
   "source": [
    "# paste generated Python code here\n"
   ]
  },
  {
   "cell_type": "markdown",
   "metadata": {},
   "source": [
    "### Example: Disable a deployment"
   ]
  },
  {
   "cell_type": "code",
   "execution_count": 23,
   "metadata": {
    "tags": []
   },
   "outputs": [
    {
     "name": "stdout",
     "output_type": "stream",
     "text": [
      "Loading Feature(s) |████████████████████████████████████████| 4/4 [100%] in 1.0s (3.99/s)                               \n",
      "Done! |████████████████████████████████████████| 100% in 15.4s (6.51%/s)                                                \n"
     ]
    },
    {
     "data": {
      "text/html": [
       "<div>\n",
       "<style scoped>\n",
       "    .dataframe tbody tr th:only-of-type {\n",
       "        vertical-align: middle;\n",
       "    }\n",
       "\n",
       "    .dataframe tbody tr th {\n",
       "        vertical-align: top;\n",
       "    }\n",
       "\n",
       "    .dataframe thead th {\n",
       "        text-align: right;\n",
       "    }\n",
       "</style>\n",
       "<table border=\"1\" class=\"dataframe\">\n",
       "  <thead>\n",
       "    <tr style=\"text-align: right;\">\n",
       "      <th></th>\n",
       "      <th>name</th>\n",
       "      <th>num_features</th>\n",
       "      <th>status</th>\n",
       "      <th>deployed</th>\n",
       "      <th>readiness_frac</th>\n",
       "      <th>online_frac</th>\n",
       "      <th>tables</th>\n",
       "      <th>entities</th>\n",
       "      <th>created_at</th>\n",
       "    </tr>\n",
       "  </thead>\n",
       "  <tbody>\n",
       "  </tbody>\n",
       "</table>\n",
       "</div>"
      ],
      "text/plain": [
       "Empty DataFrame\n",
       "Columns: [name, num_features, status, deployed, readiness_frac, online_frac, tables, entities, created_at]\n",
       "Index: []"
      ]
     },
     "metadata": {},
     "output_type": "display_data"
    }
   ],
   "source": [
    "# disable the feature list deployment\n",
    "grocery_features.deploy(enable=False)\n",
    "\n",
    "# show the deployed feature lists\n",
    "feature_lists = catalog.list_feature_lists()\n",
    "feature_lists = feature_lists[feature_lists.deployed == True]\n",
    "display(feature_lists)"
   ]
  },
  {
   "attachments": {},
   "cell_type": "markdown",
   "metadata": {},
   "source": [
    "## Next Steps\n",
    "\n",
    "Now that you've completed the quick-start feature engineering tutorial, you can put your knowledge into practice or learn more:<br>\n",
    "1. Put your knowledge into practice by creating features in the \"credit card dataset feature engineering playground\" or \"healthcare dataset feature engineering playground\" catalogs\n",
    "2. Learn more about feature engineering via the \"Deep Dive Feature Engineering\" tutorial\n",
    "3. Learn about data modeling via the \"Deep Dive Data Modeling\" tutorial"
   ]
  }
 ],
 "metadata": {
  "kernelspec": {
   "display_name": "Python 3 (ipykernel)",
   "language": "python",
   "name": "python3"
  },
  "language_info": {
   "codemirror_mode": {
    "name": "ipython",
    "version": 3
   },
   "file_extension": ".py",
   "mimetype": "text/x-python",
   "name": "python",
   "nbconvert_exporter": "python",
   "pygments_lexer": "ipython3",
   "version": "3.8.16"
  }
 },
 "nbformat": 4,
 "nbformat_minor": 4
}
